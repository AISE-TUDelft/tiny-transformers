{
 "cells": [
  {
   "cell_type": "code",
   "id": "initial_id",
   "metadata": {
    "collapsed": true,
    "ExecuteTime": {
     "end_time": "2024-06-20T08:35:41.938946Z",
     "start_time": "2024-06-20T08:35:38.844446Z"
    }
   },
   "source": [
    "from transformers import GPT2TokenizerFast, GPTNeoForCausalLM, GPTNeoConfig, AutoTokenizer, AlbertTokenizer, GPT2Tokenizer, RobertaTokenizer, RobertaTokenizerFast\n",
    "from transformers import TrainingArguments, Trainer, DataCollatorForLanguageModeling\n",
    "from datasets import load_dataset, load_from_disk\n",
    "from transformers import RobertaForCausalLM\n",
    "\n",
    "from tokenizers import Tokenizer, pre_tokenizers, decoders, AddedToken, normalizers, trainers\n",
    "from tokenizers.normalizers import BertNormalizer\n",
    "from tokenizers.models import BPE, Unigram, WordLevel, WordPiece\n",
    "from tokenizers.trainers import BpeTrainer, WordLevelTrainer, \\\n",
    "                                WordPieceTrainer, UnigramTrainer\n",
    "\n",
    "from tokenizers.implementations import SentencePieceUnigramTokenizer\n",
    "\n",
    "from tokenizers.processors import RobertaProcessing, TemplateProcessing\n",
    "from tqdm import tqdm\n",
    "\n",
    "import json\n",
    "import wandb"
   ],
   "outputs": [],
   "execution_count": 2
  },
  {
   "metadata": {
    "ExecuteTime": {
     "end_time": "2024-06-20T12:25:23.855867Z",
     "start_time": "2024-06-20T12:25:23.851650Z"
    }
   },
   "cell_type": "code",
   "source": [
    "def bits_per_token(token, encoding='utf-8'):\n",
    "    # Calculate the number of bits for the token based on the encoding\n",
    "    return len(token)\n",
    "\n",
    "def average_bits_per_token(vocabulary):\n",
    "    total_bits = 0\n",
    "    for token in vocabulary:\n",
    "        total_bits += bits_per_token(token)\n",
    "    average_bits = total_bits / len(vocabulary)\n",
    "    return average_bits\n",
    "\n",
    "def clean_special_characters_from_token(token):\n",
    "    return token.replace(\"Ġ\", \"\").replace(\"▁\", \"\").replace(\"#\", \"\")\n",
    "\n",
    "def clean_special_tokens(vocab):\n",
    "    vocab.remove(\"<pad>\")\n",
    "    vocab.remove(\"<s>\")\n",
    "    vocab.remove(\"</s>\")\n",
    "    vocab.remove(\"<unk>\")\n",
    "    vocab.remove(\"<mask>\")"
   ],
   "id": "1445f4663a8ba5f4",
   "outputs": [],
   "execution_count": 35
  },
  {
   "metadata": {
    "ExecuteTime": {
     "end_time": "2024-06-20T12:25:25.257488Z",
     "start_time": "2024-06-20T12:25:24.954905Z"
    }
   },
   "cell_type": "code",
   "source": [
    "bpe_tokenizers = {tokenizer_name: RobertaTokenizer.from_pretrained(f'./tokenizers/bpe/{tokenizer_name}/', model_max_length=512) for tokenizer_name in [\"1k-bpe\", \"3k-bpe\", \"6k-bpe\", \"10k-bpe\", \"15k-bpe\", \"20k-bpe\"]}\n",
    "\n",
    "wp_tokenizers = {tokenizer_name: RobertaTokenizerFast.from_pretrained(f'./tokenizers/wordpiece/{tokenizer_name}/', model_max_length=512) for tokenizer_name in [\"1k-wp\", \"3k-wp\", \"6k-wp\", \"10k-wp\", \"15k-wp\", \"20k-wp\"]}\n",
    "\n",
    "sp_tokenizers = {tokenizer_name: AlbertTokenizer.from_pretrained(f'./tokenizers/sentence-piece/{tokenizer_name}/', model_max_length=512) for tokenizer_name in [\"1k-sp\", \"3k-sp\", \"6k-sp\", \"10k-sp\", \"15k-sp\", \"20k-sp\"]}\n"
   ],
   "id": "6adb2488d2be3ed4",
   "outputs": [],
   "execution_count": 36
  },
  {
   "metadata": {
    "ExecuteTime": {
     "end_time": "2024-06-20T12:25:26.295654Z",
     "start_time": "2024-06-20T12:25:26.291078Z"
    }
   },
   "cell_type": "code",
   "source": [
    "def calculate_vocabs_avg_bits_per_token(vocabs):\n",
    "    results = {}\n",
    "    \n",
    "    for model_name, tok in vocabs.items():\n",
    "        vocab_list = [token for token, _ in tok.get_vocab().items()]\n",
    "        clean_special_tokens(vocab_list)\n",
    "        cleaned_vocab = [clean_special_characters_from_token(token) for token in vocab_list]\n",
    "        # print(cleaned_vocab)\n",
    "        avg_characters_per_token = average_bits_per_token(cleaned_vocab)\n",
    "        results[model_name] = {\"avg_char_per_token\": avg_characters_per_token}\n",
    "    return results"
   ],
   "id": "3fb926255223d634",
   "outputs": [],
   "execution_count": 37
  },
  {
   "metadata": {
    "ExecuteTime": {
     "end_time": "2024-06-20T12:25:27.887823Z",
     "start_time": "2024-06-20T12:25:27.827006Z"
    }
   },
   "cell_type": "code",
   "source": "print(calculate_vocabs_avg_bits_per_token(wp_tokenizers))",
   "id": "a52c6b4b569fff70",
   "outputs": [
    {
     "name": "stdout",
     "output_type": "stream",
     "text": [
      "{'1k-wp': {'avg_char_per_token': 2.02713567839196}, '3k-wp': {'avg_char_per_token': 3.3512520868113524}, '6k-wp': {'avg_char_per_token': 4.074061718098416}, '10k-wp': {'avg_char_per_token': 4.527863931965983}, '15k-wp': {'avg_char_per_token': 4.83407802600867}, '20k-wp': {'avg_char_per_token': 5.0324081020255065}}\n"
     ]
    }
   ],
   "execution_count": 38
  },
  {
   "metadata": {
    "ExecuteTime": {
     "end_time": "2024-06-20T12:25:46.359035Z",
     "start_time": "2024-06-20T12:25:46.353443Z"
    }
   },
   "cell_type": "code",
   "source": [
    "def add_to_wandb(result):\n",
    "    ''' Log results to wandb. For this you need to map the run name to its id \n",
    "        in the table, by downloading name, id columns from wandb. \n",
    "        In hindsight, it's probably easier to save this under the model to avoid duplicates. \n",
    "    '''\n",
    "    run_id = \"\"\n",
    "    with open('./run_ids.json') as json_file:\n",
    "        run_ids = json.load(json_file)\n",
    "        model = result['model']\n",
    "        run_id = run_ids[model]\n",
    "\n",
    "    # resume the wandb run and log the result\n",
    "    wandb.init(\n",
    "        entity='tiny-transformers', project='tokenizers', id=run_id, resume='must'\n",
    "    )\n",
    "    print(result)\n",
    "    wandb.log(result)\n",
    "    wandb.finish()"
   ],
   "id": "222d60e58b0308d9",
   "outputs": [],
   "execution_count": 39
  },
  {
   "metadata": {
    "ExecuteTime": {
     "end_time": "2024-06-20T12:30:25.420178Z",
     "start_time": "2024-06-20T12:25:50.452662Z"
    }
   },
   "cell_type": "code",
   "source": [
    "bpe_tok_results = calculate_vocabs_avg_bits_per_token(bpe_tokenizers)\n",
    "wp_tok_results = calculate_vocabs_avg_bits_per_token(wp_tokenizers)\n",
    "sp_tok_results = calculate_vocabs_avg_bits_per_token(sp_tokenizers)\n",
    "\n",
    "all_results = bpe_tok_results | wp_tok_results | sp_tok_results\n",
    "model_name_results = {}\n",
    "\n",
    "run_id = \"\"\n",
    "with open('./run_ids.json') as json_file:\n",
    "    run_ids = json.load(json_file)\n",
    "    model_names = [model_name for model_name, _ in run_ids.items()]\n",
    "    for tok_name, results in all_results.items():\n",
    "        model_name_matches = [name for name in model_names if tok_name in name]\n",
    "        for mn in model_name_matches:\n",
    "            model_name_results[mn] = results\n",
    "        \n",
    "# print(model_name_results)\n",
    "results_to_upload = []\n",
    "\n",
    "for model_name, result in model_name_results.items():\n",
    "    results_to_upload.append({\"model\": model_name, **result})\n",
    "    \n",
    "for result in results_to_upload:\n",
    "    add_to_wandb(result)"
   ],
   "id": "47c3eadd49132ffd",
   "outputs": [
    {
     "data": {
      "text/plain": [
       "<IPython.core.display.HTML object>"
      ],
      "text/html": [
       "wandb version 0.17.2 is available!  To upgrade, please run:\n",
       " $ pip install wandb --upgrade"
      ]
     },
     "metadata": {},
     "output_type": "display_data"
    },
    {
     "data": {
      "text/plain": [
       "<IPython.core.display.HTML object>"
      ],
      "text/html": [
       "Tracking run with wandb version 0.17.0"
      ]
     },
     "metadata": {},
     "output_type": "display_data"
    },
    {
     "data": {
      "text/plain": [
       "<IPython.core.display.HTML object>"
      ],
      "text/html": [
       "Run data is saved locally in <code>/home/prometheus/TUDelft/cse/year3/RP/tiny-transformers/code/rafael-tokenisation/wandb/run-20240620_142550-p0xbfp9r</code>"
      ]
     },
     "metadata": {},
     "output_type": "display_data"
    },
    {
     "data": {
      "text/plain": [
       "<IPython.core.display.HTML object>"
      ],
      "text/html": [
       "Resuming run <strong><a href='https://wandb.ai/tiny-transformers/tokenizers/runs/p0xbfp9r' target=\"_blank\">BERT-1k-bpe-9.0M-2L-4H-780C-1024I</a></strong> to <a href='https://wandb.ai/tiny-transformers/tokenizers' target=\"_blank\">Weights & Biases</a> (<a href='https://wandb.me/run' target=\"_blank\">docs</a>)<br/>"
      ]
     },
     "metadata": {},
     "output_type": "display_data"
    },
    {
     "data": {
      "text/plain": [
       "<IPython.core.display.HTML object>"
      ],
      "text/html": [
       " View project at <a href='https://wandb.ai/tiny-transformers/tokenizers' target=\"_blank\">https://wandb.ai/tiny-transformers/tokenizers</a>"
      ]
     },
     "metadata": {},
     "output_type": "display_data"
    },
    {
     "data": {
      "text/plain": [
       "<IPython.core.display.HTML object>"
      ],
      "text/html": [
       " View run at <a href='https://wandb.ai/tiny-transformers/tokenizers/runs/p0xbfp9r' target=\"_blank\">https://wandb.ai/tiny-transformers/tokenizers/runs/p0xbfp9r</a>"
      ]
     },
     "metadata": {},
     "output_type": "display_data"
    },
    {
     "name": "stdout",
     "output_type": "stream",
     "text": [
      "{'model': 'BERT-1k-bpe-9.0M-2L-4H-780C-1024I', 'avg_char_per_token': 2.5346733668341708}\n"
     ]
    },
    {
     "data": {
      "text/plain": [
       "VBox(children=(Label(value='0.000 MB of 0.000 MB uploaded\\r'), FloatProgress(value=1.0, max=1.0)))"
      ],
      "application/vnd.jupyter.widget-view+json": {
       "version_major": 2,
       "version_minor": 0,
       "model_id": "ee3f321ee37941bb9c2e56a97e3da647"
      }
     },
     "metadata": {},
     "output_type": "display_data"
    },
    {
     "data": {
      "text/plain": [
       "<IPython.core.display.HTML object>"
      ],
      "text/html": [
       "<style>\n",
       "    table.wandb td:nth-child(1) { padding: 0 10px; text-align: left ; width: auto;} td:nth-child(2) {text-align: left ; width: 100%}\n",
       "    .wandb-row { display: flex; flex-direction: row; flex-wrap: wrap; justify-content: flex-start; width: 100% }\n",
       "    .wandb-col { display: flex; flex-direction: column; flex-basis: 100%; flex: 1; padding: 10px; }\n",
       "    </style>\n",
       "<div class=\"wandb-row\"><div class=\"wandb-col\"><h3>Run history:</h3><br/><table class=\"wandb\"><tr><td>avg_char_per_token</td><td>▁</td></tr></table><br/></div><div class=\"wandb-col\"><h3>Run summary:</h3><br/><table class=\"wandb\"><tr><td>avg_bits_per_token</td><td>21.30653</td></tr><tr><td>avg_char_per_token</td><td>2.53467</td></tr><tr><td>base_avg</td><td>0.5615</td></tr><tr><td>blimp_avg</td><td>0.57399</td></tr><tr><td>boolq</td><td>0.61826</td></tr><tr><td>cola</td><td>-0.02077</td></tr><tr><td>eval/loss</td><td>0.46485</td></tr><tr><td>eval/runtime</td><td>31.5492</td></tr><tr><td>eval/samples_per_second</td><td>697.006</td></tr><tr><td>eval/steps_per_second</td><td>43.583</td></tr><tr><td>glue_avg</td><td>0.5461</td></tr><tr><td>mnli</td><td>0.58763</td></tr><tr><td>mnli-mm</td><td>0.58927</td></tr><tr><td>model</td><td>BERT-1k-bpe-9.0M-2L-...</td></tr><tr><td>mrpc</td><td>0.70134</td></tr><tr><td>multirc</td><td>0.29658</td></tr><tr><td>qnli</td><td>0.61155</td></tr><tr><td>qqp</td><td>0.7208</td></tr><tr><td>rte</td><td>0.47475</td></tr><tr><td>sst2</td><td>0.80118</td></tr><tr><td>supp_avg</td><td>0.60397</td></tr><tr><td>total_flos</td><td>5.659585809481728e+16</td></tr><tr><td>train/epoch</td><td>0.99998</td></tr><tr><td>train/global_step</td><td>8280</td></tr><tr><td>train/grad_norm</td><td>0.55315</td></tr><tr><td>train/learning_rate</td><td>0.0</td></tr><tr><td>train/loss</td><td>0.5862</td></tr><tr><td>train_loss</td><td>0.93066</td></tr><tr><td>train_runtime</td><td>7867.0726</td></tr><tr><td>train_samples_per_second</td><td>269.442</td></tr><tr><td>train_steps_per_second</td><td>1.052</td></tr><tr><td>wsc</td><td>0.62651</td></tr></table><br/></div></div>"
      ]
     },
     "metadata": {},
     "output_type": "display_data"
    },
    {
     "data": {
      "text/plain": [
       "<IPython.core.display.HTML object>"
      ],
      "text/html": [
       " View run <strong style=\"color:#cdcd00\">BERT-1k-bpe-9.0M-2L-4H-780C-1024I</strong> at: <a href='https://wandb.ai/tiny-transformers/tokenizers/runs/p0xbfp9r' target=\"_blank\">https://wandb.ai/tiny-transformers/tokenizers/runs/p0xbfp9r</a><br/> View project at: <a href='https://wandb.ai/tiny-transformers/tokenizers' target=\"_blank\">https://wandb.ai/tiny-transformers/tokenizers</a><br/>Synced 4 W&B file(s), 0 media file(s), 0 artifact file(s) and 0 other file(s)"
      ]
     },
     "metadata": {},
     "output_type": "display_data"
    },
    {
     "data": {
      "text/plain": [
       "<IPython.core.display.HTML object>"
      ],
      "text/html": [
       "Find logs at: <code>./wandb/run-20240620_142550-p0xbfp9r/logs</code>"
      ]
     },
     "metadata": {},
     "output_type": "display_data"
    },
    {
     "data": {
      "text/plain": [
       "VBox(children=(Label(value='Waiting for wandb.init()...\\r'), FloatProgress(value=0.01111302570013019, max=1.0)…"
      ],
      "application/vnd.jupyter.widget-view+json": {
       "version_major": 2,
       "version_minor": 0,
       "model_id": "0d74815c821149f5a0d1a09f6846c927"
      }
     },
     "metadata": {},
     "output_type": "display_data"
    },
    {
     "data": {
      "text/plain": [
       "<IPython.core.display.HTML object>"
      ],
      "text/html": [
       "wandb version 0.17.2 is available!  To upgrade, please run:\n",
       " $ pip install wandb --upgrade"
      ]
     },
     "metadata": {},
     "output_type": "display_data"
    },
    {
     "data": {
      "text/plain": [
       "<IPython.core.display.HTML object>"
      ],
      "text/html": [
       "Tracking run with wandb version 0.17.0"
      ]
     },
     "metadata": {},
     "output_type": "display_data"
    },
    {
     "data": {
      "text/plain": [
       "<IPython.core.display.HTML object>"
      ],
      "text/html": [
       "Run data is saved locally in <code>/home/prometheus/TUDelft/cse/year3/RP/tiny-transformers/code/rafael-tokenisation/wandb/run-20240620_142557-5nccqoof</code>"
      ]
     },
     "metadata": {},
     "output_type": "display_data"
    },
    {
     "data": {
      "text/plain": [
       "<IPython.core.display.HTML object>"
      ],
      "text/html": [
       "Resuming run <strong><a href='https://wandb.ai/tiny-transformers/tokenizers/runs/5nccqoof' target=\"_blank\">GPT-1k-bpe-9.0M-2L-4H-780C-1024I</a></strong> to <a href='https://wandb.ai/tiny-transformers/tokenizers' target=\"_blank\">Weights & Biases</a> (<a href='https://wandb.me/run' target=\"_blank\">docs</a>)<br/>"
      ]
     },
     "metadata": {},
     "output_type": "display_data"
    },
    {
     "data": {
      "text/plain": [
       "<IPython.core.display.HTML object>"
      ],
      "text/html": [
       " View project at <a href='https://wandb.ai/tiny-transformers/tokenizers' target=\"_blank\">https://wandb.ai/tiny-transformers/tokenizers</a>"
      ]
     },
     "metadata": {},
     "output_type": "display_data"
    },
    {
     "data": {
      "text/plain": [
       "<IPython.core.display.HTML object>"
      ],
      "text/html": [
       " View run at <a href='https://wandb.ai/tiny-transformers/tokenizers/runs/5nccqoof' target=\"_blank\">https://wandb.ai/tiny-transformers/tokenizers/runs/5nccqoof</a>"
      ]
     },
     "metadata": {},
     "output_type": "display_data"
    },
    {
     "name": "stdout",
     "output_type": "stream",
     "text": [
      "{'model': 'GPT-1k-bpe-9.0M-2L-4H-780C-1024I', 'avg_char_per_token': 2.5346733668341708}\n"
     ]
    },
    {
     "data": {
      "text/plain": [
       "VBox(children=(Label(value='0.000 MB of 0.000 MB uploaded\\r'), FloatProgress(value=1.0, max=1.0)))"
      ],
      "application/vnd.jupyter.widget-view+json": {
       "version_major": 2,
       "version_minor": 0,
       "model_id": "ed8983efa11d452b8a5c2a03b3492e2d"
      }
     },
     "metadata": {},
     "output_type": "display_data"
    },
    {
     "data": {
      "text/plain": [
       "<IPython.core.display.HTML object>"
      ],
      "text/html": [
       "<style>\n",
       "    table.wandb td:nth-child(1) { padding: 0 10px; text-align: left ; width: auto;} td:nth-child(2) {text-align: left ; width: 100%}\n",
       "    .wandb-row { display: flex; flex-direction: row; flex-wrap: wrap; justify-content: flex-start; width: 100% }\n",
       "    .wandb-col { display: flex; flex-direction: column; flex-basis: 100%; flex: 1; padding: 10px; }\n",
       "    </style>\n",
       "<div class=\"wandb-row\"><div class=\"wandb-col\"><h3>Run history:</h3><br/><table class=\"wandb\"><tr><td>avg_char_per_token</td><td>▁</td></tr></table><br/></div><div class=\"wandb-col\"><h3>Run summary:</h3><br/><table class=\"wandb\"><tr><td>avg_bits_per_token</td><td>21.30653</td></tr><tr><td>avg_char_per_token</td><td>2.53467</td></tr><tr><td>base_avg</td><td>0.54083</td></tr><tr><td>blimp_avg</td><td>0.53707</td></tr><tr><td>boolq</td><td>0.61134</td></tr><tr><td>cola</td><td>0</td></tr><tr><td>eval/loss</td><td>1.29524</td></tr><tr><td>eval/runtime</td><td>29.0791</td></tr><tr><td>eval/samples_per_second</td><td>756.214</td></tr><tr><td>eval/steps_per_second</td><td>47.285</td></tr><tr><td>glue_avg</td><td>0.53033</td></tr><tr><td>mnli</td><td>0.53749</td></tr><tr><td>mnli-mm</td><td>0.56509</td></tr><tr><td>model</td><td>GPT-1k-bpe-9.0M-2L-4...</td></tr><tr><td>mrpc</td><td>0.71773</td></tr><tr><td>multirc</td><td>0.31389</td></tr><tr><td>qnli</td><td>0.58661</td></tr><tr><td>qqp</td><td>0.65219</td></tr><tr><td>rte</td><td>0.49495</td></tr><tr><td>sst2</td><td>0.75197</td></tr><tr><td>supp_avg</td><td>0.52807</td></tr><tr><td>total_flos</td><td>5.258194251153408e+16</td></tr><tr><td>train/epoch</td><td>0.99998</td></tr><tr><td>train/global_step</td><td>8280</td></tr><tr><td>train/grad_norm</td><td>0.51954</td></tr><tr><td>train/learning_rate</td><td>0.0</td></tr><tr><td>train/loss</td><td>1.2946</td></tr><tr><td>train_loss</td><td>1.57725</td></tr><tr><td>train_runtime</td><td>7182.5637</td></tr><tr><td>train_samples_per_second</td><td>295.12</td></tr><tr><td>train_steps_per_second</td><td>1.153</td></tr><tr><td>wsc</td><td>0.60241</td></tr></table><br/></div></div>"
      ]
     },
     "metadata": {},
     "output_type": "display_data"
    },
    {
     "data": {
      "text/plain": [
       "<IPython.core.display.HTML object>"
      ],
      "text/html": [
       " View run <strong style=\"color:#cdcd00\">GPT-1k-bpe-9.0M-2L-4H-780C-1024I</strong> at: <a href='https://wandb.ai/tiny-transformers/tokenizers/runs/5nccqoof' target=\"_blank\">https://wandb.ai/tiny-transformers/tokenizers/runs/5nccqoof</a><br/> View project at: <a href='https://wandb.ai/tiny-transformers/tokenizers' target=\"_blank\">https://wandb.ai/tiny-transformers/tokenizers</a><br/>Synced 4 W&B file(s), 0 media file(s), 0 artifact file(s) and 0 other file(s)"
      ]
     },
     "metadata": {},
     "output_type": "display_data"
    },
    {
     "data": {
      "text/plain": [
       "<IPython.core.display.HTML object>"
      ],
      "text/html": [
       "Find logs at: <code>./wandb/run-20240620_142557-5nccqoof/logs</code>"
      ]
     },
     "metadata": {},
     "output_type": "display_data"
    },
    {
     "data": {
      "text/plain": [
       "VBox(children=(Label(value='Waiting for wandb.init()...\\r'), FloatProgress(value=0.01111207182208697, max=1.0)…"
      ],
      "application/vnd.jupyter.widget-view+json": {
       "version_major": 2,
       "version_minor": 0,
       "model_id": "82b95ddb1f0e422887be1c3291ea6a50"
      }
     },
     "metadata": {},
     "output_type": "display_data"
    },
    {
     "data": {
      "text/plain": [
       "<IPython.core.display.HTML object>"
      ],
      "text/html": [
       "wandb version 0.17.2 is available!  To upgrade, please run:\n",
       " $ pip install wandb --upgrade"
      ]
     },
     "metadata": {},
     "output_type": "display_data"
    },
    {
     "data": {
      "text/plain": [
       "<IPython.core.display.HTML object>"
      ],
      "text/html": [
       "Tracking run with wandb version 0.17.0"
      ]
     },
     "metadata": {},
     "output_type": "display_data"
    },
    {
     "data": {
      "text/plain": [
       "<IPython.core.display.HTML object>"
      ],
      "text/html": [
       "Run data is saved locally in <code>/home/prometheus/TUDelft/cse/year3/RP/tiny-transformers/code/rafael-tokenisation/wandb/run-20240620_142605-q1vpgs5b</code>"
      ]
     },
     "metadata": {},
     "output_type": "display_data"
    },
    {
     "data": {
      "text/plain": [
       "<IPython.core.display.HTML object>"
      ],
      "text/html": [
       "Resuming run <strong><a href='https://wandb.ai/tiny-transformers/tokenizers/runs/q1vpgs5b' target=\"_blank\">BERT-3k-bpe-9.0M-2L-4H-700C-1024I</a></strong> to <a href='https://wandb.ai/tiny-transformers/tokenizers' target=\"_blank\">Weights & Biases</a> (<a href='https://wandb.me/run' target=\"_blank\">docs</a>)<br/>"
      ]
     },
     "metadata": {},
     "output_type": "display_data"
    },
    {
     "data": {
      "text/plain": [
       "<IPython.core.display.HTML object>"
      ],
      "text/html": [
       " View project at <a href='https://wandb.ai/tiny-transformers/tokenizers' target=\"_blank\">https://wandb.ai/tiny-transformers/tokenizers</a>"
      ]
     },
     "metadata": {},
     "output_type": "display_data"
    },
    {
     "data": {
      "text/plain": [
       "<IPython.core.display.HTML object>"
      ],
      "text/html": [
       " View run at <a href='https://wandb.ai/tiny-transformers/tokenizers/runs/q1vpgs5b' target=\"_blank\">https://wandb.ai/tiny-transformers/tokenizers/runs/q1vpgs5b</a>"
      ]
     },
     "metadata": {},
     "output_type": "display_data"
    },
    {
     "name": "stdout",
     "output_type": "stream",
     "text": [
      "{'model': 'BERT-3k-bpe-9.0M-2L-4H-700C-1024I', 'avg_char_per_token': 3.5869782971619366}\n"
     ]
    },
    {
     "data": {
      "text/plain": [
       "VBox(children=(Label(value='0.000 MB of 0.000 MB uploaded\\r'), FloatProgress(value=1.0, max=1.0)))"
      ],
      "application/vnd.jupyter.widget-view+json": {
       "version_major": 2,
       "version_minor": 0,
       "model_id": "fef575718c314580bd4a20d7c67a297b"
      }
     },
     "metadata": {},
     "output_type": "display_data"
    },
    {
     "data": {
      "text/plain": [
       "<IPython.core.display.HTML object>"
      ],
      "text/html": [
       "<style>\n",
       "    table.wandb td:nth-child(1) { padding: 0 10px; text-align: left ; width: auto;} td:nth-child(2) {text-align: left ; width: 100%}\n",
       "    .wandb-row { display: flex; flex-direction: row; flex-wrap: wrap; justify-content: flex-start; width: 100% }\n",
       "    .wandb-col { display: flex; flex-direction: column; flex-basis: 100%; flex: 1; padding: 10px; }\n",
       "    </style>\n",
       "<div class=\"wandb-row\"><div class=\"wandb-col\"><h3>Run history:</h3><br/><table class=\"wandb\"><tr><td>avg_char_per_token</td><td>▁</td></tr></table><br/></div><div class=\"wandb-col\"><h3>Run summary:</h3><br/><table class=\"wandb\"><tr><td>avg_bits_per_token</td><td>29.12588</td></tr><tr><td>avg_char_per_token</td><td>3.58698</td></tr><tr><td>base_avg</td><td>0.6173</td></tr><tr><td>blimp_avg</td><td>0.59434</td></tr><tr><td>boolq</td><td>0.61549</td></tr><tr><td>cola</td><td>0.04265</td></tr><tr><td>eval/loss</td><td>1.86522</td></tr><tr><td>eval/runtime</td><td>36.6563</td></tr><tr><td>eval/samples_per_second</td><td>599.898</td></tr><tr><td>eval/steps_per_second</td><td>37.511</td></tr><tr><td>glue_avg</td><td>0.59422</td></tr><tr><td>mnli</td><td>0.66717</td></tr><tr><td>mnli-mm</td><td>0.66789</td></tr><tr><td>model</td><td>BERT-3k-bpe-9.0M-2L-...</td></tr><tr><td>mrpc</td><td>0.66872</td></tr><tr><td>multirc</td><td>0.39025</td></tr><tr><td>qnli</td><td>0.78871</td></tr><tr><td>qqp</td><td>0.81754</td></tr><tr><td>rte</td><td>0.44444</td></tr><tr><td>sst2</td><td>0.80709</td></tr><tr><td>supp_avg</td><td>0.53922</td></tr><tr><td>total_flos</td><td>4.752433855070208e+16</td></tr><tr><td>train/epoch</td><td>0.21739</td></tr><tr><td>train/global_step</td><td>1800</td></tr><tr><td>train/grad_norm</td><td>0.65895</td></tr><tr><td>train/learning_rate</td><td>0.00039</td></tr><tr><td>train/loss</td><td>1.8452</td></tr><tr><td>train_loss</td><td>1.1967</td></tr><tr><td>train_runtime</td><td>7963.0426</td></tr><tr><td>train_samples_per_second</td><td>266.195</td></tr><tr><td>train_steps_per_second</td><td>1.04</td></tr><tr><td>wsc</td><td>0.62651</td></tr></table><br/></div></div>"
      ]
     },
     "metadata": {},
     "output_type": "display_data"
    },
    {
     "data": {
      "text/plain": [
       "<IPython.core.display.HTML object>"
      ],
      "text/html": [
       " View run <strong style=\"color:#cdcd00\">BERT-3k-bpe-9.0M-2L-4H-700C-1024I</strong> at: <a href='https://wandb.ai/tiny-transformers/tokenizers/runs/q1vpgs5b' target=\"_blank\">https://wandb.ai/tiny-transformers/tokenizers/runs/q1vpgs5b</a><br/> View project at: <a href='https://wandb.ai/tiny-transformers/tokenizers' target=\"_blank\">https://wandb.ai/tiny-transformers/tokenizers</a><br/>Synced 4 W&B file(s), 0 media file(s), 0 artifact file(s) and 0 other file(s)"
      ]
     },
     "metadata": {},
     "output_type": "display_data"
    },
    {
     "data": {
      "text/plain": [
       "<IPython.core.display.HTML object>"
      ],
      "text/html": [
       "Find logs at: <code>./wandb/run-20240620_142605-q1vpgs5b/logs</code>"
      ]
     },
     "metadata": {},
     "output_type": "display_data"
    },
    {
     "data": {
      "text/plain": [
       "VBox(children=(Label(value='Waiting for wandb.init()...\\r'), FloatProgress(value=0.011112173844594508, max=1.0…"
      ],
      "application/vnd.jupyter.widget-view+json": {
       "version_major": 2,
       "version_minor": 0,
       "model_id": "b73ed3e68ce441cf967ddf2831b5b691"
      }
     },
     "metadata": {},
     "output_type": "display_data"
    },
    {
     "data": {
      "text/plain": [
       "<IPython.core.display.HTML object>"
      ],
      "text/html": [
       "wandb version 0.17.2 is available!  To upgrade, please run:\n",
       " $ pip install wandb --upgrade"
      ]
     },
     "metadata": {},
     "output_type": "display_data"
    },
    {
     "data": {
      "text/plain": [
       "<IPython.core.display.HTML object>"
      ],
      "text/html": [
       "Tracking run with wandb version 0.17.0"
      ]
     },
     "metadata": {},
     "output_type": "display_data"
    },
    {
     "data": {
      "text/plain": [
       "<IPython.core.display.HTML object>"
      ],
      "text/html": [
       "Run data is saved locally in <code>/home/prometheus/TUDelft/cse/year3/RP/tiny-transformers/code/rafael-tokenisation/wandb/run-20240620_142613-tshd6801</code>"
      ]
     },
     "metadata": {},
     "output_type": "display_data"
    },
    {
     "data": {
      "text/plain": [
       "<IPython.core.display.HTML object>"
      ],
      "text/html": [
       "Resuming run <strong><a href='https://wandb.ai/tiny-transformers/tokenizers/runs/tshd6801' target=\"_blank\">GPT-3k-bpe-9.0M-2L-4H-700C-1024I</a></strong> to <a href='https://wandb.ai/tiny-transformers/tokenizers' target=\"_blank\">Weights & Biases</a> (<a href='https://wandb.me/run' target=\"_blank\">docs</a>)<br/>"
      ]
     },
     "metadata": {},
     "output_type": "display_data"
    },
    {
     "data": {
      "text/plain": [
       "<IPython.core.display.HTML object>"
      ],
      "text/html": [
       " View project at <a href='https://wandb.ai/tiny-transformers/tokenizers' target=\"_blank\">https://wandb.ai/tiny-transformers/tokenizers</a>"
      ]
     },
     "metadata": {},
     "output_type": "display_data"
    },
    {
     "data": {
      "text/plain": [
       "<IPython.core.display.HTML object>"
      ],
      "text/html": [
       " View run at <a href='https://wandb.ai/tiny-transformers/tokenizers/runs/tshd6801' target=\"_blank\">https://wandb.ai/tiny-transformers/tokenizers/runs/tshd6801</a>"
      ]
     },
     "metadata": {},
     "output_type": "display_data"
    },
    {
     "name": "stdout",
     "output_type": "stream",
     "text": [
      "{'model': 'GPT-3k-bpe-9.0M-2L-4H-700C-1024I', 'avg_char_per_token': 3.5869782971619366}\n"
     ]
    },
    {
     "data": {
      "text/plain": [
       "VBox(children=(Label(value='0.000 MB of 0.000 MB uploaded\\r'), FloatProgress(value=1.0, max=1.0)))"
      ],
      "application/vnd.jupyter.widget-view+json": {
       "version_major": 2,
       "version_minor": 0,
       "model_id": "d9f56605d1094d238b14174956fbc302"
      }
     },
     "metadata": {},
     "output_type": "display_data"
    },
    {
     "data": {
      "text/plain": [
       "<IPython.core.display.HTML object>"
      ],
      "text/html": [
       "<style>\n",
       "    table.wandb td:nth-child(1) { padding: 0 10px; text-align: left ; width: auto;} td:nth-child(2) {text-align: left ; width: 100%}\n",
       "    .wandb-row { display: flex; flex-direction: row; flex-wrap: wrap; justify-content: flex-start; width: 100% }\n",
       "    .wandb-col { display: flex; flex-direction: column; flex-basis: 100%; flex: 1; padding: 10px; }\n",
       "    </style>\n",
       "<div class=\"wandb-row\"><div class=\"wandb-col\"><h3>Run history:</h3><br/><table class=\"wandb\"><tr><td>avg_char_per_token</td><td>▁</td></tr></table><br/></div><div class=\"wandb-col\"><h3>Run summary:</h3><br/><table class=\"wandb\"><tr><td>avg_bits_per_token</td><td>29.12588</td></tr><tr><td>avg_char_per_token</td><td>3.58698</td></tr><tr><td>base_avg</td><td>0.5417</td></tr><tr><td>blimp_avg</td><td>0.54008</td></tr><tr><td>boolq</td><td>0.62794</td></tr><tr><td>cola</td><td>0.02913</td></tr><tr><td>eval/loss</td><td>1.46783</td></tr><tr><td>eval/runtime</td><td>31.9157</td></tr><tr><td>eval/samples_per_second</td><td>689.003</td></tr><tr><td>eval/steps_per_second</td><td>43.082</td></tr><tr><td>glue_avg</td><td>0.55835</td></tr><tr><td>mnli</td><td>0.59936</td></tr><tr><td>mnli-mm</td><td>0.60885</td></tr><tr><td>model</td><td>GPT-3k-bpe-9.0M-2L-4...</td></tr><tr><td>mrpc</td><td>0.71172</td></tr><tr><td>multirc</td><td>0.31822</td></tr><tr><td>qnli</td><td>0.60542</td></tr><tr><td>qqp</td><td>0.74067</td></tr><tr><td>rte</td><td>0.51515</td></tr><tr><td>sst2</td><td>0.80709</td></tr><tr><td>supp_avg</td><td>0.53621</td></tr><tr><td>total_flos</td><td>4.427306823057408e+16</td></tr><tr><td>train/epoch</td><td>0.99998</td></tr><tr><td>train/global_step</td><td>8280</td></tr><tr><td>train/grad_norm</td><td>0.55272</td></tr><tr><td>train/learning_rate</td><td>0.0</td></tr><tr><td>train/loss</td><td>1.4597</td></tr><tr><td>train_loss</td><td>1.76377</td></tr><tr><td>train_runtime</td><td>7780.968</td></tr><tr><td>train_samples_per_second</td><td>272.424</td></tr><tr><td>train_steps_per_second</td><td>1.064</td></tr><tr><td>wsc</td><td>0.57831</td></tr></table><br/></div></div>"
      ]
     },
     "metadata": {},
     "output_type": "display_data"
    },
    {
     "data": {
      "text/plain": [
       "<IPython.core.display.HTML object>"
      ],
      "text/html": [
       " View run <strong style=\"color:#cdcd00\">GPT-3k-bpe-9.0M-2L-4H-700C-1024I</strong> at: <a href='https://wandb.ai/tiny-transformers/tokenizers/runs/tshd6801' target=\"_blank\">https://wandb.ai/tiny-transformers/tokenizers/runs/tshd6801</a><br/> View project at: <a href='https://wandb.ai/tiny-transformers/tokenizers' target=\"_blank\">https://wandb.ai/tiny-transformers/tokenizers</a><br/>Synced 4 W&B file(s), 0 media file(s), 0 artifact file(s) and 0 other file(s)"
      ]
     },
     "metadata": {},
     "output_type": "display_data"
    },
    {
     "data": {
      "text/plain": [
       "<IPython.core.display.HTML object>"
      ],
      "text/html": [
       "Find logs at: <code>./wandb/run-20240620_142613-tshd6801/logs</code>"
      ]
     },
     "metadata": {},
     "output_type": "display_data"
    },
    {
     "data": {
      "text/plain": [
       "VBox(children=(Label(value='Waiting for wandb.init()...\\r'), FloatProgress(value=0.01111215588882462, max=1.0)…"
      ],
      "application/vnd.jupyter.widget-view+json": {
       "version_major": 2,
       "version_minor": 0,
       "model_id": "88e4fd24862e4d5f9561f688d5a9618a"
      }
     },
     "metadata": {},
     "output_type": "display_data"
    },
    {
     "data": {
      "text/plain": [
       "<IPython.core.display.HTML object>"
      ],
      "text/html": [
       "wandb version 0.17.2 is available!  To upgrade, please run:\n",
       " $ pip install wandb --upgrade"
      ]
     },
     "metadata": {},
     "output_type": "display_data"
    },
    {
     "data": {
      "text/plain": [
       "<IPython.core.display.HTML object>"
      ],
      "text/html": [
       "Tracking run with wandb version 0.17.0"
      ]
     },
     "metadata": {},
     "output_type": "display_data"
    },
    {
     "data": {
      "text/plain": [
       "<IPython.core.display.HTML object>"
      ],
      "text/html": [
       "Run data is saved locally in <code>/home/prometheus/TUDelft/cse/year3/RP/tiny-transformers/code/rafael-tokenisation/wandb/run-20240620_142621-7or65sgc</code>"
      ]
     },
     "metadata": {},
     "output_type": "display_data"
    },
    {
     "data": {
      "text/plain": [
       "<IPython.core.display.HTML object>"
      ],
      "text/html": [
       "Resuming run <strong><a href='https://wandb.ai/tiny-transformers/tokenizers/runs/7or65sgc' target=\"_blank\">BERT-6k-bpe-9.0M-2L-4H-604C-1024I</a></strong> to <a href='https://wandb.ai/tiny-transformers/tokenizers' target=\"_blank\">Weights & Biases</a> (<a href='https://wandb.me/run' target=\"_blank\">docs</a>)<br/>"
      ]
     },
     "metadata": {},
     "output_type": "display_data"
    },
    {
     "data": {
      "text/plain": [
       "<IPython.core.display.HTML object>"
      ],
      "text/html": [
       " View project at <a href='https://wandb.ai/tiny-transformers/tokenizers' target=\"_blank\">https://wandb.ai/tiny-transformers/tokenizers</a>"
      ]
     },
     "metadata": {},
     "output_type": "display_data"
    },
    {
     "data": {
      "text/plain": [
       "<IPython.core.display.HTML object>"
      ],
      "text/html": [
       " View run at <a href='https://wandb.ai/tiny-transformers/tokenizers/runs/7or65sgc' target=\"_blank\">https://wandb.ai/tiny-transformers/tokenizers/runs/7or65sgc</a>"
      ]
     },
     "metadata": {},
     "output_type": "display_data"
    },
    {
     "name": "stdout",
     "output_type": "stream",
     "text": [
      "{'model': 'BERT-6k-bpe-9.0M-2L-4H-604C-1024I', 'avg_char_per_token': 4.235863219349458}\n"
     ]
    },
    {
     "data": {
      "text/plain": [
       "VBox(children=(Label(value='0.000 MB of 0.000 MB uploaded\\r'), FloatProgress(value=1.0, max=1.0)))"
      ],
      "application/vnd.jupyter.widget-view+json": {
       "version_major": 2,
       "version_minor": 0,
       "model_id": "874b884eb7c04e5a91b1712cd5317053"
      }
     },
     "metadata": {},
     "output_type": "display_data"
    },
    {
     "data": {
      "text/plain": [
       "<IPython.core.display.HTML object>"
      ],
      "text/html": [
       "<style>\n",
       "    table.wandb td:nth-child(1) { padding: 0 10px; text-align: left ; width: auto;} td:nth-child(2) {text-align: left ; width: 100%}\n",
       "    .wandb-row { display: flex; flex-direction: row; flex-wrap: wrap; justify-content: flex-start; width: 100% }\n",
       "    .wandb-col { display: flex; flex-direction: column; flex-basis: 100%; flex: 1; padding: 10px; }\n",
       "    </style>\n",
       "<div class=\"wandb-row\"><div class=\"wandb-col\"><h3>Run history:</h3><br/><table class=\"wandb\"><tr><td>avg_char_per_token</td><td>▁</td></tr></table><br/></div><div class=\"wandb-col\"><h3>Run summary:</h3><br/><table class=\"wandb\"><tr><td>avg_bits_per_token</td><td>34.14045</td></tr><tr><td>avg_char_per_token</td><td>4.23586</td></tr><tr><td>base_avg</td><td>0.60855</td></tr><tr><td>blimp_avg</td><td>0.59375</td></tr><tr><td>boolq</td><td>0.66113</td></tr><tr><td>cola</td><td>0.04729</td></tr><tr><td>eval/loss</td><td>1.55416</td></tr><tr><td>eval/runtime</td><td>31.9692</td></tr><tr><td>eval/samples_per_second</td><td>687.849</td></tr><tr><td>eval/steps_per_second</td><td>43.01</td></tr><tr><td>glue_avg</td><td>0.59655</td></tr><tr><td>mnli</td><td>0.66717</td></tr><tr><td>mnli-mm</td><td>0.6647</td></tr><tr><td>model</td><td>BERT-6k-bpe-9.0M-2L-...</td></tr><tr><td>mrpc</td><td>0.72722</td></tr><tr><td>multirc</td><td>0.37304</td></tr><tr><td>qnli</td><td>0.70429</td></tr><tr><td>qqp</td><td>0.80855</td></tr><tr><td>rte</td><td>0.49495</td></tr><tr><td>sst2</td><td>0.79921</td></tr><tr><td>supp_avg</td><td>0.55825</td></tr><tr><td>total_flos</td><td>3.518258674139136e+16</td></tr><tr><td>train/epoch</td><td>0.99998</td></tr><tr><td>train/global_step</td><td>8280</td></tr><tr><td>train/grad_norm</td><td>0.56019</td></tr><tr><td>train/learning_rate</td><td>0.0</td></tr><tr><td>train/loss</td><td>1.5382</td></tr><tr><td>train_loss</td><td>1.80372</td></tr><tr><td>train_runtime</td><td>7943.4528</td></tr><tr><td>train_samples_per_second</td><td>266.851</td></tr><tr><td>train_steps_per_second</td><td>1.042</td></tr><tr><td>wsc</td><td>0.61446</td></tr></table><br/></div></div>"
      ]
     },
     "metadata": {},
     "output_type": "display_data"
    },
    {
     "data": {
      "text/plain": [
       "<IPython.core.display.HTML object>"
      ],
      "text/html": [
       " View run <strong style=\"color:#cdcd00\">BERT-6k-bpe-9.0M-2L-4H-604C-1024I</strong> at: <a href='https://wandb.ai/tiny-transformers/tokenizers/runs/7or65sgc' target=\"_blank\">https://wandb.ai/tiny-transformers/tokenizers/runs/7or65sgc</a><br/> View project at: <a href='https://wandb.ai/tiny-transformers/tokenizers' target=\"_blank\">https://wandb.ai/tiny-transformers/tokenizers</a><br/>Synced 4 W&B file(s), 0 media file(s), 0 artifact file(s) and 0 other file(s)"
      ]
     },
     "metadata": {},
     "output_type": "display_data"
    },
    {
     "data": {
      "text/plain": [
       "<IPython.core.display.HTML object>"
      ],
      "text/html": [
       "Find logs at: <code>./wandb/run-20240620_142621-7or65sgc/logs</code>"
      ]
     },
     "metadata": {},
     "output_type": "display_data"
    },
    {
     "data": {
      "text/plain": [
       "VBox(children=(Label(value='Waiting for wandb.init()...\\r'), FloatProgress(value=0.011112242322027063, max=1.0…"
      ],
      "application/vnd.jupyter.widget-view+json": {
       "version_major": 2,
       "version_minor": 0,
       "model_id": "7f5497d026f74d3d958c92df89561652"
      }
     },
     "metadata": {},
     "output_type": "display_data"
    },
    {
     "data": {
      "text/plain": [
       "<IPython.core.display.HTML object>"
      ],
      "text/html": [
       "wandb version 0.17.2 is available!  To upgrade, please run:\n",
       " $ pip install wandb --upgrade"
      ]
     },
     "metadata": {},
     "output_type": "display_data"
    },
    {
     "data": {
      "text/plain": [
       "<IPython.core.display.HTML object>"
      ],
      "text/html": [
       "Tracking run with wandb version 0.17.0"
      ]
     },
     "metadata": {},
     "output_type": "display_data"
    },
    {
     "data": {
      "text/plain": [
       "<IPython.core.display.HTML object>"
      ],
      "text/html": [
       "Run data is saved locally in <code>/home/prometheus/TUDelft/cse/year3/RP/tiny-transformers/code/rafael-tokenisation/wandb/run-20240620_142629-2ieu5yr2</code>"
      ]
     },
     "metadata": {},
     "output_type": "display_data"
    },
    {
     "data": {
      "text/plain": [
       "<IPython.core.display.HTML object>"
      ],
      "text/html": [
       "Resuming run <strong><a href='https://wandb.ai/tiny-transformers/tokenizers/runs/2ieu5yr2' target=\"_blank\">GPT-6k-bpe-9.0M-2L-4H-604C-1024I</a></strong> to <a href='https://wandb.ai/tiny-transformers/tokenizers' target=\"_blank\">Weights & Biases</a> (<a href='https://wandb.me/run' target=\"_blank\">docs</a>)<br/>"
      ]
     },
     "metadata": {},
     "output_type": "display_data"
    },
    {
     "data": {
      "text/plain": [
       "<IPython.core.display.HTML object>"
      ],
      "text/html": [
       " View project at <a href='https://wandb.ai/tiny-transformers/tokenizers' target=\"_blank\">https://wandb.ai/tiny-transformers/tokenizers</a>"
      ]
     },
     "metadata": {},
     "output_type": "display_data"
    },
    {
     "data": {
      "text/plain": [
       "<IPython.core.display.HTML object>"
      ],
      "text/html": [
       " View run at <a href='https://wandb.ai/tiny-transformers/tokenizers/runs/2ieu5yr2' target=\"_blank\">https://wandb.ai/tiny-transformers/tokenizers/runs/2ieu5yr2</a>"
      ]
     },
     "metadata": {},
     "output_type": "display_data"
    },
    {
     "name": "stdout",
     "output_type": "stream",
     "text": [
      "{'model': 'GPT-6k-bpe-9.0M-2L-4H-604C-1024I', 'avg_char_per_token': 4.235863219349458}\n"
     ]
    },
    {
     "data": {
      "text/plain": [
       "VBox(children=(Label(value='0.000 MB of 0.000 MB uploaded\\r'), FloatProgress(value=1.0, max=1.0)))"
      ],
      "application/vnd.jupyter.widget-view+json": {
       "version_major": 2,
       "version_minor": 0,
       "model_id": "94bf22d5162440cc8978445c91955daa"
      }
     },
     "metadata": {},
     "output_type": "display_data"
    },
    {
     "data": {
      "text/plain": [
       "<IPython.core.display.HTML object>"
      ],
      "text/html": [
       "<style>\n",
       "    table.wandb td:nth-child(1) { padding: 0 10px; text-align: left ; width: auto;} td:nth-child(2) {text-align: left ; width: 100%}\n",
       "    .wandb-row { display: flex; flex-direction: row; flex-wrap: wrap; justify-content: flex-start; width: 100% }\n",
       "    .wandb-col { display: flex; flex-direction: column; flex-basis: 100%; flex: 1; padding: 10px; }\n",
       "    </style>\n",
       "<div class=\"wandb-row\"><div class=\"wandb-col\"><h3>Run history:</h3><br/><table class=\"wandb\"><tr><td>avg_char_per_token</td><td>▁</td></tr></table><br/></div><div class=\"wandb-col\"><h3>Run summary:</h3><br/><table class=\"wandb\"><tr><td>avg_bits_per_token</td><td>34.14045</td></tr><tr><td>avg_char_per_token</td><td>4.23586</td></tr><tr><td>base_avg</td><td>0.56356</td></tr><tr><td>blimp_avg</td><td>0.55363</td></tr><tr><td>boolq</td><td>0.65975</td></tr><tr><td>cola</td><td>0.02913</td></tr><tr><td>eval/loss</td><td>1.55416</td></tr><tr><td>eval/runtime</td><td>32.0966</td></tr><tr><td>eval/samples_per_second</td><td>685.12</td></tr><tr><td>eval/steps_per_second</td><td>42.839</td></tr><tr><td>glue_avg</td><td>0.604</td></tr><tr><td>mnli</td><td>0.66291</td></tr><tr><td>mnli-mm</td><td>0.67934</td></tr><tr><td>model</td><td>GPT-6k-bpe-9.0M-2L-4...</td></tr><tr><td>mrpc</td><td>0.73654</td></tr><tr><td>multirc</td><td>0.32719</td></tr><tr><td>qnli</td><td>0.74803</td></tr><tr><td>qqp</td><td>0.79401</td></tr><tr><td>rte</td><td>0.57576</td></tr><tr><td>sst2</td><td>0.81693</td></tr><tr><td>supp_avg</td><td>0.52981</td></tr><tr><td>total_flos</td><td>3.518258674139136e+16</td></tr><tr><td>train/epoch</td><td>0.99998</td></tr><tr><td>train/global_step</td><td>8280</td></tr><tr><td>train/grad_norm</td><td>0.56019</td></tr><tr><td>train/learning_rate</td><td>0.0</td></tr><tr><td>train/loss</td><td>1.5382</td></tr><tr><td>train_loss</td><td>1.80372</td></tr><tr><td>train_runtime</td><td>7956.9934</td></tr><tr><td>train_samples_per_second</td><td>266.397</td></tr><tr><td>train_steps_per_second</td><td>1.041</td></tr><tr><td>wsc</td><td>0.61446</td></tr></table><br/></div></div>"
      ]
     },
     "metadata": {},
     "output_type": "display_data"
    },
    {
     "data": {
      "text/plain": [
       "<IPython.core.display.HTML object>"
      ],
      "text/html": [
       " View run <strong style=\"color:#cdcd00\">GPT-6k-bpe-9.0M-2L-4H-604C-1024I</strong> at: <a href='https://wandb.ai/tiny-transformers/tokenizers/runs/2ieu5yr2' target=\"_blank\">https://wandb.ai/tiny-transformers/tokenizers/runs/2ieu5yr2</a><br/> View project at: <a href='https://wandb.ai/tiny-transformers/tokenizers' target=\"_blank\">https://wandb.ai/tiny-transformers/tokenizers</a><br/>Synced 4 W&B file(s), 0 media file(s), 0 artifact file(s) and 0 other file(s)"
      ]
     },
     "metadata": {},
     "output_type": "display_data"
    },
    {
     "data": {
      "text/plain": [
       "<IPython.core.display.HTML object>"
      ],
      "text/html": [
       "Find logs at: <code>./wandb/run-20240620_142629-2ieu5yr2/logs</code>"
      ]
     },
     "metadata": {},
     "output_type": "display_data"
    },
    {
     "data": {
      "text/plain": [
       "VBox(children=(Label(value='Waiting for wandb.init()...\\r'), FloatProgress(value=0.011137897844633295, max=1.0…"
      ],
      "application/vnd.jupyter.widget-view+json": {
       "version_major": 2,
       "version_minor": 0,
       "model_id": "d799d312699a4cef897c6ba3916a60c4"
      }
     },
     "metadata": {},
     "output_type": "display_data"
    },
    {
     "data": {
      "text/plain": [
       "<IPython.core.display.HTML object>"
      ],
      "text/html": [
       "wandb version 0.17.2 is available!  To upgrade, please run:\n",
       " $ pip install wandb --upgrade"
      ]
     },
     "metadata": {},
     "output_type": "display_data"
    },
    {
     "data": {
      "text/plain": [
       "<IPython.core.display.HTML object>"
      ],
      "text/html": [
       "Tracking run with wandb version 0.17.0"
      ]
     },
     "metadata": {},
     "output_type": "display_data"
    },
    {
     "data": {
      "text/plain": [
       "<IPython.core.display.HTML object>"
      ],
      "text/html": [
       "Run data is saved locally in <code>/home/prometheus/TUDelft/cse/year3/RP/tiny-transformers/code/rafael-tokenisation/wandb/run-20240620_142636-0smp3dm8</code>"
      ]
     },
     "metadata": {},
     "output_type": "display_data"
    },
    {
     "data": {
      "text/plain": [
       "<IPython.core.display.HTML object>"
      ],
      "text/html": [
       "Resuming run <strong><a href='https://wandb.ai/tiny-transformers/tokenizers/runs/0smp3dm8' target=\"_blank\">BERT-10k-bpe-9.0M-2L-4H-516C-1024I</a></strong> to <a href='https://wandb.ai/tiny-transformers/tokenizers' target=\"_blank\">Weights & Biases</a> (<a href='https://wandb.me/run' target=\"_blank\">docs</a>)<br/>"
      ]
     },
     "metadata": {},
     "output_type": "display_data"
    },
    {
     "data": {
      "text/plain": [
       "<IPython.core.display.HTML object>"
      ],
      "text/html": [
       " View project at <a href='https://wandb.ai/tiny-transformers/tokenizers' target=\"_blank\">https://wandb.ai/tiny-transformers/tokenizers</a>"
      ]
     },
     "metadata": {},
     "output_type": "display_data"
    },
    {
     "data": {
      "text/plain": [
       "<IPython.core.display.HTML object>"
      ],
      "text/html": [
       " View run at <a href='https://wandb.ai/tiny-transformers/tokenizers/runs/0smp3dm8' target=\"_blank\">https://wandb.ai/tiny-transformers/tokenizers/runs/0smp3dm8</a>"
      ]
     },
     "metadata": {},
     "output_type": "display_data"
    },
    {
     "name": "stdout",
     "output_type": "stream",
     "text": [
      "{'model': 'BERT-10k-bpe-9.0M-2L-4H-516C-1024I', 'avg_char_per_token': 4.639419709854927}\n"
     ]
    },
    {
     "data": {
      "text/plain": [
       "VBox(children=(Label(value='0.000 MB of 0.000 MB uploaded\\r'), FloatProgress(value=1.0, max=1.0)))"
      ],
      "application/vnd.jupyter.widget-view+json": {
       "version_major": 2,
       "version_minor": 0,
       "model_id": "f42c7df2f08e4afd97d1fb604c058b7a"
      }
     },
     "metadata": {},
     "output_type": "display_data"
    },
    {
     "data": {
      "text/plain": [
       "<IPython.core.display.HTML object>"
      ],
      "text/html": [
       "<style>\n",
       "    table.wandb td:nth-child(1) { padding: 0 10px; text-align: left ; width: auto;} td:nth-child(2) {text-align: left ; width: 100%}\n",
       "    .wandb-row { display: flex; flex-direction: row; flex-wrap: wrap; justify-content: flex-start; width: 100% }\n",
       "    .wandb-col { display: flex; flex-direction: column; flex-basis: 100%; flex: 1; padding: 10px; }\n",
       "    </style>\n",
       "<div class=\"wandb-row\"><div class=\"wandb-col\"><h3>Run history:</h3><br/><table class=\"wandb\"><tr><td>avg_char_per_token</td><td>▁</td></tr></table><br/></div><div class=\"wandb-col\"><h3>Run summary:</h3><br/><table class=\"wandb\"><tr><td>avg_bits_per_token</td><td>37.32106</td></tr><tr><td>avg_char_per_token</td><td>4.63942</td></tr><tr><td>base_avg</td><td>0.61031</td></tr><tr><td>blimp_avg</td><td>0.58982</td></tr><tr><td>boolq</td><td>0.639</td></tr><tr><td>cola</td><td>0</td></tr><tr><td>eval/loss</td><td>0.88644</td></tr><tr><td>eval/runtime</td><td>36.2223</td></tr><tr><td>eval/samples_per_second</td><td>607.085</td></tr><tr><td>eval/steps_per_second</td><td>37.96</td></tr><tr><td>glue_avg</td><td>0.5917</td></tr><tr><td>mnli</td><td>0.66397</td></tr><tr><td>mnli-mm</td><td>0.67871</td></tr><tr><td>model</td><td>BERT-10k-bpe-9.0M-2L...</td></tr><tr><td>mrpc</td><td>0.71773</td></tr><tr><td>multirc</td><td>0.38956</td></tr><tr><td>qnli</td><td>0.73228</td></tr><tr><td>qqp</td><td>0.79395</td></tr><tr><td>rte</td><td>0.43434</td></tr><tr><td>sst2</td><td>0.83268</td></tr><tr><td>supp_avg</td><td>0.54064</td></tr><tr><td>total_flos</td><td>2.952226381234176e+16</td></tr><tr><td>train/epoch</td><td>0.99998</td></tr><tr><td>train/global_step</td><td>8280</td></tr><tr><td>train/grad_norm</td><td>0.88138</td></tr><tr><td>train/learning_rate</td><td>0.0</td></tr><tr><td>train/loss</td><td>1.0465</td></tr><tr><td>train_loss</td><td>1.51452</td></tr><tr><td>train_runtime</td><td>9164.3732</td></tr><tr><td>train_samples_per_second</td><td>231.3</td></tr><tr><td>train_steps_per_second</td><td>0.903</td></tr><tr><td>wsc</td><td>0.62651</td></tr></table><br/></div></div>"
      ]
     },
     "metadata": {},
     "output_type": "display_data"
    },
    {
     "data": {
      "text/plain": [
       "<IPython.core.display.HTML object>"
      ],
      "text/html": [
       " View run <strong style=\"color:#cdcd00\">BERT-10k-bpe-9.0M-2L-4H-516C-1024I</strong> at: <a href='https://wandb.ai/tiny-transformers/tokenizers/runs/0smp3dm8' target=\"_blank\">https://wandb.ai/tiny-transformers/tokenizers/runs/0smp3dm8</a><br/> View project at: <a href='https://wandb.ai/tiny-transformers/tokenizers' target=\"_blank\">https://wandb.ai/tiny-transformers/tokenizers</a><br/>Synced 4 W&B file(s), 0 media file(s), 0 artifact file(s) and 0 other file(s)"
      ]
     },
     "metadata": {},
     "output_type": "display_data"
    },
    {
     "data": {
      "text/plain": [
       "<IPython.core.display.HTML object>"
      ],
      "text/html": [
       "Find logs at: <code>./wandb/run-20240620_142636-0smp3dm8/logs</code>"
      ]
     },
     "metadata": {},
     "output_type": "display_data"
    },
    {
     "data": {
      "text/plain": [
       "VBox(children=(Label(value='Waiting for wandb.init()...\\r'), FloatProgress(value=0.011112509100025312, max=1.0…"
      ],
      "application/vnd.jupyter.widget-view+json": {
       "version_major": 2,
       "version_minor": 0,
       "model_id": "20d995575ec245929de8736fcd50abd3"
      }
     },
     "metadata": {},
     "output_type": "display_data"
    },
    {
     "data": {
      "text/plain": [
       "<IPython.core.display.HTML object>"
      ],
      "text/html": [
       "wandb version 0.17.2 is available!  To upgrade, please run:\n",
       " $ pip install wandb --upgrade"
      ]
     },
     "metadata": {},
     "output_type": "display_data"
    },
    {
     "data": {
      "text/plain": [
       "<IPython.core.display.HTML object>"
      ],
      "text/html": [
       "Tracking run with wandb version 0.17.0"
      ]
     },
     "metadata": {},
     "output_type": "display_data"
    },
    {
     "data": {
      "text/plain": [
       "<IPython.core.display.HTML object>"
      ],
      "text/html": [
       "Run data is saved locally in <code>/home/prometheus/TUDelft/cse/year3/RP/tiny-transformers/code/rafael-tokenisation/wandb/run-20240620_142644-zswbx0bt</code>"
      ]
     },
     "metadata": {},
     "output_type": "display_data"
    },
    {
     "data": {
      "text/plain": [
       "<IPython.core.display.HTML object>"
      ],
      "text/html": [
       "Resuming run <strong><a href='https://wandb.ai/tiny-transformers/tokenizers/runs/zswbx0bt' target=\"_blank\">GPT-10k-bpe-9.0M-2L-4H-516C-1024I</a></strong> to <a href='https://wandb.ai/tiny-transformers/tokenizers' target=\"_blank\">Weights & Biases</a> (<a href='https://wandb.me/run' target=\"_blank\">docs</a>)<br/>"
      ]
     },
     "metadata": {},
     "output_type": "display_data"
    },
    {
     "data": {
      "text/plain": [
       "<IPython.core.display.HTML object>"
      ],
      "text/html": [
       " View project at <a href='https://wandb.ai/tiny-transformers/tokenizers' target=\"_blank\">https://wandb.ai/tiny-transformers/tokenizers</a>"
      ]
     },
     "metadata": {},
     "output_type": "display_data"
    },
    {
     "data": {
      "text/plain": [
       "<IPython.core.display.HTML object>"
      ],
      "text/html": [
       " View run at <a href='https://wandb.ai/tiny-transformers/tokenizers/runs/zswbx0bt' target=\"_blank\">https://wandb.ai/tiny-transformers/tokenizers/runs/zswbx0bt</a>"
      ]
     },
     "metadata": {},
     "output_type": "display_data"
    },
    {
     "name": "stdout",
     "output_type": "stream",
     "text": [
      "{'model': 'GPT-10k-bpe-9.0M-2L-4H-516C-1024I', 'avg_char_per_token': 4.639419709854927}\n"
     ]
    },
    {
     "data": {
      "text/plain": [
       "VBox(children=(Label(value='0.000 MB of 0.000 MB uploaded\\r'), FloatProgress(value=1.0, max=1.0)))"
      ],
      "application/vnd.jupyter.widget-view+json": {
       "version_major": 2,
       "version_minor": 0,
       "model_id": "4a3cd38a14dd4c5980a12c6b37fb87a0"
      }
     },
     "metadata": {},
     "output_type": "display_data"
    },
    {
     "data": {
      "text/plain": [
       "<IPython.core.display.HTML object>"
      ],
      "text/html": [
       "<style>\n",
       "    table.wandb td:nth-child(1) { padding: 0 10px; text-align: left ; width: auto;} td:nth-child(2) {text-align: left ; width: 100%}\n",
       "    .wandb-row { display: flex; flex-direction: row; flex-wrap: wrap; justify-content: flex-start; width: 100% }\n",
       "    .wandb-col { display: flex; flex-direction: column; flex-basis: 100%; flex: 1; padding: 10px; }\n",
       "    </style>\n",
       "<div class=\"wandb-row\"><div class=\"wandb-col\"><h3>Run history:</h3><br/><table class=\"wandb\"><tr><td>avg_char_per_token</td><td>▁</td></tr></table><br/></div><div class=\"wandb-col\"><h3>Run summary:</h3><br/><table class=\"wandb\"><tr><td>avg_bits_per_token</td><td>37.32106</td></tr><tr><td>avg_char_per_token</td><td>4.63942</td></tr><tr><td>base_avg</td><td>0.60214</td></tr><tr><td>blimp_avg</td><td>0.58842</td></tr><tr><td>boolq</td><td>0.65284</td></tr><tr><td>cola</td><td>0.01407</td></tr><tr><td>eval/loss</td><td>1.62567</td></tr><tr><td>eval/runtime</td><td>35.2323</td></tr><tr><td>eval/samples_per_second</td><td>624.143</td></tr><tr><td>eval/steps_per_second</td><td>39.027</td></tr><tr><td>glue_avg</td><td>0.60206</td></tr><tr><td>mnli</td><td>0.67037</td></tr><tr><td>mnli-mm</td><td>0.6803</td></tr><tr><td>model</td><td>GPT-10k-bpe-9.0M-2L-...</td></tr><tr><td>mrpc</td><td>0.72201</td></tr><tr><td>multirc</td><td>0.38933</td></tr><tr><td>qnli</td><td>0.74103</td></tr><tr><td>qqp</td><td>0.79428</td></tr><tr><td>rte</td><td>0.55556</td></tr><tr><td>sst2</td><td>0.83661</td></tr><tr><td>supp_avg</td><td>0.5555</td></tr><tr><td>total_flos</td><td>2.769313937227776e+16</td></tr><tr><td>train/epoch</td><td>0.99998</td></tr><tr><td>train/global_step</td><td>8280</td></tr><tr><td>train/grad_norm</td><td>0.5968</td></tr><tr><td>train/learning_rate</td><td>0.0</td></tr><tr><td>train/loss</td><td>1.6076</td></tr><tr><td>train_loss</td><td>1.86199</td></tr><tr><td>train_runtime</td><td>9398.2057</td></tr><tr><td>train_samples_per_second</td><td>225.545</td></tr><tr><td>train_steps_per_second</td><td>0.881</td></tr><tr><td>wsc</td><td>0.56627</td></tr></table><br/></div></div>"
      ]
     },
     "metadata": {},
     "output_type": "display_data"
    },
    {
     "data": {
      "text/plain": [
       "<IPython.core.display.HTML object>"
      ],
      "text/html": [
       " View run <strong style=\"color:#cdcd00\">GPT-10k-bpe-9.0M-2L-4H-516C-1024I</strong> at: <a href='https://wandb.ai/tiny-transformers/tokenizers/runs/zswbx0bt' target=\"_blank\">https://wandb.ai/tiny-transformers/tokenizers/runs/zswbx0bt</a><br/> View project at: <a href='https://wandb.ai/tiny-transformers/tokenizers' target=\"_blank\">https://wandb.ai/tiny-transformers/tokenizers</a><br/>Synced 4 W&B file(s), 0 media file(s), 0 artifact file(s) and 0 other file(s)"
      ]
     },
     "metadata": {},
     "output_type": "display_data"
    },
    {
     "data": {
      "text/plain": [
       "<IPython.core.display.HTML object>"
      ],
      "text/html": [
       "Find logs at: <code>./wandb/run-20240620_142644-zswbx0bt/logs</code>"
      ]
     },
     "metadata": {},
     "output_type": "display_data"
    },
    {
     "data": {
      "text/plain": [
       "VBox(children=(Label(value='Waiting for wandb.init()...\\r'), FloatProgress(value=0.01111236311133123, max=1.0)…"
      ],
      "application/vnd.jupyter.widget-view+json": {
       "version_major": 2,
       "version_minor": 0,
       "model_id": "65d09cc95ae54006b888872194137eb0"
      }
     },
     "metadata": {},
     "output_type": "display_data"
    },
    {
     "data": {
      "text/plain": [
       "<IPython.core.display.HTML object>"
      ],
      "text/html": [
       "wandb version 0.17.2 is available!  To upgrade, please run:\n",
       " $ pip install wandb --upgrade"
      ]
     },
     "metadata": {},
     "output_type": "display_data"
    },
    {
     "data": {
      "text/plain": [
       "<IPython.core.display.HTML object>"
      ],
      "text/html": [
       "Tracking run with wandb version 0.17.0"
      ]
     },
     "metadata": {},
     "output_type": "display_data"
    },
    {
     "data": {
      "text/plain": [
       "<IPython.core.display.HTML object>"
      ],
      "text/html": [
       "Run data is saved locally in <code>/home/prometheus/TUDelft/cse/year3/RP/tiny-transformers/code/rafael-tokenisation/wandb/run-20240620_142651-9kgrnc71</code>"
      ]
     },
     "metadata": {},
     "output_type": "display_data"
    },
    {
     "data": {
      "text/plain": [
       "<IPython.core.display.HTML object>"
      ],
      "text/html": [
       "Resuming run <strong><a href='https://wandb.ai/tiny-transformers/tokenizers/runs/9kgrnc71' target=\"_blank\">BERT-15k-bpe-9.0M-2L-4H-412C-1024I</a></strong> to <a href='https://wandb.ai/tiny-transformers/tokenizers' target=\"_blank\">Weights & Biases</a> (<a href='https://wandb.me/run' target=\"_blank\">docs</a>)<br/>"
      ]
     },
     "metadata": {},
     "output_type": "display_data"
    },
    {
     "data": {
      "text/plain": [
       "<IPython.core.display.HTML object>"
      ],
      "text/html": [
       " View project at <a href='https://wandb.ai/tiny-transformers/tokenizers' target=\"_blank\">https://wandb.ai/tiny-transformers/tokenizers</a>"
      ]
     },
     "metadata": {},
     "output_type": "display_data"
    },
    {
     "data": {
      "text/plain": [
       "<IPython.core.display.HTML object>"
      ],
      "text/html": [
       " View run at <a href='https://wandb.ai/tiny-transformers/tokenizers/runs/9kgrnc71' target=\"_blank\">https://wandb.ai/tiny-transformers/tokenizers/runs/9kgrnc71</a>"
      ]
     },
     "metadata": {},
     "output_type": "display_data"
    },
    {
     "name": "stdout",
     "output_type": "stream",
     "text": [
      "{'model': 'BERT-15k-bpe-9.0M-2L-4H-412C-1024I', 'avg_char_per_token': 4.923707902634211}\n"
     ]
    },
    {
     "data": {
      "text/plain": [
       "VBox(children=(Label(value='0.000 MB of 0.000 MB uploaded\\r'), FloatProgress(value=1.0, max=1.0)))"
      ],
      "application/vnd.jupyter.widget-view+json": {
       "version_major": 2,
       "version_minor": 0,
       "model_id": "2f29e492824c419baf81b6c2e7e4d073"
      }
     },
     "metadata": {},
     "output_type": "display_data"
    },
    {
     "data": {
      "text/plain": [
       "<IPython.core.display.HTML object>"
      ],
      "text/html": [
       "<style>\n",
       "    table.wandb td:nth-child(1) { padding: 0 10px; text-align: left ; width: auto;} td:nth-child(2) {text-align: left ; width: 100%}\n",
       "    .wandb-row { display: flex; flex-direction: row; flex-wrap: wrap; justify-content: flex-start; width: 100% }\n",
       "    .wandb-col { display: flex; flex-direction: column; flex-basis: 100%; flex: 1; padding: 10px; }\n",
       "    </style>\n",
       "<div class=\"wandb-row\"><div class=\"wandb-col\"><h3>Run history:</h3><br/><table class=\"wandb\"><tr><td>avg_char_per_token</td><td>▁</td></tr></table><br/></div><div class=\"wandb-col\"><h3>Run summary:</h3><br/><table class=\"wandb\"><tr><td>avg_bits_per_token</td><td>39.58493</td></tr><tr><td>avg_char_per_token</td><td>4.92371</td></tr><tr><td>base_avg</td><td>0.62743</td></tr><tr><td>blimp_avg</td><td>0.60598</td></tr><tr><td>boolq</td><td>0.61549</td></tr><tr><td>cola</td><td>-0.02077</td></tr><tr><td>eval/loss</td><td>1.07712</td></tr><tr><td>eval/runtime</td><td>34.983</td></tr><tr><td>eval/samples_per_second</td><td>628.592</td></tr><tr><td>eval/steps_per_second</td><td>39.305</td></tr><tr><td>glue_avg</td><td>0.56967</td></tr><tr><td>mnli</td><td>0.63014</td></tr><tr><td>mnli-mm</td><td>0.63176</td></tr><tr><td>model</td><td>BERT-15k-bpe-9.0M-2L...</td></tr><tr><td>mrpc</td><td>0.74164</td></tr><tr><td>multirc</td><td>0.39873</td></tr><tr><td>qnli</td><td>0.6203</td></tr><tr><td>qqp</td><td>0.76785</td></tr><tr><td>rte</td><td>0.40404</td></tr><tr><td>sst2</td><td>0.83858</td></tr><tr><td>supp_avg</td><td>0.5545</td></tr><tr><td>total_flos</td><td>2.110930720653312e+16</td></tr><tr><td>train/epoch</td><td>0.99998</td></tr><tr><td>train/global_step</td><td>8280</td></tr><tr><td>train/grad_norm</td><td>0.86307</td></tr><tr><td>train/learning_rate</td><td>0.0</td></tr><tr><td>train/loss</td><td>1.2522</td></tr><tr><td>train_loss</td><td>1.80176</td></tr><tr><td>train_runtime</td><td>8723.795</td></tr><tr><td>train_samples_per_second</td><td>242.981</td></tr><tr><td>train_steps_per_second</td><td>0.949</td></tr><tr><td>wsc</td><td>0.63855</td></tr></table><br/></div></div>"
      ]
     },
     "metadata": {},
     "output_type": "display_data"
    },
    {
     "data": {
      "text/plain": [
       "<IPython.core.display.HTML object>"
      ],
      "text/html": [
       " View run <strong style=\"color:#cdcd00\">BERT-15k-bpe-9.0M-2L-4H-412C-1024I</strong> at: <a href='https://wandb.ai/tiny-transformers/tokenizers/runs/9kgrnc71' target=\"_blank\">https://wandb.ai/tiny-transformers/tokenizers/runs/9kgrnc71</a><br/> View project at: <a href='https://wandb.ai/tiny-transformers/tokenizers' target=\"_blank\">https://wandb.ai/tiny-transformers/tokenizers</a><br/>Synced 4 W&B file(s), 0 media file(s), 0 artifact file(s) and 0 other file(s)"
      ]
     },
     "metadata": {},
     "output_type": "display_data"
    },
    {
     "data": {
      "text/plain": [
       "<IPython.core.display.HTML object>"
      ],
      "text/html": [
       "Find logs at: <code>./wandb/run-20240620_142651-9kgrnc71/logs</code>"
      ]
     },
     "metadata": {},
     "output_type": "display_data"
    },
    {
     "data": {
      "text/plain": [
       "VBox(children=(Label(value='Waiting for wandb.init()...\\r'), FloatProgress(value=0.011112172521987103, max=1.0…"
      ],
      "application/vnd.jupyter.widget-view+json": {
       "version_major": 2,
       "version_minor": 0,
       "model_id": "2720214c2f7341af983b92a256535a27"
      }
     },
     "metadata": {},
     "output_type": "display_data"
    },
    {
     "data": {
      "text/plain": [
       "<IPython.core.display.HTML object>"
      ],
      "text/html": [
       "wandb version 0.17.2 is available!  To upgrade, please run:\n",
       " $ pip install wandb --upgrade"
      ]
     },
     "metadata": {},
     "output_type": "display_data"
    },
    {
     "data": {
      "text/plain": [
       "<IPython.core.display.HTML object>"
      ],
      "text/html": [
       "Tracking run with wandb version 0.17.0"
      ]
     },
     "metadata": {},
     "output_type": "display_data"
    },
    {
     "data": {
      "text/plain": [
       "<IPython.core.display.HTML object>"
      ],
      "text/html": [
       "Run data is saved locally in <code>/home/prometheus/TUDelft/cse/year3/RP/tiny-transformers/code/rafael-tokenisation/wandb/run-20240620_142659-6tk0kl12</code>"
      ]
     },
     "metadata": {},
     "output_type": "display_data"
    },
    {
     "data": {
      "text/plain": [
       "<IPython.core.display.HTML object>"
      ],
      "text/html": [
       "Resuming run <strong><a href='https://wandb.ai/tiny-transformers/tokenizers/runs/6tk0kl12' target=\"_blank\">GPT-15k-bpe-9.0M-2L-4H-412C-1024I</a></strong> to <a href='https://wandb.ai/tiny-transformers/tokenizers' target=\"_blank\">Weights & Biases</a> (<a href='https://wandb.me/run' target=\"_blank\">docs</a>)<br/>"
      ]
     },
     "metadata": {},
     "output_type": "display_data"
    },
    {
     "data": {
      "text/plain": [
       "<IPython.core.display.HTML object>"
      ],
      "text/html": [
       " View project at <a href='https://wandb.ai/tiny-transformers/tokenizers' target=\"_blank\">https://wandb.ai/tiny-transformers/tokenizers</a>"
      ]
     },
     "metadata": {},
     "output_type": "display_data"
    },
    {
     "data": {
      "text/plain": [
       "<IPython.core.display.HTML object>"
      ],
      "text/html": [
       " View run at <a href='https://wandb.ai/tiny-transformers/tokenizers/runs/6tk0kl12' target=\"_blank\">https://wandb.ai/tiny-transformers/tokenizers/runs/6tk0kl12</a>"
      ]
     },
     "metadata": {},
     "output_type": "display_data"
    },
    {
     "name": "stdout",
     "output_type": "stream",
     "text": [
      "{'model': 'GPT-15k-bpe-9.0M-2L-4H-412C-1024I', 'avg_char_per_token': 4.923707902634211}\n"
     ]
    },
    {
     "data": {
      "text/plain": [
       "VBox(children=(Label(value='0.000 MB of 0.000 MB uploaded\\r'), FloatProgress(value=1.0, max=1.0)))"
      ],
      "application/vnd.jupyter.widget-view+json": {
       "version_major": 2,
       "version_minor": 0,
       "model_id": "947803cc78684467bef60c5e112ef8a1"
      }
     },
     "metadata": {},
     "output_type": "display_data"
    },
    {
     "data": {
      "text/plain": [
       "<IPython.core.display.HTML object>"
      ],
      "text/html": [
       "<style>\n",
       "    table.wandb td:nth-child(1) { padding: 0 10px; text-align: left ; width: auto;} td:nth-child(2) {text-align: left ; width: 100%}\n",
       "    .wandb-row { display: flex; flex-direction: row; flex-wrap: wrap; justify-content: flex-start; width: 100% }\n",
       "    .wandb-col { display: flex; flex-direction: column; flex-basis: 100%; flex: 1; padding: 10px; }\n",
       "    </style>\n",
       "<div class=\"wandb-row\"><div class=\"wandb-col\"><h3>Run history:</h3><br/><table class=\"wandb\"><tr><td>avg_char_per_token</td><td>▁</td></tr></table><br/></div><div class=\"wandb-col\"><h3>Run summary:</h3><br/><table class=\"wandb\"><tr><td>avg_bits_per_token</td><td>39.58493</td></tr><tr><td>avg_char_per_token</td><td>4.92371</td></tr><tr><td>base_avg</td><td>0.58302</td></tr><tr><td>blimp_avg</td><td>0.56569</td></tr><tr><td>boolq</td><td>0.64039</td></tr><tr><td>cola</td><td>0.02656</td></tr><tr><td>eval/loss</td><td>1.68766</td></tr><tr><td>eval/runtime</td><td>34.6523</td></tr><tr><td>eval/samples_per_second</td><td>634.589</td></tr><tr><td>eval/steps_per_second</td><td>39.68</td></tr><tr><td>glue_avg</td><td>0.59121</td></tr><tr><td>mnli</td><td>0.66397</td></tr><tr><td>mnli-mm</td><td>0.67887</td></tr><tr><td>model</td><td>GPT-15k-bpe-9.0M-2L-...</td></tr><tr><td>mrpc</td><td>0.68009</td></tr><tr><td>multirc</td><td>0.36313</td></tr><tr><td>qnli</td><td>0.72747</td></tr><tr><td>qqp</td><td>0.79533</td></tr><tr><td>rte</td><td>0.47475</td></tr><tr><td>sst2</td><td>0.85039</td></tr><tr><td>supp_avg</td><td>0.5241</td></tr><tr><td>total_flos</td><td>1.98821724291072e+16</td></tr><tr><td>train/epoch</td><td>0.99998</td></tr><tr><td>train/global_step</td><td>8280</td></tr><tr><td>train/grad_norm</td><td>0.65846</td></tr><tr><td>train/learning_rate</td><td>0.0</td></tr><tr><td>train/loss</td><td>1.6691</td></tr><tr><td>train_loss</td><td>1.92106</td></tr><tr><td>train_runtime</td><td>8906.5081</td></tr><tr><td>train_samples_per_second</td><td>237.997</td></tr><tr><td>train_steps_per_second</td><td>0.93</td></tr><tr><td>wsc</td><td>0.60241</td></tr></table><br/></div></div>"
      ]
     },
     "metadata": {},
     "output_type": "display_data"
    },
    {
     "data": {
      "text/plain": [
       "<IPython.core.display.HTML object>"
      ],
      "text/html": [
       " View run <strong style=\"color:#cdcd00\">GPT-15k-bpe-9.0M-2L-4H-412C-1024I</strong> at: <a href='https://wandb.ai/tiny-transformers/tokenizers/runs/6tk0kl12' target=\"_blank\">https://wandb.ai/tiny-transformers/tokenizers/runs/6tk0kl12</a><br/> View project at: <a href='https://wandb.ai/tiny-transformers/tokenizers' target=\"_blank\">https://wandb.ai/tiny-transformers/tokenizers</a><br/>Synced 4 W&B file(s), 0 media file(s), 0 artifact file(s) and 0 other file(s)"
      ]
     },
     "metadata": {},
     "output_type": "display_data"
    },
    {
     "data": {
      "text/plain": [
       "<IPython.core.display.HTML object>"
      ],
      "text/html": [
       "Find logs at: <code>./wandb/run-20240620_142659-6tk0kl12/logs</code>"
      ]
     },
     "metadata": {},
     "output_type": "display_data"
    },
    {
     "data": {
      "text/plain": [
       "VBox(children=(Label(value='Waiting for wandb.init()...\\r'), FloatProgress(value=0.011112055377776011, max=1.0…"
      ],
      "application/vnd.jupyter.widget-view+json": {
       "version_major": 2,
       "version_minor": 0,
       "model_id": "d38e6de8d9bf45a3b2a7c486b1a830d3"
      }
     },
     "metadata": {},
     "output_type": "display_data"
    },
    {
     "data": {
      "text/plain": [
       "<IPython.core.display.HTML object>"
      ],
      "text/html": [
       "wandb version 0.17.2 is available!  To upgrade, please run:\n",
       " $ pip install wandb --upgrade"
      ]
     },
     "metadata": {},
     "output_type": "display_data"
    },
    {
     "data": {
      "text/plain": [
       "<IPython.core.display.HTML object>"
      ],
      "text/html": [
       "Tracking run with wandb version 0.17.0"
      ]
     },
     "metadata": {},
     "output_type": "display_data"
    },
    {
     "data": {
      "text/plain": [
       "<IPython.core.display.HTML object>"
      ],
      "text/html": [
       "Run data is saved locally in <code>/home/prometheus/TUDelft/cse/year3/RP/tiny-transformers/code/rafael-tokenisation/wandb/run-20240620_142706-1sof8yfw</code>"
      ]
     },
     "metadata": {},
     "output_type": "display_data"
    },
    {
     "data": {
      "text/plain": [
       "<IPython.core.display.HTML object>"
      ],
      "text/html": [
       "Resuming run <strong><a href='https://wandb.ai/tiny-transformers/tokenizers/runs/1sof8yfw' target=\"_blank\">BERT-20k-bpe-9.0M-2L-4H-348C-1024I</a></strong> to <a href='https://wandb.ai/tiny-transformers/tokenizers' target=\"_blank\">Weights & Biases</a> (<a href='https://wandb.me/run' target=\"_blank\">docs</a>)<br/>"
      ]
     },
     "metadata": {},
     "output_type": "display_data"
    },
    {
     "data": {
      "text/plain": [
       "<IPython.core.display.HTML object>"
      ],
      "text/html": [
       " View project at <a href='https://wandb.ai/tiny-transformers/tokenizers' target=\"_blank\">https://wandb.ai/tiny-transformers/tokenizers</a>"
      ]
     },
     "metadata": {},
     "output_type": "display_data"
    },
    {
     "data": {
      "text/plain": [
       "<IPython.core.display.HTML object>"
      ],
      "text/html": [
       " View run at <a href='https://wandb.ai/tiny-transformers/tokenizers/runs/1sof8yfw' target=\"_blank\">https://wandb.ai/tiny-transformers/tokenizers/runs/1sof8yfw</a>"
      ]
     },
     "metadata": {},
     "output_type": "display_data"
    },
    {
     "name": "stdout",
     "output_type": "stream",
     "text": [
      "{'model': 'BERT-20k-bpe-9.0M-2L-4H-348C-1024I', 'avg_char_per_token': 5.121830457614403}\n"
     ]
    },
    {
     "data": {
      "text/plain": [
       "VBox(children=(Label(value='0.000 MB of 0.000 MB uploaded\\r'), FloatProgress(value=1.0, max=1.0)))"
      ],
      "application/vnd.jupyter.widget-view+json": {
       "version_major": 2,
       "version_minor": 0,
       "model_id": "e53138f88d93400ca154599fc8f0a1a0"
      }
     },
     "metadata": {},
     "output_type": "display_data"
    },
    {
     "data": {
      "text/plain": [
       "<IPython.core.display.HTML object>"
      ],
      "text/html": [
       "<style>\n",
       "    table.wandb td:nth-child(1) { padding: 0 10px; text-align: left ; width: auto;} td:nth-child(2) {text-align: left ; width: 100%}\n",
       "    .wandb-row { display: flex; flex-direction: row; flex-wrap: wrap; justify-content: flex-start; width: 100% }\n",
       "    .wandb-col { display: flex; flex-direction: column; flex-basis: 100%; flex: 1; padding: 10px; }\n",
       "    </style>\n",
       "<div class=\"wandb-row\"><div class=\"wandb-col\"><h3>Run history:</h3><br/><table class=\"wandb\"><tr><td>avg_char_per_token</td><td>▁</td></tr></table><br/></div><div class=\"wandb-col\"><h3>Run summary:</h3><br/><table class=\"wandb\"><tr><td>avg_bits_per_token</td><td>41.17229</td></tr><tr><td>avg_char_per_token</td><td>5.12183</td></tr><tr><td>base_avg</td><td>0.64098</td></tr><tr><td>blimp_avg</td><td>0.61186</td></tr><tr><td>boolq</td><td>0.66252</td></tr><tr><td>cola</td><td>0</td></tr><tr><td>eval/loss</td><td>1.10353</td></tr><tr><td>eval/runtime</td><td>37.1743</td></tr><tr><td>eval/samples_per_second</td><td>591.538</td></tr><tr><td>eval/steps_per_second</td><td>36.988</td></tr><tr><td>glue_avg</td><td>0.56554</td></tr><tr><td>mnli</td><td>0.60637</td></tr><tr><td>mnli-mm</td><td>0.61903</td></tr><tr><td>model</td><td>BERT-20k-bpe-9.0M-2L...</td></tr><tr><td>mrpc</td><td>0.75664</td></tr><tr><td>multirc</td><td>0.37854</td></tr><tr><td>qnli</td><td>0.60149</td></tr><tr><td>qqp</td><td>0.73284</td></tr><tr><td>rte</td><td>0.42424</td></tr><tr><td>sst2</td><td>0.8248</td></tr><tr><td>supp_avg</td><td>0.54198</td></tr><tr><td>total_flos</td><td>1.657474557935616e+16</td></tr><tr><td>train/epoch</td><td>0.99998</td></tr><tr><td>train/global_step</td><td>8280</td></tr><tr><td>train/grad_norm</td><td>0.81495</td></tr><tr><td>train/learning_rate</td><td>0.0</td></tr><tr><td>train/loss</td><td>1.2948</td></tr><tr><td>train_loss</td><td>1.85247</td></tr><tr><td>train_runtime</td><td>9005.827</td></tr><tr><td>train_samples_per_second</td><td>235.372</td></tr><tr><td>train_steps_per_second</td><td>0.919</td></tr><tr><td>wsc</td><td>0.61446</td></tr></table><br/></div></div>"
      ]
     },
     "metadata": {},
     "output_type": "display_data"
    },
    {
     "data": {
      "text/plain": [
       "<IPython.core.display.HTML object>"
      ],
      "text/html": [
       " View run <strong style=\"color:#cdcd00\">BERT-20k-bpe-9.0M-2L-4H-348C-1024I</strong> at: <a href='https://wandb.ai/tiny-transformers/tokenizers/runs/1sof8yfw' target=\"_blank\">https://wandb.ai/tiny-transformers/tokenizers/runs/1sof8yfw</a><br/> View project at: <a href='https://wandb.ai/tiny-transformers/tokenizers' target=\"_blank\">https://wandb.ai/tiny-transformers/tokenizers</a><br/>Synced 4 W&B file(s), 0 media file(s), 0 artifact file(s) and 0 other file(s)"
      ]
     },
     "metadata": {},
     "output_type": "display_data"
    },
    {
     "data": {
      "text/plain": [
       "<IPython.core.display.HTML object>"
      ],
      "text/html": [
       "Find logs at: <code>./wandb/run-20240620_142706-1sof8yfw/logs</code>"
      ]
     },
     "metadata": {},
     "output_type": "display_data"
    },
    {
     "data": {
      "text/plain": [
       "VBox(children=(Label(value='Waiting for wandb.init()...\\r'), FloatProgress(value=0.011112321878317743, max=1.0…"
      ],
      "application/vnd.jupyter.widget-view+json": {
       "version_major": 2,
       "version_minor": 0,
       "model_id": "eb3a977b429d482b817cd4eab1c63fbd"
      }
     },
     "metadata": {},
     "output_type": "display_data"
    },
    {
     "data": {
      "text/plain": [
       "<IPython.core.display.HTML object>"
      ],
      "text/html": [
       "wandb version 0.17.2 is available!  To upgrade, please run:\n",
       " $ pip install wandb --upgrade"
      ]
     },
     "metadata": {},
     "output_type": "display_data"
    },
    {
     "data": {
      "text/plain": [
       "<IPython.core.display.HTML object>"
      ],
      "text/html": [
       "Tracking run with wandb version 0.17.0"
      ]
     },
     "metadata": {},
     "output_type": "display_data"
    },
    {
     "data": {
      "text/plain": [
       "<IPython.core.display.HTML object>"
      ],
      "text/html": [
       "Run data is saved locally in <code>/home/prometheus/TUDelft/cse/year3/RP/tiny-transformers/code/rafael-tokenisation/wandb/run-20240620_142714-fkrabv2v</code>"
      ]
     },
     "metadata": {},
     "output_type": "display_data"
    },
    {
     "data": {
      "text/plain": [
       "<IPython.core.display.HTML object>"
      ],
      "text/html": [
       "Resuming run <strong><a href='https://wandb.ai/tiny-transformers/tokenizers/runs/fkrabv2v' target=\"_blank\">GPT-20k-bpe-9.0M-2L-4H-348C-1024I</a></strong> to <a href='https://wandb.ai/tiny-transformers/tokenizers' target=\"_blank\">Weights & Biases</a> (<a href='https://wandb.me/run' target=\"_blank\">docs</a>)<br/>"
      ]
     },
     "metadata": {},
     "output_type": "display_data"
    },
    {
     "data": {
      "text/plain": [
       "<IPython.core.display.HTML object>"
      ],
      "text/html": [
       " View project at <a href='https://wandb.ai/tiny-transformers/tokenizers' target=\"_blank\">https://wandb.ai/tiny-transformers/tokenizers</a>"
      ]
     },
     "metadata": {},
     "output_type": "display_data"
    },
    {
     "data": {
      "text/plain": [
       "<IPython.core.display.HTML object>"
      ],
      "text/html": [
       " View run at <a href='https://wandb.ai/tiny-transformers/tokenizers/runs/fkrabv2v' target=\"_blank\">https://wandb.ai/tiny-transformers/tokenizers/runs/fkrabv2v</a>"
      ]
     },
     "metadata": {},
     "output_type": "display_data"
    },
    {
     "name": "stdout",
     "output_type": "stream",
     "text": [
      "{'model': 'GPT-20k-bpe-9.0M-2L-4H-348C-1024I', 'avg_char_per_token': 5.121830457614403}\n"
     ]
    },
    {
     "data": {
      "text/plain": [
       "VBox(children=(Label(value='0.000 MB of 0.000 MB uploaded\\r'), FloatProgress(value=1.0, max=1.0)))"
      ],
      "application/vnd.jupyter.widget-view+json": {
       "version_major": 2,
       "version_minor": 0,
       "model_id": "6d9fb106bec84d49b5dd9b4b1a7e88da"
      }
     },
     "metadata": {},
     "output_type": "display_data"
    },
    {
     "data": {
      "text/plain": [
       "<IPython.core.display.HTML object>"
      ],
      "text/html": [
       "<style>\n",
       "    table.wandb td:nth-child(1) { padding: 0 10px; text-align: left ; width: auto;} td:nth-child(2) {text-align: left ; width: 100%}\n",
       "    .wandb-row { display: flex; flex-direction: row; flex-wrap: wrap; justify-content: flex-start; width: 100% }\n",
       "    .wandb-col { display: flex; flex-direction: column; flex-basis: 100%; flex: 1; padding: 10px; }\n",
       "    </style>\n",
       "<div class=\"wandb-row\"><div class=\"wandb-col\"><h3>Run history:</h3><br/><table class=\"wandb\"><tr><td>avg_char_per_token</td><td>▁</td></tr></table><br/></div><div class=\"wandb-col\"><h3>Run summary:</h3><br/><table class=\"wandb\"><tr><td>avg_bits_per_token</td><td>41.17229</td></tr><tr><td>avg_char_per_token</td><td>5.12183</td></tr><tr><td>base_avg</td><td>0.58858</td></tr><tr><td>blimp_avg</td><td>0.57132</td></tr><tr><td>boolq</td><td>0.65422</td></tr><tr><td>cola</td><td>-0.02939</td></tr><tr><td>eval/loss</td><td>1.74626</td></tr><tr><td>eval/runtime</td><td>36.6888</td></tr><tr><td>eval/samples_per_second</td><td>599.366</td></tr><tr><td>eval/steps_per_second</td><td>37.477</td></tr><tr><td>glue_avg</td><td>0.58613</td></tr><tr><td>mnli</td><td>0.66397</td></tr><tr><td>mnli-mm</td><td>0.67489</td></tr><tr><td>model</td><td>GPT-20k-bpe-9.0M-2L-...</td></tr><tr><td>mrpc</td><td>0.73304</td></tr><tr><td>multirc</td><td>0.39485</td></tr><tr><td>qnli</td><td>0.61986</td></tr><tr><td>qqp</td><td>0.76969</td></tr><tr><td>rte</td><td>0.53535</td></tr><tr><td>sst2</td><td>0.84055</td></tr><tr><td>supp_avg</td><td>0.5299</td></tr><tr><td>total_flos</td><td>1.56355302260736e+16</td></tr><tr><td>train/epoch</td><td>0.99998</td></tr><tr><td>train/global_step</td><td>8280</td></tr><tr><td>train/grad_norm</td><td>0.67986</td></tr><tr><td>train/learning_rate</td><td>0.0</td></tr><tr><td>train/loss</td><td>1.7269</td></tr><tr><td>train_loss</td><td>1.98272</td></tr><tr><td>train_runtime</td><td>10023.1333</td></tr><tr><td>train_samples_per_second</td><td>211.483</td></tr><tr><td>train_steps_per_second</td><td>0.826</td></tr><tr><td>wsc</td><td>0.59036</td></tr></table><br/></div></div>"
      ]
     },
     "metadata": {},
     "output_type": "display_data"
    },
    {
     "data": {
      "text/plain": [
       "<IPython.core.display.HTML object>"
      ],
      "text/html": [
       " View run <strong style=\"color:#cdcd00\">GPT-20k-bpe-9.0M-2L-4H-348C-1024I</strong> at: <a href='https://wandb.ai/tiny-transformers/tokenizers/runs/fkrabv2v' target=\"_blank\">https://wandb.ai/tiny-transformers/tokenizers/runs/fkrabv2v</a><br/> View project at: <a href='https://wandb.ai/tiny-transformers/tokenizers' target=\"_blank\">https://wandb.ai/tiny-transformers/tokenizers</a><br/>Synced 4 W&B file(s), 0 media file(s), 0 artifact file(s) and 0 other file(s)"
      ]
     },
     "metadata": {},
     "output_type": "display_data"
    },
    {
     "data": {
      "text/plain": [
       "<IPython.core.display.HTML object>"
      ],
      "text/html": [
       "Find logs at: <code>./wandb/run-20240620_142714-fkrabv2v/logs</code>"
      ]
     },
     "metadata": {},
     "output_type": "display_data"
    },
    {
     "data": {
      "text/plain": [
       "VBox(children=(Label(value='Waiting for wandb.init()...\\r'), FloatProgress(value=0.011112331422433877, max=1.0…"
      ],
      "application/vnd.jupyter.widget-view+json": {
       "version_major": 2,
       "version_minor": 0,
       "model_id": "c5936b15d7c144bd8cf7f03b20be94b1"
      }
     },
     "metadata": {},
     "output_type": "display_data"
    },
    {
     "data": {
      "text/plain": [
       "<IPython.core.display.HTML object>"
      ],
      "text/html": [
       "wandb version 0.17.2 is available!  To upgrade, please run:\n",
       " $ pip install wandb --upgrade"
      ]
     },
     "metadata": {},
     "output_type": "display_data"
    },
    {
     "data": {
      "text/plain": [
       "<IPython.core.display.HTML object>"
      ],
      "text/html": [
       "Tracking run with wandb version 0.17.0"
      ]
     },
     "metadata": {},
     "output_type": "display_data"
    },
    {
     "data": {
      "text/plain": [
       "<IPython.core.display.HTML object>"
      ],
      "text/html": [
       "Run data is saved locally in <code>/home/prometheus/TUDelft/cse/year3/RP/tiny-transformers/code/rafael-tokenisation/wandb/run-20240620_142721-f08jydb8</code>"
      ]
     },
     "metadata": {},
     "output_type": "display_data"
    },
    {
     "data": {
      "text/plain": [
       "<IPython.core.display.HTML object>"
      ],
      "text/html": [
       "Resuming run <strong><a href='https://wandb.ai/tiny-transformers/tokenizers/runs/f08jydb8' target=\"_blank\">BERT-1k-wp-9.0M-2L-4H-780C-1024I</a></strong> to <a href='https://wandb.ai/tiny-transformers/tokenizers' target=\"_blank\">Weights & Biases</a> (<a href='https://wandb.me/run' target=\"_blank\">docs</a>)<br/>"
      ]
     },
     "metadata": {},
     "output_type": "display_data"
    },
    {
     "data": {
      "text/plain": [
       "<IPython.core.display.HTML object>"
      ],
      "text/html": [
       " View project at <a href='https://wandb.ai/tiny-transformers/tokenizers' target=\"_blank\">https://wandb.ai/tiny-transformers/tokenizers</a>"
      ]
     },
     "metadata": {},
     "output_type": "display_data"
    },
    {
     "data": {
      "text/plain": [
       "<IPython.core.display.HTML object>"
      ],
      "text/html": [
       " View run at <a href='https://wandb.ai/tiny-transformers/tokenizers/runs/f08jydb8' target=\"_blank\">https://wandb.ai/tiny-transformers/tokenizers/runs/f08jydb8</a>"
      ]
     },
     "metadata": {},
     "output_type": "display_data"
    },
    {
     "name": "stdout",
     "output_type": "stream",
     "text": [
      "{'model': 'BERT-1k-wp-9.0M-2L-4H-780C-1024I', 'avg_char_per_token': 2.02713567839196}\n"
     ]
    },
    {
     "data": {
      "text/plain": [
       "VBox(children=(Label(value='0.000 MB of 0.000 MB uploaded\\r'), FloatProgress(value=1.0, max=1.0)))"
      ],
      "application/vnd.jupyter.widget-view+json": {
       "version_major": 2,
       "version_minor": 0,
       "model_id": "0034af0fd4564f82b35d7e1f8cc3a842"
      }
     },
     "metadata": {},
     "output_type": "display_data"
    },
    {
     "data": {
      "text/plain": [
       "<IPython.core.display.HTML object>"
      ],
      "text/html": [
       "<style>\n",
       "    table.wandb td:nth-child(1) { padding: 0 10px; text-align: left ; width: auto;} td:nth-child(2) {text-align: left ; width: 100%}\n",
       "    .wandb-row { display: flex; flex-direction: row; flex-wrap: wrap; justify-content: flex-start; width: 100% }\n",
       "    .wandb-col { display: flex; flex-direction: column; flex-basis: 100%; flex: 1; padding: 10px; }\n",
       "    </style>\n",
       "<div class=\"wandb-row\"><div class=\"wandb-col\"><h3>Run history:</h3><br/><table class=\"wandb\"><tr><td>avg_char_per_token</td><td>▁</td></tr></table><br/></div><div class=\"wandb-col\"><h3>Run summary:</h3><br/><table class=\"wandb\"><tr><td>avg_bits_per_token</td><td>18.04221</td></tr><tr><td>avg_char_per_token</td><td>2.02714</td></tr><tr><td>base_avg</td><td>0.54389</td></tr><tr><td>blimp_avg</td><td>0.5565</td></tr><tr><td>boolq</td><td>0.60166</td></tr><tr><td>cola</td><td>-0.02077</td></tr><tr><td>eval/loss</td><td>0.40675</td></tr><tr><td>eval/runtime</td><td>31.5237</td></tr><tr><td>eval/samples_per_second</td><td>697.57</td></tr><tr><td>eval/steps_per_second</td><td>43.618</td></tr><tr><td>glue_avg</td><td>0.54642</td></tr><tr><td>mnli</td><td>0.59906</td></tr><tr><td>mnli-mm</td><td>0.61187</td></tr><tr><td>model</td><td>BERT-1k-wp-9.0M-2L-4...</td></tr><tr><td>mrpc</td><td>0.70041</td></tr><tr><td>multirc</td><td>0.3185</td></tr><tr><td>qnli</td><td>0.61855</td></tr><tr><td>qqp</td><td>0.73982</td></tr><tr><td>rte</td><td>0.40404</td></tr><tr><td>sst2</td><td>0.81102</td></tr><tr><td>supp_avg</td><td>0.58675</td></tr><tr><td>total_flos</td><td>5.659585809481728e+16</td></tr><tr><td>train/epoch</td><td>0.99998</td></tr><tr><td>train/global_step</td><td>8280</td></tr><tr><td>train/grad_norm</td><td>0.52819</td></tr><tr><td>train/learning_rate</td><td>0.0</td></tr><tr><td>train/loss</td><td>0.5208</td></tr><tr><td>train_loss</td><td>0.84905</td></tr><tr><td>train_runtime</td><td>7849.9424</td></tr><tr><td>train_samples_per_second</td><td>270.03</td></tr><tr><td>train_steps_per_second</td><td>1.055</td></tr><tr><td>wsc</td><td>0.62651</td></tr></table><br/></div></div>"
      ]
     },
     "metadata": {},
     "output_type": "display_data"
    },
    {
     "data": {
      "text/plain": [
       "<IPython.core.display.HTML object>"
      ],
      "text/html": [
       " View run <strong style=\"color:#cdcd00\">BERT-1k-wp-9.0M-2L-4H-780C-1024I</strong> at: <a href='https://wandb.ai/tiny-transformers/tokenizers/runs/f08jydb8' target=\"_blank\">https://wandb.ai/tiny-transformers/tokenizers/runs/f08jydb8</a><br/> View project at: <a href='https://wandb.ai/tiny-transformers/tokenizers' target=\"_blank\">https://wandb.ai/tiny-transformers/tokenizers</a><br/>Synced 4 W&B file(s), 0 media file(s), 0 artifact file(s) and 0 other file(s)"
      ]
     },
     "metadata": {},
     "output_type": "display_data"
    },
    {
     "data": {
      "text/plain": [
       "<IPython.core.display.HTML object>"
      ],
      "text/html": [
       "Find logs at: <code>./wandb/run-20240620_142721-f08jydb8/logs</code>"
      ]
     },
     "metadata": {},
     "output_type": "display_data"
    },
    {
     "data": {
      "text/plain": [
       "VBox(children=(Label(value='Waiting for wandb.init()...\\r'), FloatProgress(value=0.011112528933315642, max=1.0…"
      ],
      "application/vnd.jupyter.widget-view+json": {
       "version_major": 2,
       "version_minor": 0,
       "model_id": "c222c0d8b8644534889378627aeb8eff"
      }
     },
     "metadata": {},
     "output_type": "display_data"
    },
    {
     "data": {
      "text/plain": [
       "<IPython.core.display.HTML object>"
      ],
      "text/html": [
       "wandb version 0.17.2 is available!  To upgrade, please run:\n",
       " $ pip install wandb --upgrade"
      ]
     },
     "metadata": {},
     "output_type": "display_data"
    },
    {
     "data": {
      "text/plain": [
       "<IPython.core.display.HTML object>"
      ],
      "text/html": [
       "Tracking run with wandb version 0.17.0"
      ]
     },
     "metadata": {},
     "output_type": "display_data"
    },
    {
     "data": {
      "text/plain": [
       "<IPython.core.display.HTML object>"
      ],
      "text/html": [
       "Run data is saved locally in <code>/home/prometheus/TUDelft/cse/year3/RP/tiny-transformers/code/rafael-tokenisation/wandb/run-20240620_142729-kbu3rtfe</code>"
      ]
     },
     "metadata": {},
     "output_type": "display_data"
    },
    {
     "data": {
      "text/plain": [
       "<IPython.core.display.HTML object>"
      ],
      "text/html": [
       "Resuming run <strong><a href='https://wandb.ai/tiny-transformers/tokenizers/runs/kbu3rtfe' target=\"_blank\">GPT-1k-wp-9.0M-2L-4H-780C-1024I</a></strong> to <a href='https://wandb.ai/tiny-transformers/tokenizers' target=\"_blank\">Weights & Biases</a> (<a href='https://wandb.me/run' target=\"_blank\">docs</a>)<br/>"
      ]
     },
     "metadata": {},
     "output_type": "display_data"
    },
    {
     "data": {
      "text/plain": [
       "<IPython.core.display.HTML object>"
      ],
      "text/html": [
       " View project at <a href='https://wandb.ai/tiny-transformers/tokenizers' target=\"_blank\">https://wandb.ai/tiny-transformers/tokenizers</a>"
      ]
     },
     "metadata": {},
     "output_type": "display_data"
    },
    {
     "data": {
      "text/plain": [
       "<IPython.core.display.HTML object>"
      ],
      "text/html": [
       " View run at <a href='https://wandb.ai/tiny-transformers/tokenizers/runs/kbu3rtfe' target=\"_blank\">https://wandb.ai/tiny-transformers/tokenizers/runs/kbu3rtfe</a>"
      ]
     },
     "metadata": {},
     "output_type": "display_data"
    },
    {
     "name": "stdout",
     "output_type": "stream",
     "text": [
      "{'model': 'GPT-1k-wp-9.0M-2L-4H-780C-1024I', 'avg_char_per_token': 2.02713567839196}\n"
     ]
    },
    {
     "data": {
      "text/plain": [
       "VBox(children=(Label(value='0.000 MB of 0.000 MB uploaded\\r'), FloatProgress(value=1.0, max=1.0)))"
      ],
      "application/vnd.jupyter.widget-view+json": {
       "version_major": 2,
       "version_minor": 0,
       "model_id": "79ebccc1ed1c458ebeadd5eb7d38aaf3"
      }
     },
     "metadata": {},
     "output_type": "display_data"
    },
    {
     "data": {
      "text/plain": [
       "<IPython.core.display.HTML object>"
      ],
      "text/html": [
       "<style>\n",
       "    table.wandb td:nth-child(1) { padding: 0 10px; text-align: left ; width: auto;} td:nth-child(2) {text-align: left ; width: 100%}\n",
       "    .wandb-row { display: flex; flex-direction: row; flex-wrap: wrap; justify-content: flex-start; width: 100% }\n",
       "    .wandb-col { display: flex; flex-direction: column; flex-basis: 100%; flex: 1; padding: 10px; }\n",
       "    </style>\n",
       "<div class=\"wandb-row\"><div class=\"wandb-col\"><h3>Run history:</h3><br/><table class=\"wandb\"><tr><td>avg_char_per_token</td><td>▁</td></tr></table><br/></div><div class=\"wandb-col\"><h3>Run summary:</h3><br/><table class=\"wandb\"><tr><td>avg_bits_per_token</td><td>18.04221</td></tr><tr><td>avg_char_per_token</td><td>2.02714</td></tr><tr><td>base_avg</td><td>0.54712</td></tr><tr><td>blimp_avg</td><td>0.53224</td></tr><tr><td>boolq</td><td>0.60858</td></tr><tr><td>cola</td><td>0</td></tr><tr><td>eval/loss</td><td>1.20717</td></tr><tr><td>eval/runtime</td><td>28.9378</td></tr><tr><td>eval/samples_per_second</td><td>759.906</td></tr><tr><td>eval/steps_per_second</td><td>47.516</td></tr><tr><td>glue_avg</td><td>0.52978</td></tr><tr><td>mnli</td><td>0.54861</td></tr><tr><td>mnli-mm</td><td>0.54758</td></tr><tr><td>model</td><td>GPT-1k-wp-9.0M-2L-4H...</td></tr><tr><td>mrpc</td><td>0.73733</td></tr><tr><td>multirc</td><td>0.33993</td></tr><tr><td>qnli</td><td>0.59886</td></tr><tr><td>qqp</td><td>0.65262</td></tr><tr><td>rte</td><td>0.53535</td></tr><tr><td>sst2</td><td>0.71654</td></tr><tr><td>supp_avg</td><td>0.49651</td></tr><tr><td>total_flos</td><td>5.258194251153408e+16</td></tr><tr><td>train/epoch</td><td>0.99998</td></tr><tr><td>train/global_step</td><td>8280</td></tr><tr><td>train/grad_norm</td><td>0.46065</td></tr><tr><td>train/learning_rate</td><td>0.0</td></tr><tr><td>train/loss</td><td>1.208</td></tr><tr><td>train_loss</td><td>1.47245</td></tr><tr><td>train_runtime</td><td>7172.8496</td></tr><tr><td>train_samples_per_second</td><td>295.52</td></tr><tr><td>train_steps_per_second</td><td>1.154</td></tr><tr><td>wsc</td><td>0.54217</td></tr></table><br/></div></div>"
      ]
     },
     "metadata": {},
     "output_type": "display_data"
    },
    {
     "data": {
      "text/plain": [
       "<IPython.core.display.HTML object>"
      ],
      "text/html": [
       " View run <strong style=\"color:#cdcd00\">GPT-1k-wp-9.0M-2L-4H-780C-1024I</strong> at: <a href='https://wandb.ai/tiny-transformers/tokenizers/runs/kbu3rtfe' target=\"_blank\">https://wandb.ai/tiny-transformers/tokenizers/runs/kbu3rtfe</a><br/> View project at: <a href='https://wandb.ai/tiny-transformers/tokenizers' target=\"_blank\">https://wandb.ai/tiny-transformers/tokenizers</a><br/>Synced 4 W&B file(s), 0 media file(s), 0 artifact file(s) and 0 other file(s)"
      ]
     },
     "metadata": {},
     "output_type": "display_data"
    },
    {
     "data": {
      "text/plain": [
       "<IPython.core.display.HTML object>"
      ],
      "text/html": [
       "Find logs at: <code>./wandb/run-20240620_142729-kbu3rtfe/logs</code>"
      ]
     },
     "metadata": {},
     "output_type": "display_data"
    },
    {
     "data": {
      "text/plain": [
       "VBox(children=(Label(value='Waiting for wandb.init()...\\r'), FloatProgress(value=0.01111227797745313, max=1.0)…"
      ],
      "application/vnd.jupyter.widget-view+json": {
       "version_major": 2,
       "version_minor": 0,
       "model_id": "2f2da45ba63642acb16c9805a5ab6644"
      }
     },
     "metadata": {},
     "output_type": "display_data"
    },
    {
     "data": {
      "text/plain": [
       "<IPython.core.display.HTML object>"
      ],
      "text/html": [
       "wandb version 0.17.2 is available!  To upgrade, please run:\n",
       " $ pip install wandb --upgrade"
      ]
     },
     "metadata": {},
     "output_type": "display_data"
    },
    {
     "data": {
      "text/plain": [
       "<IPython.core.display.HTML object>"
      ],
      "text/html": [
       "Tracking run with wandb version 0.17.0"
      ]
     },
     "metadata": {},
     "output_type": "display_data"
    },
    {
     "data": {
      "text/plain": [
       "<IPython.core.display.HTML object>"
      ],
      "text/html": [
       "Run data is saved locally in <code>/home/prometheus/TUDelft/cse/year3/RP/tiny-transformers/code/rafael-tokenisation/wandb/run-20240620_142737-c6jpl6te</code>"
      ]
     },
     "metadata": {},
     "output_type": "display_data"
    },
    {
     "data": {
      "text/plain": [
       "<IPython.core.display.HTML object>"
      ],
      "text/html": [
       "Resuming run <strong><a href='https://wandb.ai/tiny-transformers/tokenizers/runs/c6jpl6te' target=\"_blank\">BERT-3k-wp-9.0M-2L-4H-700C-1024I</a></strong> to <a href='https://wandb.ai/tiny-transformers/tokenizers' target=\"_blank\">Weights & Biases</a> (<a href='https://wandb.me/run' target=\"_blank\">docs</a>)<br/>"
      ]
     },
     "metadata": {},
     "output_type": "display_data"
    },
    {
     "data": {
      "text/plain": [
       "<IPython.core.display.HTML object>"
      ],
      "text/html": [
       " View project at <a href='https://wandb.ai/tiny-transformers/tokenizers' target=\"_blank\">https://wandb.ai/tiny-transformers/tokenizers</a>"
      ]
     },
     "metadata": {},
     "output_type": "display_data"
    },
    {
     "data": {
      "text/plain": [
       "<IPython.core.display.HTML object>"
      ],
      "text/html": [
       " View run at <a href='https://wandb.ai/tiny-transformers/tokenizers/runs/c6jpl6te' target=\"_blank\">https://wandb.ai/tiny-transformers/tokenizers/runs/c6jpl6te</a>"
      ]
     },
     "metadata": {},
     "output_type": "display_data"
    },
    {
     "name": "stdout",
     "output_type": "stream",
     "text": [
      "{'model': 'BERT-3k-wp-9.0M-2L-4H-700C-1024I', 'avg_char_per_token': 3.3512520868113524}\n"
     ]
    },
    {
     "data": {
      "text/plain": [
       "VBox(children=(Label(value='0.000 MB of 0.000 MB uploaded\\r'), FloatProgress(value=1.0, max=1.0)))"
      ],
      "application/vnd.jupyter.widget-view+json": {
       "version_major": 2,
       "version_minor": 0,
       "model_id": "b4eff900199d40b7b5b51244194bbdea"
      }
     },
     "metadata": {},
     "output_type": "display_data"
    },
    {
     "data": {
      "text/plain": [
       "<IPython.core.display.HTML object>"
      ],
      "text/html": [
       "<style>\n",
       "    table.wandb td:nth-child(1) { padding: 0 10px; text-align: left ; width: auto;} td:nth-child(2) {text-align: left ; width: 100%}\n",
       "    .wandb-row { display: flex; flex-direction: row; flex-wrap: wrap; justify-content: flex-start; width: 100% }\n",
       "    .wandb-col { display: flex; flex-direction: column; flex-basis: 100%; flex: 1; padding: 10px; }\n",
       "    </style>\n",
       "<div class=\"wandb-row\"><div class=\"wandb-col\"><h3>Run history:</h3><br/><table class=\"wandb\"><tr><td>avg_char_per_token</td><td>▁</td></tr></table><br/></div><div class=\"wandb-col\"><h3>Run summary:</h3><br/><table class=\"wandb\"><tr><td>avg_bits_per_token</td><td>27.52855</td></tr><tr><td>avg_char_per_token</td><td>3.35125</td></tr><tr><td>base_avg</td><td>0.59811</td></tr><tr><td>blimp_avg</td><td>0.59172</td></tr><tr><td>boolq</td><td>0.61826</td></tr><tr><td>cola</td><td>0.04495</td></tr><tr><td>eval/loss</td><td>0.64476</td></tr><tr><td>eval/runtime</td><td>33.1595</td></tr><tr><td>eval/samples_per_second</td><td>663.158</td></tr><tr><td>eval/steps_per_second</td><td>41.466</td></tr><tr><td>glue_avg</td><td>0.57555</td></tr><tr><td>mnli</td><td>0.59982</td></tr><tr><td>mnli-mm</td><td>0.64799</td></tr><tr><td>model</td><td>BERT-3k-wp-9.0M-2L-4...</td></tr><tr><td>mrpc</td><td>0.68586</td></tr><tr><td>multirc</td><td>0.38385</td></tr><tr><td>qnli</td><td>0.61855</td></tr><tr><td>qqp</td><td>0.77307</td></tr><tr><td>rte</td><td>0.54545</td></tr><tr><td>sst2</td><td>0.82283</td></tr><tr><td>supp_avg</td><td>0.57639</td></tr><tr><td>total_flos</td><td>4.752433855070208e+16</td></tr><tr><td>train/epoch</td><td>0.99998</td></tr><tr><td>train/global_step</td><td>8280</td></tr><tr><td>train/grad_norm</td><td>0.6949</td></tr><tr><td>train/learning_rate</td><td>0.0</td></tr><tr><td>train/loss</td><td>0.7709</td></tr><tr><td>train_loss</td><td>1.1691</td></tr><tr><td>train_runtime</td><td>8041.0184</td></tr><tr><td>train_samples_per_second</td><td>263.613</td></tr><tr><td>train_steps_per_second</td><td>1.03</td></tr><tr><td>wsc</td><td>0.59036</td></tr></table><br/></div></div>"
      ]
     },
     "metadata": {},
     "output_type": "display_data"
    },
    {
     "data": {
      "text/plain": [
       "<IPython.core.display.HTML object>"
      ],
      "text/html": [
       " View run <strong style=\"color:#cdcd00\">BERT-3k-wp-9.0M-2L-4H-700C-1024I</strong> at: <a href='https://wandb.ai/tiny-transformers/tokenizers/runs/c6jpl6te' target=\"_blank\">https://wandb.ai/tiny-transformers/tokenizers/runs/c6jpl6te</a><br/> View project at: <a href='https://wandb.ai/tiny-transformers/tokenizers' target=\"_blank\">https://wandb.ai/tiny-transformers/tokenizers</a><br/>Synced 4 W&B file(s), 0 media file(s), 0 artifact file(s) and 0 other file(s)"
      ]
     },
     "metadata": {},
     "output_type": "display_data"
    },
    {
     "data": {
      "text/plain": [
       "<IPython.core.display.HTML object>"
      ],
      "text/html": [
       "Find logs at: <code>./wandb/run-20240620_142737-c6jpl6te/logs</code>"
      ]
     },
     "metadata": {},
     "output_type": "display_data"
    },
    {
     "data": {
      "text/plain": [
       "VBox(children=(Label(value='Waiting for wandb.init()...\\r'), FloatProgress(value=0.011112217299847139, max=1.0…"
      ],
      "application/vnd.jupyter.widget-view+json": {
       "version_major": 2,
       "version_minor": 0,
       "model_id": "0dd9f3448eba463db33f6cb03682d7a7"
      }
     },
     "metadata": {},
     "output_type": "display_data"
    },
    {
     "data": {
      "text/plain": [
       "<IPython.core.display.HTML object>"
      ],
      "text/html": [
       "wandb version 0.17.2 is available!  To upgrade, please run:\n",
       " $ pip install wandb --upgrade"
      ]
     },
     "metadata": {},
     "output_type": "display_data"
    },
    {
     "data": {
      "text/plain": [
       "<IPython.core.display.HTML object>"
      ],
      "text/html": [
       "Tracking run with wandb version 0.17.0"
      ]
     },
     "metadata": {},
     "output_type": "display_data"
    },
    {
     "data": {
      "text/plain": [
       "<IPython.core.display.HTML object>"
      ],
      "text/html": [
       "Run data is saved locally in <code>/home/prometheus/TUDelft/cse/year3/RP/tiny-transformers/code/rafael-tokenisation/wandb/run-20240620_142745-jfvrl8a9</code>"
      ]
     },
     "metadata": {},
     "output_type": "display_data"
    },
    {
     "data": {
      "text/plain": [
       "<IPython.core.display.HTML object>"
      ],
      "text/html": [
       "Resuming run <strong><a href='https://wandb.ai/tiny-transformers/tokenizers/runs/jfvrl8a9' target=\"_blank\">GPT-3k-wp-9.0M-2L-4H-700C-1024I</a></strong> to <a href='https://wandb.ai/tiny-transformers/tokenizers' target=\"_blank\">Weights & Biases</a> (<a href='https://wandb.me/run' target=\"_blank\">docs</a>)<br/>"
      ]
     },
     "metadata": {},
     "output_type": "display_data"
    },
    {
     "data": {
      "text/plain": [
       "<IPython.core.display.HTML object>"
      ],
      "text/html": [
       " View project at <a href='https://wandb.ai/tiny-transformers/tokenizers' target=\"_blank\">https://wandb.ai/tiny-transformers/tokenizers</a>"
      ]
     },
     "metadata": {},
     "output_type": "display_data"
    },
    {
     "data": {
      "text/plain": [
       "<IPython.core.display.HTML object>"
      ],
      "text/html": [
       " View run at <a href='https://wandb.ai/tiny-transformers/tokenizers/runs/jfvrl8a9' target=\"_blank\">https://wandb.ai/tiny-transformers/tokenizers/runs/jfvrl8a9</a>"
      ]
     },
     "metadata": {},
     "output_type": "display_data"
    },
    {
     "name": "stdout",
     "output_type": "stream",
     "text": [
      "{'model': 'GPT-3k-wp-9.0M-2L-4H-700C-1024I', 'avg_char_per_token': 3.3512520868113524}\n"
     ]
    },
    {
     "data": {
      "text/plain": [
       "VBox(children=(Label(value='0.000 MB of 0.000 MB uploaded\\r'), FloatProgress(value=1.0, max=1.0)))"
      ],
      "application/vnd.jupyter.widget-view+json": {
       "version_major": 2,
       "version_minor": 0,
       "model_id": "36be0b8931e540b380d835ae461f2e6d"
      }
     },
     "metadata": {},
     "output_type": "display_data"
    },
    {
     "data": {
      "text/plain": [
       "<IPython.core.display.HTML object>"
      ],
      "text/html": [
       "<style>\n",
       "    table.wandb td:nth-child(1) { padding: 0 10px; text-align: left ; width: auto;} td:nth-child(2) {text-align: left ; width: 100%}\n",
       "    .wandb-row { display: flex; flex-direction: row; flex-wrap: wrap; justify-content: flex-start; width: 100% }\n",
       "    .wandb-col { display: flex; flex-direction: column; flex-basis: 100%; flex: 1; padding: 10px; }\n",
       "    </style>\n",
       "<div class=\"wandb-row\"><div class=\"wandb-col\"><h3>Run history:</h3><br/><table class=\"wandb\"><tr><td>avg_char_per_token</td><td>▁</td></tr></table><br/></div><div class=\"wandb-col\"><h3>Run summary:</h3><br/><table class=\"wandb\"><tr><td>avg_bits_per_token</td><td>27.52855</td></tr><tr><td>avg_char_per_token</td><td>3.35125</td></tr><tr><td>base_avg</td><td>0.56019</td></tr><tr><td>blimp_avg</td><td>0.55397</td></tr><tr><td>boolq</td><td>0.63485</td></tr><tr><td>cola</td><td>0.00667</td></tr><tr><td>eval/loss</td><td>1.40371</td></tr><tr><td>eval/runtime</td><td>31.9897</td></tr><tr><td>eval/samples_per_second</td><td>687.408</td></tr><tr><td>eval/steps_per_second</td><td>42.983</td></tr><tr><td>glue_avg</td><td>0.5745</td></tr><tr><td>mnli</td><td>0.637</td></tr><tr><td>mnli-mm</td><td>0.66088</td></tr><tr><td>model</td><td>GPT-3k-wp-9.0M-2L-4H...</td></tr><tr><td>mrpc</td><td>0.73654</td></tr><tr><td>multirc</td><td>0.32068</td></tr><tr><td>qnli</td><td>0.63298</td></tr><tr><td>qqp</td><td>0.77278</td></tr><tr><td>rte</td><td>0.57576</td></tr><tr><td>sst2</td><td>0.79921</td></tr><tr><td>supp_avg</td><td>0.53904</td></tr><tr><td>total_flos</td><td>4.427306823057408e+16</td></tr><tr><td>train/epoch</td><td>0.99998</td></tr><tr><td>train/global_step</td><td>8280</td></tr><tr><td>train/grad_norm</td><td>0.54011</td></tr><tr><td>train/learning_rate</td><td>0.0</td></tr><tr><td>train/loss</td><td>1.393</td></tr><tr><td>train_loss</td><td>1.66794</td></tr><tr><td>train_runtime</td><td>7873.3384</td></tr><tr><td>train_samples_per_second</td><td>269.227</td></tr><tr><td>train_steps_per_second</td><td>1.052</td></tr><tr><td>wsc</td><td>0.54217</td></tr></table><br/></div></div>"
      ]
     },
     "metadata": {},
     "output_type": "display_data"
    },
    {
     "data": {
      "text/plain": [
       "<IPython.core.display.HTML object>"
      ],
      "text/html": [
       " View run <strong style=\"color:#cdcd00\">GPT-3k-wp-9.0M-2L-4H-700C-1024I</strong> at: <a href='https://wandb.ai/tiny-transformers/tokenizers/runs/jfvrl8a9' target=\"_blank\">https://wandb.ai/tiny-transformers/tokenizers/runs/jfvrl8a9</a><br/> View project at: <a href='https://wandb.ai/tiny-transformers/tokenizers' target=\"_blank\">https://wandb.ai/tiny-transformers/tokenizers</a><br/>Synced 4 W&B file(s), 0 media file(s), 0 artifact file(s) and 0 other file(s)"
      ]
     },
     "metadata": {},
     "output_type": "display_data"
    },
    {
     "data": {
      "text/plain": [
       "<IPython.core.display.HTML object>"
      ],
      "text/html": [
       "Find logs at: <code>./wandb/run-20240620_142745-jfvrl8a9/logs</code>"
      ]
     },
     "metadata": {},
     "output_type": "display_data"
    },
    {
     "data": {
      "text/plain": [
       "VBox(children=(Label(value='Waiting for wandb.init()...\\r'), FloatProgress(value=0.01111368380047174, max=1.0)…"
      ],
      "application/vnd.jupyter.widget-view+json": {
       "version_major": 2,
       "version_minor": 0,
       "model_id": "db965116c7c94fc1b76c9c7960f5ee5f"
      }
     },
     "metadata": {},
     "output_type": "display_data"
    },
    {
     "data": {
      "text/plain": [
       "<IPython.core.display.HTML object>"
      ],
      "text/html": [
       "wandb version 0.17.2 is available!  To upgrade, please run:\n",
       " $ pip install wandb --upgrade"
      ]
     },
     "metadata": {},
     "output_type": "display_data"
    },
    {
     "data": {
      "text/plain": [
       "<IPython.core.display.HTML object>"
      ],
      "text/html": [
       "Tracking run with wandb version 0.17.0"
      ]
     },
     "metadata": {},
     "output_type": "display_data"
    },
    {
     "data": {
      "text/plain": [
       "<IPython.core.display.HTML object>"
      ],
      "text/html": [
       "Run data is saved locally in <code>/home/prometheus/TUDelft/cse/year3/RP/tiny-transformers/code/rafael-tokenisation/wandb/run-20240620_142752-zf0yveeu</code>"
      ]
     },
     "metadata": {},
     "output_type": "display_data"
    },
    {
     "data": {
      "text/plain": [
       "<IPython.core.display.HTML object>"
      ],
      "text/html": [
       "Resuming run <strong><a href='https://wandb.ai/tiny-transformers/tokenizers/runs/zf0yveeu' target=\"_blank\">BERT-6k-wp-9.0M-2L-4H-604C-1024I</a></strong> to <a href='https://wandb.ai/tiny-transformers/tokenizers' target=\"_blank\">Weights & Biases</a> (<a href='https://wandb.me/run' target=\"_blank\">docs</a>)<br/>"
      ]
     },
     "metadata": {},
     "output_type": "display_data"
    },
    {
     "data": {
      "text/plain": [
       "<IPython.core.display.HTML object>"
      ],
      "text/html": [
       " View project at <a href='https://wandb.ai/tiny-transformers/tokenizers' target=\"_blank\">https://wandb.ai/tiny-transformers/tokenizers</a>"
      ]
     },
     "metadata": {},
     "output_type": "display_data"
    },
    {
     "data": {
      "text/plain": [
       "<IPython.core.display.HTML object>"
      ],
      "text/html": [
       " View run at <a href='https://wandb.ai/tiny-transformers/tokenizers/runs/zf0yveeu' target=\"_blank\">https://wandb.ai/tiny-transformers/tokenizers/runs/zf0yveeu</a>"
      ]
     },
     "metadata": {},
     "output_type": "display_data"
    },
    {
     "name": "stdout",
     "output_type": "stream",
     "text": [
      "{'model': 'BERT-6k-wp-9.0M-2L-4H-604C-1024I', 'avg_char_per_token': 4.074061718098416}\n"
     ]
    },
    {
     "data": {
      "text/plain": [
       "VBox(children=(Label(value='0.000 MB of 0.000 MB uploaded\\r'), FloatProgress(value=1.0, max=1.0)))"
      ],
      "application/vnd.jupyter.widget-view+json": {
       "version_major": 2,
       "version_minor": 0,
       "model_id": "ec9b6e5c035e43578277546a1af268a5"
      }
     },
     "metadata": {},
     "output_type": "display_data"
    },
    {
     "data": {
      "text/plain": [
       "<IPython.core.display.HTML object>"
      ],
      "text/html": [
       "<style>\n",
       "    table.wandb td:nth-child(1) { padding: 0 10px; text-align: left ; width: auto;} td:nth-child(2) {text-align: left ; width: 100%}\n",
       "    .wandb-row { display: flex; flex-direction: row; flex-wrap: wrap; justify-content: flex-start; width: 100% }\n",
       "    .wandb-col { display: flex; flex-direction: column; flex-basis: 100%; flex: 1; padding: 10px; }\n",
       "    </style>\n",
       "<div class=\"wandb-row\"><div class=\"wandb-col\"><h3>Run history:</h3><br/><table class=\"wandb\"><tr><td>avg_char_per_token</td><td>▁</td></tr></table><br/></div><div class=\"wandb-col\"><h3>Run summary:</h3><br/><table class=\"wandb\"><tr><td>avg_bits_per_token</td><td>33.00083</td></tr><tr><td>avg_char_per_token</td><td>4.07406</td></tr><tr><td>base_avg</td><td>0.60658</td></tr><tr><td>blimp_avg</td><td>0.59849</td></tr><tr><td>boolq</td><td>0.65284</td></tr><tr><td>cola</td><td>0</td></tr><tr><td>eval/loss</td><td>0.79087</td></tr><tr><td>eval/runtime</td><td>32.9745</td></tr><tr><td>eval/samples_per_second</td><td>666.88</td></tr><tr><td>eval/steps_per_second</td><td>41.699</td></tr><tr><td>glue_avg</td><td>0.59821</td></tr><tr><td>mnli</td><td>0.66093</td></tr><tr><td>mnli-mm</td><td>0.67791</td></tr><tr><td>model</td><td>BERT-6k-wp-9.0M-2L-4...</td></tr><tr><td>mrpc</td><td>0.69753</td></tr><tr><td>multirc</td><td>0.34167</td></tr><tr><td>qnli</td><td>0.74891</td></tr><tr><td>qqp</td><td>0.80156</td></tr><tr><td>rte</td><td>0.55556</td></tr><tr><td>sst2</td><td>0.81693</td></tr><tr><td>supp_avg</td><td>0.57906</td></tr><tr><td>total_flos</td><td>3.763261069590528e+16</td></tr><tr><td>train/epoch</td><td>0.99998</td></tr><tr><td>train/global_step</td><td>8280</td></tr><tr><td>train/grad_norm</td><td>0.76793</td></tr><tr><td>train/learning_rate</td><td>0.0</td></tr><tr><td>train/loss</td><td>0.9414</td></tr><tr><td>train_loss</td><td>1.3747</td></tr><tr><td>train_runtime</td><td>8824.1067</td></tr><tr><td>train_samples_per_second</td><td>240.219</td></tr><tr><td>train_steps_per_second</td><td>0.938</td></tr><tr><td>wsc</td><td>0.62651</td></tr></table><br/></div></div>"
      ]
     },
     "metadata": {},
     "output_type": "display_data"
    },
    {
     "data": {
      "text/plain": [
       "<IPython.core.display.HTML object>"
      ],
      "text/html": [
       " View run <strong style=\"color:#cdcd00\">BERT-6k-wp-9.0M-2L-4H-604C-1024I</strong> at: <a href='https://wandb.ai/tiny-transformers/tokenizers/runs/zf0yveeu' target=\"_blank\">https://wandb.ai/tiny-transformers/tokenizers/runs/zf0yveeu</a><br/> View project at: <a href='https://wandb.ai/tiny-transformers/tokenizers' target=\"_blank\">https://wandb.ai/tiny-transformers/tokenizers</a><br/>Synced 4 W&B file(s), 0 media file(s), 0 artifact file(s) and 0 other file(s)"
      ]
     },
     "metadata": {},
     "output_type": "display_data"
    },
    {
     "data": {
      "text/plain": [
       "<IPython.core.display.HTML object>"
      ],
      "text/html": [
       "Find logs at: <code>./wandb/run-20240620_142752-zf0yveeu/logs</code>"
      ]
     },
     "metadata": {},
     "output_type": "display_data"
    },
    {
     "data": {
      "text/plain": [
       "VBox(children=(Label(value='Waiting for wandb.init()...\\r'), FloatProgress(value=0.011112060066726473, max=1.0…"
      ],
      "application/vnd.jupyter.widget-view+json": {
       "version_major": 2,
       "version_minor": 0,
       "model_id": "a313ec3957b34aa59f7ee6aaf4e79092"
      }
     },
     "metadata": {},
     "output_type": "display_data"
    },
    {
     "data": {
      "text/plain": [
       "<IPython.core.display.HTML object>"
      ],
      "text/html": [
       "wandb version 0.17.2 is available!  To upgrade, please run:\n",
       " $ pip install wandb --upgrade"
      ]
     },
     "metadata": {},
     "output_type": "display_data"
    },
    {
     "data": {
      "text/plain": [
       "<IPython.core.display.HTML object>"
      ],
      "text/html": [
       "Tracking run with wandb version 0.17.0"
      ]
     },
     "metadata": {},
     "output_type": "display_data"
    },
    {
     "data": {
      "text/plain": [
       "<IPython.core.display.HTML object>"
      ],
      "text/html": [
       "Run data is saved locally in <code>/home/prometheus/TUDelft/cse/year3/RP/tiny-transformers/code/rafael-tokenisation/wandb/run-20240620_142800-3f4bmnz5</code>"
      ]
     },
     "metadata": {},
     "output_type": "display_data"
    },
    {
     "data": {
      "text/plain": [
       "<IPython.core.display.HTML object>"
      ],
      "text/html": [
       "Resuming run <strong><a href='https://wandb.ai/tiny-transformers/tokenizers/runs/3f4bmnz5' target=\"_blank\">GPT-6k-wp-9.0M-2L-4H-604C-1024I</a></strong> to <a href='https://wandb.ai/tiny-transformers/tokenizers' target=\"_blank\">Weights & Biases</a> (<a href='https://wandb.me/run' target=\"_blank\">docs</a>)<br/>"
      ]
     },
     "metadata": {},
     "output_type": "display_data"
    },
    {
     "data": {
      "text/plain": [
       "<IPython.core.display.HTML object>"
      ],
      "text/html": [
       " View project at <a href='https://wandb.ai/tiny-transformers/tokenizers' target=\"_blank\">https://wandb.ai/tiny-transformers/tokenizers</a>"
      ]
     },
     "metadata": {},
     "output_type": "display_data"
    },
    {
     "data": {
      "text/plain": [
       "<IPython.core.display.HTML object>"
      ],
      "text/html": [
       " View run at <a href='https://wandb.ai/tiny-transformers/tokenizers/runs/3f4bmnz5' target=\"_blank\">https://wandb.ai/tiny-transformers/tokenizers/runs/3f4bmnz5</a>"
      ]
     },
     "metadata": {},
     "output_type": "display_data"
    },
    {
     "name": "stdout",
     "output_type": "stream",
     "text": [
      "{'model': 'GPT-6k-wp-9.0M-2L-4H-604C-1024I', 'avg_char_per_token': 4.074061718098416}\n"
     ]
    },
    {
     "data": {
      "text/plain": [
       "VBox(children=(Label(value='0.000 MB of 0.000 MB uploaded\\r'), FloatProgress(value=1.0, max=1.0)))"
      ],
      "application/vnd.jupyter.widget-view+json": {
       "version_major": 2,
       "version_minor": 0,
       "model_id": "9116df4388cf46ca9045a4e7323d5cb9"
      }
     },
     "metadata": {},
     "output_type": "display_data"
    },
    {
     "data": {
      "text/plain": [
       "<IPython.core.display.HTML object>"
      ],
      "text/html": [
       "<style>\n",
       "    table.wandb td:nth-child(1) { padding: 0 10px; text-align: left ; width: auto;} td:nth-child(2) {text-align: left ; width: 100%}\n",
       "    .wandb-row { display: flex; flex-direction: row; flex-wrap: wrap; justify-content: flex-start; width: 100% }\n",
       "    .wandb-col { display: flex; flex-direction: column; flex-basis: 100%; flex: 1; padding: 10px; }\n",
       "    </style>\n",
       "<div class=\"wandb-row\"><div class=\"wandb-col\"><h3>Run history:</h3><br/><table class=\"wandb\"><tr><td>avg_char_per_token</td><td>▁</td></tr></table><br/></div><div class=\"wandb-col\"><h3>Run summary:</h3><br/><table class=\"wandb\"><tr><td>avg_bits_per_token</td><td>33.00083</td></tr><tr><td>avg_char_per_token</td><td>4.07406</td></tr><tr><td>base_avg</td><td>0.55827</td></tr><tr><td>blimp_avg</td><td>0.54854</td></tr><tr><td>boolq</td><td>0.66252</td></tr><tr><td>cola</td><td>0.04391</td></tr><tr><td>eval/loss</td><td>1.49587</td></tr><tr><td>eval/runtime</td><td>31.8768</td></tr><tr><td>eval/samples_per_second</td><td>689.843</td></tr><tr><td>eval/steps_per_second</td><td>43.135</td></tr><tr><td>glue_avg</td><td>0.60882</td></tr><tr><td>mnli</td><td>0.669</td></tr><tr><td>mnli-mm</td><td>0.67887</td></tr><tr><td>model</td><td>GPT-6k-wp-9.0M-2L-4H...</td></tr><tr><td>mrpc</td><td>0.72547</td></tr><tr><td>multirc</td><td>0.41361</td></tr><tr><td>qnli</td><td>0.74628</td></tr><tr><td>qqp</td><td>0.79053</td></tr><tr><td>rte</td><td>0.56566</td></tr><tr><td>sst2</td><td>0.82283</td></tr><tr><td>supp_avg</td><td>0.52519</td></tr><tr><td>total_flos</td><td>3.518258674139136e+16</td></tr><tr><td>train/epoch</td><td>0.99998</td></tr><tr><td>train/global_step</td><td>8280</td></tr><tr><td>train/grad_norm</td><td>0.56565</td></tr><tr><td>train/learning_rate</td><td>0.0</td></tr><tr><td>train/loss</td><td>1.4793</td></tr><tr><td>train_loss</td><td>1.7356</td></tr><tr><td>train_runtime</td><td>8781.4873</td></tr><tr><td>train_samples_per_second</td><td>241.385</td></tr><tr><td>train_steps_per_second</td><td>0.943</td></tr><tr><td>wsc</td><td>0.57831</td></tr></table><br/></div></div>"
      ]
     },
     "metadata": {},
     "output_type": "display_data"
    },
    {
     "data": {
      "text/plain": [
       "<IPython.core.display.HTML object>"
      ],
      "text/html": [
       " View run <strong style=\"color:#cdcd00\">GPT-6k-wp-9.0M-2L-4H-604C-1024I</strong> at: <a href='https://wandb.ai/tiny-transformers/tokenizers/runs/3f4bmnz5' target=\"_blank\">https://wandb.ai/tiny-transformers/tokenizers/runs/3f4bmnz5</a><br/> View project at: <a href='https://wandb.ai/tiny-transformers/tokenizers' target=\"_blank\">https://wandb.ai/tiny-transformers/tokenizers</a><br/>Synced 4 W&B file(s), 0 media file(s), 0 artifact file(s) and 0 other file(s)"
      ]
     },
     "metadata": {},
     "output_type": "display_data"
    },
    {
     "data": {
      "text/plain": [
       "<IPython.core.display.HTML object>"
      ],
      "text/html": [
       "Find logs at: <code>./wandb/run-20240620_142800-3f4bmnz5/logs</code>"
      ]
     },
     "metadata": {},
     "output_type": "display_data"
    },
    {
     "data": {
      "text/plain": [
       "VBox(children=(Label(value='Waiting for wandb.init()...\\r'), FloatProgress(value=0.01111262709988902, max=1.0)…"
      ],
      "application/vnd.jupyter.widget-view+json": {
       "version_major": 2,
       "version_minor": 0,
       "model_id": "dbcf7594b277478eaca28cb37f789a99"
      }
     },
     "metadata": {},
     "output_type": "display_data"
    },
    {
     "data": {
      "text/plain": [
       "<IPython.core.display.HTML object>"
      ],
      "text/html": [
       "wandb version 0.17.2 is available!  To upgrade, please run:\n",
       " $ pip install wandb --upgrade"
      ]
     },
     "metadata": {},
     "output_type": "display_data"
    },
    {
     "data": {
      "text/plain": [
       "<IPython.core.display.HTML object>"
      ],
      "text/html": [
       "Tracking run with wandb version 0.17.0"
      ]
     },
     "metadata": {},
     "output_type": "display_data"
    },
    {
     "data": {
      "text/plain": [
       "<IPython.core.display.HTML object>"
      ],
      "text/html": [
       "Run data is saved locally in <code>/home/prometheus/TUDelft/cse/year3/RP/tiny-transformers/code/rafael-tokenisation/wandb/run-20240620_142808-88xyh1i1</code>"
      ]
     },
     "metadata": {},
     "output_type": "display_data"
    },
    {
     "data": {
      "text/plain": [
       "<IPython.core.display.HTML object>"
      ],
      "text/html": [
       "Resuming run <strong><a href='https://wandb.ai/tiny-transformers/tokenizers/runs/88xyh1i1' target=\"_blank\">BERT-10k-wp-9.0M-2L-4H-516C-1024I</a></strong> to <a href='https://wandb.ai/tiny-transformers/tokenizers' target=\"_blank\">Weights & Biases</a> (<a href='https://wandb.me/run' target=\"_blank\">docs</a>)<br/>"
      ]
     },
     "metadata": {},
     "output_type": "display_data"
    },
    {
     "data": {
      "text/plain": [
       "<IPython.core.display.HTML object>"
      ],
      "text/html": [
       " View project at <a href='https://wandb.ai/tiny-transformers/tokenizers' target=\"_blank\">https://wandb.ai/tiny-transformers/tokenizers</a>"
      ]
     },
     "metadata": {},
     "output_type": "display_data"
    },
    {
     "data": {
      "text/plain": [
       "<IPython.core.display.HTML object>"
      ],
      "text/html": [
       " View run at <a href='https://wandb.ai/tiny-transformers/tokenizers/runs/88xyh1i1' target=\"_blank\">https://wandb.ai/tiny-transformers/tokenizers/runs/88xyh1i1</a>"
      ]
     },
     "metadata": {},
     "output_type": "display_data"
    },
    {
     "name": "stdout",
     "output_type": "stream",
     "text": [
      "{'model': 'BERT-10k-wp-9.0M-2L-4H-516C-1024I', 'avg_char_per_token': 4.527863931965983}\n"
     ]
    },
    {
     "data": {
      "text/plain": [
       "VBox(children=(Label(value='0.000 MB of 0.000 MB uploaded\\r'), FloatProgress(value=1.0, max=1.0)))"
      ],
      "application/vnd.jupyter.widget-view+json": {
       "version_major": 2,
       "version_minor": 0,
       "model_id": "b06c9f4f86fd43018bc131766d471c08"
      }
     },
     "metadata": {},
     "output_type": "display_data"
    },
    {
     "data": {
      "text/plain": [
       "<IPython.core.display.HTML object>"
      ],
      "text/html": [
       "<style>\n",
       "    table.wandb td:nth-child(1) { padding: 0 10px; text-align: left ; width: auto;} td:nth-child(2) {text-align: left ; width: 100%}\n",
       "    .wandb-row { display: flex; flex-direction: row; flex-wrap: wrap; justify-content: flex-start; width: 100% }\n",
       "    .wandb-col { display: flex; flex-direction: column; flex-basis: 100%; flex: 1; padding: 10px; }\n",
       "    </style>\n",
       "<div class=\"wandb-row\"><div class=\"wandb-col\"><h3>Run history:</h3><br/><table class=\"wandb\"><tr><td>avg_char_per_token</td><td>▁</td></tr></table><br/></div><div class=\"wandb-col\"><h3>Run summary:</h3><br/><table class=\"wandb\"><tr><td>avg_bits_per_token</td><td>36.52146</td></tr><tr><td>avg_char_per_token</td><td>4.52786</td></tr><tr><td>base_avg</td><td>0.61638</td></tr><tr><td>blimp_avg</td><td>0.59966</td></tr><tr><td>boolq</td><td>0.66667</td></tr><tr><td>cola</td><td>0</td></tr><tr><td>eval/loss</td><td>0.90275</td></tr><tr><td>eval/runtime</td><td>34.9838</td></tr><tr><td>eval/samples_per_second</td><td>628.577</td></tr><tr><td>eval/steps_per_second</td><td>39.304</td></tr><tr><td>glue_avg</td><td>0.58582</td></tr><tr><td>mnli</td><td>0.63731</td></tr><tr><td>mnli-mm</td><td>0.65436</td></tr><tr><td>model</td><td>BERT-10k-wp-9.0M-2L-...</td></tr><tr><td>mrpc</td><td>0.70743</td></tr><tr><td>multirc</td><td>0.3983</td></tr><tr><td>qnli</td><td>0.63167</td></tr><tr><td>qqp</td><td>0.78228</td></tr><tr><td>rte</td><td>0.51515</td></tr><tr><td>sst2</td><td>0.84843</td></tr><tr><td>supp_avg</td><td>0.55952</td></tr><tr><td>total_flos</td><td>2.952226381234176e+16</td></tr><tr><td>train/epoch</td><td>0.99998</td></tr><tr><td>train/global_step</td><td>8280</td></tr><tr><td>train/grad_norm</td><td>0.78517</td></tr><tr><td>train/learning_rate</td><td>0.0</td></tr><tr><td>train/loss</td><td>1.0492</td></tr><tr><td>train_loss</td><td>1.54265</td></tr><tr><td>train_runtime</td><td>8699.2483</td></tr><tr><td>train_samples_per_second</td><td>243.667</td></tr><tr><td>train_steps_per_second</td><td>0.952</td></tr><tr><td>wsc</td><td>0.60241</td></tr></table><br/></div></div>"
      ]
     },
     "metadata": {},
     "output_type": "display_data"
    },
    {
     "data": {
      "text/plain": [
       "<IPython.core.display.HTML object>"
      ],
      "text/html": [
       " View run <strong style=\"color:#cdcd00\">BERT-10k-wp-9.0M-2L-4H-516C-1024I</strong> at: <a href='https://wandb.ai/tiny-transformers/tokenizers/runs/88xyh1i1' target=\"_blank\">https://wandb.ai/tiny-transformers/tokenizers/runs/88xyh1i1</a><br/> View project at: <a href='https://wandb.ai/tiny-transformers/tokenizers' target=\"_blank\">https://wandb.ai/tiny-transformers/tokenizers</a><br/>Synced 4 W&B file(s), 0 media file(s), 0 artifact file(s) and 0 other file(s)"
      ]
     },
     "metadata": {},
     "output_type": "display_data"
    },
    {
     "data": {
      "text/plain": [
       "<IPython.core.display.HTML object>"
      ],
      "text/html": [
       "Find logs at: <code>./wandb/run-20240620_142808-88xyh1i1/logs</code>"
      ]
     },
     "metadata": {},
     "output_type": "display_data"
    },
    {
     "data": {
      "text/plain": [
       "VBox(children=(Label(value='Waiting for wandb.init()...\\r'), FloatProgress(value=0.011112000722075917, max=1.0…"
      ],
      "application/vnd.jupyter.widget-view+json": {
       "version_major": 2,
       "version_minor": 0,
       "model_id": "40497ec8a23a499ebf98a6dcfbe19537"
      }
     },
     "metadata": {},
     "output_type": "display_data"
    },
    {
     "data": {
      "text/plain": [
       "<IPython.core.display.HTML object>"
      ],
      "text/html": [
       "wandb version 0.17.2 is available!  To upgrade, please run:\n",
       " $ pip install wandb --upgrade"
      ]
     },
     "metadata": {},
     "output_type": "display_data"
    },
    {
     "data": {
      "text/plain": [
       "<IPython.core.display.HTML object>"
      ],
      "text/html": [
       "Tracking run with wandb version 0.17.0"
      ]
     },
     "metadata": {},
     "output_type": "display_data"
    },
    {
     "data": {
      "text/plain": [
       "<IPython.core.display.HTML object>"
      ],
      "text/html": [
       "Run data is saved locally in <code>/home/prometheus/TUDelft/cse/year3/RP/tiny-transformers/code/rafael-tokenisation/wandb/run-20240620_142815-3s80vnmy</code>"
      ]
     },
     "metadata": {},
     "output_type": "display_data"
    },
    {
     "data": {
      "text/plain": [
       "<IPython.core.display.HTML object>"
      ],
      "text/html": [
       "Resuming run <strong><a href='https://wandb.ai/tiny-transformers/tokenizers/runs/3s80vnmy' target=\"_blank\">GPT-10k-wp-9.0M-2L-4H-516C-1024I</a></strong> to <a href='https://wandb.ai/tiny-transformers/tokenizers' target=\"_blank\">Weights & Biases</a> (<a href='https://wandb.me/run' target=\"_blank\">docs</a>)<br/>"
      ]
     },
     "metadata": {},
     "output_type": "display_data"
    },
    {
     "data": {
      "text/plain": [
       "<IPython.core.display.HTML object>"
      ],
      "text/html": [
       " View project at <a href='https://wandb.ai/tiny-transformers/tokenizers' target=\"_blank\">https://wandb.ai/tiny-transformers/tokenizers</a>"
      ]
     },
     "metadata": {},
     "output_type": "display_data"
    },
    {
     "data": {
      "text/plain": [
       "<IPython.core.display.HTML object>"
      ],
      "text/html": [
       " View run at <a href='https://wandb.ai/tiny-transformers/tokenizers/runs/3s80vnmy' target=\"_blank\">https://wandb.ai/tiny-transformers/tokenizers/runs/3s80vnmy</a>"
      ]
     },
     "metadata": {},
     "output_type": "display_data"
    },
    {
     "name": "stdout",
     "output_type": "stream",
     "text": [
      "{'model': 'GPT-10k-wp-9.0M-2L-4H-516C-1024I', 'avg_char_per_token': 4.527863931965983}\n"
     ]
    },
    {
     "data": {
      "text/plain": [
       "VBox(children=(Label(value='0.000 MB of 0.000 MB uploaded\\r'), FloatProgress(value=1.0, max=1.0)))"
      ],
      "application/vnd.jupyter.widget-view+json": {
       "version_major": 2,
       "version_minor": 0,
       "model_id": "832f61529b4748e298ef45082a545eec"
      }
     },
     "metadata": {},
     "output_type": "display_data"
    },
    {
     "data": {
      "text/plain": [
       "<IPython.core.display.HTML object>"
      ],
      "text/html": [
       "<style>\n",
       "    table.wandb td:nth-child(1) { padding: 0 10px; text-align: left ; width: auto;} td:nth-child(2) {text-align: left ; width: 100%}\n",
       "    .wandb-row { display: flex; flex-direction: row; flex-wrap: wrap; justify-content: flex-start; width: 100% }\n",
       "    .wandb-col { display: flex; flex-direction: column; flex-basis: 100%; flex: 1; padding: 10px; }\n",
       "    </style>\n",
       "<div class=\"wandb-row\"><div class=\"wandb-col\"><h3>Run history:</h3><br/><table class=\"wandb\"><tr><td>avg_char_per_token</td><td>▁</td></tr></table><br/></div><div class=\"wandb-col\"><h3>Run summary:</h3><br/><table class=\"wandb\"><tr><td>avg_bits_per_token</td><td>36.52146</td></tr><tr><td>avg_char_per_token</td><td>4.52786</td></tr><tr><td>base_avg</td><td>0.58556</td></tr><tr><td>blimp_avg</td><td>0.57561</td></tr><tr><td>boolq</td><td>0.65422</td></tr><tr><td>cola</td><td>0.00332</td></tr><tr><td>eval/loss</td><td>1.558</td></tr><tr><td>eval/runtime</td><td>34.7721</td></tr><tr><td>eval/samples_per_second</td><td>632.403</td></tr><tr><td>eval/steps_per_second</td><td>39.543</td></tr><tr><td>glue_avg</td><td>0.59722</td></tr><tr><td>mnli</td><td>0.67266</td></tr><tr><td>mnli-mm</td><td>0.66343</td></tr><tr><td>model</td><td>GPT-10k-wp-9.0M-2L-4...</td></tr><tr><td>mrpc</td><td>0.71943</td></tr><tr><td>multirc</td><td>0.35506</td></tr><tr><td>qnli</td><td>0.7301</td></tr><tr><td>qqp</td><td>0.79822</td></tr><tr><td>rte</td><td>0.56566</td></tr><tr><td>sst2</td><td>0.81693</td></tr><tr><td>supp_avg</td><td>0.55173</td></tr><tr><td>total_flos</td><td>2.769313937227776e+16</td></tr><tr><td>train/epoch</td><td>0.99998</td></tr><tr><td>train/global_step</td><td>8280</td></tr><tr><td>train/grad_norm</td><td>0.58834</td></tr><tr><td>train/learning_rate</td><td>0.0</td></tr><tr><td>train/loss</td><td>1.5388</td></tr><tr><td>train_loss</td><td>1.7849</td></tr><tr><td>train_runtime</td><td>9104.7569</td></tr><tr><td>train_samples_per_second</td><td>232.814</td></tr><tr><td>train_steps_per_second</td><td>0.909</td></tr><tr><td>wsc</td><td>0.59036</td></tr></table><br/></div></div>"
      ]
     },
     "metadata": {},
     "output_type": "display_data"
    },
    {
     "data": {
      "text/plain": [
       "<IPython.core.display.HTML object>"
      ],
      "text/html": [
       " View run <strong style=\"color:#cdcd00\">GPT-10k-wp-9.0M-2L-4H-516C-1024I</strong> at: <a href='https://wandb.ai/tiny-transformers/tokenizers/runs/3s80vnmy' target=\"_blank\">https://wandb.ai/tiny-transformers/tokenizers/runs/3s80vnmy</a><br/> View project at: <a href='https://wandb.ai/tiny-transformers/tokenizers' target=\"_blank\">https://wandb.ai/tiny-transformers/tokenizers</a><br/>Synced 4 W&B file(s), 0 media file(s), 0 artifact file(s) and 0 other file(s)"
      ]
     },
     "metadata": {},
     "output_type": "display_data"
    },
    {
     "data": {
      "text/plain": [
       "<IPython.core.display.HTML object>"
      ],
      "text/html": [
       "Find logs at: <code>./wandb/run-20240620_142815-3s80vnmy/logs</code>"
      ]
     },
     "metadata": {},
     "output_type": "display_data"
    },
    {
     "data": {
      "text/plain": [
       "VBox(children=(Label(value='Waiting for wandb.init()...\\r'), FloatProgress(value=0.011112146977878486, max=1.0…"
      ],
      "application/vnd.jupyter.widget-view+json": {
       "version_major": 2,
       "version_minor": 0,
       "model_id": "887b859462a54490ae7ffa5974877511"
      }
     },
     "metadata": {},
     "output_type": "display_data"
    },
    {
     "data": {
      "text/plain": [
       "<IPython.core.display.HTML object>"
      ],
      "text/html": [
       "wandb version 0.17.2 is available!  To upgrade, please run:\n",
       " $ pip install wandb --upgrade"
      ]
     },
     "metadata": {},
     "output_type": "display_data"
    },
    {
     "data": {
      "text/plain": [
       "<IPython.core.display.HTML object>"
      ],
      "text/html": [
       "Tracking run with wandb version 0.17.0"
      ]
     },
     "metadata": {},
     "output_type": "display_data"
    },
    {
     "data": {
      "text/plain": [
       "<IPython.core.display.HTML object>"
      ],
      "text/html": [
       "Run data is saved locally in <code>/home/prometheus/TUDelft/cse/year3/RP/tiny-transformers/code/rafael-tokenisation/wandb/run-20240620_142823-p8ss4624</code>"
      ]
     },
     "metadata": {},
     "output_type": "display_data"
    },
    {
     "data": {
      "text/plain": [
       "<IPython.core.display.HTML object>"
      ],
      "text/html": [
       "Resuming run <strong><a href='https://wandb.ai/tiny-transformers/tokenizers/runs/p8ss4624' target=\"_blank\">BERT-15k-wp-9.0M-2L-4H-412C-1024I</a></strong> to <a href='https://wandb.ai/tiny-transformers/tokenizers' target=\"_blank\">Weights & Biases</a> (<a href='https://wandb.me/run' target=\"_blank\">docs</a>)<br/>"
      ]
     },
     "metadata": {},
     "output_type": "display_data"
    },
    {
     "data": {
      "text/plain": [
       "<IPython.core.display.HTML object>"
      ],
      "text/html": [
       " View project at <a href='https://wandb.ai/tiny-transformers/tokenizers' target=\"_blank\">https://wandb.ai/tiny-transformers/tokenizers</a>"
      ]
     },
     "metadata": {},
     "output_type": "display_data"
    },
    {
     "data": {
      "text/plain": [
       "<IPython.core.display.HTML object>"
      ],
      "text/html": [
       " View run at <a href='https://wandb.ai/tiny-transformers/tokenizers/runs/p8ss4624' target=\"_blank\">https://wandb.ai/tiny-transformers/tokenizers/runs/p8ss4624</a>"
      ]
     },
     "metadata": {},
     "output_type": "display_data"
    },
    {
     "name": "stdout",
     "output_type": "stream",
     "text": [
      "{'model': 'BERT-15k-wp-9.0M-2L-4H-412C-1024I', 'avg_char_per_token': 4.83407802600867}\n"
     ]
    },
    {
     "data": {
      "text/plain": [
       "VBox(children=(Label(value='0.000 MB of 0.000 MB uploaded\\r'), FloatProgress(value=1.0, max=1.0)))"
      ],
      "application/vnd.jupyter.widget-view+json": {
       "version_major": 2,
       "version_minor": 0,
       "model_id": "dfa6b06c8caa4fe080e83f1e9474d4d5"
      }
     },
     "metadata": {},
     "output_type": "display_data"
    },
    {
     "data": {
      "text/plain": [
       "<IPython.core.display.HTML object>"
      ],
      "text/html": [
       "<style>\n",
       "    table.wandb td:nth-child(1) { padding: 0 10px; text-align: left ; width: auto;} td:nth-child(2) {text-align: left ; width: 100%}\n",
       "    .wandb-row { display: flex; flex-direction: row; flex-wrap: wrap; justify-content: flex-start; width: 100% }\n",
       "    .wandb-col { display: flex; flex-direction: column; flex-basis: 100%; flex: 1; padding: 10px; }\n",
       "    </style>\n",
       "<div class=\"wandb-row\"><div class=\"wandb-col\"><h3>Run history:</h3><br/><table class=\"wandb\"><tr><td>avg_char_per_token</td><td>▁</td></tr></table><br/></div><div class=\"wandb-col\"><h3>Run summary:</h3><br/><table class=\"wandb\"><tr><td>avg_bits_per_token</td><td>38.92444</td></tr><tr><td>avg_char_per_token</td><td>4.83408</td></tr><tr><td>base_avg</td><td>0.60342</td></tr><tr><td>blimp_avg</td><td>0.59174</td></tr><tr><td>boolq</td><td>0.63347</td></tr><tr><td>cola</td><td>0</td></tr><tr><td>eval/loss</td><td>1.0343</td></tr><tr><td>eval/runtime</td><td>39.3435</td></tr><tr><td>eval/samples_per_second</td><td>558.924</td></tr><tr><td>eval/steps_per_second</td><td>34.949</td></tr><tr><td>glue_avg</td><td>0.58975</td></tr><tr><td>mnli</td><td>0.66169</td></tr><tr><td>mnli-mm</td><td>0.68285</td></tr><tr><td>model</td><td>BERT-15k-wp-9.0M-2L-...</td></tr><tr><td>mrpc</td><td>0.69466</td></tr><tr><td>multirc</td><td>0.39135</td></tr><tr><td>qnli</td><td>0.70429</td></tr><tr><td>qqp</td><td>0.79734</td></tr><tr><td>rte</td><td>0.46465</td></tr><tr><td>sst2</td><td>0.84252</td></tr><tr><td>supp_avg</td><td>0.56372</td></tr><tr><td>total_flos</td><td>2.110930720653312e+16</td></tr><tr><td>train/epoch</td><td>0.99998</td></tr><tr><td>train/global_step</td><td>8280</td></tr><tr><td>train/grad_norm</td><td>0.84517</td></tr><tr><td>train/learning_rate</td><td>0.0</td></tr><tr><td>train/loss</td><td>1.2074</td></tr><tr><td>train_loss</td><td>1.74681</td></tr><tr><td>train_runtime</td><td>9327.2862</td></tr><tr><td>train_samples_per_second</td><td>227.26</td></tr><tr><td>train_steps_per_second</td><td>0.888</td></tr><tr><td>wsc</td><td>0.61446</td></tr></table><br/></div></div>"
      ]
     },
     "metadata": {},
     "output_type": "display_data"
    },
    {
     "data": {
      "text/plain": [
       "<IPython.core.display.HTML object>"
      ],
      "text/html": [
       " View run <strong style=\"color:#cdcd00\">BERT-15k-wp-9.0M-2L-4H-412C-1024I</strong> at: <a href='https://wandb.ai/tiny-transformers/tokenizers/runs/p8ss4624' target=\"_blank\">https://wandb.ai/tiny-transformers/tokenizers/runs/p8ss4624</a><br/> View project at: <a href='https://wandb.ai/tiny-transformers/tokenizers' target=\"_blank\">https://wandb.ai/tiny-transformers/tokenizers</a><br/>Synced 4 W&B file(s), 0 media file(s), 0 artifact file(s) and 0 other file(s)"
      ]
     },
     "metadata": {},
     "output_type": "display_data"
    },
    {
     "data": {
      "text/plain": [
       "<IPython.core.display.HTML object>"
      ],
      "text/html": [
       "Find logs at: <code>./wandb/run-20240620_142823-p8ss4624/logs</code>"
      ]
     },
     "metadata": {},
     "output_type": "display_data"
    },
    {
     "data": {
      "text/plain": [
       "VBox(children=(Label(value='Waiting for wandb.init()...\\r'), FloatProgress(value=0.011112056955850373, max=1.0…"
      ],
      "application/vnd.jupyter.widget-view+json": {
       "version_major": 2,
       "version_minor": 0,
       "model_id": "19e3cf1211d841d69d9a4811578a1882"
      }
     },
     "metadata": {},
     "output_type": "display_data"
    },
    {
     "data": {
      "text/plain": [
       "<IPython.core.display.HTML object>"
      ],
      "text/html": [
       "wandb version 0.17.2 is available!  To upgrade, please run:\n",
       " $ pip install wandb --upgrade"
      ]
     },
     "metadata": {},
     "output_type": "display_data"
    },
    {
     "data": {
      "text/plain": [
       "<IPython.core.display.HTML object>"
      ],
      "text/html": [
       "Tracking run with wandb version 0.17.0"
      ]
     },
     "metadata": {},
     "output_type": "display_data"
    },
    {
     "data": {
      "text/plain": [
       "<IPython.core.display.HTML object>"
      ],
      "text/html": [
       "Run data is saved locally in <code>/home/prometheus/TUDelft/cse/year3/RP/tiny-transformers/code/rafael-tokenisation/wandb/run-20240620_142831-h6e9ye76</code>"
      ]
     },
     "metadata": {},
     "output_type": "display_data"
    },
    {
     "data": {
      "text/plain": [
       "<IPython.core.display.HTML object>"
      ],
      "text/html": [
       "Resuming run <strong><a href='https://wandb.ai/tiny-transformers/tokenizers/runs/h6e9ye76' target=\"_blank\">GPT-15k-wp-9.0M-2L-4H-412C-1024I</a></strong> to <a href='https://wandb.ai/tiny-transformers/tokenizers' target=\"_blank\">Weights & Biases</a> (<a href='https://wandb.me/run' target=\"_blank\">docs</a>)<br/>"
      ]
     },
     "metadata": {},
     "output_type": "display_data"
    },
    {
     "data": {
      "text/plain": [
       "<IPython.core.display.HTML object>"
      ],
      "text/html": [
       " View project at <a href='https://wandb.ai/tiny-transformers/tokenizers' target=\"_blank\">https://wandb.ai/tiny-transformers/tokenizers</a>"
      ]
     },
     "metadata": {},
     "output_type": "display_data"
    },
    {
     "data": {
      "text/plain": [
       "<IPython.core.display.HTML object>"
      ],
      "text/html": [
       " View run at <a href='https://wandb.ai/tiny-transformers/tokenizers/runs/h6e9ye76' target=\"_blank\">https://wandb.ai/tiny-transformers/tokenizers/runs/h6e9ye76</a>"
      ]
     },
     "metadata": {},
     "output_type": "display_data"
    },
    {
     "name": "stdout",
     "output_type": "stream",
     "text": [
      "{'model': 'GPT-15k-wp-9.0M-2L-4H-412C-1024I', 'avg_char_per_token': 4.83407802600867}\n"
     ]
    },
    {
     "data": {
      "text/plain": [
       "VBox(children=(Label(value='0.000 MB of 0.000 MB uploaded\\r'), FloatProgress(value=1.0, max=1.0)))"
      ],
      "application/vnd.jupyter.widget-view+json": {
       "version_major": 2,
       "version_minor": 0,
       "model_id": "1443aeb351d8418297cad0ffd34478df"
      }
     },
     "metadata": {},
     "output_type": "display_data"
    },
    {
     "data": {
      "text/plain": [
       "<IPython.core.display.HTML object>"
      ],
      "text/html": [
       "<style>\n",
       "    table.wandb td:nth-child(1) { padding: 0 10px; text-align: left ; width: auto;} td:nth-child(2) {text-align: left ; width: 100%}\n",
       "    .wandb-row { display: flex; flex-direction: row; flex-wrap: wrap; justify-content: flex-start; width: 100% }\n",
       "    .wandb-col { display: flex; flex-direction: column; flex-basis: 100%; flex: 1; padding: 10px; }\n",
       "    </style>\n",
       "<div class=\"wandb-row\"><div class=\"wandb-col\"><h3>Run history:</h3><br/><table class=\"wandb\"><tr><td>avg_char_per_token</td><td>▁</td></tr></table><br/></div><div class=\"wandb-col\"><h3>Run summary:</h3><br/><table class=\"wandb\"><tr><td>avg_bits_per_token</td><td>38.92444</td></tr><tr><td>avg_char_per_token</td><td>4.83408</td></tr><tr><td>base_avg</td><td>0.60633</td></tr><tr><td>blimp_avg</td><td>0.59115</td></tr><tr><td>boolq</td><td>0.60166</td></tr><tr><td>cola</td><td>0</td></tr><tr><td>eval/loss</td><td>1.61563</td></tr><tr><td>eval/runtime</td><td>35.0232</td></tr><tr><td>eval/samples_per_second</td><td>627.869</td></tr><tr><td>eval/steps_per_second</td><td>39.26</td></tr><tr><td>glue_avg</td><td>0.58363</td></tr><tr><td>mnli</td><td>0.67098</td></tr><tr><td>mnli-mm</td><td>0.68778</td></tr><tr><td>model</td><td>GPT-15k-wp-9.0M-2L-4...</td></tr><tr><td>mrpc</td><td>0.67452</td></tr><tr><td>multirc</td><td>0.35551</td></tr><tr><td>qnli</td><td>0.71829</td></tr><tr><td>qqp</td><td>0.7829</td></tr><tr><td>rte</td><td>0.50505</td></tr><tr><td>sst2</td><td>0.82087</td></tr><tr><td>supp_avg</td><td>0.55472</td></tr><tr><td>total_flos</td><td>1.98821724291072e+16</td></tr><tr><td>train/epoch</td><td>0.99998</td></tr><tr><td>train/global_step</td><td>8280</td></tr><tr><td>train/grad_norm</td><td>0.62664</td></tr><tr><td>train/learning_rate</td><td>0.0</td></tr><tr><td>train/loss</td><td>1.5947</td></tr><tr><td>train_loss</td><td>1.83577</td></tr><tr><td>train_runtime</td><td>9731.8129</td></tr><tr><td>train_samples_per_second</td><td>217.813</td></tr><tr><td>train_steps_per_second</td><td>0.851</td></tr><tr><td>wsc</td><td>0.60241</td></tr></table><br/></div></div>"
      ]
     },
     "metadata": {},
     "output_type": "display_data"
    },
    {
     "data": {
      "text/plain": [
       "<IPython.core.display.HTML object>"
      ],
      "text/html": [
       " View run <strong style=\"color:#cdcd00\">GPT-15k-wp-9.0M-2L-4H-412C-1024I</strong> at: <a href='https://wandb.ai/tiny-transformers/tokenizers/runs/h6e9ye76' target=\"_blank\">https://wandb.ai/tiny-transformers/tokenizers/runs/h6e9ye76</a><br/> View project at: <a href='https://wandb.ai/tiny-transformers/tokenizers' target=\"_blank\">https://wandb.ai/tiny-transformers/tokenizers</a><br/>Synced 4 W&B file(s), 0 media file(s), 0 artifact file(s) and 0 other file(s)"
      ]
     },
     "metadata": {},
     "output_type": "display_data"
    },
    {
     "data": {
      "text/plain": [
       "<IPython.core.display.HTML object>"
      ],
      "text/html": [
       "Find logs at: <code>./wandb/run-20240620_142831-h6e9ye76/logs</code>"
      ]
     },
     "metadata": {},
     "output_type": "display_data"
    },
    {
     "data": {
      "text/plain": [
       "VBox(children=(Label(value='Waiting for wandb.init()...\\r'), FloatProgress(value=0.011112231232820907, max=1.0…"
      ],
      "application/vnd.jupyter.widget-view+json": {
       "version_major": 2,
       "version_minor": 0,
       "model_id": "9c338671d2074055b855875e1229a392"
      }
     },
     "metadata": {},
     "output_type": "display_data"
    },
    {
     "data": {
      "text/plain": [
       "<IPython.core.display.HTML object>"
      ],
      "text/html": [
       "wandb version 0.17.2 is available!  To upgrade, please run:\n",
       " $ pip install wandb --upgrade"
      ]
     },
     "metadata": {},
     "output_type": "display_data"
    },
    {
     "data": {
      "text/plain": [
       "<IPython.core.display.HTML object>"
      ],
      "text/html": [
       "Tracking run with wandb version 0.17.0"
      ]
     },
     "metadata": {},
     "output_type": "display_data"
    },
    {
     "data": {
      "text/plain": [
       "<IPython.core.display.HTML object>"
      ],
      "text/html": [
       "Run data is saved locally in <code>/home/prometheus/TUDelft/cse/year3/RP/tiny-transformers/code/rafael-tokenisation/wandb/run-20240620_142838-mal2e4rh</code>"
      ]
     },
     "metadata": {},
     "output_type": "display_data"
    },
    {
     "data": {
      "text/plain": [
       "<IPython.core.display.HTML object>"
      ],
      "text/html": [
       "Resuming run <strong><a href='https://wandb.ai/tiny-transformers/tokenizers/runs/mal2e4rh' target=\"_blank\">BERT-20k-wp-9.0M-2L-4H-348C-1024I</a></strong> to <a href='https://wandb.ai/tiny-transformers/tokenizers' target=\"_blank\">Weights & Biases</a> (<a href='https://wandb.me/run' target=\"_blank\">docs</a>)<br/>"
      ]
     },
     "metadata": {},
     "output_type": "display_data"
    },
    {
     "data": {
      "text/plain": [
       "<IPython.core.display.HTML object>"
      ],
      "text/html": [
       " View project at <a href='https://wandb.ai/tiny-transformers/tokenizers' target=\"_blank\">https://wandb.ai/tiny-transformers/tokenizers</a>"
      ]
     },
     "metadata": {},
     "output_type": "display_data"
    },
    {
     "data": {
      "text/plain": [
       "<IPython.core.display.HTML object>"
      ],
      "text/html": [
       " View run at <a href='https://wandb.ai/tiny-transformers/tokenizers/runs/mal2e4rh' target=\"_blank\">https://wandb.ai/tiny-transformers/tokenizers/runs/mal2e4rh</a>"
      ]
     },
     "metadata": {},
     "output_type": "display_data"
    },
    {
     "name": "stdout",
     "output_type": "stream",
     "text": [
      "{'model': 'BERT-20k-wp-9.0M-2L-4H-348C-1024I', 'avg_char_per_token': 5.0324081020255065}\n"
     ]
    },
    {
     "data": {
      "text/plain": [
       "VBox(children=(Label(value='0.000 MB of 0.000 MB uploaded\\r'), FloatProgress(value=1.0, max=1.0)))"
      ],
      "application/vnd.jupyter.widget-view+json": {
       "version_major": 2,
       "version_minor": 0,
       "model_id": "ac9fdaefd83041c4a181d724d4b18cde"
      }
     },
     "metadata": {},
     "output_type": "display_data"
    },
    {
     "data": {
      "text/plain": [
       "<IPython.core.display.HTML object>"
      ],
      "text/html": [
       "<style>\n",
       "    table.wandb td:nth-child(1) { padding: 0 10px; text-align: left ; width: auto;} td:nth-child(2) {text-align: left ; width: 100%}\n",
       "    .wandb-row { display: flex; flex-direction: row; flex-wrap: wrap; justify-content: flex-start; width: 100% }\n",
       "    .wandb-col { display: flex; flex-direction: column; flex-basis: 100%; flex: 1; padding: 10px; }\n",
       "    </style>\n",
       "<div class=\"wandb-row\"><div class=\"wandb-col\"><h3>Run history:</h3><br/><table class=\"wandb\"><tr><td>avg_char_per_token</td><td>▁</td></tr></table><br/></div><div class=\"wandb-col\"><h3>Run summary:</h3><br/><table class=\"wandb\"><tr><td>avg_bits_per_token</td><td>40.50293</td></tr><tr><td>avg_char_per_token</td><td>5.03241</td></tr><tr><td>base_avg</td><td>0.61898</td></tr><tr><td>blimp_avg</td><td>0.61037</td></tr><tr><td>boolq</td><td>0.63624</td></tr><tr><td>cola</td><td>0</td></tr><tr><td>eval/loss</td><td>1.05633</td></tr><tr><td>eval/runtime</td><td>37.5799</td></tr><tr><td>eval/samples_per_second</td><td>585.153</td></tr><tr><td>eval/steps_per_second</td><td>36.589</td></tr><tr><td>glue_avg</td><td>0.57818</td></tr><tr><td>mnli</td><td>0.6431</td></tr><tr><td>mnli-mm</td><td>0.64545</td></tr><tr><td>model</td><td>BERT-20k-wp-9.0M-2L-...</td></tr><tr><td>mrpc</td><td>0.75034</td></tr><tr><td>multirc</td><td>0.4004</td></tr><tr><td>qnli</td><td>0.66404</td></tr><tr><td>qqp</td><td>0.78546</td></tr><tr><td>rte</td><td>0.38384</td></tr><tr><td>sst2</td><td>0.83661</td></tr><tr><td>supp_avg</td><td>0.58971</td></tr><tr><td>total_flos</td><td>1.657474557935616e+16</td></tr><tr><td>train/epoch</td><td>0.99998</td></tr><tr><td>train/global_step</td><td>8280</td></tr><tr><td>train/grad_norm</td><td>0.78115</td></tr><tr><td>train/learning_rate</td><td>0.0</td></tr><tr><td>train/loss</td><td>1.2375</td></tr><tr><td>train_loss</td><td>1.81229</td></tr><tr><td>train_runtime</td><td>9234.9572</td></tr><tr><td>train_samples_per_second</td><td>229.532</td></tr><tr><td>train_steps_per_second</td><td>0.897</td></tr><tr><td>wsc</td><td>0.61446</td></tr></table><br/></div></div>"
      ]
     },
     "metadata": {},
     "output_type": "display_data"
    },
    {
     "data": {
      "text/plain": [
       "<IPython.core.display.HTML object>"
      ],
      "text/html": [
       " View run <strong style=\"color:#cdcd00\">BERT-20k-wp-9.0M-2L-4H-348C-1024I</strong> at: <a href='https://wandb.ai/tiny-transformers/tokenizers/runs/mal2e4rh' target=\"_blank\">https://wandb.ai/tiny-transformers/tokenizers/runs/mal2e4rh</a><br/> View project at: <a href='https://wandb.ai/tiny-transformers/tokenizers' target=\"_blank\">https://wandb.ai/tiny-transformers/tokenizers</a><br/>Synced 4 W&B file(s), 0 media file(s), 0 artifact file(s) and 0 other file(s)"
      ]
     },
     "metadata": {},
     "output_type": "display_data"
    },
    {
     "data": {
      "text/plain": [
       "<IPython.core.display.HTML object>"
      ],
      "text/html": [
       "Find logs at: <code>./wandb/run-20240620_142838-mal2e4rh/logs</code>"
      ]
     },
     "metadata": {},
     "output_type": "display_data"
    },
    {
     "data": {
      "text/plain": [
       "VBox(children=(Label(value='Waiting for wandb.init()...\\r'), FloatProgress(value=0.011112539088612216, max=1.0…"
      ],
      "application/vnd.jupyter.widget-view+json": {
       "version_major": 2,
       "version_minor": 0,
       "model_id": "806b7188416642d2b7aedf1cc5f2c729"
      }
     },
     "metadata": {},
     "output_type": "display_data"
    },
    {
     "data": {
      "text/plain": [
       "<IPython.core.display.HTML object>"
      ],
      "text/html": [
       "wandb version 0.17.2 is available!  To upgrade, please run:\n",
       " $ pip install wandb --upgrade"
      ]
     },
     "metadata": {},
     "output_type": "display_data"
    },
    {
     "data": {
      "text/plain": [
       "<IPython.core.display.HTML object>"
      ],
      "text/html": [
       "Tracking run with wandb version 0.17.0"
      ]
     },
     "metadata": {},
     "output_type": "display_data"
    },
    {
     "data": {
      "text/plain": [
       "<IPython.core.display.HTML object>"
      ],
      "text/html": [
       "Run data is saved locally in <code>/home/prometheus/TUDelft/cse/year3/RP/tiny-transformers/code/rafael-tokenisation/wandb/run-20240620_142846-tnaohfi7</code>"
      ]
     },
     "metadata": {},
     "output_type": "display_data"
    },
    {
     "data": {
      "text/plain": [
       "<IPython.core.display.HTML object>"
      ],
      "text/html": [
       "Resuming run <strong><a href='https://wandb.ai/tiny-transformers/tokenizers/runs/tnaohfi7' target=\"_blank\">GPT-20k-wp-9.0M-2L-4H-348C-1024I</a></strong> to <a href='https://wandb.ai/tiny-transformers/tokenizers' target=\"_blank\">Weights & Biases</a> (<a href='https://wandb.me/run' target=\"_blank\">docs</a>)<br/>"
      ]
     },
     "metadata": {},
     "output_type": "display_data"
    },
    {
     "data": {
      "text/plain": [
       "<IPython.core.display.HTML object>"
      ],
      "text/html": [
       " View project at <a href='https://wandb.ai/tiny-transformers/tokenizers' target=\"_blank\">https://wandb.ai/tiny-transformers/tokenizers</a>"
      ]
     },
     "metadata": {},
     "output_type": "display_data"
    },
    {
     "data": {
      "text/plain": [
       "<IPython.core.display.HTML object>"
      ],
      "text/html": [
       " View run at <a href='https://wandb.ai/tiny-transformers/tokenizers/runs/tnaohfi7' target=\"_blank\">https://wandb.ai/tiny-transformers/tokenizers/runs/tnaohfi7</a>"
      ]
     },
     "metadata": {},
     "output_type": "display_data"
    },
    {
     "name": "stdout",
     "output_type": "stream",
     "text": [
      "{'model': 'GPT-20k-wp-9.0M-2L-4H-348C-1024I', 'avg_char_per_token': 5.0324081020255065}\n"
     ]
    },
    {
     "data": {
      "text/plain": [
       "VBox(children=(Label(value='0.000 MB of 0.000 MB uploaded\\r'), FloatProgress(value=1.0, max=1.0)))"
      ],
      "application/vnd.jupyter.widget-view+json": {
       "version_major": 2,
       "version_minor": 0,
       "model_id": "13100e1314074618beeb46f4b30c01a2"
      }
     },
     "metadata": {},
     "output_type": "display_data"
    },
    {
     "data": {
      "text/plain": [
       "<IPython.core.display.HTML object>"
      ],
      "text/html": [
       "<style>\n",
       "    table.wandb td:nth-child(1) { padding: 0 10px; text-align: left ; width: auto;} td:nth-child(2) {text-align: left ; width: 100%}\n",
       "    .wandb-row { display: flex; flex-direction: row; flex-wrap: wrap; justify-content: flex-start; width: 100% }\n",
       "    .wandb-col { display: flex; flex-direction: column; flex-basis: 100%; flex: 1; padding: 10px; }\n",
       "    </style>\n",
       "<div class=\"wandb-row\"><div class=\"wandb-col\"><h3>Run history:</h3><br/><table class=\"wandb\"><tr><td>avg_char_per_token</td><td>▁</td></tr></table><br/></div><div class=\"wandb-col\"><h3>Run summary:</h3><br/><table class=\"wandb\"><tr><td>avg_bits_per_token</td><td>40.50293</td></tr><tr><td>avg_char_per_token</td><td>5.03241</td></tr><tr><td>base_avg</td><td>0.59485</td></tr><tr><td>blimp_avg</td><td>0.58217</td></tr><tr><td>boolq</td><td>0.64869</td></tr><tr><td>cola</td><td>-0.00753</td></tr><tr><td>eval/loss</td><td>1.66547</td></tr><tr><td>eval/runtime</td><td>37.0982</td></tr><tr><td>eval/samples_per_second</td><td>592.751</td></tr><tr><td>eval/steps_per_second</td><td>37.064</td></tr><tr><td>glue_avg</td><td>0.57884</td></tr><tr><td>mnli</td><td>0.65575</td></tr><tr><td>mnli-mm</td><td>0.67393</td></tr><tr><td>model</td><td>GPT-20k-wp-9.0M-2L-4...</td></tr><tr><td>mrpc</td><td>0.73224</td></tr><tr><td>multirc</td><td>0.34593</td></tr><tr><td>qnli</td><td>0.60324</td></tr><tr><td>qqp</td><td>0.76861</td></tr><tr><td>rte</td><td>0.54545</td></tr><tr><td>sst2</td><td>0.83465</td></tr><tr><td>supp_avg</td><td>0.55174</td></tr><tr><td>total_flos</td><td>1.56355302260736e+16</td></tr><tr><td>train/epoch</td><td>0.99998</td></tr><tr><td>train/global_step</td><td>8280</td></tr><tr><td>train/grad_norm</td><td>0.6406</td></tr><tr><td>train/learning_rate</td><td>0.0</td></tr><tr><td>train/loss</td><td>1.6433</td></tr><tr><td>train_loss</td><td>1.88681</td></tr><tr><td>train_runtime</td><td>10267.96</td></tr><tr><td>train_samples_per_second</td><td>206.44</td></tr><tr><td>train_steps_per_second</td><td>0.806</td></tr><tr><td>wsc</td><td>0.56627</td></tr></table><br/></div></div>"
      ]
     },
     "metadata": {},
     "output_type": "display_data"
    },
    {
     "data": {
      "text/plain": [
       "<IPython.core.display.HTML object>"
      ],
      "text/html": [
       " View run <strong style=\"color:#cdcd00\">GPT-20k-wp-9.0M-2L-4H-348C-1024I</strong> at: <a href='https://wandb.ai/tiny-transformers/tokenizers/runs/tnaohfi7' target=\"_blank\">https://wandb.ai/tiny-transformers/tokenizers/runs/tnaohfi7</a><br/> View project at: <a href='https://wandb.ai/tiny-transformers/tokenizers' target=\"_blank\">https://wandb.ai/tiny-transformers/tokenizers</a><br/>Synced 4 W&B file(s), 0 media file(s), 0 artifact file(s) and 0 other file(s)"
      ]
     },
     "metadata": {},
     "output_type": "display_data"
    },
    {
     "data": {
      "text/plain": [
       "<IPython.core.display.HTML object>"
      ],
      "text/html": [
       "Find logs at: <code>./wandb/run-20240620_142846-tnaohfi7/logs</code>"
      ]
     },
     "metadata": {},
     "output_type": "display_data"
    },
    {
     "data": {
      "text/plain": [
       "VBox(children=(Label(value='Waiting for wandb.init()...\\r'), FloatProgress(value=0.0111122815113049, max=1.0))…"
      ],
      "application/vnd.jupyter.widget-view+json": {
       "version_major": 2,
       "version_minor": 0,
       "model_id": "c8519fb17e744258a3aec369a8503cba"
      }
     },
     "metadata": {},
     "output_type": "display_data"
    },
    {
     "data": {
      "text/plain": [
       "<IPython.core.display.HTML object>"
      ],
      "text/html": [
       "wandb version 0.17.2 is available!  To upgrade, please run:\n",
       " $ pip install wandb --upgrade"
      ]
     },
     "metadata": {},
     "output_type": "display_data"
    },
    {
     "data": {
      "text/plain": [
       "<IPython.core.display.HTML object>"
      ],
      "text/html": [
       "Tracking run with wandb version 0.17.0"
      ]
     },
     "metadata": {},
     "output_type": "display_data"
    },
    {
     "data": {
      "text/plain": [
       "<IPython.core.display.HTML object>"
      ],
      "text/html": [
       "Run data is saved locally in <code>/home/prometheus/TUDelft/cse/year3/RP/tiny-transformers/code/rafael-tokenisation/wandb/run-20240620_142854-65madoix</code>"
      ]
     },
     "metadata": {},
     "output_type": "display_data"
    },
    {
     "data": {
      "text/plain": [
       "<IPython.core.display.HTML object>"
      ],
      "text/html": [
       "Resuming run <strong><a href='https://wandb.ai/tiny-transformers/tokenizers/runs/65madoix' target=\"_blank\">BERT-1k-sp-9.0M-2L-4H-780C-1024I</a></strong> to <a href='https://wandb.ai/tiny-transformers/tokenizers' target=\"_blank\">Weights & Biases</a> (<a href='https://wandb.me/run' target=\"_blank\">docs</a>)<br/>"
      ]
     },
     "metadata": {},
     "output_type": "display_data"
    },
    {
     "data": {
      "text/plain": [
       "<IPython.core.display.HTML object>"
      ],
      "text/html": [
       " View project at <a href='https://wandb.ai/tiny-transformers/tokenizers' target=\"_blank\">https://wandb.ai/tiny-transformers/tokenizers</a>"
      ]
     },
     "metadata": {},
     "output_type": "display_data"
    },
    {
     "data": {
      "text/plain": [
       "<IPython.core.display.HTML object>"
      ],
      "text/html": [
       " View run at <a href='https://wandb.ai/tiny-transformers/tokenizers/runs/65madoix' target=\"_blank\">https://wandb.ai/tiny-transformers/tokenizers/runs/65madoix</a>"
      ]
     },
     "metadata": {},
     "output_type": "display_data"
    },
    {
     "name": "stdout",
     "output_type": "stream",
     "text": [
      "{'model': 'BERT-1k-sp-9.0M-2L-4H-780C-1024I', 'avg_char_per_token': 2.9849246231155777}\n"
     ]
    },
    {
     "data": {
      "text/plain": [
       "VBox(children=(Label(value='0.000 MB of 0.000 MB uploaded\\r'), FloatProgress(value=1.0, max=1.0)))"
      ],
      "application/vnd.jupyter.widget-view+json": {
       "version_major": 2,
       "version_minor": 0,
       "model_id": "a4b7de26ed95437ca039a24a9b286824"
      }
     },
     "metadata": {},
     "output_type": "display_data"
    },
    {
     "data": {
      "text/plain": [
       "<IPython.core.display.HTML object>"
      ],
      "text/html": [
       "<style>\n",
       "    table.wandb td:nth-child(1) { padding: 0 10px; text-align: left ; width: auto;} td:nth-child(2) {text-align: left ; width: 100%}\n",
       "    .wandb-row { display: flex; flex-direction: row; flex-wrap: wrap; justify-content: flex-start; width: 100% }\n",
       "    .wandb-col { display: flex; flex-direction: column; flex-basis: 100%; flex: 1; padding: 10px; }\n",
       "    </style>\n",
       "<div class=\"wandb-row\"><div class=\"wandb-col\"><h3>Run history:</h3><br/><table class=\"wandb\"><tr><td>avg_char_per_token</td><td>▁</td></tr></table><br/></div><div class=\"wandb-col\"><h3>Run summary:</h3><br/><table class=\"wandb\"><tr><td>avg_bits_per_token</td><td>24.60302</td></tr><tr><td>avg_char_per_token</td><td>2.98492</td></tr><tr><td>base_avg</td><td>0.56167</td></tr><tr><td>blimp_avg</td><td>0.5656</td></tr><tr><td>boolq</td><td>0.62517</td></tr><tr><td>cola</td><td>0</td></tr><tr><td>eval/loss</td><td>0.52474</td></tr><tr><td>eval/runtime</td><td>36.4641</td></tr><tr><td>eval/samples_per_second</td><td>603.058</td></tr><tr><td>eval/steps_per_second</td><td>37.708</td></tr><tr><td>glue_avg</td><td>0.58247</td></tr><tr><td>mnli</td><td>0.65453</td></tr><tr><td>mnli-mm</td><td>0.69096</td></tr><tr><td>model</td><td>BERT-1k-sp-9.0M-2L-4...</td></tr><tr><td>mrpc</td><td>0.63829</td></tr><tr><td>multirc</td><td>0.37523</td></tr><tr><td>qnli</td><td>0.7664</td></tr><tr><td>qqp</td><td>0.79032</td></tr><tr><td>rte</td><td>0.46465</td></tr><tr><td>sst2</td><td>0.79921</td></tr><tr><td>supp_avg</td><td>0.57502</td></tr><tr><td>total_flos</td><td>5.659585809481728e+16</td></tr><tr><td>train/epoch</td><td>0.99998</td></tr><tr><td>train/global_step</td><td>8280</td></tr><tr><td>train/grad_norm</td><td>0.60967</td></tr><tr><td>train/learning_rate</td><td>0.0</td></tr><tr><td>train/loss</td><td>0.6624</td></tr><tr><td>train_loss</td><td>1.00778</td></tr><tr><td>train_runtime</td><td>8337.7969</td></tr><tr><td>train_samples_per_second</td><td>254.23</td></tr><tr><td>train_steps_per_second</td><td>0.993</td></tr><tr><td>wsc</td><td>0.60241</td></tr></table><br/></div></div>"
      ]
     },
     "metadata": {},
     "output_type": "display_data"
    },
    {
     "data": {
      "text/plain": [
       "<IPython.core.display.HTML object>"
      ],
      "text/html": [
       " View run <strong style=\"color:#cdcd00\">BERT-1k-sp-9.0M-2L-4H-780C-1024I</strong> at: <a href='https://wandb.ai/tiny-transformers/tokenizers/runs/65madoix' target=\"_blank\">https://wandb.ai/tiny-transformers/tokenizers/runs/65madoix</a><br/> View project at: <a href='https://wandb.ai/tiny-transformers/tokenizers' target=\"_blank\">https://wandb.ai/tiny-transformers/tokenizers</a><br/>Synced 4 W&B file(s), 0 media file(s), 0 artifact file(s) and 0 other file(s)"
      ]
     },
     "metadata": {},
     "output_type": "display_data"
    },
    {
     "data": {
      "text/plain": [
       "<IPython.core.display.HTML object>"
      ],
      "text/html": [
       "Find logs at: <code>./wandb/run-20240620_142854-65madoix/logs</code>"
      ]
     },
     "metadata": {},
     "output_type": "display_data"
    },
    {
     "data": {
      "text/plain": [
       "VBox(children=(Label(value='Waiting for wandb.init()...\\r'), FloatProgress(value=0.011112159555907258, max=1.0…"
      ],
      "application/vnd.jupyter.widget-view+json": {
       "version_major": 2,
       "version_minor": 0,
       "model_id": "6c8fe745168240a697573193ba9a6629"
      }
     },
     "metadata": {},
     "output_type": "display_data"
    },
    {
     "data": {
      "text/plain": [
       "<IPython.core.display.HTML object>"
      ],
      "text/html": [
       "wandb version 0.17.2 is available!  To upgrade, please run:\n",
       " $ pip install wandb --upgrade"
      ]
     },
     "metadata": {},
     "output_type": "display_data"
    },
    {
     "data": {
      "text/plain": [
       "<IPython.core.display.HTML object>"
      ],
      "text/html": [
       "Tracking run with wandb version 0.17.0"
      ]
     },
     "metadata": {},
     "output_type": "display_data"
    },
    {
     "data": {
      "text/plain": [
       "<IPython.core.display.HTML object>"
      ],
      "text/html": [
       "Run data is saved locally in <code>/home/prometheus/TUDelft/cse/year3/RP/tiny-transformers/code/rafael-tokenisation/wandb/run-20240620_142901-065iuwf7</code>"
      ]
     },
     "metadata": {},
     "output_type": "display_data"
    },
    {
     "data": {
      "text/plain": [
       "<IPython.core.display.HTML object>"
      ],
      "text/html": [
       "Resuming run <strong><a href='https://wandb.ai/tiny-transformers/tokenizers/runs/065iuwf7' target=\"_blank\">GPT-1k-sp-9.0M-2L-4H-780C-1024I</a></strong> to <a href='https://wandb.ai/tiny-transformers/tokenizers' target=\"_blank\">Weights & Biases</a> (<a href='https://wandb.me/run' target=\"_blank\">docs</a>)<br/>"
      ]
     },
     "metadata": {},
     "output_type": "display_data"
    },
    {
     "data": {
      "text/plain": [
       "<IPython.core.display.HTML object>"
      ],
      "text/html": [
       " View project at <a href='https://wandb.ai/tiny-transformers/tokenizers' target=\"_blank\">https://wandb.ai/tiny-transformers/tokenizers</a>"
      ]
     },
     "metadata": {},
     "output_type": "display_data"
    },
    {
     "data": {
      "text/plain": [
       "<IPython.core.display.HTML object>"
      ],
      "text/html": [
       " View run at <a href='https://wandb.ai/tiny-transformers/tokenizers/runs/065iuwf7' target=\"_blank\">https://wandb.ai/tiny-transformers/tokenizers/runs/065iuwf7</a>"
      ]
     },
     "metadata": {},
     "output_type": "display_data"
    },
    {
     "name": "stdout",
     "output_type": "stream",
     "text": [
      "{'model': 'GPT-1k-sp-9.0M-2L-4H-780C-1024I', 'avg_char_per_token': 2.9849246231155777}\n"
     ]
    },
    {
     "data": {
      "text/plain": [
       "VBox(children=(Label(value='0.000 MB of 0.000 MB uploaded\\r'), FloatProgress(value=1.0, max=1.0)))"
      ],
      "application/vnd.jupyter.widget-view+json": {
       "version_major": 2,
       "version_minor": 0,
       "model_id": "2df7080f4fb34d229316d844f24e6461"
      }
     },
     "metadata": {},
     "output_type": "display_data"
    },
    {
     "data": {
      "text/plain": [
       "<IPython.core.display.HTML object>"
      ],
      "text/html": [
       "<style>\n",
       "    table.wandb td:nth-child(1) { padding: 0 10px; text-align: left ; width: auto;} td:nth-child(2) {text-align: left ; width: 100%}\n",
       "    .wandb-row { display: flex; flex-direction: row; flex-wrap: wrap; justify-content: flex-start; width: 100% }\n",
       "    .wandb-col { display: flex; flex-direction: column; flex-basis: 100%; flex: 1; padding: 10px; }\n",
       "    </style>\n",
       "<div class=\"wandb-row\"><div class=\"wandb-col\"><h3>Run history:</h3><br/><table class=\"wandb\"><tr><td>avg_char_per_token</td><td>▁</td></tr></table><br/></div><div class=\"wandb-col\"><h3>Run summary:</h3><br/><table class=\"wandb\"><tr><td>avg_bits_per_token</td><td>24.60302</td></tr><tr><td>avg_char_per_token</td><td>2.98492</td></tr><tr><td>base_avg</td><td>0.53017</td></tr><tr><td>blimp_avg</td><td>0.52523</td></tr><tr><td>boolq</td><td>0.62241</td></tr><tr><td>cola</td><td>0</td></tr><tr><td>eval/loss</td><td>1.52996</td></tr><tr><td>eval/runtime</td><td>33.8767</td></tr><tr><td>eval/samples_per_second</td><td>649.119</td></tr><tr><td>eval/steps_per_second</td><td>40.588</td></tr><tr><td>glue_avg</td><td>0.51616</td></tr><tr><td>mnli</td><td>0.50914</td></tr><tr><td>mnli-mm</td><td>0.53199</td></tr><tr><td>model</td><td>GPT-1k-sp-9.0M-2L-4H...</td></tr><tr><td>mrpc</td><td>0.69374</td></tr><tr><td>multirc</td><td>0.3662</td></tr><tr><td>qnli</td><td>0.53587</td></tr><tr><td>qqp</td><td>0.62879</td></tr><tr><td>rte</td><td>0.52525</td></tr><tr><td>sst2</td><td>0.73425</td></tr><tr><td>supp_avg</td><td>0.51336</td></tr><tr><td>total_flos</td><td>5.258194251153408e+16</td></tr><tr><td>train/epoch</td><td>0.99998</td></tr><tr><td>train/global_step</td><td>8280</td></tr><tr><td>train/grad_norm</td><td>0.55148</td></tr><tr><td>train/learning_rate</td><td>0.0</td></tr><tr><td>train/loss</td><td>1.5332</td></tr><tr><td>train_loss</td><td>1.87073</td></tr><tr><td>train_runtime</td><td>7688.6111</td></tr><tr><td>train_samples_per_second</td><td>275.696</td></tr><tr><td>train_steps_per_second</td><td>1.077</td></tr><tr><td>wsc</td><td>0.53012</td></tr></table><br/></div></div>"
      ]
     },
     "metadata": {},
     "output_type": "display_data"
    },
    {
     "data": {
      "text/plain": [
       "<IPython.core.display.HTML object>"
      ],
      "text/html": [
       " View run <strong style=\"color:#cdcd00\">GPT-1k-sp-9.0M-2L-4H-780C-1024I</strong> at: <a href='https://wandb.ai/tiny-transformers/tokenizers/runs/065iuwf7' target=\"_blank\">https://wandb.ai/tiny-transformers/tokenizers/runs/065iuwf7</a><br/> View project at: <a href='https://wandb.ai/tiny-transformers/tokenizers' target=\"_blank\">https://wandb.ai/tiny-transformers/tokenizers</a><br/>Synced 4 W&B file(s), 0 media file(s), 0 artifact file(s) and 0 other file(s)"
      ]
     },
     "metadata": {},
     "output_type": "display_data"
    },
    {
     "data": {
      "text/plain": [
       "<IPython.core.display.HTML object>"
      ],
      "text/html": [
       "Find logs at: <code>./wandb/run-20240620_142901-065iuwf7/logs</code>"
      ]
     },
     "metadata": {},
     "output_type": "display_data"
    },
    {
     "data": {
      "text/plain": [
       "VBox(children=(Label(value='Waiting for wandb.init()...\\r'), FloatProgress(value=0.011112050822056416, max=1.0…"
      ],
      "application/vnd.jupyter.widget-view+json": {
       "version_major": 2,
       "version_minor": 0,
       "model_id": "6bc154b99e6749b983857b2463de0966"
      }
     },
     "metadata": {},
     "output_type": "display_data"
    },
    {
     "data": {
      "text/plain": [
       "<IPython.core.display.HTML object>"
      ],
      "text/html": [
       "wandb version 0.17.2 is available!  To upgrade, please run:\n",
       " $ pip install wandb --upgrade"
      ]
     },
     "metadata": {},
     "output_type": "display_data"
    },
    {
     "data": {
      "text/plain": [
       "<IPython.core.display.HTML object>"
      ],
      "text/html": [
       "Tracking run with wandb version 0.17.0"
      ]
     },
     "metadata": {},
     "output_type": "display_data"
    },
    {
     "data": {
      "text/plain": [
       "<IPython.core.display.HTML object>"
      ],
      "text/html": [
       "Run data is saved locally in <code>/home/prometheus/TUDelft/cse/year3/RP/tiny-transformers/code/rafael-tokenisation/wandb/run-20240620_142908-uwvpu3ys</code>"
      ]
     },
     "metadata": {},
     "output_type": "display_data"
    },
    {
     "data": {
      "text/plain": [
       "<IPython.core.display.HTML object>"
      ],
      "text/html": [
       "Resuming run <strong><a href='https://wandb.ai/tiny-transformers/tokenizers/runs/uwvpu3ys' target=\"_blank\">BERT-3k-sp-9.0M-2L-4H-700C-1024I</a></strong> to <a href='https://wandb.ai/tiny-transformers/tokenizers' target=\"_blank\">Weights & Biases</a> (<a href='https://wandb.me/run' target=\"_blank\">docs</a>)<br/>"
      ]
     },
     "metadata": {},
     "output_type": "display_data"
    },
    {
     "data": {
      "text/plain": [
       "<IPython.core.display.HTML object>"
      ],
      "text/html": [
       " View project at <a href='https://wandb.ai/tiny-transformers/tokenizers' target=\"_blank\">https://wandb.ai/tiny-transformers/tokenizers</a>"
      ]
     },
     "metadata": {},
     "output_type": "display_data"
    },
    {
     "data": {
      "text/plain": [
       "<IPython.core.display.HTML object>"
      ],
      "text/html": [
       " View run at <a href='https://wandb.ai/tiny-transformers/tokenizers/runs/uwvpu3ys' target=\"_blank\">https://wandb.ai/tiny-transformers/tokenizers/runs/uwvpu3ys</a>"
      ]
     },
     "metadata": {},
     "output_type": "display_data"
    },
    {
     "name": "stdout",
     "output_type": "stream",
     "text": [
      "{'model': 'BERT-3k-sp-9.0M-2L-4H-700C-1024I', 'avg_char_per_token': 4.256761268781302}\n"
     ]
    },
    {
     "data": {
      "text/plain": [
       "VBox(children=(Label(value='0.000 MB of 0.000 MB uploaded\\r'), FloatProgress(value=1.0, max=1.0)))"
      ],
      "application/vnd.jupyter.widget-view+json": {
       "version_major": 2,
       "version_minor": 0,
       "model_id": "54e04b94888d43ea93483098d5e97e34"
      }
     },
     "metadata": {},
     "output_type": "display_data"
    },
    {
     "data": {
      "text/plain": [
       "<IPython.core.display.HTML object>"
      ],
      "text/html": [
       "<style>\n",
       "    table.wandb td:nth-child(1) { padding: 0 10px; text-align: left ; width: auto;} td:nth-child(2) {text-align: left ; width: 100%}\n",
       "    .wandb-row { display: flex; flex-direction: row; flex-wrap: wrap; justify-content: flex-start; width: 100% }\n",
       "    .wandb-col { display: flex; flex-direction: column; flex-basis: 100%; flex: 1; padding: 10px; }\n",
       "    </style>\n",
       "<div class=\"wandb-row\"><div class=\"wandb-col\"><h3>Run history:</h3><br/><table class=\"wandb\"><tr><td>avg_char_per_token</td><td>▁</td></tr></table><br/></div><div class=\"wandb-col\"><h3>Run summary:</h3><br/><table class=\"wandb\"><tr><td>avg_bits_per_token</td><td>34.29449</td></tr><tr><td>avg_char_per_token</td><td>4.25676</td></tr><tr><td>base_avg</td><td>0.60456</td></tr><tr><td>blimp_avg</td><td>0.60107</td></tr><tr><td>boolq</td><td>0.63624</td></tr><tr><td>cola</td><td>0</td></tr><tr><td>eval/loss</td><td>0.71292</td></tr><tr><td>eval/runtime</td><td>38.0416</td></tr><tr><td>eval/samples_per_second</td><td>578.051</td></tr><tr><td>eval/steps_per_second</td><td>36.145</td></tr><tr><td>glue_avg</td><td>0.57488</td></tr><tr><td>mnli</td><td>0.65727</td></tr><tr><td>mnli-mm</td><td>0.66184</td></tr><tr><td>model</td><td>BERT-3k-sp-9.0M-2L-4...</td></tr><tr><td>mrpc</td><td>0.69707</td></tr><tr><td>multirc</td><td>0.38706</td></tr><tr><td>qnli</td><td>0.61549</td></tr><tr><td>qqp</td><td>0.77679</td></tr><tr><td>rte</td><td>0.47475</td></tr><tr><td>sst2</td><td>0.82677</td></tr><tr><td>supp_avg</td><td>0.59271</td></tr><tr><td>total_flos</td><td>4.752433855070208e+16</td></tr><tr><td>train/epoch</td><td>0.99998</td></tr><tr><td>train/global_step</td><td>8280</td></tr><tr><td>train/grad_norm</td><td>0.68124</td></tr><tr><td>train/learning_rate</td><td>0.0</td></tr><tr><td>train/loss</td><td>0.8576</td></tr><tr><td>train_loss</td><td>1.24519</td></tr><tr><td>train_runtime</td><td>8539.2049</td></tr><tr><td>train_samples_per_second</td><td>248.234</td></tr><tr><td>train_steps_per_second</td><td>0.97</td></tr><tr><td>wsc</td><td>0.59036</td></tr></table><br/></div></div>"
      ]
     },
     "metadata": {},
     "output_type": "display_data"
    },
    {
     "data": {
      "text/plain": [
       "<IPython.core.display.HTML object>"
      ],
      "text/html": [
       " View run <strong style=\"color:#cdcd00\">BERT-3k-sp-9.0M-2L-4H-700C-1024I</strong> at: <a href='https://wandb.ai/tiny-transformers/tokenizers/runs/uwvpu3ys' target=\"_blank\">https://wandb.ai/tiny-transformers/tokenizers/runs/uwvpu3ys</a><br/> View project at: <a href='https://wandb.ai/tiny-transformers/tokenizers' target=\"_blank\">https://wandb.ai/tiny-transformers/tokenizers</a><br/>Synced 4 W&B file(s), 0 media file(s), 0 artifact file(s) and 0 other file(s)"
      ]
     },
     "metadata": {},
     "output_type": "display_data"
    },
    {
     "data": {
      "text/plain": [
       "<IPython.core.display.HTML object>"
      ],
      "text/html": [
       "Find logs at: <code>./wandb/run-20240620_142908-uwvpu3ys/logs</code>"
      ]
     },
     "metadata": {},
     "output_type": "display_data"
    },
    {
     "data": {
      "text/plain": [
       "VBox(children=(Label(value='Waiting for wandb.init()...\\r'), FloatProgress(value=0.011112468700028128, max=1.0…"
      ],
      "application/vnd.jupyter.widget-view+json": {
       "version_major": 2,
       "version_minor": 0,
       "model_id": "86881d8028a54693ae431af463a538e8"
      }
     },
     "metadata": {},
     "output_type": "display_data"
    },
    {
     "data": {
      "text/plain": [
       "<IPython.core.display.HTML object>"
      ],
      "text/html": [
       "wandb version 0.17.2 is available!  To upgrade, please run:\n",
       " $ pip install wandb --upgrade"
      ]
     },
     "metadata": {},
     "output_type": "display_data"
    },
    {
     "data": {
      "text/plain": [
       "<IPython.core.display.HTML object>"
      ],
      "text/html": [
       "Tracking run with wandb version 0.17.0"
      ]
     },
     "metadata": {},
     "output_type": "display_data"
    },
    {
     "data": {
      "text/plain": [
       "<IPython.core.display.HTML object>"
      ],
      "text/html": [
       "Run data is saved locally in <code>/home/prometheus/TUDelft/cse/year3/RP/tiny-transformers/code/rafael-tokenisation/wandb/run-20240620_142916-onss3ual</code>"
      ]
     },
     "metadata": {},
     "output_type": "display_data"
    },
    {
     "data": {
      "text/plain": [
       "<IPython.core.display.HTML object>"
      ],
      "text/html": [
       "Resuming run <strong><a href='https://wandb.ai/tiny-transformers/tokenizers/runs/onss3ual' target=\"_blank\">GPT-3k-sp-9.0M-2L-4H-700C-1024I</a></strong> to <a href='https://wandb.ai/tiny-transformers/tokenizers' target=\"_blank\">Weights & Biases</a> (<a href='https://wandb.me/run' target=\"_blank\">docs</a>)<br/>"
      ]
     },
     "metadata": {},
     "output_type": "display_data"
    },
    {
     "data": {
      "text/plain": [
       "<IPython.core.display.HTML object>"
      ],
      "text/html": [
       " View project at <a href='https://wandb.ai/tiny-transformers/tokenizers' target=\"_blank\">https://wandb.ai/tiny-transformers/tokenizers</a>"
      ]
     },
     "metadata": {},
     "output_type": "display_data"
    },
    {
     "data": {
      "text/plain": [
       "<IPython.core.display.HTML object>"
      ],
      "text/html": [
       " View run at <a href='https://wandb.ai/tiny-transformers/tokenizers/runs/onss3ual' target=\"_blank\">https://wandb.ai/tiny-transformers/tokenizers/runs/onss3ual</a>"
      ]
     },
     "metadata": {},
     "output_type": "display_data"
    },
    {
     "name": "stdout",
     "output_type": "stream",
     "text": [
      "{'model': 'GPT-3k-sp-9.0M-2L-4H-700C-1024I', 'avg_char_per_token': 4.256761268781302}\n"
     ]
    },
    {
     "data": {
      "text/plain": [
       "VBox(children=(Label(value='0.000 MB of 0.000 MB uploaded\\r'), FloatProgress(value=1.0, max=1.0)))"
      ],
      "application/vnd.jupyter.widget-view+json": {
       "version_major": 2,
       "version_minor": 0,
       "model_id": "6339c6194b8245fe92104e1206b10e08"
      }
     },
     "metadata": {},
     "output_type": "display_data"
    },
    {
     "data": {
      "text/plain": [
       "<IPython.core.display.HTML object>"
      ],
      "text/html": [
       "<style>\n",
       "    table.wandb td:nth-child(1) { padding: 0 10px; text-align: left ; width: auto;} td:nth-child(2) {text-align: left ; width: 100%}\n",
       "    .wandb-row { display: flex; flex-direction: row; flex-wrap: wrap; justify-content: flex-start; width: 100% }\n",
       "    .wandb-col { display: flex; flex-direction: column; flex-basis: 100%; flex: 1; padding: 10px; }\n",
       "    </style>\n",
       "<div class=\"wandb-row\"><div class=\"wandb-col\"><h3>Run history:</h3><br/><table class=\"wandb\"><tr><td>avg_char_per_token</td><td>▁</td></tr></table><br/></div><div class=\"wandb-col\"><h3>Run summary:</h3><br/><table class=\"wandb\"><tr><td>avg_bits_per_token</td><td>34.29449</td></tr><tr><td>avg_char_per_token</td><td>4.25676</td></tr><tr><td>base_avg</td><td>0.55606</td></tr><tr><td>blimp_avg</td><td>0.54458</td></tr><tr><td>boolq</td><td>0.60858</td></tr><tr><td>cola</td><td>0.00819</td></tr><tr><td>eval/loss</td><td>1.56439</td></tr><tr><td>eval/runtime</td><td>37.3656</td></tr><tr><td>eval/samples_per_second</td><td>588.51</td></tr><tr><td>eval/steps_per_second</td><td>36.799</td></tr><tr><td>glue_avg</td><td>0.56139</td></tr><tr><td>mnli</td><td>0.621</td></tr><tr><td>mnli-mm</td><td>0.62381</td></tr><tr><td>model</td><td>GPT-3k-sp-9.0M-2L-4H...</td></tr><tr><td>mrpc</td><td>0.68198</td></tr><tr><td>multirc</td><td>0.35988</td></tr><tr><td>qnli</td><td>0.57962</td></tr><tr><td>qqp</td><td>0.74151</td></tr><tr><td>rte</td><td>0.54545</td></tr><tr><td>sst2</td><td>0.81496</td></tr><tr><td>supp_avg</td><td>0.51702</td></tr><tr><td>total_flos</td><td>4.427306823057408e+16</td></tr><tr><td>train/epoch</td><td>0.99998</td></tr><tr><td>train/global_step</td><td>8280</td></tr><tr><td>train/grad_norm</td><td>0.76836</td></tr><tr><td>train/learning_rate</td><td>0.0</td></tr><tr><td>train/loss</td><td>1.5494</td></tr><tr><td>train_loss</td><td>1.97958</td></tr><tr><td>train_runtime</td><td>8386.1295</td></tr><tr><td>train_samples_per_second</td><td>252.765</td></tr><tr><td>train_steps_per_second</td><td>0.987</td></tr><tr><td>wsc</td><td>0.59036</td></tr></table><br/></div></div>"
      ]
     },
     "metadata": {},
     "output_type": "display_data"
    },
    {
     "data": {
      "text/plain": [
       "<IPython.core.display.HTML object>"
      ],
      "text/html": [
       " View run <strong style=\"color:#cdcd00\">GPT-3k-sp-9.0M-2L-4H-700C-1024I</strong> at: <a href='https://wandb.ai/tiny-transformers/tokenizers/runs/onss3ual' target=\"_blank\">https://wandb.ai/tiny-transformers/tokenizers/runs/onss3ual</a><br/> View project at: <a href='https://wandb.ai/tiny-transformers/tokenizers' target=\"_blank\">https://wandb.ai/tiny-transformers/tokenizers</a><br/>Synced 4 W&B file(s), 0 media file(s), 0 artifact file(s) and 0 other file(s)"
      ]
     },
     "metadata": {},
     "output_type": "display_data"
    },
    {
     "data": {
      "text/plain": [
       "<IPython.core.display.HTML object>"
      ],
      "text/html": [
       "Find logs at: <code>./wandb/run-20240620_142916-onss3ual/logs</code>"
      ]
     },
     "metadata": {},
     "output_type": "display_data"
    },
    {
     "data": {
      "text/plain": [
       "VBox(children=(Label(value='Waiting for wandb.init()...\\r'), FloatProgress(value=0.011112114022641133, max=1.0…"
      ],
      "application/vnd.jupyter.widget-view+json": {
       "version_major": 2,
       "version_minor": 0,
       "model_id": "91a5fa7baf4341a98f641041db6d4e02"
      }
     },
     "metadata": {},
     "output_type": "display_data"
    },
    {
     "data": {
      "text/plain": [
       "<IPython.core.display.HTML object>"
      ],
      "text/html": [
       "wandb version 0.17.2 is available!  To upgrade, please run:\n",
       " $ pip install wandb --upgrade"
      ]
     },
     "metadata": {},
     "output_type": "display_data"
    },
    {
     "data": {
      "text/plain": [
       "<IPython.core.display.HTML object>"
      ],
      "text/html": [
       "Tracking run with wandb version 0.17.0"
      ]
     },
     "metadata": {},
     "output_type": "display_data"
    },
    {
     "data": {
      "text/plain": [
       "<IPython.core.display.HTML object>"
      ],
      "text/html": [
       "Run data is saved locally in <code>/home/prometheus/TUDelft/cse/year3/RP/tiny-transformers/code/rafael-tokenisation/wandb/run-20240620_142923-7sz8jti9</code>"
      ]
     },
     "metadata": {},
     "output_type": "display_data"
    },
    {
     "data": {
      "text/plain": [
       "<IPython.core.display.HTML object>"
      ],
      "text/html": [
       "Resuming run <strong><a href='https://wandb.ai/tiny-transformers/tokenizers/runs/7sz8jti9' target=\"_blank\">BERT-6k-sp-9.0M-2L-4H-604C-1024I</a></strong> to <a href='https://wandb.ai/tiny-transformers/tokenizers' target=\"_blank\">Weights & Biases</a> (<a href='https://wandb.me/run' target=\"_blank\">docs</a>)<br/>"
      ]
     },
     "metadata": {},
     "output_type": "display_data"
    },
    {
     "data": {
      "text/plain": [
       "<IPython.core.display.HTML object>"
      ],
      "text/html": [
       " View project at <a href='https://wandb.ai/tiny-transformers/tokenizers' target=\"_blank\">https://wandb.ai/tiny-transformers/tokenizers</a>"
      ]
     },
     "metadata": {},
     "output_type": "display_data"
    },
    {
     "data": {
      "text/plain": [
       "<IPython.core.display.HTML object>"
      ],
      "text/html": [
       " View run at <a href='https://wandb.ai/tiny-transformers/tokenizers/runs/7sz8jti9' target=\"_blank\">https://wandb.ai/tiny-transformers/tokenizers/runs/7sz8jti9</a>"
      ]
     },
     "metadata": {},
     "output_type": "display_data"
    },
    {
     "name": "stdout",
     "output_type": "stream",
     "text": [
      "{'model': 'BERT-6k-sp-9.0M-2L-4H-604C-1024I', 'avg_char_per_token': 4.941284403669725}\n"
     ]
    },
    {
     "data": {
      "text/plain": [
       "VBox(children=(Label(value='0.000 MB of 0.000 MB uploaded\\r'), FloatProgress(value=1.0, max=1.0)))"
      ],
      "application/vnd.jupyter.widget-view+json": {
       "version_major": 2,
       "version_minor": 0,
       "model_id": "57be8b6445d14522a8e5dc4855a48bd8"
      }
     },
     "metadata": {},
     "output_type": "display_data"
    },
    {
     "data": {
      "text/plain": [
       "<IPython.core.display.HTML object>"
      ],
      "text/html": [
       "<style>\n",
       "    table.wandb td:nth-child(1) { padding: 0 10px; text-align: left ; width: auto;} td:nth-child(2) {text-align: left ; width: 100%}\n",
       "    .wandb-row { display: flex; flex-direction: row; flex-wrap: wrap; justify-content: flex-start; width: 100% }\n",
       "    .wandb-col { display: flex; flex-direction: column; flex-basis: 100%; flex: 1; padding: 10px; }\n",
       "    </style>\n",
       "<div class=\"wandb-row\"><div class=\"wandb-col\"><h3>Run history:</h3><br/><table class=\"wandb\"><tr><td>avg_char_per_token</td><td>▁</td></tr></table><br/></div><div class=\"wandb-col\"><h3>Run summary:</h3><br/><table class=\"wandb\"><tr><td>avg_bits_per_token</td><td>39.65438</td></tr><tr><td>avg_char_per_token</td><td>4.94128</td></tr><tr><td>base_avg</td><td>0.61159</td></tr><tr><td>blimp_avg</td><td>0.59909</td></tr><tr><td>boolq</td><td>0.62932</td></tr><tr><td>cola</td><td>0.06691</td></tr><tr><td>eval/loss</td><td>0.84615</td></tr><tr><td>eval/runtime</td><td>37.9444</td></tr><tr><td>eval/samples_per_second</td><td>579.533</td></tr><tr><td>eval/steps_per_second</td><td>36.237</td></tr><tr><td>glue_avg</td><td>0.59295</td></tr><tr><td>mnli</td><td>0.68607</td></tr><tr><td>mnli-mm</td><td>0.68857</td></tr><tr><td>model</td><td>BERT-6k-sp-9.0M-2L-4...</td></tr><tr><td>mrpc</td><td>0.69281</td></tr><tr><td>multirc</td><td>0.36114</td></tr><tr><td>qnli</td><td>0.73928</td></tr><tr><td>qqp</td><td>0.80828</td></tr><tr><td>rte</td><td>0.45455</td></tr><tr><td>sst2</td><td>0.80512</td></tr><tr><td>supp_avg</td><td>0.56909</td></tr><tr><td>total_flos</td><td>3.763261069590528e+16</td></tr><tr><td>train/epoch</td><td>0.99998</td></tr><tr><td>train/global_step</td><td>8280</td></tr><tr><td>train/grad_norm</td><td>0.77927</td></tr><tr><td>train/learning_rate</td><td>0.0</td></tr><tr><td>train/loss</td><td>0.9976</td></tr><tr><td>train_loss</td><td>1.41954</td></tr><tr><td>train_runtime</td><td>8545.4787</td></tr><tr><td>train_samples_per_second</td><td>248.052</td></tr><tr><td>train_steps_per_second</td><td>0.969</td></tr><tr><td>wsc</td><td>0.59036</td></tr></table><br/></div></div>"
      ]
     },
     "metadata": {},
     "output_type": "display_data"
    },
    {
     "data": {
      "text/plain": [
       "<IPython.core.display.HTML object>"
      ],
      "text/html": [
       " View run <strong style=\"color:#cdcd00\">BERT-6k-sp-9.0M-2L-4H-604C-1024I</strong> at: <a href='https://wandb.ai/tiny-transformers/tokenizers/runs/7sz8jti9' target=\"_blank\">https://wandb.ai/tiny-transformers/tokenizers/runs/7sz8jti9</a><br/> View project at: <a href='https://wandb.ai/tiny-transformers/tokenizers' target=\"_blank\">https://wandb.ai/tiny-transformers/tokenizers</a><br/>Synced 4 W&B file(s), 0 media file(s), 0 artifact file(s) and 0 other file(s)"
      ]
     },
     "metadata": {},
     "output_type": "display_data"
    },
    {
     "data": {
      "text/plain": [
       "<IPython.core.display.HTML object>"
      ],
      "text/html": [
       "Find logs at: <code>./wandb/run-20240620_142923-7sz8jti9/logs</code>"
      ]
     },
     "metadata": {},
     "output_type": "display_data"
    },
    {
     "data": {
      "text/plain": [
       "VBox(children=(Label(value='Waiting for wandb.init()...\\r'), FloatProgress(value=0.01111217899985301, max=1.0)…"
      ],
      "application/vnd.jupyter.widget-view+json": {
       "version_major": 2,
       "version_minor": 0,
       "model_id": "094a66e73142478bb560adbf56456157"
      }
     },
     "metadata": {},
     "output_type": "display_data"
    },
    {
     "data": {
      "text/plain": [
       "<IPython.core.display.HTML object>"
      ],
      "text/html": [
       "wandb version 0.17.2 is available!  To upgrade, please run:\n",
       " $ pip install wandb --upgrade"
      ]
     },
     "metadata": {},
     "output_type": "display_data"
    },
    {
     "data": {
      "text/plain": [
       "<IPython.core.display.HTML object>"
      ],
      "text/html": [
       "Tracking run with wandb version 0.17.0"
      ]
     },
     "metadata": {},
     "output_type": "display_data"
    },
    {
     "data": {
      "text/plain": [
       "<IPython.core.display.HTML object>"
      ],
      "text/html": [
       "Run data is saved locally in <code>/home/prometheus/TUDelft/cse/year3/RP/tiny-transformers/code/rafael-tokenisation/wandb/run-20240620_142931-dj8hj5x5</code>"
      ]
     },
     "metadata": {},
     "output_type": "display_data"
    },
    {
     "data": {
      "text/plain": [
       "<IPython.core.display.HTML object>"
      ],
      "text/html": [
       "Resuming run <strong><a href='https://wandb.ai/tiny-transformers/tokenizers/runs/dj8hj5x5' target=\"_blank\">GPT-6k-sp-9.0M-2L-4H-604C-1024I</a></strong> to <a href='https://wandb.ai/tiny-transformers/tokenizers' target=\"_blank\">Weights & Biases</a> (<a href='https://wandb.me/run' target=\"_blank\">docs</a>)<br/>"
      ]
     },
     "metadata": {},
     "output_type": "display_data"
    },
    {
     "data": {
      "text/plain": [
       "<IPython.core.display.HTML object>"
      ],
      "text/html": [
       " View project at <a href='https://wandb.ai/tiny-transformers/tokenizers' target=\"_blank\">https://wandb.ai/tiny-transformers/tokenizers</a>"
      ]
     },
     "metadata": {},
     "output_type": "display_data"
    },
    {
     "data": {
      "text/plain": [
       "<IPython.core.display.HTML object>"
      ],
      "text/html": [
       " View run at <a href='https://wandb.ai/tiny-transformers/tokenizers/runs/dj8hj5x5' target=\"_blank\">https://wandb.ai/tiny-transformers/tokenizers/runs/dj8hj5x5</a>"
      ]
     },
     "metadata": {},
     "output_type": "display_data"
    },
    {
     "name": "stdout",
     "output_type": "stream",
     "text": [
      "{'model': 'GPT-6k-sp-9.0M-2L-4H-604C-1024I', 'avg_char_per_token': 4.941284403669725}\n"
     ]
    },
    {
     "data": {
      "text/plain": [
       "VBox(children=(Label(value='0.000 MB of 0.000 MB uploaded\\r'), FloatProgress(value=1.0, max=1.0)))"
      ],
      "application/vnd.jupyter.widget-view+json": {
       "version_major": 2,
       "version_minor": 0,
       "model_id": "2cefaeebadbc4132ad11a48cdc571176"
      }
     },
     "metadata": {},
     "output_type": "display_data"
    },
    {
     "data": {
      "text/plain": [
       "<IPython.core.display.HTML object>"
      ],
      "text/html": [
       "<style>\n",
       "    table.wandb td:nth-child(1) { padding: 0 10px; text-align: left ; width: auto;} td:nth-child(2) {text-align: left ; width: 100%}\n",
       "    .wandb-row { display: flex; flex-direction: row; flex-wrap: wrap; justify-content: flex-start; width: 100% }\n",
       "    .wandb-col { display: flex; flex-direction: column; flex-basis: 100%; flex: 1; padding: 10px; }\n",
       "    </style>\n",
       "<div class=\"wandb-row\"><div class=\"wandb-col\"><h3>Run history:</h3><br/><table class=\"wandb\"><tr><td>avg_char_per_token</td><td>▁</td></tr></table><br/></div><div class=\"wandb-col\"><h3>Run summary:</h3><br/><table class=\"wandb\"><tr><td>avg_bits_per_token</td><td>39.65438</td></tr><tr><td>avg_char_per_token</td><td>4.94128</td></tr><tr><td>base_avg</td><td>0.58527</td></tr><tr><td>blimp_avg</td><td>0.57423</td></tr><tr><td>boolq</td><td>0.63762</td></tr><tr><td>cola</td><td>0.01326</td></tr><tr><td>eval/loss</td><td>1.55216</td></tr><tr><td>eval/runtime</td><td>37.3638</td></tr><tr><td>eval/samples_per_second</td><td>588.538</td></tr><tr><td>eval/steps_per_second</td><td>36.8</td></tr><tr><td>glue_avg</td><td>0.56294</td></tr><tr><td>mnli</td><td>0.67556</td></tr><tr><td>mnli-mm</td><td>0.68364</td></tr><tr><td>model</td><td>GPT-6k-sp-9.0M-2L-4H...</td></tr><tr><td>mrpc</td><td>0.66342</td></tr><tr><td>multirc</td><td>0.38594</td></tr><tr><td>qnli</td><td>0.57174</td></tr><tr><td>qqp</td><td>0.77355</td></tr><tr><td>rte</td><td>0.48485</td></tr><tr><td>sst2</td><td>0.82087</td></tr><tr><td>supp_avg</td><td>0.54772</td></tr><tr><td>total_flos</td><td>3.518258674139136e+16</td></tr><tr><td>train/epoch</td><td>0.99998</td></tr><tr><td>train/global_step</td><td>8280</td></tr><tr><td>train/grad_norm</td><td>0.73338</td></tr><tr><td>train/learning_rate</td><td>0.0</td></tr><tr><td>train/loss</td><td>1.5289</td></tr><tr><td>train_loss</td><td>1.81291</td></tr><tr><td>train_runtime</td><td>8890.9631</td></tr><tr><td>train_samples_per_second</td><td>238.413</td></tr><tr><td>train_steps_per_second</td><td>0.931</td></tr><tr><td>wsc</td><td>0.48193</td></tr></table><br/></div></div>"
      ]
     },
     "metadata": {},
     "output_type": "display_data"
    },
    {
     "data": {
      "text/plain": [
       "<IPython.core.display.HTML object>"
      ],
      "text/html": [
       " View run <strong style=\"color:#cdcd00\">GPT-6k-sp-9.0M-2L-4H-604C-1024I</strong> at: <a href='https://wandb.ai/tiny-transformers/tokenizers/runs/dj8hj5x5' target=\"_blank\">https://wandb.ai/tiny-transformers/tokenizers/runs/dj8hj5x5</a><br/> View project at: <a href='https://wandb.ai/tiny-transformers/tokenizers' target=\"_blank\">https://wandb.ai/tiny-transformers/tokenizers</a><br/>Synced 4 W&B file(s), 0 media file(s), 0 artifact file(s) and 0 other file(s)"
      ]
     },
     "metadata": {},
     "output_type": "display_data"
    },
    {
     "data": {
      "text/plain": [
       "<IPython.core.display.HTML object>"
      ],
      "text/html": [
       "Find logs at: <code>./wandb/run-20240620_142931-dj8hj5x5/logs</code>"
      ]
     },
     "metadata": {},
     "output_type": "display_data"
    },
    {
     "data": {
      "text/plain": [
       "VBox(children=(Label(value='Waiting for wandb.init()...\\r'), FloatProgress(value=0.01111245137742824, max=1.0)…"
      ],
      "application/vnd.jupyter.widget-view+json": {
       "version_major": 2,
       "version_minor": 0,
       "model_id": "1261315cdfff4dd0ae087659ee484752"
      }
     },
     "metadata": {},
     "output_type": "display_data"
    },
    {
     "data": {
      "text/plain": [
       "<IPython.core.display.HTML object>"
      ],
      "text/html": [
       "wandb version 0.17.2 is available!  To upgrade, please run:\n",
       " $ pip install wandb --upgrade"
      ]
     },
     "metadata": {},
     "output_type": "display_data"
    },
    {
     "data": {
      "text/plain": [
       "<IPython.core.display.HTML object>"
      ],
      "text/html": [
       "Tracking run with wandb version 0.17.0"
      ]
     },
     "metadata": {},
     "output_type": "display_data"
    },
    {
     "data": {
      "text/plain": [
       "<IPython.core.display.HTML object>"
      ],
      "text/html": [
       "Run data is saved locally in <code>/home/prometheus/TUDelft/cse/year3/RP/tiny-transformers/code/rafael-tokenisation/wandb/run-20240620_142938-9c8y8klc</code>"
      ]
     },
     "metadata": {},
     "output_type": "display_data"
    },
    {
     "data": {
      "text/plain": [
       "<IPython.core.display.HTML object>"
      ],
      "text/html": [
       "Resuming run <strong><a href='https://wandb.ai/tiny-transformers/tokenizers/runs/9c8y8klc' target=\"_blank\">BERT-10k-sp-9.0M-2L-4H-516C-1024I</a></strong> to <a href='https://wandb.ai/tiny-transformers/tokenizers' target=\"_blank\">Weights & Biases</a> (<a href='https://wandb.me/run' target=\"_blank\">docs</a>)<br/>"
      ]
     },
     "metadata": {},
     "output_type": "display_data"
    },
    {
     "data": {
      "text/plain": [
       "<IPython.core.display.HTML object>"
      ],
      "text/html": [
       " View project at <a href='https://wandb.ai/tiny-transformers/tokenizers' target=\"_blank\">https://wandb.ai/tiny-transformers/tokenizers</a>"
      ]
     },
     "metadata": {},
     "output_type": "display_data"
    },
    {
     "data": {
      "text/plain": [
       "<IPython.core.display.HTML object>"
      ],
      "text/html": [
       " View run at <a href='https://wandb.ai/tiny-transformers/tokenizers/runs/9c8y8klc' target=\"_blank\">https://wandb.ai/tiny-transformers/tokenizers/runs/9c8y8klc</a>"
      ]
     },
     "metadata": {},
     "output_type": "display_data"
    },
    {
     "name": "stdout",
     "output_type": "stream",
     "text": [
      "{'model': 'BERT-10k-sp-9.0M-2L-4H-516C-1024I', 'avg_char_per_token': 5.283541770885443}\n"
     ]
    },
    {
     "data": {
      "text/plain": [
       "VBox(children=(Label(value='0.000 MB of 0.000 MB uploaded\\r'), FloatProgress(value=1.0, max=1.0)))"
      ],
      "application/vnd.jupyter.widget-view+json": {
       "version_major": 2,
       "version_minor": 0,
       "model_id": "b2915d9d73de42319dd59e41533e8205"
      }
     },
     "metadata": {},
     "output_type": "display_data"
    },
    {
     "data": {
      "text/plain": [
       "<IPython.core.display.HTML object>"
      ],
      "text/html": [
       "<style>\n",
       "    table.wandb td:nth-child(1) { padding: 0 10px; text-align: left ; width: auto;} td:nth-child(2) {text-align: left ; width: 100%}\n",
       "    .wandb-row { display: flex; flex-direction: row; flex-wrap: wrap; justify-content: flex-start; width: 100% }\n",
       "    .wandb-col { display: flex; flex-direction: column; flex-basis: 100%; flex: 1; padding: 10px; }\n",
       "    </style>\n",
       "<div class=\"wandb-row\"><div class=\"wandb-col\"><h3>Run history:</h3><br/><table class=\"wandb\"><tr><td>avg_char_per_token</td><td>▁</td></tr></table><br/></div><div class=\"wandb-col\"><h3>Run summary:</h3><br/><table class=\"wandb\"><tr><td>avg_bits_per_token</td><td>42.35318</td></tr><tr><td>avg_char_per_token</td><td>5.28354</td></tr><tr><td>base_avg</td><td>0.61665</td></tr><tr><td>blimp_avg</td><td>0.60439</td></tr><tr><td>boolq</td><td>0.639</td></tr><tr><td>cola</td><td>0</td></tr><tr><td>eval/loss</td><td>0.91136</td></tr><tr><td>eval/runtime</td><td>40.5176</td></tr><tr><td>eval/samples_per_second</td><td>542.728</td></tr><tr><td>eval/steps_per_second</td><td>33.936</td></tr><tr><td>glue_avg</td><td>0.601</td></tr><tr><td>mnli</td><td>0.70162</td></tr><tr><td>mnli-mm</td><td>0.69335</td></tr><tr><td>model</td><td>BERT-10k-sp-9.0M-2L-...</td></tr><tr><td>mrpc</td><td>0.65815</td></tr><tr><td>multirc</td><td>0.3479</td></tr><tr><td>qnli</td><td>0.75284</td></tr><tr><td>qqp</td><td>0.8157</td></tr><tr><td>rte</td><td>0.54545</td></tr><tr><td>sst2</td><td>0.84252</td></tr><tr><td>supp_avg</td><td>0.57498</td></tr><tr><td>total_flos</td><td>2.952226381234176e+16</td></tr><tr><td>train/epoch</td><td>0.99998</td></tr><tr><td>train/global_step</td><td>8280</td></tr><tr><td>train/grad_norm</td><td>0.78156</td></tr><tr><td>train/learning_rate</td><td>0.0</td></tr><tr><td>train/loss</td><td>1.0777</td></tr><tr><td>train_loss</td><td>1.53523</td></tr><tr><td>train_runtime</td><td>9723.0192</td></tr><tr><td>train_samples_per_second</td><td>218.01</td></tr><tr><td>train_steps_per_second</td><td>0.852</td></tr><tr><td>wsc</td><td>0.61446</td></tr></table><br/></div></div>"
      ]
     },
     "metadata": {},
     "output_type": "display_data"
    },
    {
     "data": {
      "text/plain": [
       "<IPython.core.display.HTML object>"
      ],
      "text/html": [
       " View run <strong style=\"color:#cdcd00\">BERT-10k-sp-9.0M-2L-4H-516C-1024I</strong> at: <a href='https://wandb.ai/tiny-transformers/tokenizers/runs/9c8y8klc' target=\"_blank\">https://wandb.ai/tiny-transformers/tokenizers/runs/9c8y8klc</a><br/> View project at: <a href='https://wandb.ai/tiny-transformers/tokenizers' target=\"_blank\">https://wandb.ai/tiny-transformers/tokenizers</a><br/>Synced 4 W&B file(s), 0 media file(s), 0 artifact file(s) and 0 other file(s)"
      ]
     },
     "metadata": {},
     "output_type": "display_data"
    },
    {
     "data": {
      "text/plain": [
       "<IPython.core.display.HTML object>"
      ],
      "text/html": [
       "Find logs at: <code>./wandb/run-20240620_142938-9c8y8klc/logs</code>"
      ]
     },
     "metadata": {},
     "output_type": "display_data"
    },
    {
     "data": {
      "text/plain": [
       "VBox(children=(Label(value='Waiting for wandb.init()...\\r'), FloatProgress(value=0.011112526178153025, max=1.0…"
      ],
      "application/vnd.jupyter.widget-view+json": {
       "version_major": 2,
       "version_minor": 0,
       "model_id": "24e4ad2301ef4ae2a1e60c239240986f"
      }
     },
     "metadata": {},
     "output_type": "display_data"
    },
    {
     "data": {
      "text/plain": [
       "<IPython.core.display.HTML object>"
      ],
      "text/html": [
       "wandb version 0.17.2 is available!  To upgrade, please run:\n",
       " $ pip install wandb --upgrade"
      ]
     },
     "metadata": {},
     "output_type": "display_data"
    },
    {
     "data": {
      "text/plain": [
       "<IPython.core.display.HTML object>"
      ],
      "text/html": [
       "Tracking run with wandb version 0.17.0"
      ]
     },
     "metadata": {},
     "output_type": "display_data"
    },
    {
     "data": {
      "text/plain": [
       "<IPython.core.display.HTML object>"
      ],
      "text/html": [
       "Run data is saved locally in <code>/home/prometheus/TUDelft/cse/year3/RP/tiny-transformers/code/rafael-tokenisation/wandb/run-20240620_142946-0fgzq9am</code>"
      ]
     },
     "metadata": {},
     "output_type": "display_data"
    },
    {
     "data": {
      "text/plain": [
       "<IPython.core.display.HTML object>"
      ],
      "text/html": [
       "Resuming run <strong><a href='https://wandb.ai/tiny-transformers/tokenizers/runs/0fgzq9am' target=\"_blank\">GPT-10k-sp-9.0M-2L-4H-516C-1024I</a></strong> to <a href='https://wandb.ai/tiny-transformers/tokenizers' target=\"_blank\">Weights & Biases</a> (<a href='https://wandb.me/run' target=\"_blank\">docs</a>)<br/>"
      ]
     },
     "metadata": {},
     "output_type": "display_data"
    },
    {
     "data": {
      "text/plain": [
       "<IPython.core.display.HTML object>"
      ],
      "text/html": [
       " View project at <a href='https://wandb.ai/tiny-transformers/tokenizers' target=\"_blank\">https://wandb.ai/tiny-transformers/tokenizers</a>"
      ]
     },
     "metadata": {},
     "output_type": "display_data"
    },
    {
     "data": {
      "text/plain": [
       "<IPython.core.display.HTML object>"
      ],
      "text/html": [
       " View run at <a href='https://wandb.ai/tiny-transformers/tokenizers/runs/0fgzq9am' target=\"_blank\">https://wandb.ai/tiny-transformers/tokenizers/runs/0fgzq9am</a>"
      ]
     },
     "metadata": {},
     "output_type": "display_data"
    },
    {
     "name": "stdout",
     "output_type": "stream",
     "text": [
      "{'model': 'GPT-10k-sp-9.0M-2L-4H-516C-1024I', 'avg_char_per_token': 5.283541770885443}\n"
     ]
    },
    {
     "data": {
      "text/plain": [
       "VBox(children=(Label(value='0.000 MB of 0.000 MB uploaded\\r'), FloatProgress(value=1.0, max=1.0)))"
      ],
      "application/vnd.jupyter.widget-view+json": {
       "version_major": 2,
       "version_minor": 0,
       "model_id": "04fcb89f4a5146b89888dcedc2552f9a"
      }
     },
     "metadata": {},
     "output_type": "display_data"
    },
    {
     "data": {
      "text/plain": [
       "<IPython.core.display.HTML object>"
      ],
      "text/html": [
       "<style>\n",
       "    table.wandb td:nth-child(1) { padding: 0 10px; text-align: left ; width: auto;} td:nth-child(2) {text-align: left ; width: 100%}\n",
       "    .wandb-row { display: flex; flex-direction: row; flex-wrap: wrap; justify-content: flex-start; width: 100% }\n",
       "    .wandb-col { display: flex; flex-direction: column; flex-basis: 100%; flex: 1; padding: 10px; }\n",
       "    </style>\n",
       "<div class=\"wandb-row\"><div class=\"wandb-col\"><h3>Run history:</h3><br/><table class=\"wandb\"><tr><td>avg_char_per_token</td><td>▁</td></tr></table><br/></div><div class=\"wandb-col\"><h3>Run summary:</h3><br/><table class=\"wandb\"><tr><td>avg_bits_per_token</td><td>42.35318</td></tr><tr><td>avg_char_per_token</td><td>5.28354</td></tr><tr><td>base_avg</td><td>0.59579</td></tr><tr><td>blimp_avg</td><td>0.58994</td></tr><tr><td>boolq</td><td>0.63485</td></tr><tr><td>cola</td><td>-0.02315</td></tr><tr><td>eval/loss</td><td>1.60965</td></tr><tr><td>eval/runtime</td><td>46.488</td></tr><tr><td>eval/samples_per_second</td><td>473.025</td></tr><tr><td>eval/steps_per_second</td><td>29.578</td></tr><tr><td>glue_avg</td><td>0.57918</td></tr><tr><td>mnli</td><td>0.67754</td></tr><tr><td>mnli-mm</td><td>0.69574</td></tr><tr><td>model</td><td>GPT-10k-sp-9.0M-2L-4...</td></tr><tr><td>mrpc</td><td>0.72547</td></tr><tr><td>multirc</td><td>0.33273</td></tr><tr><td>qnli</td><td>0.60149</td></tr><tr><td>qqp</td><td>0.79849</td></tr><tr><td>rte</td><td>0.50505</td></tr><tr><td>sst2</td><td>0.84449</td></tr><tr><td>supp_avg</td><td>0.57589</td></tr><tr><td>total_flos</td><td>2.769313937227776e+16</td></tr><tr><td>train/epoch</td><td>0.99998</td></tr><tr><td>train/global_step</td><td>8280</td></tr><tr><td>train/grad_norm</td><td>0.74116</td></tr><tr><td>train/learning_rate</td><td>0.0</td></tr><tr><td>train/loss</td><td>1.5823</td></tr><tr><td>train_loss</td><td>1.86114</td></tr><tr><td>train_runtime</td><td>10468.8818</td></tr><tr><td>train_samples_per_second</td><td>202.478</td></tr><tr><td>train_steps_per_second</td><td>0.791</td></tr><tr><td>wsc</td><td>0.57831</td></tr></table><br/></div></div>"
      ]
     },
     "metadata": {},
     "output_type": "display_data"
    },
    {
     "data": {
      "text/plain": [
       "<IPython.core.display.HTML object>"
      ],
      "text/html": [
       " View run <strong style=\"color:#cdcd00\">GPT-10k-sp-9.0M-2L-4H-516C-1024I</strong> at: <a href='https://wandb.ai/tiny-transformers/tokenizers/runs/0fgzq9am' target=\"_blank\">https://wandb.ai/tiny-transformers/tokenizers/runs/0fgzq9am</a><br/> View project at: <a href='https://wandb.ai/tiny-transformers/tokenizers' target=\"_blank\">https://wandb.ai/tiny-transformers/tokenizers</a><br/>Synced 4 W&B file(s), 0 media file(s), 0 artifact file(s) and 0 other file(s)"
      ]
     },
     "metadata": {},
     "output_type": "display_data"
    },
    {
     "data": {
      "text/plain": [
       "<IPython.core.display.HTML object>"
      ],
      "text/html": [
       "Find logs at: <code>./wandb/run-20240620_142946-0fgzq9am/logs</code>"
      ]
     },
     "metadata": {},
     "output_type": "display_data"
    },
    {
     "data": {
      "text/plain": [
       "VBox(children=(Label(value='Waiting for wandb.init()...\\r'), FloatProgress(value=0.011112046321957475, max=1.0…"
      ],
      "application/vnd.jupyter.widget-view+json": {
       "version_major": 2,
       "version_minor": 0,
       "model_id": "99d8e3b19e8a4ee7a989c1ec5a612b62"
      }
     },
     "metadata": {},
     "output_type": "display_data"
    },
    {
     "data": {
      "text/plain": [
       "<IPython.core.display.HTML object>"
      ],
      "text/html": [
       "wandb version 0.17.2 is available!  To upgrade, please run:\n",
       " $ pip install wandb --upgrade"
      ]
     },
     "metadata": {},
     "output_type": "display_data"
    },
    {
     "data": {
      "text/plain": [
       "<IPython.core.display.HTML object>"
      ],
      "text/html": [
       "Tracking run with wandb version 0.17.0"
      ]
     },
     "metadata": {},
     "output_type": "display_data"
    },
    {
     "data": {
      "text/plain": [
       "<IPython.core.display.HTML object>"
      ],
      "text/html": [
       "Run data is saved locally in <code>/home/prometheus/TUDelft/cse/year3/RP/tiny-transformers/code/rafael-tokenisation/wandb/run-20240620_142954-mjk9p116</code>"
      ]
     },
     "metadata": {},
     "output_type": "display_data"
    },
    {
     "data": {
      "text/plain": [
       "<IPython.core.display.HTML object>"
      ],
      "text/html": [
       "Resuming run <strong><a href='https://wandb.ai/tiny-transformers/tokenizers/runs/mjk9p116' target=\"_blank\">BERT-15k-sp-9.0M-2L-4H-412C-1024I</a></strong> to <a href='https://wandb.ai/tiny-transformers/tokenizers' target=\"_blank\">Weights & Biases</a> (<a href='https://wandb.me/run' target=\"_blank\">docs</a>)<br/>"
      ]
     },
     "metadata": {},
     "output_type": "display_data"
    },
    {
     "data": {
      "text/plain": [
       "<IPython.core.display.HTML object>"
      ],
      "text/html": [
       " View project at <a href='https://wandb.ai/tiny-transformers/tokenizers' target=\"_blank\">https://wandb.ai/tiny-transformers/tokenizers</a>"
      ]
     },
     "metadata": {},
     "output_type": "display_data"
    },
    {
     "data": {
      "text/plain": [
       "<IPython.core.display.HTML object>"
      ],
      "text/html": [
       " View run at <a href='https://wandb.ai/tiny-transformers/tokenizers/runs/mjk9p116' target=\"_blank\">https://wandb.ai/tiny-transformers/tokenizers/runs/mjk9p116</a>"
      ]
     },
     "metadata": {},
     "output_type": "display_data"
    },
    {
     "name": "stdout",
     "output_type": "stream",
     "text": [
      "{'model': 'BERT-15k-sp-9.0M-2L-4H-412C-1024I', 'avg_char_per_token': 5.556585528509503}\n"
     ]
    },
    {
     "data": {
      "text/plain": [
       "VBox(children=(Label(value='0.000 MB of 0.000 MB uploaded\\r'), FloatProgress(value=1.0, max=1.0)))"
      ],
      "application/vnd.jupyter.widget-view+json": {
       "version_major": 2,
       "version_minor": 0,
       "model_id": "dec51870d34641dba30bbbb3f706ca16"
      }
     },
     "metadata": {},
     "output_type": "display_data"
    },
    {
     "data": {
      "text/plain": [
       "<IPython.core.display.HTML object>"
      ],
      "text/html": [
       "<style>\n",
       "    table.wandb td:nth-child(1) { padding: 0 10px; text-align: left ; width: auto;} td:nth-child(2) {text-align: left ; width: 100%}\n",
       "    .wandb-row { display: flex; flex-direction: row; flex-wrap: wrap; justify-content: flex-start; width: 100% }\n",
       "    .wandb-col { display: flex; flex-direction: column; flex-basis: 100%; flex: 1; padding: 10px; }\n",
       "    </style>\n",
       "<div class=\"wandb-row\"><div class=\"wandb-col\"><h3>Run history:</h3><br/><table class=\"wandb\"><tr><td>avg_char_per_token</td><td>▁</td></tr></table><br/></div><div class=\"wandb-col\"><h3>Run summary:</h3><br/><table class=\"wandb\"><tr><td>avg_bits_per_token</td><td>44.52257</td></tr><tr><td>avg_char_per_token</td><td>5.55659</td></tr><tr><td>base_avg</td><td>0.62293</td></tr><tr><td>blimp_avg</td><td>0.60264</td></tr><tr><td>boolq</td><td>0.61411</td></tr><tr><td>cola</td><td>0</td></tr><tr><td>eval/loss</td><td>1.04516</td></tr><tr><td>eval/runtime</td><td>40.6448</td></tr><tr><td>eval/samples_per_second</td><td>541.028</td></tr><tr><td>eval/steps_per_second</td><td>33.83</td></tr><tr><td>glue_avg</td><td>0.58107</td></tr><tr><td>mnli</td><td>0.66032</td></tr><tr><td>mnli-mm</td><td>0.65356</td></tr><tr><td>model</td><td>BERT-15k-sp-9.0M-2L-...</td></tr><tr><td>mrpc</td><td>0.75392</td></tr><tr><td>multirc</td><td>0.3774</td></tr><tr><td>qnli</td><td>0.60674</td></tr><tr><td>qqp</td><td>0.78355</td></tr><tr><td>rte</td><td>0.51515</td></tr><tr><td>sst2</td><td>0.83661</td></tr><tr><td>supp_avg</td><td>0.55393</td></tr><tr><td>total_flos</td><td>2.110930720653312e+16</td></tr><tr><td>train/epoch</td><td>0.99998</td></tr><tr><td>train/global_step</td><td>8280</td></tr><tr><td>train/grad_norm</td><td>0.78864</td></tr><tr><td>train/learning_rate</td><td>0.0</td></tr><tr><td>train/loss</td><td>1.2216</td></tr><tr><td>train_loss</td><td>1.753</td></tr><tr><td>train_runtime</td><td>9514.943</td></tr><tr><td>train_samples_per_second</td><td>222.778</td></tr><tr><td>train_steps_per_second</td><td>0.87</td></tr><tr><td>wsc</td><td>0.59036</td></tr></table><br/></div></div>"
      ]
     },
     "metadata": {},
     "output_type": "display_data"
    },
    {
     "data": {
      "text/plain": [
       "<IPython.core.display.HTML object>"
      ],
      "text/html": [
       " View run <strong style=\"color:#cdcd00\">BERT-15k-sp-9.0M-2L-4H-412C-1024I</strong> at: <a href='https://wandb.ai/tiny-transformers/tokenizers/runs/mjk9p116' target=\"_blank\">https://wandb.ai/tiny-transformers/tokenizers/runs/mjk9p116</a><br/> View project at: <a href='https://wandb.ai/tiny-transformers/tokenizers' target=\"_blank\">https://wandb.ai/tiny-transformers/tokenizers</a><br/>Synced 4 W&B file(s), 0 media file(s), 0 artifact file(s) and 0 other file(s)"
      ]
     },
     "metadata": {},
     "output_type": "display_data"
    },
    {
     "data": {
      "text/plain": [
       "<IPython.core.display.HTML object>"
      ],
      "text/html": [
       "Find logs at: <code>./wandb/run-20240620_142954-mjk9p116/logs</code>"
      ]
     },
     "metadata": {},
     "output_type": "display_data"
    },
    {
     "data": {
      "text/plain": [
       "VBox(children=(Label(value='Waiting for wandb.init()...\\r'), FloatProgress(value=0.011112254799809308, max=1.0…"
      ],
      "application/vnd.jupyter.widget-view+json": {
       "version_major": 2,
       "version_minor": 0,
       "model_id": "1eb9e1723fa3411db8bb8c6c4fde64f3"
      }
     },
     "metadata": {},
     "output_type": "display_data"
    },
    {
     "data": {
      "text/plain": [
       "<IPython.core.display.HTML object>"
      ],
      "text/html": [
       "wandb version 0.17.2 is available!  To upgrade, please run:\n",
       " $ pip install wandb --upgrade"
      ]
     },
     "metadata": {},
     "output_type": "display_data"
    },
    {
     "data": {
      "text/plain": [
       "<IPython.core.display.HTML object>"
      ],
      "text/html": [
       "Tracking run with wandb version 0.17.0"
      ]
     },
     "metadata": {},
     "output_type": "display_data"
    },
    {
     "data": {
      "text/plain": [
       "<IPython.core.display.HTML object>"
      ],
      "text/html": [
       "Run data is saved locally in <code>/home/prometheus/TUDelft/cse/year3/RP/tiny-transformers/code/rafael-tokenisation/wandb/run-20240620_143002-kyvs68oy</code>"
      ]
     },
     "metadata": {},
     "output_type": "display_data"
    },
    {
     "data": {
      "text/plain": [
       "<IPython.core.display.HTML object>"
      ],
      "text/html": [
       "Resuming run <strong><a href='https://wandb.ai/tiny-transformers/tokenizers/runs/kyvs68oy' target=\"_blank\">GPT-15k-sp-9.0M-2L-4H-412C-1024I</a></strong> to <a href='https://wandb.ai/tiny-transformers/tokenizers' target=\"_blank\">Weights & Biases</a> (<a href='https://wandb.me/run' target=\"_blank\">docs</a>)<br/>"
      ]
     },
     "metadata": {},
     "output_type": "display_data"
    },
    {
     "data": {
      "text/plain": [
       "<IPython.core.display.HTML object>"
      ],
      "text/html": [
       " View project at <a href='https://wandb.ai/tiny-transformers/tokenizers' target=\"_blank\">https://wandb.ai/tiny-transformers/tokenizers</a>"
      ]
     },
     "metadata": {},
     "output_type": "display_data"
    },
    {
     "data": {
      "text/plain": [
       "<IPython.core.display.HTML object>"
      ],
      "text/html": [
       " View run at <a href='https://wandb.ai/tiny-transformers/tokenizers/runs/kyvs68oy' target=\"_blank\">https://wandb.ai/tiny-transformers/tokenizers/runs/kyvs68oy</a>"
      ]
     },
     "metadata": {},
     "output_type": "display_data"
    },
    {
     "name": "stdout",
     "output_type": "stream",
     "text": [
      "{'model': 'GPT-15k-sp-9.0M-2L-4H-412C-1024I', 'avg_char_per_token': 5.556585528509503}\n"
     ]
    },
    {
     "data": {
      "text/plain": [
       "VBox(children=(Label(value='0.000 MB of 0.000 MB uploaded\\r'), FloatProgress(value=1.0, max=1.0)))"
      ],
      "application/vnd.jupyter.widget-view+json": {
       "version_major": 2,
       "version_minor": 0,
       "model_id": "99d14c3091674ced9d7b530a8b54e816"
      }
     },
     "metadata": {},
     "output_type": "display_data"
    },
    {
     "data": {
      "text/plain": [
       "<IPython.core.display.HTML object>"
      ],
      "text/html": [
       "<style>\n",
       "    table.wandb td:nth-child(1) { padding: 0 10px; text-align: left ; width: auto;} td:nth-child(2) {text-align: left ; width: 100%}\n",
       "    .wandb-row { display: flex; flex-direction: row; flex-wrap: wrap; justify-content: flex-start; width: 100% }\n",
       "    .wandb-col { display: flex; flex-direction: column; flex-basis: 100%; flex: 1; padding: 10px; }\n",
       "    </style>\n",
       "<div class=\"wandb-row\"><div class=\"wandb-col\"><h3>Run history:</h3><br/><table class=\"wandb\"><tr><td>avg_char_per_token</td><td>▁</td></tr></table><br/></div><div class=\"wandb-col\"><h3>Run summary:</h3><br/><table class=\"wandb\"><tr><td>avg_bits_per_token</td><td>44.52257</td></tr><tr><td>avg_char_per_token</td><td>5.55659</td></tr><tr><td>base_avg</td><td>0.62164</td></tr><tr><td>blimp_avg</td><td>0.61234</td></tr><tr><td>boolq</td><td>0.64039</td></tr><tr><td>cola</td><td>0.04729</td></tr><tr><td>eval/loss</td><td>1.67756</td></tr><tr><td>eval/runtime</td><td>39.4255</td></tr><tr><td>eval/samples_per_second</td><td>557.76</td></tr><tr><td>eval/steps_per_second</td><td>34.876</td></tr><tr><td>glue_avg</td><td>0.60793</td></tr><tr><td>mnli</td><td>0.69186</td></tr><tr><td>mnli-mm</td><td>0.69239</td></tr><tr><td>model</td><td>GPT-15k-sp-9.0M-2L-4...</td></tr><tr><td>mrpc</td><td>0.72462</td></tr><tr><td>multirc</td><td>0.37774</td></tr><tr><td>qnli</td><td>0.75416</td></tr><tr><td>qqp</td><td>0.80883</td></tr><tr><td>rte</td><td>0.49495</td></tr><tr><td>sst2</td><td>0.84055</td></tr><tr><td>supp_avg</td><td>0.59002</td></tr><tr><td>total_flos</td><td>1.98821724291072e+16</td></tr><tr><td>train/epoch</td><td>0.99998</td></tr><tr><td>train/global_step</td><td>8280</td></tr><tr><td>train/grad_norm</td><td>0.75612</td></tr><tr><td>train/learning_rate</td><td>0.0</td></tr><tr><td>train/loss</td><td>1.65</td></tr><tr><td>train_loss</td><td>1.92456</td></tr><tr><td>train_runtime</td><td>11192.2028</td></tr><tr><td>train_samples_per_second</td><td>189.392</td></tr><tr><td>train_steps_per_second</td><td>0.74</td></tr><tr><td>wsc</td><td>0.61446</td></tr></table><br/></div></div>"
      ]
     },
     "metadata": {},
     "output_type": "display_data"
    },
    {
     "data": {
      "text/plain": [
       "<IPython.core.display.HTML object>"
      ],
      "text/html": [
       " View run <strong style=\"color:#cdcd00\">GPT-15k-sp-9.0M-2L-4H-412C-1024I</strong> at: <a href='https://wandb.ai/tiny-transformers/tokenizers/runs/kyvs68oy' target=\"_blank\">https://wandb.ai/tiny-transformers/tokenizers/runs/kyvs68oy</a><br/> View project at: <a href='https://wandb.ai/tiny-transformers/tokenizers' target=\"_blank\">https://wandb.ai/tiny-transformers/tokenizers</a><br/>Synced 4 W&B file(s), 0 media file(s), 0 artifact file(s) and 0 other file(s)"
      ]
     },
     "metadata": {},
     "output_type": "display_data"
    },
    {
     "data": {
      "text/plain": [
       "<IPython.core.display.HTML object>"
      ],
      "text/html": [
       "Find logs at: <code>./wandb/run-20240620_143002-kyvs68oy/logs</code>"
      ]
     },
     "metadata": {},
     "output_type": "display_data"
    },
    {
     "data": {
      "text/plain": [
       "VBox(children=(Label(value='Waiting for wandb.init()...\\r'), FloatProgress(value=0.011112208322285572, max=1.0…"
      ],
      "application/vnd.jupyter.widget-view+json": {
       "version_major": 2,
       "version_minor": 0,
       "model_id": "5894271c14ba44c3aff6670a17921bdc"
      }
     },
     "metadata": {},
     "output_type": "display_data"
    },
    {
     "data": {
      "text/plain": [
       "<IPython.core.display.HTML object>"
      ],
      "text/html": [
       "wandb version 0.17.2 is available!  To upgrade, please run:\n",
       " $ pip install wandb --upgrade"
      ]
     },
     "metadata": {},
     "output_type": "display_data"
    },
    {
     "data": {
      "text/plain": [
       "<IPython.core.display.HTML object>"
      ],
      "text/html": [
       "Tracking run with wandb version 0.17.0"
      ]
     },
     "metadata": {},
     "output_type": "display_data"
    },
    {
     "data": {
      "text/plain": [
       "<IPython.core.display.HTML object>"
      ],
      "text/html": [
       "Run data is saved locally in <code>/home/prometheus/TUDelft/cse/year3/RP/tiny-transformers/code/rafael-tokenisation/wandb/run-20240620_143009-b0o03k03</code>"
      ]
     },
     "metadata": {},
     "output_type": "display_data"
    },
    {
     "data": {
      "text/plain": [
       "<IPython.core.display.HTML object>"
      ],
      "text/html": [
       "Resuming run <strong><a href='https://wandb.ai/tiny-transformers/tokenizers/runs/b0o03k03' target=\"_blank\">BERT-20k-sp-9.0M-2L-4H-348C-1024I</a></strong> to <a href='https://wandb.ai/tiny-transformers/tokenizers' target=\"_blank\">Weights & Biases</a> (<a href='https://wandb.me/run' target=\"_blank\">docs</a>)<br/>"
      ]
     },
     "metadata": {},
     "output_type": "display_data"
    },
    {
     "data": {
      "text/plain": [
       "<IPython.core.display.HTML object>"
      ],
      "text/html": [
       " View project at <a href='https://wandb.ai/tiny-transformers/tokenizers' target=\"_blank\">https://wandb.ai/tiny-transformers/tokenizers</a>"
      ]
     },
     "metadata": {},
     "output_type": "display_data"
    },
    {
     "data": {
      "text/plain": [
       "<IPython.core.display.HTML object>"
      ],
      "text/html": [
       " View run at <a href='https://wandb.ai/tiny-transformers/tokenizers/runs/b0o03k03' target=\"_blank\">https://wandb.ai/tiny-transformers/tokenizers/runs/b0o03k03</a>"
      ]
     },
     "metadata": {},
     "output_type": "display_data"
    },
    {
     "name": "stdout",
     "output_type": "stream",
     "text": [
      "{'model': 'BERT-20k-sp-9.0M-2L-4H-348C-1024I', 'avg_char_per_token': 5.734233558389597}\n"
     ]
    },
    {
     "data": {
      "text/plain": [
       "VBox(children=(Label(value='0.000 MB of 0.000 MB uploaded\\r'), FloatProgress(value=1.0, max=1.0)))"
      ],
      "application/vnd.jupyter.widget-view+json": {
       "version_major": 2,
       "version_minor": 0,
       "model_id": "c3a1f5da8c2348e7a649c901ba6e2d4d"
      }
     },
     "metadata": {},
     "output_type": "display_data"
    },
    {
     "data": {
      "text/plain": [
       "<IPython.core.display.HTML object>"
      ],
      "text/html": [
       "<style>\n",
       "    table.wandb td:nth-child(1) { padding: 0 10px; text-align: left ; width: auto;} td:nth-child(2) {text-align: left ; width: 100%}\n",
       "    .wandb-row { display: flex; flex-direction: row; flex-wrap: wrap; justify-content: flex-start; width: 100% }\n",
       "    .wandb-col { display: flex; flex-direction: column; flex-basis: 100%; flex: 1; padding: 10px; }\n",
       "    </style>\n",
       "<div class=\"wandb-row\"><div class=\"wandb-col\"><h3>Run history:</h3><br/><table class=\"wandb\"><tr><td>avg_char_per_token</td><td>▁</td></tr></table><br/></div><div class=\"wandb-col\"><h3>Run summary:</h3><br/><table class=\"wandb\"><tr><td>avg_bits_per_token</td><td>45.93828</td></tr><tr><td>avg_char_per_token</td><td>5.73423</td></tr><tr><td>base_avg</td><td>0.62126</td></tr><tr><td>blimp_avg</td><td>0.60963</td></tr><tr><td>boolq</td><td>0.62517</td></tr><tr><td>cola</td><td>0</td></tr><tr><td>eval/loss</td><td>1.0846</td></tr><tr><td>eval/runtime</td><td>42.5246</td></tr><tr><td>eval/samples_per_second</td><td>517.113</td></tr><tr><td>eval/steps_per_second</td><td>32.334</td></tr><tr><td>glue_avg</td><td>0.59466</td></tr><tr><td>mnli</td><td>0.67998</td></tr><tr><td>mnli-mm</td><td>0.69494</td></tr><tr><td>model</td><td>BERT-20k-sp-9.0M-2L-...</td></tr><tr><td>mrpc</td><td>0.7424</td></tr><tr><td>multirc</td><td>0.34579</td></tr><tr><td>qnli</td><td>0.69423</td></tr><tr><td>qqp</td><td>0.80122</td></tr><tr><td>rte</td><td>0.48485</td></tr><tr><td>sst2</td><td>0.85827</td></tr><tr><td>supp_avg</td><td>0.58172</td></tr><tr><td>total_flos</td><td>1.657474557935616e+16</td></tr><tr><td>train/epoch</td><td>0.99998</td></tr><tr><td>train/global_step</td><td>8280</td></tr><tr><td>train/grad_norm</td><td>0.7795</td></tr><tr><td>train/learning_rate</td><td>0.0</td></tr><tr><td>train/loss</td><td>1.2707</td></tr><tr><td>train_loss</td><td>1.81191</td></tr><tr><td>train_runtime</td><td>9549.3357</td></tr><tr><td>train_samples_per_second</td><td>221.976</td></tr><tr><td>train_steps_per_second</td><td>0.867</td></tr><tr><td>wsc</td><td>0.61446</td></tr></table><br/></div></div>"
      ]
     },
     "metadata": {},
     "output_type": "display_data"
    },
    {
     "data": {
      "text/plain": [
       "<IPython.core.display.HTML object>"
      ],
      "text/html": [
       " View run <strong style=\"color:#cdcd00\">BERT-20k-sp-9.0M-2L-4H-348C-1024I</strong> at: <a href='https://wandb.ai/tiny-transformers/tokenizers/runs/b0o03k03' target=\"_blank\">https://wandb.ai/tiny-transformers/tokenizers/runs/b0o03k03</a><br/> View project at: <a href='https://wandb.ai/tiny-transformers/tokenizers' target=\"_blank\">https://wandb.ai/tiny-transformers/tokenizers</a><br/>Synced 4 W&B file(s), 0 media file(s), 0 artifact file(s) and 0 other file(s)"
      ]
     },
     "metadata": {},
     "output_type": "display_data"
    },
    {
     "data": {
      "text/plain": [
       "<IPython.core.display.HTML object>"
      ],
      "text/html": [
       "Find logs at: <code>./wandb/run-20240620_143009-b0o03k03/logs</code>"
      ]
     },
     "metadata": {},
     "output_type": "display_data"
    },
    {
     "data": {
      "text/plain": [
       "VBox(children=(Label(value='Waiting for wandb.init()...\\r'), FloatProgress(value=0.011111665199536623, max=1.0…"
      ],
      "application/vnd.jupyter.widget-view+json": {
       "version_major": 2,
       "version_minor": 0,
       "model_id": "0dfb6e4759ec4e5aab80b58ffe180e94"
      }
     },
     "metadata": {},
     "output_type": "display_data"
    },
    {
     "data": {
      "text/plain": [
       "<IPython.core.display.HTML object>"
      ],
      "text/html": [
       "wandb version 0.17.2 is available!  To upgrade, please run:\n",
       " $ pip install wandb --upgrade"
      ]
     },
     "metadata": {},
     "output_type": "display_data"
    },
    {
     "data": {
      "text/plain": [
       "<IPython.core.display.HTML object>"
      ],
      "text/html": [
       "Tracking run with wandb version 0.17.0"
      ]
     },
     "metadata": {},
     "output_type": "display_data"
    },
    {
     "data": {
      "text/plain": [
       "<IPython.core.display.HTML object>"
      ],
      "text/html": [
       "Run data is saved locally in <code>/home/prometheus/TUDelft/cse/year3/RP/tiny-transformers/code/rafael-tokenisation/wandb/run-20240620_143017-bzvopykb</code>"
      ]
     },
     "metadata": {},
     "output_type": "display_data"
    },
    {
     "data": {
      "text/plain": [
       "<IPython.core.display.HTML object>"
      ],
      "text/html": [
       "Resuming run <strong><a href='https://wandb.ai/tiny-transformers/tokenizers/runs/bzvopykb' target=\"_blank\">GPT-20k-sp-9.0M-2L-4H-348C-1024I</a></strong> to <a href='https://wandb.ai/tiny-transformers/tokenizers' target=\"_blank\">Weights & Biases</a> (<a href='https://wandb.me/run' target=\"_blank\">docs</a>)<br/>"
      ]
     },
     "metadata": {},
     "output_type": "display_data"
    },
    {
     "data": {
      "text/plain": [
       "<IPython.core.display.HTML object>"
      ],
      "text/html": [
       " View project at <a href='https://wandb.ai/tiny-transformers/tokenizers' target=\"_blank\">https://wandb.ai/tiny-transformers/tokenizers</a>"
      ]
     },
     "metadata": {},
     "output_type": "display_data"
    },
    {
     "data": {
      "text/plain": [
       "<IPython.core.display.HTML object>"
      ],
      "text/html": [
       " View run at <a href='https://wandb.ai/tiny-transformers/tokenizers/runs/bzvopykb' target=\"_blank\">https://wandb.ai/tiny-transformers/tokenizers/runs/bzvopykb</a>"
      ]
     },
     "metadata": {},
     "output_type": "display_data"
    },
    {
     "name": "stdout",
     "output_type": "stream",
     "text": [
      "{'model': 'GPT-20k-sp-9.0M-2L-4H-348C-1024I', 'avg_char_per_token': 5.734233558389597}\n"
     ]
    },
    {
     "data": {
      "text/plain": [
       "VBox(children=(Label(value='0.000 MB of 0.000 MB uploaded\\r'), FloatProgress(value=1.0, max=1.0)))"
      ],
      "application/vnd.jupyter.widget-view+json": {
       "version_major": 2,
       "version_minor": 0,
       "model_id": "7f263e5848b2411683db63d412f1cd16"
      }
     },
     "metadata": {},
     "output_type": "display_data"
    },
    {
     "data": {
      "text/plain": [
       "<IPython.core.display.HTML object>"
      ],
      "text/html": [
       "<style>\n",
       "    table.wandb td:nth-child(1) { padding: 0 10px; text-align: left ; width: auto;} td:nth-child(2) {text-align: left ; width: 100%}\n",
       "    .wandb-row { display: flex; flex-direction: row; flex-wrap: wrap; justify-content: flex-start; width: 100% }\n",
       "    .wandb-col { display: flex; flex-direction: column; flex-basis: 100%; flex: 1; padding: 10px; }\n",
       "    </style>\n",
       "<div class=\"wandb-row\"><div class=\"wandb-col\"><h3>Run history:</h3><br/><table class=\"wandb\"><tr><td>avg_char_per_token</td><td>▁</td></tr></table><br/></div><div class=\"wandb-col\"><h3>Run summary:</h3><br/><table class=\"wandb\"><tr><td>avg_bits_per_token</td><td>45.93828</td></tr><tr><td>avg_char_per_token</td><td>5.73423</td></tr><tr><td>base_avg</td><td>0.61221</td></tr><tr><td>blimp_avg</td><td>0.58578</td></tr><tr><td>boolq</td><td>0.64454</td></tr><tr><td>cola</td><td>0.04055</td></tr><tr><td>eval/loss</td><td>1.71803</td></tr><tr><td>eval/runtime</td><td>41.6309</td></tr><tr><td>eval/samples_per_second</td><td>528.214</td></tr><tr><td>eval/steps_per_second</td><td>33.028</td></tr><tr><td>glue_avg</td><td>0.60161</td></tr><tr><td>mnli</td><td>0.66458</td></tr><tr><td>mnli-mm</td><td>0.69908</td></tr><tr><td>model</td><td>GPT-20k-sp-9.0M-2L-4...</td></tr><tr><td>mrpc</td><td>0.75823</td></tr><tr><td>multirc</td><td>0.37686</td></tr><tr><td>qnli</td><td>0.70735</td></tr><tr><td>qqp</td><td>0.80346</td></tr><tr><td>rte</td><td>0.44444</td></tr><tr><td>sst2</td><td>0.86417</td></tr><tr><td>supp_avg</td><td>0.52233</td></tr><tr><td>total_flos</td><td>1.56355302260736e+16</td></tr><tr><td>train/epoch</td><td>0.99998</td></tr><tr><td>train/global_step</td><td>8280</td></tr><tr><td>train/grad_norm</td><td>0.72634</td></tr><tr><td>train/learning_rate</td><td>0.0</td></tr><tr><td>train/loss</td><td>1.6911</td></tr><tr><td>train_loss</td><td>1.96957</td></tr><tr><td>train_runtime</td><td>17299.0559</td></tr><tr><td>train_samples_per_second</td><td>122.534</td></tr><tr><td>train_steps_per_second</td><td>0.479</td></tr><tr><td>wsc</td><td>0.61446</td></tr></table><br/></div></div>"
      ]
     },
     "metadata": {},
     "output_type": "display_data"
    },
    {
     "data": {
      "text/plain": [
       "<IPython.core.display.HTML object>"
      ],
      "text/html": [
       " View run <strong style=\"color:#cdcd00\">GPT-20k-sp-9.0M-2L-4H-348C-1024I</strong> at: <a href='https://wandb.ai/tiny-transformers/tokenizers/runs/bzvopykb' target=\"_blank\">https://wandb.ai/tiny-transformers/tokenizers/runs/bzvopykb</a><br/> View project at: <a href='https://wandb.ai/tiny-transformers/tokenizers' target=\"_blank\">https://wandb.ai/tiny-transformers/tokenizers</a><br/>Synced 4 W&B file(s), 0 media file(s), 0 artifact file(s) and 0 other file(s)"
      ]
     },
     "metadata": {},
     "output_type": "display_data"
    },
    {
     "data": {
      "text/plain": [
       "<IPython.core.display.HTML object>"
      ],
      "text/html": [
       "Find logs at: <code>./wandb/run-20240620_143017-bzvopykb/logs</code>"
      ]
     },
     "metadata": {},
     "output_type": "display_data"
    }
   ],
   "execution_count": 40
  },
  {
   "metadata": {},
   "cell_type": "code",
   "outputs": [],
   "execution_count": null,
   "source": "",
   "id": "6fe553317378ab9f"
  }
 ],
 "metadata": {
  "kernelspec": {
   "display_name": "Python 3",
   "language": "python",
   "name": "python3"
  },
  "language_info": {
   "codemirror_mode": {
    "name": "ipython",
    "version": 2
   },
   "file_extension": ".py",
   "mimetype": "text/x-python",
   "name": "python",
   "nbconvert_exporter": "python",
   "pygments_lexer": "ipython2",
   "version": "2.7.6"
  }
 },
 "nbformat": 4,
 "nbformat_minor": 5
}
