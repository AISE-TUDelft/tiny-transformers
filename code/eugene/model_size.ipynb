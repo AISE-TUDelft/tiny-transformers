{
 "cells": [
  {
   "cell_type": "code",
   "execution_count": 6,
   "id": "51ee9915-f74e-4a24-9b0d-ce47dbb9e569",
   "metadata": {},
   "outputs": [],
   "source": [
    "from sparse_gpt_neo import SparseGPTNeoForCausalLM\n",
    "from sparse_roberta import SparseRobertaForMaskedLM\n",
    "from pretrain import load_tokenizer_and_model\n",
    "import numpy as np\n",
    "import matplotlib.pyplot as plt"
   ]
  },
  {
   "cell_type": "code",
   "execution_count": 10,
   "id": "fa85a133-0320-407e-bce0-c55e1409c71a",
   "metadata": {},
   "outputs": [],
   "source": [
    "def name_conversion(name):\n",
    "    arch = \"GPT-Neo\" if 'gpt' in name else \"RoBERTa\"\n",
    "    if 'baseline' in name:\n",
    "        return f\"{arch}\"\n",
    "    if 'moe' in name:\n",
    "        sparsity_type = 'MoE'\n",
    "        if 'low' in name:\n",
    "            sparsity_level = '($k=3$)'\n",
    "        elif 'medium' in name:\n",
    "            sparsity_level = '($k=2$)'\n",
    "        else:\n",
    "            sparsity_level = '($k=1$)'\n",
    "            \n",
    "    elif 'cnt' in name:\n",
    "        sparsity_type = 'CNT'\n",
    "        if 'low' in name:\n",
    "            sparsity_level = '($N=64$)'\n",
    "        elif 'medium' in name:\n",
    "            sparsity_level = '($N=32$)'\n",
    "        else:\n",
    "            sparsity_level = '($N=16$)'\n",
    "    elif 'pkm' in name:\n",
    "        sparsity_type = 'PKM'\n",
    "        if 'low' in name:\n",
    "            sparsity_level = '($k=42$)'\n",
    "        elif 'medium' in name:\n",
    "            sparsity_level = '($k=28$)'\n",
    "        else:\n",
    "            sparsity_level = '($k=14$)'\n",
    "    return f\"{arch} {sparsity_type} {sparsity_level}\""
   ]
  },
  {
   "cell_type": "code",
   "execution_count": 7,
   "id": "7b259af2-b705-4ea3-9b3e-c7764db089c7",
   "metadata": {},
   "outputs": [],
   "source": [
    "model_type = [\"gpt\", \"roberta\"]\n",
    "sparsity_type = [\"moe\", \"cnt\", \"pkm\"]\n",
    "sparsity_level = [\"high\", \"medium\", \"low\"]"
   ]
  },
  {
   "cell_type": "code",
   "execution_count": 24,
   "id": "63bc714a-07e5-4132-a0ef-07f48298af5c",
   "metadata": {},
   "outputs": [
    {
     "name": "stderr",
     "output_type": "stream",
     "text": [
      "The tokenizer class you load from this checkpoint is not the same type as the class this function is called from. It may result in unexpected tokenization. \n",
      "The tokenizer class you load from this checkpoint is 'RobertaTokenizer'. \n",
      "The class this function is called from is 'GPT2TokenizerFast'.\n"
     ]
    },
    {
     "name": "stdout",
     "output_type": "stream",
     "text": [
      "padding token is <pad>\n",
      "padding token in config: 0, in tokeniser: 0\n",
      "padding token is <pad>\n",
      "padding token in config: 0, in tokeniser: 0\n"
     ]
    }
   ],
   "source": [
    "model_sizes = {}\n",
    "\n",
    "for mt in model_type:\n",
    "    st = \"baseline\"\n",
    "    sl = \"\"    \n",
    "    name = f\"{mt} {st} {sl}\"\n",
    "    _, model = load_tokenizer_and_model(mt, st, sl)\n",
    "    model_parameters = filter(lambda p: p.requires_grad, model.parameters())\n",
    "    params = sum([np.prod(p.size()) for p in model_parameters])\n",
    "    model_sizes[name_conversion(name)] = params"
   ]
  },
  {
   "cell_type": "code",
   "execution_count": 25,
   "id": "528bc86a-cef6-4c36-97a0-33e50f84ce9b",
   "metadata": {},
   "outputs": [
    {
     "name": "stderr",
     "output_type": "stream",
     "text": [
      "The tokenizer class you load from this checkpoint is not the same type as the class this function is called from. It may result in unexpected tokenization. \n",
      "The tokenizer class you load from this checkpoint is 'RobertaTokenizer'. \n",
      "The class this function is called from is 'GPT2TokenizerFast'.\n",
      "The tokenizer class you load from this checkpoint is not the same type as the class this function is called from. It may result in unexpected tokenization. \n",
      "The tokenizer class you load from this checkpoint is 'RobertaTokenizer'. \n",
      "The class this function is called from is 'GPT2TokenizerFast'.\n"
     ]
    },
    {
     "name": "stdout",
     "output_type": "stream",
     "text": [
      "padding token is <pad>\n",
      "padding token in config: 0, in tokeniser: 0\n",
      "padding token is <pad>\n",
      "padding token in config: 0, in tokeniser: 0\n"
     ]
    },
    {
     "name": "stderr",
     "output_type": "stream",
     "text": [
      "The tokenizer class you load from this checkpoint is not the same type as the class this function is called from. It may result in unexpected tokenization. \n",
      "The tokenizer class you load from this checkpoint is 'RobertaTokenizer'. \n",
      "The class this function is called from is 'GPT2TokenizerFast'.\n",
      "The tokenizer class you load from this checkpoint is not the same type as the class this function is called from. It may result in unexpected tokenization. \n",
      "The tokenizer class you load from this checkpoint is 'RobertaTokenizer'. \n",
      "The class this function is called from is 'GPT2TokenizerFast'.\n"
     ]
    },
    {
     "name": "stdout",
     "output_type": "stream",
     "text": [
      "padding token is <pad>\n",
      "padding token in config: 0, in tokeniser: 0\n",
      "padding token is <pad>\n",
      "padding token in config: 0, in tokeniser: 0\n"
     ]
    },
    {
     "name": "stderr",
     "output_type": "stream",
     "text": [
      "The tokenizer class you load from this checkpoint is not the same type as the class this function is called from. It may result in unexpected tokenization. \n",
      "The tokenizer class you load from this checkpoint is 'RobertaTokenizer'. \n",
      "The class this function is called from is 'GPT2TokenizerFast'.\n",
      "The tokenizer class you load from this checkpoint is not the same type as the class this function is called from. It may result in unexpected tokenization. \n",
      "The tokenizer class you load from this checkpoint is 'RobertaTokenizer'. \n",
      "The class this function is called from is 'GPT2TokenizerFast'.\n"
     ]
    },
    {
     "name": "stdout",
     "output_type": "stream",
     "text": [
      "padding token is <pad>\n",
      "padding token in config: 0, in tokeniser: 0\n",
      "padding token is <pad>\n",
      "padding token in config: 0, in tokeniser: 0\n"
     ]
    },
    {
     "name": "stderr",
     "output_type": "stream",
     "text": [
      "The tokenizer class you load from this checkpoint is not the same type as the class this function is called from. It may result in unexpected tokenization. \n",
      "The tokenizer class you load from this checkpoint is 'RobertaTokenizer'. \n",
      "The class this function is called from is 'GPT2TokenizerFast'.\n",
      "The tokenizer class you load from this checkpoint is not the same type as the class this function is called from. It may result in unexpected tokenization. \n",
      "The tokenizer class you load from this checkpoint is 'RobertaTokenizer'. \n",
      "The class this function is called from is 'GPT2TokenizerFast'.\n"
     ]
    },
    {
     "name": "stdout",
     "output_type": "stream",
     "text": [
      "padding token is <pad>\n",
      "padding token in config: 0, in tokeniser: 0\n"
     ]
    },
    {
     "name": "stderr",
     "output_type": "stream",
     "text": [
      "The tokenizer class you load from this checkpoint is not the same type as the class this function is called from. It may result in unexpected tokenization. \n",
      "The tokenizer class you load from this checkpoint is 'RobertaTokenizer'. \n",
      "The class this function is called from is 'GPT2TokenizerFast'.\n"
     ]
    },
    {
     "name": "stdout",
     "output_type": "stream",
     "text": [
      "padding token is <pad>\n",
      "padding token in config: 0, in tokeniser: 0\n",
      "padding token is <pad>\n",
      "padding token in config: 0, in tokeniser: 0\n",
      "padding token is <pad>\n",
      "padding token in config: 0, in tokeniser: 0\n",
      "padding token is <pad>\n",
      "padding token in config: 0, in tokeniser: 0\n",
      "padding token is <pad>\n",
      "padding token in config: 0, in tokeniser: 0\n",
      "padding token is <pad>\n",
      "padding token in config: 0, in tokeniser: 0\n",
      "padding token is <pad>\n",
      "padding token in config: 0, in tokeniser: 0\n",
      "padding token is <pad>\n",
      "padding token in config: 0, in tokeniser: 0\n",
      "padding token is <pad>\n",
      "padding token in config: 0, in tokeniser: 0\n",
      "padding token is <pad>\n",
      "padding token in config: 0, in tokeniser: 0\n",
      "padding token is <pad>\n",
      "padding token in config: 0, in tokeniser: 0\n"
     ]
    }
   ],
   "source": [
    "for mt in model_type:\n",
    "    for st in sparsity_type:\n",
    "        for sl in sparsity_level:\n",
    "            name = f\"{mt} {st} {sl}\"\n",
    "            _, model = load_tokenizer_and_model(mt, st, sl)\n",
    "            model_parameters = filter(lambda p: p.requires_grad, model.parameters())\n",
    "            params = sum([np.prod(p.size()) for p in model_parameters])\n",
    "            model_sizes[name_conversion(name)] = params"
   ]
  },
  {
   "cell_type": "code",
   "execution_count": 26,
   "id": "3f439594-b639-49d3-8d3e-07bb9f1dbda3",
   "metadata": {},
   "outputs": [
    {
     "name": "stdout",
     "output_type": "stream",
     "text": [
      "{'GPT-Neo': 7421440, 'RoBERTa': 7500048, 'GPT-Neo MoE ($k=1$)': 7422968, 'GPT-Neo MoE ($k=2$)': 7422968, 'GPT-Neo MoE ($k=3$)': 7422968, 'GPT-Neo CNT ($N=16$)': 7425280, 'GPT-Neo CNT ($N=32$)': 7424384, 'GPT-Neo CNT ($N=64$)': 7390080, 'GPT-Neo PKM ($k=14$)': 7396352, 'GPT-Neo PKM ($k=28$)': 7396352, 'GPT-Neo PKM ($k=42$)': 7396352, 'RoBERTa MoE ($k=1$)': 7501576, 'RoBERTa MoE ($k=2$)': 7501576, 'RoBERTa MoE ($k=3$)': 7501576, 'RoBERTa CNT ($N=16$)': 7503888, 'RoBERTa CNT ($N=32$)': 7502992, 'RoBERTa CNT ($N=64$)': 7468688, 'RoBERTa PKM ($k=14$)': 7474960, 'RoBERTa PKM ($k=28$)': 7474960, 'RoBERTa PKM ($k=42$)': 7474960}\n"
     ]
    }
   ],
   "source": [
    "print(model_sizes)"
   ]
  },
  {
   "cell_type": "code",
   "execution_count": 76,
   "id": "e0d77ce7-fce8-48a7-9953-812e9bd24142",
   "metadata": {},
   "outputs": [],
   "source": [
    "display_order = ['GPT-Neo', 'RoBERTa',\n",
    "                 'GPT-Neo MoE ($k=1$)', 'GPT-Neo MoE ($k=2$)', 'GPT-Neo MoE ($k=3$)', \n",
    "                 'RoBERTa MoE ($k=1$)', 'RoBERTa MoE ($k=2$)', 'RoBERTa MoE ($k=3$)',\n",
    "                 'GPT-Neo CNT ($N=16$)', 'GPT-Neo CNT ($N=32$)', 'GPT-Neo CNT ($N=64$)',\n",
    "                 'RoBERTa CNT ($N=16$)', 'RoBERTa CNT ($N=32$)', 'RoBERTa CNT ($N=64$)',\n",
    "                 'GPT-Neo PKM ($k=14$)', 'GPT-Neo PKM ($k=28$)', 'GPT-Neo PKM ($k=42$)',\n",
    "                 'RoBERTa PKM ($k=14$)', 'RoBERTa PKM ($k=28$)', 'RoBERTa PKM ($k=42$)'\n",
    "                ]\n",
    "colors = ['#5eb91e','#5eb91e',\n",
    "          '#2327d6','#2327d6','#2327d6',\n",
    "          '#2327d6','#2327d6','#2327d6',\n",
    "              '#3465a4', '#3465a4', '#3465a4',\n",
    "    '#3465a4', '#3465a4', '#3465a4',\n",
    "          \n",
    "          '#780373','#780373','#780373',\n",
    "          '#780373','#780373','#780373',\n",
    "    ]\n",
    "sizes = np.array([model_sizes[n] for n in display_order])"
   ]
  },
  {
   "cell_type": "code",
   "execution_count": 77,
   "id": "76202d37-8380-47b1-af1c-77a7a6451068",
   "metadata": {},
   "outputs": [
    {
     "data": {
      "image/png": "[encoded data removed]",
      "text/plain": [
       "<Figure size 1200x800 with 1 Axes>"
      ]
     },
     "metadata": {},
     "output_type": "display_data"
    }
   ],
   "source": [
    "plt.figure(figsize=(12, 8))\n",
    "plt.bar(np.arange(len(sizes)), sizes/1e6, tick_label = display_order, color = colors)\n",
    "plt.xticks(rotation=45, weight='bold')\n",
    "plt.ylabel('Size (millions of parameters)', weight='bold')\n",
    "\n",
    "ax = plt.gca()\n",
    "ax.spines['top'].set_visible(False)\n",
    "ax.spines['right'].set_visible(False)\n",
    "\n",
    "plt.savefig('model_sizes.png', transparent=True, bbox_inches = 'tight')\n",
    "plt.show()\n"
   ]
  },
  {
   "cell_type": "code",
   "execution_count": null,
   "id": "3e3d7181-fde7-4c3d-a054-5a147a1be25c",
   "metadata": {},
   "outputs": [],
   "source": []
  }
 ],
 "metadata": {
  "kernelspec": {
   "display_name": "Python 3 (ipykernel)",
   "language": "python",
   "name": "python3"
  },
  "language_info": {
   "codemirror_mode": {
    "name": "ipython",
    "version": 3
   },
   "file_extension": ".py",
   "mimetype": "text/x-python",
   "name": "python",
   "nbconvert_exporter": "python",
   "pygments_lexer": "ipython3",
   "version": "3.12.3"
  }
 },
 "nbformat": 4,
 "nbformat_minor": 5
}
