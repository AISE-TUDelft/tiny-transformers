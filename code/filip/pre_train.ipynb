{
 "cells": [
  {
   "cell_type": "markdown",
   "metadata": {},
   "source": [
    "## Pre-Training GPT-Neo on TinyStories\n",
    "HuggingFace links: [GPT-Neo model](https://huggingface.co/docs/transformers/model_doc/gpt_neo), [TinyStories dataset](https://huggingface.co/datasets/roneneldan/TinyStories). "
   ]
  },
  {
   "cell_type": "code",
   "execution_count": 40,
   "metadata": {
    "ExecuteTime": {
     "end_time": "2024-05-02T19:17:12.847191Z",
     "start_time": "2024-05-02T19:17:12.825433Z"
    }
   },
   "outputs": [
    {
     "name": "stderr",
     "output_type": "stream",
     "text": [
      "wandb: WARNING Calling wandb.login() after wandb.init() has no effect.\n"
     ]
    }
   ],
   "source": [
    "import wandb; wandb.login()\n",
    "import sys\n",
    "from transformers import GPT2TokenizerFast, GPTNeoForCausalLM, GPTNeoConfig\n",
    "from transformers import TrainingArguments, Trainer, DataCollatorForLanguageModeling\n",
    "from datasets import load_dataset, load_from_disk, DatasetDict\n",
    "\n",
    "# debug or local debug\n",
    "small_dataset = True\n",
    "if sys.argv[1] == 'True' or sys.argv[1] == 'true':\n",
    "    small_dataset = True\n",
    "    print(\"Using small dataset\")\n",
    "\n",
    "config = GPTNeoConfig(\n",
    "\n",
    "    # number of tokens in the vocabulary \n",
    "    vocab_size = 10_000, \n",
    "    # embedding size (vector length) of each token \n",
    "    hidden_size=512, \n",
    "    # we thus have an embedding block of 512 x 10'000 parameters\n",
    "\n",
    "    # maximum sequence length, though inputs longer than `hidden_size` will be iteratively processed\n",
    "    max_position_embeddings = 512, \n",
    "\n",
    "    # number of transformer blocks. div by 2 for attention_types\n",
    "    num_layers=2, \n",
    "    # for global and local attention (GPT-Neo-specific)\n",
    "    attention_types=[[[\"global\", \"local\"], 1]], \n",
    "\n",
    "    num_heads=4,     # attention heads\n",
    "    window_size=256, # for local attention (GPT-Neo-specific)\n",
    "\n",
    "    intermediate_size=1024, # size of 'up-projection' layer in FFN\n",
    ")\n",
    "# config"
   ]
  },
  {
   "cell_type": "markdown",
   "metadata": {},
   "source": [
    "### Pre-Processing\n",
    "All experiments use the same tokenizer, so in theory, we only need to preprocess our data once. This means you can subsequently skip this CPU-intensive task on the DelftBlue GPU nodes. \n",
    "(except if you are experimenting with different context lengths, in that case you will need to re-tokenise to recover potentially truncated inputs; see below).\n",
    "You may even have to load the entire dataset (or pre-load chunks) into memory, DelftBlue has extremely slow IO. "
   ]
  },
  {
   "cell_type": "markdown",
   "metadata": {},
   "source": [
    "#### Tokenisation\n",
    "Two things happen during tokenisation, of which the latter is optional:\n",
    "\n",
    "1. Map (sub-)words to integers $ \\in [0, 10000]$.\n",
    "2. Truncate/pad each input as necessary to fit within `hidden_size`. "
   ]
  },
  {
   "cell_type": "code",
   "execution_count": 41,
   "metadata": {
    "ExecuteTime": {
     "end_time": "2024-05-02T19:17:18.526061Z",
     "start_time": "2024-05-02T19:17:18.482609Z"
    }
   },
   "outputs": [
    {
     "name": "stdout",
     "output_type": "stream",
     "text": [
      "padding token is <|endoftext|>\n"
     ]
    }
   ],
   "source": [
    "tokenizer = GPT2TokenizerFast.from_pretrained('10k-gpt-neo', model_max_length=config.hidden_size)\n",
    "\n",
    "# in theory, window_size x num_layers is possible. \n",
    "# But, this project is not about the efficacy of sliding window attention (though it could be!)\n",
    "assert tokenizer.model_max_length == 512 \n",
    "assert tokenizer.vocab_size == config.vocab_size\n",
    "\n",
    "# printing this because of a bug in tokenizers (should be fixed now) https://github.com/huggingface/transformers/issues/26500\n",
    "print(f'padding token is {tokenizer.pad_token}')\n",
    "# HF wasn't saving this nor the tokenizer's pad_token\n",
    "config.pad_token_id = tokenizer.pad_token_id"
   ]
  },
  {
   "cell_type": "code",
   "execution_count": 42,
   "metadata": {
    "ExecuteTime": {
     "end_time": "2024-05-02T19:28:38.542618Z",
     "start_time": "2024-05-02T19:28:31.205464Z"
    }
   },
   "outputs": [
    {
     "name": "stderr",
     "output_type": "stream",
     "text": [
      "Repo card metadata block was not found. Setting CardData to empty.\n"
     ]
    },
    {
     "name": "stdout",
     "output_type": "stream",
     "text": [
      "True\n",
      "{'train': (1000, 3), 'validation': (100, 3)}\n"
     ]
    },
    {
     "data": {
      "text/plain": [
       "[9999, 9999, 9999, 9999, 9999, 9999, 9999, 9999, 9999, 9999]"
      ]
     },
     "execution_count": 42,
     "metadata": {},
     "output_type": "execute_result"
    }
   ],
   "source": [
    "dataset = load_dataset(\"roneneldan/TinyStories\")\n",
    "\n",
    "'''\n",
    "small_dataset = DatasetDict({\n",
    "    'train': dataset['train'].select(range(1000)),\n",
    "    'validation': dataset['validation'].select(range(100))\n",
    "})\n",
    "\n",
    "dataset = small_dataset\n",
    "\n",
    "def tokenize_function(examples):\n",
    "    return tokenizer(examples['text'], truncation=True, padding='max_length')\n",
    "\n",
    "tokenized_dataset = dataset.map(lambda x: tokenizer(x['text'], truncation=True, padding='max_length'), \n",
    "     batched=True, num_proc=None, batch_size=1_000)\n",
    "tokenized_dataset = dataset.map(tokenize_function, batched=True, num_proc=None, batch_size=1000)\n",
    "\n",
    "tokenized_dataset.save_to_disk(f'./tokenized_dataset_small', num_proc=None)\n",
    "'''\n",
    "print(small_dataset)\n",
    "tokenized_dataset = load_from_disk(f'./tokenized_dataset_small') if small_dataset else load_from_disk(f'./tokenized_dataset')\n",
    "#tokenized_dataset = load_from_disk(f'./tokenized_dataset')\n",
    "print(tokenized_dataset.shape)\n",
    "\n",
    "assert len(tokenized_dataset['train'][0]['input_ids']) == config.hidden_size\n",
    "tokenized_dataset['train'][0]['input_ids'][-10:] \n",
    "# should be eos tokens (9999), given that most short stories are <512 tokens"
   ]
  },
  {
   "cell_type": "markdown",
   "metadata": {
    "editable": false
   },
   "source": [
    "#### Creating the TinyStories Tokenizer (side-quest)\n",
    "> [!NOTE]\n",
    "> You can safely skip this section if you are not interested in Tokenisation at all; but I briefly explain how it works and how to get to a 10k token vocabulary. \n",
    "\n",
    "The TinyStories authors cite a vocab of 10'000 words, while the GPT-Neo tokenizer they provide on HF uses `EleutherAI/gpt-neo-125M` with vocab of 50'257 words. I describe the process I took to get the **10k**-tokenizer below, in case you are interested. Tokenization constitutes a large part of transformers' performance despite its relative simplicity, but is not necessary to understand in the scope of this project. \n",
    "\n",
    "To cut out words from TokenizerFast, we need to access the underlying Rust object's state, as per https://github.com/huggingface/transformers/issues/15032. <!-- how the hell do these huggingfacers expect normal people to figure this out man? -->"
   ]
  },
  {
   "cell_type": "code",
   "execution_count": 43,
   "metadata": {},
   "outputs": [],
   "source": [
    "# import json \n",
    "# tokenizer_state = json.loads(tokenizer.backend_tokenizer.model.__getstate__())\n",
    "\n",
    "# n_words = len(tokenizer_state['vocab'])\n",
    "# print(f'vocabulary: {n_words}') # would be lovely if this was 10'000\n",
    "\n",
    "# # index n_words - 1 contains the special eos token `<|endoftext|>`\n",
    "# new_vocab = {k: v for k, v in tokenizer_state['vocab'].items() if v < 10_000-1 or v == n_words-1}\n",
    "# tokenizer_state['vocab'] = new_vocab\n",
    "\n",
    "# # you can see that most common tokens are listed first (individual characters, pairs of chars, triples, etc.)\n",
    "# print(f'new vocab : {len(new_vocab)}, {list(new_vocab.keys())[:3]}, {list(new_vocab.keys())[-3:]}')\n",
    "\n",
    "\n",
    "# # Updating the tokenizer with new vocab: of course this doesn't work the first try, for some reason. \n",
    "# from tokenizers import models\n",
    "# model_class = getattr(models, tokenizer_state.pop('type'))\n",
    "\n",
    "# # 'str' object cannot be converted to 'PyTuple'\n",
    "# # tokenizer.backend_tokenizer.model = model_class(**tokenizer_state) \n",
    "\n",
    "# # Let's manually create tuple objects, maybe Rust's type safety is keeping us safe. \n",
    "# new_merges = [tuple(m.split()) for m in tokenizer_state['merges']]\n",
    "# print(f'new merges: {len(new_merges)}, {new_merges[:3]}, {new_merges[-3:]}') # Ġ means space ' ' \n",
    "# tokenizer_state['merges'] = new_merges\n",
    "\n",
    "# # tokenizer.backend_tokenizer.model = model_class(**tokenizer_state) # Token `ordon` out of vocabulary"
   ]
  },
  {
   "cell_type": "markdown",
   "metadata": {},
   "source": [
    "I went down a bit of a rabbit hole at this point. But, to summarise: As we are using the Rust-implemented `TokenizerFast`, we neeed both:\n",
    "\n",
    "- `vocab.json` containing all the tokens, and \n",
    "- `merges.txt` explaining how to create those tokens from (sub-)word pairs.\n",
    "\n",
    "Each merge-tuple in `merges` constitutes one new token. However, each merge by definition means it contains at least two characters. We probably want to be able to encode single characters, in case of a word the model has not seen before. Thus, we need a set of base tokens, one for each character (`257` characters total). \n",
    "\n",
    "This is where the `257` in the *original* vocabulary of `50'257` comes from. So, the remaining `50'000` come from iteratively merging the most frequent tokens, starting from the individual `257` base characters. Our definition of a merge now becomes any two tokens merged together, forming a new token. \n",
    "\n",
    "> what happens when the tokenizer encounters a character that is not part of its base tokens? We assign it `unk_token` and move on, hoping that it doesn't happen too frequently. In this tokenizer, `unk_token == eos_token == '<|endoftext|>'`. Note that the base set also encodes all the characters needed to construct UniCode characters (which is *close enough* to all characters).\n",
    "\n",
    "What this means for the tokenizer is that we want only the first `10'000 - 257` merges; if we want our tokeniser to have a vocabulary of 10k tokens. "
   ]
  },
  {
   "cell_type": "code",
   "execution_count": 44,
   "metadata": {},
   "outputs": [],
   "source": [
    "# new_merges = new_merges[:10000-257] # 256 says: \"Token `ordon` out of vocabulary\"\n",
    "# tokenizer_state['merges'] = new_merges\n",
    "# print(f'new merges: {len(new_merges)}, {new_merges[:3]}, {new_merges[-3:]}') # Ġ means space ' ' \n",
    "\n",
    "# tokenizer.backend_tokenizer.model = model_class(**tokenizer_state)\n",
    "# print(f'our tokenizer now has the {len(tokenizer)} most frequent tokens (from whatever dataset it was trained on)')"
   ]
  },
  {
   "cell_type": "code",
   "execution_count": 45,
   "metadata": {},
   "outputs": [],
   "source": [
    "# # tokenizer.save_pretrained('10k-tokenizer')\n",
    "# tokenizer.decode(tokenizer.encode('hello worldaisudhgiashg asdugh'))\n",
    "# tokenizer.vocab_size\n",
    "\n",
    "# # NOTE: Saving hangs indefinitely, I don't know why and it requires me to look at the rust impl.\n",
    "# # instead, I just ended up modifying the merges.txt and vocab.json files manually, following\n",
    "# # exactly what I did above. \n",
    "\n",
    "# tokenizer.name_or_path = '10k-tokenizer'\n",
    "# # tokenizer.save_pretrained('10k-tokenizer') \n",
    "# # tokenizer.save_vocabulary('.', '10k-tokenizer.json')"
   ]
  },
  {
   "cell_type": "markdown",
   "metadata": {},
   "source": [
    "And that's about it for tokenisation. All it does is map frequent character strings (i.e. tokens) to integers. \n",
    "\n",
    "The intuition is that by assigning each token its own embedding (vector of `1 x hidden_size`) in the transformer, will help it learn semantical understanding of these tokens. E.g. say that you have two tokens 'about' and 'around', the transformer should learn similar embeddings for each. "
   ]
  },
  {
   "cell_type": "markdown",
   "metadata": {},
   "source": [
    "### Training\n",
    "#### Model\n",
    "We use GPT-Neo as the architecture for our model. This consists of the following blocks, generally seen in transformer architectures:\n",
    "\n",
    "- Embeddings: Map one-hot (sparse) token vectors to a dense vector of length `hidden_size`. Add positional encoding. \n",
    "- $n$ Blocks: Contain self-attention and FFNs.\n",
    "- Head: Map hidden state back to a useful output. \n",
    "\n",
    "We use the config specified at the top of this notebook to construct a model. "
   ]
  },
  {
   "cell_type": "code",
   "execution_count": 46,
   "metadata": {},
   "outputs": [
    {
     "name": "stdout",
     "output_type": "stream",
     "text": [
      "The model has 9,585,664 parameters.\n"
     ]
    }
   ],
   "source": [
    "model = GPTNeoForCausalLM(config=config)\n",
    "\n",
    "print(f'The model has {model.num_parameters():,} parameters.')\n",
    "# Token embeddings:    10'000 * 512 = 5M \n",
    "# Position embeddings:    512 * 512 = 260K\n",
    "# 2 Blocks: 2 * (~1M + ~1M) = 4M\n",
    "#   Attention: 4 * 512 * 512  (4 because of k, q, v, o)     = 1M \n",
    "#   FFNs:      2 * 512 * 1024 (c_fc, c_proj)                = 1M \n",
    "\n",
    "# total: ~9.5M \n",
    "\n",
    "# note that the above does not account for the LM_head, which typically gets swapped out depending on the downstream task. \n",
    "# the LM_head, in this case, maps logits back to tokens\n",
    "# 512 * 10'000 = 5M    (A decent chunk compared to our 9.5M parameters)\n",
    "\n",
    "# NOTE: uncomment to see the model architecture \n",
    "# model "
   ]
  },
  {
   "cell_type": "code",
   "execution_count": 47,
   "metadata": {},
   "outputs": [],
   "source": [
    "# for comparison. Note, wte should be (10000, 64)\n",
    "# GPTNeoForCausalLM.from_pretrained('roneneldan/TinyStories-1M')"
   ]
  },
  {
   "cell_type": "markdown",
   "metadata": {},
   "source": [
    "#### Training loop\n",
    "Huggingface provides some powerful (and often confusingly long) APIs for model training. The `TrainingArguments` specifies our hyperparameters, which are used by the `Trainer` taking in the remaining objects (like `model`, `tokenizer`, and `train_dataset`). Specifically:\n",
    "\n",
    "- `learning_rate` and `num_train_epochs` determine how much the model learns. A higher rate is faster, but more unstable. More epochs (entire passes over the dataset) yields incrementally better results, at the cost of more training time. \n",
    "- Batch sizes determine how many samples the model sees in *parallel*. Given `gradient_accumulation_steps=1` and a `batch_size=8`, the model will backpropagate the average loss of 8 samples; if `batch_size=1`, it will average the loss of `gradient_accumulation_steps` samples. It is important to make sure the backpropagated loss is averaged over the same number of samples, when comparing models. \n",
    "\n",
    "- `data_collator` batches (and optionally, pads) the input for the model. We have already padded in our `tokenized_dataset`, and leaving this argument empty will automatically batch the inputs. So why do we need it? \n",
    "\n",
    "    Glad you asked. This has to do with how the loss is computed in causal language modelling. In our case, we try to predict $p(y | x)$, where $x$ is an input sequence of tokens, and $y$ is the next token following that sequence. Our model, unaware of the target token $y$, outputs $\\hat y$. \n",
    "    \n",
    "    For `Trainer` to compute the (cross-entropy) loss, we need to provide it with both $y$ and $\\hat y$. The `DataCollatorForLanguageModeling` knows this, and provides the next token $y$ as a separate part of the input, to the `Trainer`.\n",
    "\n",
    "    The loss is the backbone of backpropagation, which we need to actually improve our model. If this is confusing, please re-watch Karpathy's GPT tutorial. \n",
    "\n",
    "If you prefer to write the training loop yourself, check out HF' `run_clm_no_trainer.py` scripts. "
   ]
  },
  {
   "cell_type": "code",
   "execution_count": 48,
   "metadata": {},
   "outputs": [],
   "source": [
    "train_dataset, eval_dataset = tokenized_dataset['train'], tokenized_dataset['validation']\n",
    "\n",
    "batch_size = 16 # TinyStories claims 80, but I am training locally on my poor M1 Air\n",
    "num_train_epochs = 1  # TinyStories doesn't mention\n",
    "gradient_accumulation_steps = 16 # TinyStories claims 16\n",
    "\n",
    "lr = 5e-4 # TinyStories claims 5e-4, higher values are preferable for smaller models\n",
    "\n",
    "_train_steps = len(train_dataset) // (batch_size * gradient_accumulation_steps)\n",
    "eval_steps = _train_steps // 10 # evaluate every 10% of training steps\n",
    "\n",
    "model_name = f'Base-GPT-Neo-small-dataset{model.num_parameters()//1e6:.1f}M-{config.num_layers}L-{config.num_heads}H-{config.hidden_size}C-{config.intermediate_size}I'"
   ]
  },
  {
   "cell_type": "code",
   "execution_count": 51,
   "metadata": {},
   "outputs": [
    {
     "name": "stdout",
     "output_type": "stream",
     "text": [
      "0\n",
      "\n",
      "    training for 1 epochs, 1000 samples\n",
      "    16 batch size, 16 accumulation steps\n",
      "    gives 3 training steps.\n",
      "\n",
      "    evaluating every 0 steps, 100 samples \n",
      "    \n"
     ]
    }
   ],
   "source": [
    "print(eval_steps)\n",
    "training_args = TrainingArguments(\n",
    "\n",
    "    seed       = 42,\n",
    "    use_cpu    = False, # use GPU if available (not necessarily faster on laptops, but Apple's MPS have good support)\n",
    "    output_dir = f'./results/models/{model_name}',\n",
    "\n",
    "    # NOTE: training params\n",
    "    learning_rate    = lr,\n",
    "    num_train_epochs = num_train_epochs,\n",
    "    # Use a smaller batch size to fit into GPU RAM. \n",
    "    per_device_train_batch_size = batch_size,\n",
    "    per_device_eval_batch_size  = batch_size,\n",
    "    # You should aim to have the same amount of samples per acc step, in all of your experiments!\n",
    "    # so, if you increase batch_size, decrease gradient_accumulation_steps by the same factor.\n",
    "    gradient_accumulation_steps = gradient_accumulation_steps,\n",
    "\n",
    "    # NOTE: Evaluation params\n",
    "    # wandb is great for tracking experiments, it will even (try to) save your code nowadays\n",
    "    evaluation_strategy = 'steps',\n",
    "    eval_steps = eval_steps,\n",
    "    save_steps = eval_steps,\n",
    "\n",
    "    logging_first_step=True,\n",
    "    logging_steps=max(1,eval_steps),\n",
    "    report_to  = 'wandb',\n",
    ")\n",
    "\n",
    "trainer = Trainer(\n",
    "    model = model, \n",
    "    args = training_args, \n",
    "    train_dataset = train_dataset, \n",
    "    eval_dataset = eval_dataset,\n",
    "    data_collator = DataCollatorForLanguageModeling(tokenizer, mlm=False),\n",
    ")\n",
    "\n",
    "# print amount of training steps, and how often the model is evaluated\n",
    "print(f'''\n",
    "    training for {num_train_epochs} epochs, {len(train_dataset)} samples\n",
    "    {batch_size} batch size, {gradient_accumulation_steps} accumulation steps\n",
    "    gives {_train_steps} training steps.\n",
    "\n",
    "    evaluating every {eval_steps} steps, {len(eval_dataset)} samples \n",
    "    ''')"
   ]
  },
  {
   "cell_type": "markdown",
   "metadata": {},
   "source": [
    "Finally, we can train. \n",
    "\n",
    "This configuration takes ≤24hr to pre-train on my M1 Macbook Air with 16GB RAM. Python takes ≤4GB VRAM at a `batch_size=16` and ≤11GB at `batch_size=64`, though they take the same amount of time to train - likely because this processor is not designed to move that much data in and out of RAM constantly. And tbh, the GPU be lacking. If you decide to go the local-training-route, consider [chai](https://github.com/lvillani/chai) to keep your (Apple) laptop awake – there's probably a windows/linux equivalent too. "
   ]
  },
  {
   "cell_type": "code",
   "execution_count": null,
   "metadata": {},
   "outputs": [
    {
     "data": {
      "text/html": [
       "Finishing last run (ID:gk9xs9x0) before initializing another..."
      ],
      "text/plain": [
       "<IPython.core.display.HTML object>"
      ]
     },
     "metadata": {},
     "output_type": "display_data"
    },
    {
     "data": {
      "application/vnd.jupyter.widget-view+json": {
       "model_id": "57948539327e4d8baba1a6c12c28e00e",
       "version_major": 2,
       "version_minor": 0
      },
      "text/plain": [
       "VBox(children=(Label(value='0.001 MB of 0.001 MB uploaded\\r'), FloatProgress(value=1.0, max=1.0)))"
      ]
     },
     "metadata": {},
     "output_type": "display_data"
    },
    {
     "data": {
      "text/html": [
       "<style>\n",
       "    table.wandb td:nth-child(1) { padding: 0 10px; text-align: left ; width: auto;} td:nth-child(2) {text-align: left ; width: 100%}\n",
       "    .wandb-row { display: flex; flex-direction: row; flex-wrap: wrap; justify-content: flex-start; width: 100% }\n",
       "    .wandb-col { display: flex; flex-direction: column; flex-basis: 100%; flex: 1; padding: 10px; }\n",
       "    </style>\n",
       "<div class=\"wandb-row\"><div class=\"wandb-col\"><h3>Run history:</h3><br/><table class=\"wandb\"><tr><td>train/epoch</td><td>▁</td></tr><tr><td>train/global_step</td><td>▁</td></tr><tr><td>train/grad_norm</td><td>▁</td></tr><tr><td>train/learning_rate</td><td>▁</td></tr><tr><td>train/loss</td><td>▁</td></tr></table><br/></div><div class=\"wandb-col\"><h3>Run summary:</h3><br/><table class=\"wandb\"><tr><td>train/epoch</td><td>0.00012</td></tr><tr><td>train/global_step</td><td>1</td></tr><tr><td>train/grad_norm</td><td>2.63032</td></tr><tr><td>train/learning_rate</td><td>0.0005</td></tr><tr><td>train/loss</td><td>9.3329</td></tr></table><br/></div></div>"
      ],
      "text/plain": [
       "<IPython.core.display.HTML object>"
      ]
     },
     "metadata": {},
     "output_type": "display_data"
    },
    {
     "data": {
      "text/html": [
       " View run <strong style=\"color:#cdcd00\">9.0M-2L-4H-512C-1024I</strong> at: <a href='https://wandb.ai/filipignijic/tinystories/runs/gk9xs9x0' target=\"_blank\">https://wandb.ai/filipignijic/tinystories/runs/gk9xs9x0</a><br/> View project at: <a href='https://wandb.ai/filipignijic/tinystories' target=\"_blank\">https://wandb.ai/filipignijic/tinystories</a><br/>Synced 5 W&B file(s), 0 media file(s), 0 artifact file(s) and 0 other file(s)"
      ],
      "text/plain": [
       "<IPython.core.display.HTML object>"
      ]
     },
     "metadata": {},
     "output_type": "display_data"
    },
    {
     "data": {
      "text/html": [
       "Find logs at: <code>.\\wandb\\run-20240503_163559-gk9xs9x0\\logs</code>"
      ],
      "text/plain": [
       "<IPython.core.display.HTML object>"
      ]
     },
     "metadata": {},
     "output_type": "display_data"
    },
    {
     "data": {
      "text/html": [
       "Successfully finished last run (ID:gk9xs9x0). Initializing new run:<br/>"
      ],
      "text/plain": [
       "<IPython.core.display.HTML object>"
      ]
     },
     "metadata": {},
     "output_type": "display_data"
    },
    {
     "data": {
      "application/vnd.jupyter.widget-view+json": {
       "model_id": "6e285cad3f824ff8b58ea81395ca891d",
       "version_major": 2,
       "version_minor": 0
      },
      "text/plain": [
       "VBox(children=(Label(value='Waiting for wandb.init()...\\r'), FloatProgress(value=0.011111111111111112, max=1.0…"
      ]
     },
     "metadata": {},
     "output_type": "display_data"
    },
    {
     "data": {
      "text/html": [
       "Tracking run with wandb version 0.16.6"
      ],
      "text/plain": [
       "<IPython.core.display.HTML object>"
      ]
     },
     "metadata": {},
     "output_type": "display_data"
    },
    {
     "data": {
      "text/html": [
       "Run data is saved locally in <code>c:\\Users\\Filip\\Documents\\School\\Delft\\Research project\\tiny-transformers\\code\\filip\\wandb\\run-20240503_165549-hh4d4t28</code>"
      ],
      "text/plain": [
       "<IPython.core.display.HTML object>"
      ]
     },
     "metadata": {},
     "output_type": "display_data"
    },
    {
     "data": {
      "text/html": [
       "Syncing run <strong><a href='https://wandb.ai/filipignijic/tinystories/runs/hh4d4t28' target=\"_blank\">Base-GPT-Neo-small-dataset9.0M-2L-4H-512C-1024I</a></strong> to <a href='https://wandb.ai/filipignijic/tinystories' target=\"_blank\">Weights & Biases</a> (<a href='https://wandb.me/run' target=\"_blank\">docs</a>)<br/>"
      ],
      "text/plain": [
       "<IPython.core.display.HTML object>"
      ]
     },
     "metadata": {},
     "output_type": "display_data"
    },
    {
     "data": {
      "text/html": [
       " View project at <a href='https://wandb.ai/filipignijic/tinystories' target=\"_blank\">https://wandb.ai/filipignijic/tinystories</a>"
      ],
      "text/plain": [
       "<IPython.core.display.HTML object>"
      ]
     },
     "metadata": {},
     "output_type": "display_data"
    },
    {
     "data": {
      "text/html": [
       " View run at <a href='https://wandb.ai/filipignijic/tinystories/runs/hh4d4t28' target=\"_blank\">https://wandb.ai/filipignijic/tinystories/runs/hh4d4t28</a>"
      ],
      "text/plain": [
       "<IPython.core.display.HTML object>"
      ]
     },
     "metadata": {},
     "output_type": "display_data"
    },
    {
     "data": {
      "application/vnd.jupyter.widget-view+json": {
       "model_id": "b16903d3118d41359715117eef2d35cd",
       "version_major": 2,
       "version_minor": 0
      },
      "text/plain": [
       "  0%|          | 0/8280 [00:00<?, ?it/s]"
      ]
     },
     "metadata": {},
     "output_type": "display_data"
    },
    {
     "name": "stdout",
     "output_type": "stream",
     "text": [
      "{'loss': 9.2882, 'grad_norm': 2.5784976482391357, 'learning_rate': 0.0004999396135265701, 'epoch': 0.0}\n"
     ]
    },
    {
     "ename": "KeyboardInterrupt",
     "evalue": "",
     "output_type": "error",
     "traceback": [
      "\u001b[1;31m---------------------------------------------------------------------------\u001b[0m",
      "\u001b[1;31mKeyboardInterrupt\u001b[0m                         Traceback (most recent call last)",
      "Cell \u001b[1;32mIn[23], line 2\u001b[0m\n\u001b[0;32m      1\u001b[0m wandb\u001b[38;5;241m.\u001b[39minit(project\u001b[38;5;241m=\u001b[39m\u001b[38;5;124m'\u001b[39m\u001b[38;5;124mtinystories\u001b[39m\u001b[38;5;124m'\u001b[39m, name\u001b[38;5;241m=\u001b[39mmodel_name, config\u001b[38;5;241m=\u001b[39mtraining_args)\n\u001b[1;32m----> 2\u001b[0m \u001b[43mtrainer\u001b[49m\u001b[38;5;241;43m.\u001b[39;49m\u001b[43mtrain\u001b[49m\u001b[43m(\u001b[49m\u001b[43m)\u001b[49m\n\u001b[0;32m      3\u001b[0m trainer\u001b[38;5;241m.\u001b[39msave_model(\u001b[38;5;124mf\u001b[39m\u001b[38;5;124m'\u001b[39m\u001b[38;5;124m./results/models/\u001b[39m\u001b[38;5;132;01m{\u001b[39;00mmodel_name\u001b[38;5;132;01m}\u001b[39;00m\u001b[38;5;124m'\u001b[39m)\n",
      "File \u001b[1;32mc:\\Users\\Filip\\Documents\\School\\Delft\\Research project\\venv\\lib\\site-packages\\transformers\\trainer.py:1859\u001b[0m, in \u001b[0;36mTrainer.train\u001b[1;34m(self, resume_from_checkpoint, trial, ignore_keys_for_eval, **kwargs)\u001b[0m\n\u001b[0;32m   1857\u001b[0m         hf_hub_utils\u001b[38;5;241m.\u001b[39menable_progress_bars()\n\u001b[0;32m   1858\u001b[0m \u001b[38;5;28;01melse\u001b[39;00m:\n\u001b[1;32m-> 1859\u001b[0m     \u001b[38;5;28;01mreturn\u001b[39;00m \u001b[43minner_training_loop\u001b[49m\u001b[43m(\u001b[49m\n\u001b[0;32m   1860\u001b[0m \u001b[43m        \u001b[49m\u001b[43margs\u001b[49m\u001b[38;5;241;43m=\u001b[39;49m\u001b[43margs\u001b[49m\u001b[43m,\u001b[49m\n\u001b[0;32m   1861\u001b[0m \u001b[43m        \u001b[49m\u001b[43mresume_from_checkpoint\u001b[49m\u001b[38;5;241;43m=\u001b[39;49m\u001b[43mresume_from_checkpoint\u001b[49m\u001b[43m,\u001b[49m\n\u001b[0;32m   1862\u001b[0m \u001b[43m        \u001b[49m\u001b[43mtrial\u001b[49m\u001b[38;5;241;43m=\u001b[39;49m\u001b[43mtrial\u001b[49m\u001b[43m,\u001b[49m\n\u001b[0;32m   1863\u001b[0m \u001b[43m        \u001b[49m\u001b[43mignore_keys_for_eval\u001b[49m\u001b[38;5;241;43m=\u001b[39;49m\u001b[43mignore_keys_for_eval\u001b[49m\u001b[43m,\u001b[49m\n\u001b[0;32m   1864\u001b[0m \u001b[43m    \u001b[49m\u001b[43m)\u001b[49m\n",
      "File \u001b[1;32mc:\\Users\\Filip\\Documents\\School\\Delft\\Research project\\venv\\lib\\site-packages\\transformers\\trainer.py:2205\u001b[0m, in \u001b[0;36mTrainer._inner_training_loop\u001b[1;34m(self, batch_size, args, resume_from_checkpoint, trial, ignore_keys_for_eval)\u001b[0m\n\u001b[0;32m   2202\u001b[0m \u001b[38;5;28;01mwith\u001b[39;00m \u001b[38;5;28mself\u001b[39m\u001b[38;5;241m.\u001b[39maccelerator\u001b[38;5;241m.\u001b[39maccumulate(model):\n\u001b[0;32m   2203\u001b[0m     tr_loss_step \u001b[38;5;241m=\u001b[39m \u001b[38;5;28mself\u001b[39m\u001b[38;5;241m.\u001b[39mtraining_step(model, inputs)\n\u001b[1;32m-> 2205\u001b[0m \u001b[38;5;28;01mif\u001b[39;00m (\n\u001b[0;32m   2206\u001b[0m     args\u001b[38;5;241m.\u001b[39mlogging_nan_inf_filter\n\u001b[0;32m   2207\u001b[0m     \u001b[38;5;129;01mand\u001b[39;00m \u001b[38;5;129;01mnot\u001b[39;00m is_torch_xla_available()\n\u001b[0;32m   2208\u001b[0m     \u001b[38;5;129;01mand\u001b[39;00m (torch\u001b[38;5;241m.\u001b[39misnan(tr_loss_step) \u001b[38;5;129;01mor\u001b[39;00m torch\u001b[38;5;241m.\u001b[39misinf(tr_loss_step))\n\u001b[0;32m   2209\u001b[0m ):\n\u001b[0;32m   2210\u001b[0m     \u001b[38;5;66;03m# if loss is nan or inf simply add the average of previous logged losses\u001b[39;00m\n\u001b[0;32m   2211\u001b[0m     tr_loss \u001b[38;5;241m+\u001b[39m\u001b[38;5;241m=\u001b[39m tr_loss \u001b[38;5;241m/\u001b[39m (\u001b[38;5;241m1\u001b[39m \u001b[38;5;241m+\u001b[39m \u001b[38;5;28mself\u001b[39m\u001b[38;5;241m.\u001b[39mstate\u001b[38;5;241m.\u001b[39mglobal_step \u001b[38;5;241m-\u001b[39m \u001b[38;5;28mself\u001b[39m\u001b[38;5;241m.\u001b[39m_globalstep_last_logged)\n\u001b[0;32m   2212\u001b[0m \u001b[38;5;28;01melse\u001b[39;00m:\n",
      "\u001b[1;31mKeyboardInterrupt\u001b[0m: "
     ]
    }
   ],
   "source": [
    "wandb.init(project='tinystories', name=model_name, config=training_args)\n",
    "trainer.train()\n",
    "trainer.save_model(f'./results/models/{model_name}')"
   ]
  },
  {
   "cell_type": "markdown",
   "metadata": {},
   "source": [
    "## Inference!\n",
    "Try out your own pre-trained model on some prompts"
   ]
  },
  {
   "cell_type": "code",
   "execution_count": null,
   "metadata": {},
   "outputs": [],
   "source": [
    "import textwrap # for pretty printing\n",
    "w = textwrap.TextWrapper(replace_whitespace=False, break_long_words=False, width=60, initial_indent='   ', subsequent_indent='  ')\n",
    "def see(text): print('\\n\\033[3m' + '\\n\\n'.join(['\\n'.join(w.wrap(line))\n",
    "                 for line in text.splitlines() if line.strip() != '']) + '\\033[0m\\n')"
   ]
  },
  {
   "cell_type": "code",
   "execution_count": null,
   "metadata": {},
   "outputs": [],
   "source": [
    "from transformers import AutoTokenizer, AutoModelForCausalLM\n",
    "\n",
    "model_name = '9.0M-2L-4H-512C-1024I'\n",
    "tokenizer = AutoTokenizer.from_pretrained('10k-gpt-neo')\n",
    "tokenizer.pad_token_id = tokenizer.eos_token_id\n",
    "model = AutoModelForCausalLM.from_pretrained(f'results/models/{model_name}')"
   ]
  },
  {
   "cell_type": "code",
   "execution_count": null,
   "metadata": {},
   "outputs": [
    {
     "name": "stdout",
     "output_type": "stream",
     "text": [
      "\n",
      "\u001b[3m   One weekend Filip had a few chicks over at his crib. He\n",
      "  was so excited to see what was going on. He ran to the\n",
      "  kitchen and saw a big bowl of crib. He was so excited! He\n",
      "  ran to the kitchen and saw a big bowl of crib. He was so\n",
      "  excited! He ran to the kitchen and saw a big bowl of crib.\n",
      "  He was so excited! He ran to the kitchen and saw a big\n",
      "  bowl of crib. He was so excited! He ran to the kitchen and\n",
      "  saw the crib. He was so excited! He ran to the kitchen and\n",
      "  saw the crib. He was so excited! He ran to the kitchen and\n",
      "  saw the crib. He was so excited! He ran to the kitchen and\n",
      "  saw the crib. He was so excited! He ran to the kitchen and\n",
      "  saw the crib. He was so excited! He ran to the kitchen and\n",
      "  saw the crib. He was so excited! He ran to the kitchen and\n",
      "  saw the crib. He was so happy. He had found the crib and\n",
      "  he was so proud. He had found the crib and he was so proud\n",
      "  of himself. He had made a new friend. He was so happy. He\n",
      "  had a great time at the crib. He was so proud of himself.\n",
      "  He had had a great time at the crib. He had had made the\n",
      "  best crib ever. He had a great time. He had a great\u001b[0m\n",
      "\n"
     ]
    }
   ],
   "source": [
    "prompt = 'One weekend Filip had a '\n",
    "input_ids = tokenizer.encode(prompt, return_tensors='pt')\n",
    "\n",
    "output = model.generate(input_ids, max_length=300, num_beams=1)\n",
    "output_text = tokenizer.decode(output[0])\n",
    "\n",
    "# textwrap with indentation on every new paragraph\n",
    "see(output_text)"
   ]
  }
 ],
 "metadata": {
  "kernelspec": {
   "display_name": "lms",
   "language": "python",
   "name": "python3"
  },
  "language_info": {
   "codemirror_mode": {
    "name": "ipython",
    "version": 3
   },
   "file_extension": ".py",
   "mimetype": "text/x-python",
   "name": "python",
   "nbconvert_exporter": "python",
   "pygments_lexer": "ipython3",
   "version": "3.9.13"
  }
 },
 "nbformat": 4,
 "nbformat_minor": 2
}
