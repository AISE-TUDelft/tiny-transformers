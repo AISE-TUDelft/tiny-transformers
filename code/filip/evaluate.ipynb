{
 "cells": [
  {
   "cell_type": "code",
   "execution_count": 1,
   "metadata": {},
   "outputs": [],
   "source": [
    "import textwrap # for pretty printing\n",
    "w = textwrap.TextWrapper(replace_whitespace=False, break_long_words=False, width=60, initial_indent='   ', subsequent_indent='  ')\n",
    "def see(text): print('\\n\\033[3m' + '\\n\\n'.join(['\\n'.join(w.wrap(line))\n",
    "                 for line in text.splitlines() if line.strip() != '']) + '\\033[0m\\n')"
   ]
  },
  {
   "cell_type": "code",
   "execution_count": 7,
   "metadata": {},
   "outputs": [],
   "source": [
    "model_name = '9.0M-2L-4H-512C-1024I'\n",
    "checkpoint = 'checkpoint-6624'\n",
    "\n",
    "from transformers import AutoTokenizer, AutoModelForCausalLM\n",
    "\n",
    "tokenizer = AutoTokenizer.from_pretrained('10k-gpt-neo')\n",
    "model = AutoModelForCausalLM.from_pretrained(f'results/models/{model_name}/{checkpoint}')"
   ]
  },
  {
   "cell_type": "code",
   "execution_count": 10,
   "metadata": {},
   "outputs": [
    {
     "name": "stderr",
     "output_type": "stream",
     "text": [
      "The attention mask and the pad token id were not set. As a consequence, you may observe unexpected behavior. Please pass your input's `attention_mask` to obtain reliable results.\n",
      "Setting `pad_token_id` to `eos_token_id`:50256 for open-end generation.\n"
     ]
    },
    {
     "name": "stdout",
     "output_type": "stream",
     "text": [
      "\n",
      "\u001b[3m   Once upon a time, there was a chicken named Bob. Bob\n",
      "  lived on a farm with many other animals. One day, Bob met\n",
      "  a little bird named Tweet. Tweet was sad because he lost\n",
      "  his nest.\n",
      "\n",
      "   Bob asked, \"Why are you sad, little bird?\"\n",
      "\n",
      "   Tweet replied, \"I lost my nest. I can't find it.\"\n",
      "\n",
      "   Bob said, \"Don't worry, I will help you find it.\"\n",
      "\n",
      "   So, Bob and Tweet went on a journey to find the nest.\n",
      "  They looked and looked, but they could not find the nest.\n",
      "\n",
      "   Finally, they found the nest. Bob was so happy. He said,\n",
      "  \"Thank you, Tweet! You are a good friend.\"\n",
      "\n",
      "   From that day on, Bob and Tweet became good friends. They\n",
      "  played together every day and had lots of fun. And they\n",
      "  lived happily ever after. The end. The end. The end. The\n",
      "  end. The end.\n",
      "\n",
      "   The moral of the story is that it's important to help\n",
      "  others when they need it. And that's how Bob and Tweet\n",
      "  became best friends. The moral of the story is to always\n",
      "  help others and help others when they need it. And that's\n",
      "  how Bob and Tweet became best friends. The moral of the\n",
      "  story is to always help others when they need it. The\n",
      "  moral of the story is to always help others when they\u001b[0m\n",
      "\n"
     ]
    }
   ],
   "source": [
    "prompt = 'Once upon a time, there was a chicken'\n",
    "\n",
    "input_ids = tokenizer.encode(prompt, return_tensors='pt')\n",
    "\n",
    "output = model.generate(input_ids, max_length=300, num_beams=2)\n",
    "output_text = tokenizer.decode(output[0])\n",
    "\n",
    "# textwrap with indentation on every new paragraph\n",
    "see(output_text)"
   ]
  },
  {
   "cell_type": "code",
   "execution_count": null,
   "metadata": {},
   "outputs": [],
   "source": []
  }
 ],
 "metadata": {
  "kernelspec": {
   "display_name": "lms",
   "language": "python",
   "name": "python3"
  },
  "language_info": {
   "codemirror_mode": {
    "name": "ipython",
    "version": 3
   },
   "file_extension": ".py",
   "mimetype": "text/x-python",
   "name": "python",
   "nbconvert_exporter": "python",
   "pygments_lexer": "ipython3",
   "version": "3.11.5"
  }
 },
 "nbformat": 4,
 "nbformat_minor": 2
}
