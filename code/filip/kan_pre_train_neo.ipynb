{
 "cells": [
  {
   "cell_type": "markdown",
   "metadata": {},
   "source": [
    "## Pre-Training [`GPT-Neo`](https://github.com/huggingface/transformers/blob/main/src/transformers/models/gpt_neo/modeling_gpt_neo.py) on [`TinyStories`](https://huggingface.co/datasets/roneneldan/TinyStories)\n",
    "\n",
    "This script shows how to pre-train both models. I put them in one notebook because the majority of the code is shared; but you may want to separate the logic per model. "
   ]
  },
  {
   "cell_type": "code",
   "execution_count": 7,
   "metadata": {},
   "outputs": [
    {
     "name": "stdout",
     "output_type": "stream",
     "text": [
      "The autoreload extension is already loaded. To reload it, use:\n",
      "  %reload_ext autoreload\n"
     ]
    }
   ],
   "source": [
    "# %pip install torch wandb transformers[torch] datasets tqdm \n",
    "%load_ext autoreload\n",
    "%autoreload 2 "
   ]
  },
  {
   "cell_type": "code",
   "execution_count": 8,
   "metadata": {},
   "outputs": [],
   "source": [
    "import os\n",
    "import sys\n",
    "os.environ[\"CUDA_VISIBLE_DEVICES\"] = \"0\"  # or \"0,1\" for multiple GPUs\n",
    "\n",
    "\n",
    "import wandb; wandb.login()\n",
    "\n",
    "# TODO: Some gpu error, this fixes it but ask aral for the details\n",
    "import torch\n",
    "torch.use_deterministic_algorithms(False)\n",
    "\n",
    "small_dataset = True\n",
    "if len(sys.argv) > 1 and sys.argv[1] and sys.argv[1] == \"true\":\n",
    "    small_dataset = True\n",
    "elif len(sys.argv) > 1 and sys.argv[1] and sys.argv[1] == \"false\":\n",
    "    small_dataset = False\n",
    "\n",
    "\n",
    "from transformers import (\n",
    "    GPTNeoForCausalLM, GPTNeoConfig, GPT2TokenizerFast, set_seed\n",
    ")"
   ]
  },
  {
   "cell_type": "markdown",
   "metadata": {},
   "source": [
    "#### Models \n",
    "We consider GPT-Neo and BERT as base transformer architectures. This consists of the following blocks linked via residual connections:\n",
    "\n",
    "- Embeddings: Map one-hot (sparse) token vectors to a dense vector of length `hidden_size`. Add positional encoding. \n",
    "- $n$ Blocks: Contain self-attention and FFNs.\n",
    "- Head: Map hidden state back to a useful output. \n",
    "\n",
    "This specifies some of the model-related hyperparameters. I chose them based on what achieved reasonable performance in the [TinyStories paper](https://arxiv.org/abs/2305.07759), while also being feasible to train on our limited compute budgets. "
   ]
  },
  {
   "cell_type": "code",
   "execution_count": 9,
   "metadata": {},
   "outputs": [],
   "source": [
    "config_gpt = dict(\n",
    "\n",
    "    # EMBEDDING PARAMETERS\n",
    "    vocab_size              = 10_000,   # number of tokens in the vocabulary \n",
    "    hidden_size             = 516,      # embedding size (vector length) of each token \n",
    "    max_position_embeddings = 512,      # maximum sequence length (context window)\n",
    "\n",
    "    # BLOCKS (ATTN & FFN)\n",
    "    num_layers=2,                               # number of transformer blocks\n",
    "    attention_types=[[[\"global\", \"local\"], 1]], # (GPT-Neo-specific) global and local attention \n",
    "    num_heads=4,                                # attention heads\n",
    "    window_size=256,                            # (GPT-Neo-specific) for local attention \n",
    "    intermediate_size=1024,                     # size of 'up-projection' layer in FFN\n",
    "\n",
    "    pad_token_id = 0,           # need to specify this for tokenizer interop between models\n",
    ")\n",
    "\n",
    "config_gpt = GPTNeoConfig(**config_gpt)"
   ]
  },
  {
   "cell_type": "markdown",
   "metadata": {},
   "source": [
    "### Implement KAN instead of MLP"
   ]
  },
  {
   "cell_type": "code",
   "execution_count": null,
   "metadata": {},
   "outputs": [],
   "source": [
    "from kan import KanLayer as BaseKANLayer\n",
    "import torch\n",
    "from torch import nn\n",
    "\n",
    "'''\n",
    "class GPTNeoMLP(nn.Module):\n",
    "    def __init__(self, intermediate_size, config):  # in MLP: intermediate_size= 4 * hidden_size\n",
    "        super().__init__()\n",
    "        embed_dim = config.hidden_size\n",
    "        self.c_fc = nn.Linear(embed_dim, intermediate_size)\n",
    "        self.c_proj = nn.Linear(intermediate_size, embed_dim)\n",
    "        self.act = ACT2FN[config.activation_function]\n",
    "        self.dropout = nn.Dropout(float(config.resid_dropout))\n",
    "\n",
    "    def forward(self, hidden_states):\n",
    "        hidden_states = self.c_fc(hidden_states)\n",
    "        hidden_states = self.act(hidden_states)\n",
    "        hidden_states = self.c_proj(hidden_states)\n",
    "        hidden_states = self.dropout(hidden_states)\n",
    "        return hidden_states\n",
    "'''\n",
    "\n",
    "'''\n",
    "self.mlp = GPTNeoMLP(inner_dim, config)\n",
    "'''\n",
    "\n",
    "class KANLayer(nn.Module):\n",
    "    def __init__(self, config):\n",
    "        super(KANLayer, self).__init__()\n",
    "        self.in_dim = config.hidden_size\n",
    "        self.out_dim = config.hidden_size  # Keeping output size same as input\n",
    "        self.kan_internal = BaseKANLayer(\n",
    "            in_dim=self.in_dim,\n",
    "            out_dim=self.out_dim,\n",
    "            num=5,  # Example parameter\n",
    "            k=3,  # Example parameter\n",
    "            noise_scale=0.1,  # Example parameter\n",
    "            scale_base=1.0,  # Adjust as necessary\n",
    "            scale_sp=1.0,  # Adjust as necessary\n",
    "            base_fun=nn.SiLU(),  # Example activation function used within KAN\n",
    "            grid_eps=0.02,  # Example parameter\n",
    "            grid_range=[-1, 1],  # Example parameter range\n",
    "            sp_trainable=True,\n",
    "            sb_trainable=True,\n",
    "            device=config.device\n",
    "        )\n",
    "        self.dropout = nn.Dropout(config.resid_dropout)\n",
    "\n",
    "    def forward(self, x):\n",
    "        return self.\n"
   ]
  },
  {
   "cell_type": "markdown",
   "metadata": {},
   "source": [
    "#### Add custom KAN implementation to GPT-Neo"
   ]
  },
  {
   "cell_type": "code",
   "execution_count": 10,
   "metadata": {},
   "outputs": [
    {
     "name": "stdout",
     "output_type": "stream",
     "text": [
      "\n",
      "    This GPT has 9,677,048 parameters,\n",
      "    \n"
     ]
    }
   ],
   "source": [
    "class CustomGPTNeoForCausalLM(GPTNeoForCausalLM):\n",
    "    def __init__(self, config, mlp_implementation=None):\n",
    "        super().__init__(config)\n",
    "        self.attn_implementation = mlp_implementation\n",
    "        \n",
    "        if mlp_implementation == \"KAN\":\n",
    "            # Override MLP with KAN in each transformer block\n",
    "            for block in self.transformer.h:\n",
    "                block.mlp = KANLayer()\n",
    "set_seed(42)\n",
    "\n",
    "gpt = GPTNeoForCausalLM(config=config_gpt)\n",
    "\n",
    "print(f'''\n",
    "    This GPT has {gpt.num_parameters():,} parameters,\n",
    "    ''')\n",
    "\n",
    "# gpt, rob # uncomment to see model architecture"
   ]
  },
  {
   "cell_type": "markdown",
   "metadata": {},
   "source": [
    "#### Pre-Processing\n",
    "All experiments use the same tokenizer, so in theory, we only need to preprocess our data once. This means you can subsequently skip this CPU-intensive task on the DelftBlue GPU nodes. \n",
    "(except if you are experimenting with different context lengths, in that case you will need to re-tokenise to recover potentially truncated inputs; see below).\n",
    "\n",
    "When running experiments on delftblue, it may be fastest to load (parts of) the dataset into memory, as the cluster has pretty slow IO. See `datasets`, specifically [`load_dataset`'s `keep_in_memory` attribute](https://huggingface.co/docs/datasets/en/package_reference/loading_methods#datasets.load_dataset). "
   ]
  },
  {
   "cell_type": "code",
   "execution_count": null,
   "metadata": {},
   "outputs": [],
   "source": [
    "# import tqdm \n",
    "# from datasets import load_dataset, DatasetDict\n",
    "# \n",
    "# dataset = load_dataset('roneneldan/tinystories', num_proc=16)\n",
    "# \n",
    "# n_words = 0 \n",
    "# for story in tqdm.tqdm(dataset['train']['text']):    # tqdm is used for progress bars around iterables\n",
    "#     n_words += len(story.split())\n",
    "# \n",
    "# print(f'''\n",
    "#     Train dataset has {len(dataset['train']['text']):,} samples, \n",
    "#     totalling {n_words:,} words (avg. {n_words/len(dataset['train']['text']):,.1f} per story).\n",
    "#     ''')"
   ]
  },
  {
   "cell_type": "markdown",
   "metadata": {},
   "source": [
    "#### Tokenisation\n",
    "Two things happen during tokenisation, of which the latter is optional:\n",
    "\n",
    "1. Map (sub-)words to integers $ \\in [0, 10000]$.\n",
    "2. Truncate/pad each input as necessary to fit within `hidden_size`. \n",
    "\n",
    "All it does is map frequent character strings (i.e. tokens) to integers, which it can then use to look up the corresponding embedding vector for that integer index.\n",
    "\n",
    "The intuition is that by assigning each token its own embedding (vector of `1 x hidden_size`) in the transformer, will help it learn semantical understanding of these tokens. E.g. say that you have two tokens 'about' and 'around', the transformer should learn similar embedding vectors for each. "
   ]
  },
  {
   "cell_type": "code",
   "execution_count": 11,
   "metadata": {},
   "outputs": [
    {
     "name": "stderr",
     "output_type": "stream",
     "text": [
      "The tokenizer class you load from this checkpoint is not the same type as the class this function is called from. It may result in unexpected tokenization. \n",
      "The tokenizer class you load from this checkpoint is 'RobertaTokenizer'. \n",
      "The class this function is called from is 'GPT2TokenizerFast'.\n"
     ]
    },
    {
     "name": "stdout",
     "output_type": "stream",
     "text": [
      "padding token is <pad>\n",
      "padding token in config: 0, in tokeniser: 0\n"
     ]
    }
   ],
   "source": [
    "from transformers import PreTrainedTokenizer, PretrainedConfig\n",
    "\n",
    "def get_tokenizer_for_config(Tok: PreTrainedTokenizer, config: PretrainedConfig):\n",
    "\n",
    "    tokenizer = Tok.from_pretrained(\n",
    "        '10k-tok',                                         # our custom tokenizer\n",
    "        model_max_length=config.max_position_embeddings    # sequence length (context window)\n",
    "    )\n",
    "\n",
    "    # we're using our special tokenizer with only 10'000 tokens instead of 50'256\n",
    "    assert tokenizer.vocab_size == config.vocab_size\n",
    "\n",
    "    print(f'padding token is {tokenizer.pad_token}')\n",
    "    print(f'padding token in config: {config.pad_token_id}, in tokeniser: {tokenizer.pad_token_id}')\n",
    "    \n",
    "    return tokenizer \n",
    "\n",
    "tok_gpt = get_tokenizer_for_config(GPT2TokenizerFast, config_gpt)"
   ]
  },
  {
   "cell_type": "code",
   "execution_count": null,
   "metadata": {},
   "outputs": [],
   "source": [
    "# NOTE: uncomment to tokenize the dataset (both tokenizers should give identical results)\n",
    "# tokenized_gpt = dataset.map(\n",
    "#     lambda x: tok_gpt(x['text'], truncation=True, padding='max_length'), \n",
    "#     batched=True, num_proc=None, batch_size=1_000)\n",
    "# tokenized_gpt.save_to_disk('./tokenized_dataset_small', num_proc=None)\n",
    "# # sanity check that the tokenisers are indeed identical \n",
    "# tokenized_rob = dataset.map(\n",
    "#     lambda x: tok_rob(x['text'], truncation=True, padding='max_length'), \n",
    "#     batched=True, num_proc=64, batch_size=1_000)\n",
    "\n",
    "# for split in ['train', 'validation']:\n",
    "#     for sample_gpt, sample_rob in tqdm.tqdm(zip(tokenized_gpt[split], tokenized_rob[split])):\n",
    "#         assert sample_gpt == sample_rob"
   ]
  },
  {
   "cell_type": "code",
   "execution_count": 12,
   "metadata": {},
   "outputs": [
    {
     "data": {
      "text/plain": [
       "[0, 0, 0, 0, 0, 0, 0, 0, 0, 0]"
      ]
     },
     "execution_count": 12,
     "metadata": {},
     "output_type": "execute_result"
    }
   ],
   "source": [
    "from datasets import load_from_disk \n",
    "tokenized_dataset = load_from_disk(f'./tokenized_dataset_small') if small_dataset else load_from_disk('./tokenized_dataset')\n",
    "\n",
    "train_dataset = tokenized_dataset['train']\n",
    "eval_dataset  = tokenized_dataset['validation']\n",
    "\n",
    "assert len(tokenized_dataset['train'][0]['input_ids']) == config_gpt.max_position_embeddings\n",
    "tokenized_dataset['train'][0]['input_ids'][-10:]\n",
    "# should be pad tokens (0), given that most short stories are <512 tokens"
   ]
  },
  {
   "cell_type": "markdown",
   "metadata": {},
   "source": [
    "#### Training\n",
    "Before we get started, you may want to specify which GPU to use. See the first cell in this notebook; make sure to run it before anything else. "
   ]
  },
  {
   "cell_type": "markdown",
   "metadata": {},
   "source": [
    "Huggingface provides some powerful (and often confusingly long) APIs for model training. The `TrainingArguments` specifies our hyperparameters, which are used by the `Trainer` taking in the remaining objects (like `model`, `tokenizer`, and `train_dataset`). Specifically:\n",
    "\n",
    "- `learning_rate` and `num_train_epochs` determine how much the model learns. A higher rate is faster, but more unstable. More epochs (entire passes over the dataset) yields incrementally better results, at the cost of more training time. \n",
    "- Batch sizes determine how many samples the model sees in *parallel*. Given `gradient_accumulation_steps=1` and a `batch_size=8`, the model will backpropagate the average loss of 8 samples; if `batch_size=1`, it will average the loss of `gradient_accumulation_steps` samples. It is important to make sure the backpropagated loss is averaged over the same number of samples, when comparing models. \n",
    "\n",
    "- `data_collator` batches (and optionally, pads) the input for the model. We have already padded in our `tokenized_dataset`, and leaving this argument empty will automatically batch the inputs. So why do we need it? \n",
    "\n",
    "    Glad you asked. This has to do with how the loss is computed in causal language modelling. In our case, we try to predict $p(y | x)$, where $x$ is an input sequence of tokens, and $y$ is the next token following that sequence. Our model, unaware of the target token $y$, outputs $\\hat y$. \n",
    "    \n",
    "    For `Trainer` to compute the (cross-entropy) loss, we need to provide it with both $y$ and $\\hat y$. The `DataCollatorForLanguageModeling` knows this, and provides the next token $y$ as a separate part of the input, to the `Trainer`.\n",
    "\n",
    "    The loss is the backbone of backpropagation, which we need to actually improve our model. If this is confusing, please re-watch Karpathy's GPT tutorial. \n",
    "\n",
    "If you prefer to write the training loop yourself, check out HF' `run_clm_no_trainer.py` scripts. (`run_mlm_no_trainer.py` for RoBERTa-style masked-language modelling, as opposed to causal language modelling). This can be useful to give you better control over which devices are used for training. "
   ]
  },
  {
   "cell_type": "code",
   "execution_count": 14,
   "metadata": {},
   "outputs": [],
   "source": [
    "from transformers import Trainer, TrainingArguments, DataCollatorForLanguageModeling\n",
    "\n",
    "def get_hyperparameters(model, dataset):\n",
    "    ''' common hyperparameters to give to the trainer '''\n",
    "\n",
    "    # TRAINING HYPERPARAMETERS \n",
    "    batch_size = 16                  # TinyStories uses 80, but I am training locally on my poor M1 Air\n",
    "    num_train_epochs = 1             # TinyStories doesn't mention\n",
    "    gradient_accumulation_steps = 16 # TinyStories uses 16\n",
    "\n",
    "    lr = 5e-4                        # TinyStories uses 5e-4, higher values better for small models\n",
    "\n",
    "    # future you will thank you for descriptive model names\n",
    "    # TODO: customise this name such that every model you train has a unique identifier!\n",
    "    config      = model.config \n",
    "    model_name  = '-'.join([\n",
    "        'GPT' if isinstance(model, GPTNeoForCausalLM) else 'BERT',\n",
    "        f'{model.num_parameters()//1e6:.1f}M',\n",
    "        f'{config.num_layers if isinstance(model, GPTNeoForCausalLM) else config.num_hidden_layers}L', \n",
    "        f'{config.num_heads if isinstance(model, GPTNeoForCausalLM) else config.num_attention_heads}H', \n",
    "        f'{config.hidden_size}C',\n",
    "        f'{config.intermediate_size}I'\n",
    "    ])\n",
    "\n",
    "    _train_steps = len(dataset) // (batch_size * gradient_accumulation_steps)\n",
    "    eval_steps = _train_steps // 10 # evaluate every 10% of training steps\n",
    "\n",
    "    return dict(\n",
    "        model_name = model_name,\n",
    "        batch_size = batch_size, \n",
    "        num_train_epochs = num_train_epochs,\n",
    "        gradient_accumulation_steps = gradient_accumulation_steps,\n",
    "        lr = lr,\n",
    "        eval_steps = eval_steps\n",
    "    )\n",
    "\n",
    "params_gpt = get_hyperparameters(gpt, train_dataset)"
   ]
  },
  {
   "cell_type": "code",
   "execution_count": 26,
   "metadata": {},
   "outputs": [],
   "source": [
    "def get_trainer(\n",
    "        model, tokenizer, train_dataset, eval_dataset, output_dir,\n",
    "        model_name, batch_size, num_train_epochs, gradient_accumulation_steps, lr, eval_steps):\n",
    "    ''' more general training arguments you likely want to keep fixed'''\n",
    "\n",
    "    training_args = TrainingArguments(\n",
    "\n",
    "        seed       = 42,\n",
    "        use_cpu    = False, # use GPU if available (not necessarily faster on laptops, but Apple's MPS have good support)\n",
    "\n",
    "        output_dir = os.path.join(output_dir, model_name),\n",
    "\n",
    "        # NOTE: training params\n",
    "        learning_rate    = lr,\n",
    "        num_train_epochs = num_train_epochs,\n",
    "        # Use a smaller batch size to fit into GPU RAM. \n",
    "        per_device_train_batch_size = batch_size,\n",
    "        per_device_eval_batch_size  = batch_size,\n",
    "        # You should aim to have the same amount of samples per acc step, in all of your experiments!\n",
    "        # so, if you increase batch_size, decrease gradient_accumulation_steps by the same factor.\n",
    "        gradient_accumulation_steps = gradient_accumulation_steps,\n",
    "\n",
    "        # NOTE: Evaluation params\n",
    "        # wandb is great for tracking experiments, it will even (try to) save your code nowadays\n",
    "        evaluation_strategy = 'steps',\n",
    "        eval_steps = eval_steps,\n",
    "        save_steps = eval_steps,\n",
    "\n",
    "        logging_first_step=True,\n",
    "        logging_steps=100,\n",
    "        report_to  = 'wandb',\n",
    "    )\n",
    "\n",
    "    trainer = Trainer(\n",
    "        model = model, \n",
    "        args = training_args, \n",
    "        train_dataset = train_dataset, \n",
    "        eval_dataset = eval_dataset,\n",
    "        data_collator = DataCollatorForLanguageModeling(\n",
    "            tokenizer, mlm=False),\n",
    "    )\n",
    "\n",
    "    # print amount of training steps, and how often the model is evaluated\n",
    "    print(f'''\n",
    "    Retrieving Trainer for \\033[1m{model_name}\\033[0m\n",
    "        training for {num_train_epochs} epochs, {len(train_dataset)} samples\n",
    "        {batch_size} batch size, {gradient_accumulation_steps} accumulation steps\n",
    "        gives {len(train_dataset)//(batch_size * gradient_accumulation_steps)} training steps.\n",
    "        Evaluating every {eval_steps} steps, {len(eval_dataset)} samples \n",
    "        ''')\n",
    "\n",
    "    return trainer"
   ]
  },
  {
   "cell_type": "code",
   "execution_count": 28,
   "metadata": {},
   "outputs": [
    {
     "name": "stdout",
     "output_type": "stream",
     "text": [
      "\n",
      "    Retrieving Trainer for GPT-9.0M-2L-4H-516C-1024I\n",
      "        training for 1 epochs, 1000 samples\n",
      "        16 batch size, 16 accumulation steps\n",
      "        gives 3 training steps.\n",
      "        Evaluating every 0 steps, 100 samples \n",
      "        \n"
     ]
    }
   ],
   "source": [
    "out_dir = './results/models_baseline_small/' \n",
    "\n",
    "trainer_gpt = get_trainer(gpt, tok_gpt, train_dataset, eval_dataset, out_dir, **params_gpt)"
   ]
  },
  {
   "cell_type": "markdown",
   "metadata": {},
   "source": [
    "Finally, we can train. \n",
    "\n",
    "This configuration takes ≤24hr to pre-train on my M1 Macbook Air with 16GB RAM. Python takes ≤4GB VRAM at a `batch_size=16` and ≤11GB at `batch_size=64`, though they take the same amount of time to train - likely because this processor is not designed to move that much data in and out of RAM constantly. And tbh, the GPU be lacking. If you decide to go the local-training-route, consider [chai](https://github.com/lvillani/chai) to keep your (Apple) laptop awake – there's probably a windows/linux equivalent too. "
   ]
  },
  {
   "cell_type": "code",
   "execution_count": 29,
   "metadata": {},
   "outputs": [],
   "source": [
    "def do_train(trainer: Trainer, name: str, out_dir: str): \n",
    "\n",
    "    wandb.init(project='tiny-transformers', name=name, group='baseline', config=trainer.args)\n",
    "    trainer.train()\n",
    "    trainer.save_model(os.path.join(out_dir, name))"
   ]
  },
  {
   "cell_type": "code",
   "execution_count": 30,
   "metadata": {},
   "outputs": [
    {
     "data": {
      "text/plain": [
       "(471, 512)"
      ]
     },
     "execution_count": 30,
     "metadata": {},
     "output_type": "execute_result"
    }
   ],
   "source": [
    "# words vs. tokens \n",
    "len(train_dataset['text'][11]), len(train_dataset[11]['input_ids'])"
   ]
  },
  {
   "cell_type": "code",
   "execution_count": 31,
   "metadata": {},
   "outputs": [
    {
     "data": {
      "text/html": [
       "Finishing last run (ID:9913gd9t) before initializing another..."
      ],
      "text/plain": [
       "<IPython.core.display.HTML object>"
      ]
     },
     "metadata": {},
     "output_type": "display_data"
    },
    {
     "data": {
      "application/vnd.jupyter.widget-view+json": {
       "model_id": "379a22dfde1740b781c07ba07927ae42",
       "version_major": 2,
       "version_minor": 0
      },
      "text/plain": [
       "VBox(children=(Label(value='0.001 MB of 0.015 MB uploaded\\r'), FloatProgress(value=0.09579317530606929, max=1.…"
      ]
     },
     "metadata": {},
     "output_type": "display_data"
    },
    {
     "data": {
      "text/html": [
       " View run <strong style=\"color:#cdcd00\">GPT-9.0M-2L-4H-516C-1024I</strong> at: <a href='https://wandb.ai/filipignijic/tiny-transformers/runs/9913gd9t' target=\"_blank\">https://wandb.ai/filipignijic/tiny-transformers/runs/9913gd9t</a><br/> View project at: <a href='https://wandb.ai/filipignijic/tiny-transformers' target=\"_blank\">https://wandb.ai/filipignijic/tiny-transformers</a><br/>Synced 5 W&B file(s), 0 media file(s), 0 artifact file(s) and 0 other file(s)"
      ],
      "text/plain": [
       "<IPython.core.display.HTML object>"
      ]
     },
     "metadata": {},
     "output_type": "display_data"
    },
    {
     "data": {
      "text/html": [
       "Find logs at: <code>.\\wandb\\run-20240506_132856-9913gd9t\\logs</code>"
      ],
      "text/plain": [
       "<IPython.core.display.HTML object>"
      ]
     },
     "metadata": {},
     "output_type": "display_data"
    },
    {
     "data": {
      "text/html": [
       "Successfully finished last run (ID:9913gd9t). Initializing new run:<br/>"
      ],
      "text/plain": [
       "<IPython.core.display.HTML object>"
      ]
     },
     "metadata": {},
     "output_type": "display_data"
    },
    {
     "data": {
      "application/vnd.jupyter.widget-view+json": {
       "model_id": "42a182c52b9b473b9d21f745badc8b75",
       "version_major": 2,
       "version_minor": 0
      },
      "text/plain": [
       "VBox(children=(Label(value='Waiting for wandb.init()...\\r'), FloatProgress(value=0.011288888888925108, max=1.0…"
      ]
     },
     "metadata": {},
     "output_type": "display_data"
    },
    {
     "data": {
      "text/html": [
       "Tracking run with wandb version 0.16.6"
      ],
      "text/plain": [
       "<IPython.core.display.HTML object>"
      ]
     },
     "metadata": {},
     "output_type": "display_data"
    },
    {
     "data": {
      "text/html": [
       "Run data is saved locally in <code>c:\\Users\\Filip\\Documents\\School\\Delft\\Research project\\tiny-transformers\\code\\filip\\wandb\\run-20240506_134447-6im1x0em</code>"
      ],
      "text/plain": [
       "<IPython.core.display.HTML object>"
      ]
     },
     "metadata": {},
     "output_type": "display_data"
    },
    {
     "data": {
      "text/html": [
       "Syncing run <strong><a href='https://wandb.ai/filipignijic/tiny-transformers/runs/6im1x0em' target=\"_blank\">GPT-9.0M-2L-4H-516C-1024I</a></strong> to <a href='https://wandb.ai/filipignijic/tiny-transformers' target=\"_blank\">Weights & Biases</a> (<a href='https://wandb.me/run' target=\"_blank\">docs</a>)<br/>"
      ],
      "text/plain": [
       "<IPython.core.display.HTML object>"
      ]
     },
     "metadata": {},
     "output_type": "display_data"
    },
    {
     "data": {
      "text/html": [
       " View project at <a href='https://wandb.ai/filipignijic/tiny-transformers' target=\"_blank\">https://wandb.ai/filipignijic/tiny-transformers</a>"
      ],
      "text/plain": [
       "<IPython.core.display.HTML object>"
      ]
     },
     "metadata": {},
     "output_type": "display_data"
    },
    {
     "data": {
      "text/html": [
       " View run at <a href='https://wandb.ai/filipignijic/tiny-transformers/runs/6im1x0em' target=\"_blank\">https://wandb.ai/filipignijic/tiny-transformers/runs/6im1x0em</a>"
      ],
      "text/plain": [
       "<IPython.core.display.HTML object>"
      ]
     },
     "metadata": {},
     "output_type": "display_data"
    },
    {
     "data": {
      "application/vnd.jupyter.widget-view+json": {
       "model_id": "c2c329750fb94c028f0cccf278ad52ad",
       "version_major": 2,
       "version_minor": 0
      },
      "text/plain": [
       "  0%|          | 0/3 [00:00<?, ?it/s]"
      ]
     },
     "metadata": {},
     "output_type": "display_data"
    },
    {
     "name": "stdout",
     "output_type": "stream",
     "text": [
      "{'loss': 9.3093, 'grad_norm': 2.560922384262085, 'learning_rate': 0.0003333333333333333, 'epoch': 0.25}\n",
      "{'train_runtime': 29.4856, 'train_samples_per_second': 33.915, 'train_steps_per_second': 0.102, 'train_loss': 8.672565778096518, 'epoch': 0.76}\n"
     ]
    }
   ],
   "source": [
    "do_train(trainer_gpt, params_gpt['model_name'], out_dir) "
   ]
  },
  {
   "cell_type": "markdown",
   "metadata": {},
   "source": [
    "#### Using your Pre-Trained Model \n",
    "Try out your own model on some prompts!"
   ]
  },
  {
   "cell_type": "code",
   "execution_count": null,
   "metadata": {},
   "outputs": [],
   "source": [
    "# I made a small function for pretty printing into paragraphs with line wrapping for readability\n",
    "import textwrap \n",
    "w = textwrap.TextWrapper(replace_whitespace=False, break_long_words=False, width=60, initial_indent='   ', subsequent_indent='  ')\n",
    "def see(text): print('\\n\\033[3m' + '\\n\\n'.join(['\\n'.join(w.wrap(line))\n",
    "                 for line in text.splitlines() if line.strip() != '']) + '\\033[0m\\n')"
   ]
  },
  {
   "cell_type": "code",
   "execution_count": null,
   "metadata": {},
   "outputs": [],
   "source": [
    "from transformers import AutoTokenizer, AutoModelForCausalLM\n",
    "\n",
    "model_name = 'GPT-9.0M-2L-4H-516C-1024I'\n",
    "# model_name = 'BERT-9.0M-2L-4H-516C-1024I' # bert won't work for generation unless you fine-tune it for that task\n",
    "\n",
    "tokenizer = AutoTokenizer.from_pretrained('10k-tok')\n",
    "tokenizer.pad_token_id = tokenizer.eos_token_id\n",
    "model = AutoModelForCausalLM.from_pretrained(f'results/models_baseline_small/{model_name}')"
   ]
  },
  {
   "cell_type": "markdown",
   "metadata": {},
   "source": [
    "#### Inference \n",
    "Let's generate a short story like the ones the model has been trained on! You'll notice that the prompt is surrounded by `<s>`, the begin-of-sequence (bos) token, and `</s>` end-of-sequence (eos) / separator (sep) token. This is from the BERT-style tokenisation, making it clear to the model where (one of several) input sequences ends. "
   ]
  },
  {
   "cell_type": "code",
   "execution_count": null,
   "metadata": {},
   "outputs": [
    {
     "name": "stdout",
     "output_type": "stream",
     "text": [
      "\n",
      "   <s>Once upon a time, there was a chicken\n",
      "  with</s>................................................................................................................................................................................................................................................................................................\n",
      "\n"
     ]
    },
    {
     "data": {
      "text/plain": [
       "tensor([[   1, 7454, 2402,  257,  640,   11,  612,  373,  257, 9015,  351,    2,\n",
       "           13,   13,   13,   13,   13,   13,   13,   13,   13,   13,   13,   13,\n",
       "           13,   13,   13,   13,   13,   13,   13,   13,   13,   13,   13,   13,\n",
       "           13,   13,   13,   13,   13,   13,   13,   13,   13,   13,   13,   13,\n",
       "           13,   13,   13,   13,   13,   13,   13,   13,   13,   13,   13,   13,\n",
       "           13,   13,   13,   13,   13,   13,   13,   13,   13,   13,   13,   13,\n",
       "           13,   13,   13,   13,   13,   13,   13,   13,   13,   13,   13,   13,\n",
       "           13,   13,   13,   13,   13,   13,   13,   13,   13,   13,   13,   13,\n",
       "           13,   13,   13,   13,   13,   13,   13,   13,   13,   13,   13,   13,\n",
       "           13,   13,   13,   13,   13,   13,   13,   13,   13,   13,   13,   13,\n",
       "           13,   13,   13,   13,   13,   13,   13,   13,   13,   13,   13,   13,\n",
       "           13,   13,   13,   13,   13,   13,   13,   13,   13,   13,   13,   13,\n",
       "           13,   13,   13,   13,   13,   13,   13,   13,   13,   13,   13,   13,\n",
       "           13,   13,   13,   13,   13,   13,   13,   13,   13,   13,   13,   13,\n",
       "           13,   13,   13,   13,   13,   13,   13,   13,   13,   13,   13,   13,\n",
       "           13,   13,   13,   13,   13,   13,   13,   13,   13,   13,   13,   13,\n",
       "           13,   13,   13,   13,   13,   13,   13,   13,   13,   13,   13,   13,\n",
       "           13,   13,   13,   13,   13,   13,   13,   13,   13,   13,   13,   13,\n",
       "           13,   13,   13,   13,   13,   13,   13,   13,   13,   13,   13,   13,\n",
       "           13,   13,   13,   13,   13,   13,   13,   13,   13,   13,   13,   13,\n",
       "           13,   13,   13,   13,   13,   13,   13,   13,   13,   13,   13,   13,\n",
       "           13,   13,   13,   13,   13,   13,   13,   13,   13,   13,   13,   13,\n",
       "           13,   13,   13,   13,   13,   13,   13,   13,   13,   13,   13,   13,\n",
       "           13,   13,   13,   13,   13,   13,   13,   13,   13,   13,   13,   13,\n",
       "           13,   13,   13,   13,   13,   13,   13,   13,   13,   13,   13,   13]])"
      ]
     },
     "metadata": {},
     "output_type": "display_data"
    }
   ],
   "source": [
    "prompt = 'Once upon a time, there was a chicken with'\n",
    "input_ids = tokenizer.encode(prompt, return_tensors='pt')\n",
    "\n",
    "output = model.generate(\n",
    "    input_ids,                              # input to the model\n",
    "    max_length=300,                         # maximum generation length\n",
    "    eos_token_id=tokenizer.eos_token_id,    # early stopping when eos_token is output\n",
    "\n",
    "    # num_beams=1,                            # number of beams to use in generation\n",
    "    temperature=1,\n",
    ")\n",
    "output_text = tokenizer.decode(output[0])\n",
    "\n",
    "# textwrap with indentation on every new paragraph\n",
    "see(output_text)\n",
    "output"
   ]
  },
  {
   "cell_type": "markdown",
   "metadata": {},
   "source": [
    "Sounds like me after a few beers too many, but at least the grammar is (mostly) correct. The model also learns some basic reasoning-like associations like being 'so high' allows you to see 'the whole world'. "
   ]
  }
 ],
 "metadata": {
  "kernelspec": {
   "display_name": "venv",
   "language": "python",
   "name": "python3"
  },
  "language_info": {
   "codemirror_mode": {
    "name": "ipython",
    "version": 3
   },
   "file_extension": ".py",
   "mimetype": "text/x-python",
   "name": "python",
   "nbconvert_exporter": "python",
   "pygments_lexer": "ipython3",
   "version": "3.9.13"
  }
 },
 "nbformat": 4,
 "nbformat_minor": 2
}
