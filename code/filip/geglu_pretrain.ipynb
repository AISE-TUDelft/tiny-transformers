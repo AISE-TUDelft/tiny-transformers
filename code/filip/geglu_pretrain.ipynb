{
 "cells": [
  {
   "cell_type": "markdown",
   "metadata": {},
   "source": [
    "## Pre-Training [`GPT-Neo`](https://github.com/huggingface/transformers/blob/main/src/transformers/models/gpt_neo/modeling_gpt_neo.py) & [`RoBERTa`](https://github.com/huggingface/transformers/blob/main/src/transformers/models/roberta/modeling_roberta.py) on [`TinyStories`](https://huggingface.co/datasets/roneneldan/TinyStories)\n",
    "\n",
    "This script shows how to pre-train both models. I put them in one notebook because the majority of the code is shared; but you may want to separate the logic per model. "
   ]
  },
  {
   "cell_type": "code",
   "execution_count": 49,
   "metadata": {},
   "outputs": [
    {
     "name": "stdout",
     "output_type": "stream",
     "text": [
      "The autoreload extension is already loaded. To reload it, use:\n",
      "  %reload_ext autoreload\n"
     ]
    }
   ],
   "source": [
    "# %pip install torch wandb transformers[torch] datasets tqdm \n",
    "%load_ext autoreload\n",
    "%autoreload 2 "
   ]
  },
  {
   "cell_type": "code",
   "execution_count": 50,
   "metadata": {},
   "outputs": [
    {
     "name": "stderr",
     "output_type": "stream",
     "text": [
      "wandb: WARNING Calling wandb.login() after wandb.init() has no effect.\n"
     ]
    }
   ],
   "source": [
    "import os\n",
    "os.environ[\"CUDA_VISIBLE_DEVICES\"] = \"0\"  # or \"0,1\" for multiple GPUs\n",
    "\n",
    "import wandb; wandb.login()\n",
    "from transformers import (\n",
    "    RobertaForMaskedLM, RobertaConfig, RobertaTokenizerFast,\n",
    "    GPTNeoForCausalLM, GPTNeoConfig, GPT2TokenizerFast, set_seed\n",
    ")"
   ]
  },
  {
   "cell_type": "markdown",
   "metadata": {},
   "source": [
    "#### Models \n",
    "We consider GPT-Neo and BERT as base transformer architectures. This consists of the following blocks linked via residual connections:\n",
    "\n",
    "- Embeddings: Map one-hot (sparse) token vectors to a dense vector of length `hidden_size`. Add positional encoding. \n",
    "- $n$ Blocks: Contain self-attention and FFNs.\n",
    "- Head: Map hidden state back to a useful output. \n",
    "\n",
    "This specifies some of the model-related hyperparameters. I chose them based on what achieved reasonable performance in the [TinyStories paper](https://arxiv.org/abs/2305.07759), while also being feasible to train on our limited compute budgets. "
   ]
  },
  {
   "cell_type": "code",
   "execution_count": 51,
   "metadata": {},
   "outputs": [],
   "source": [
    "config_gpt = dict(\n",
    "\n",
    "    # EMBEDDING PARAMETERS\n",
    "    vocab_size              = 10_000,   # number of tokens in the vocabulary \n",
    "    hidden_size             = 512,      # embedding size (vector length) of each token \n",
    "    max_position_embeddings = 512,      # maximum sequence length (context window)\n",
    "\n",
    "    # BLOCKS (ATTN & FFN)\n",
    "    num_layers          = 2,                    # number of transformer blocks\n",
    "    attention_types     = [[[\"global\", \"local\"], 1]], # (GPT-Neo-specific) global and local attention \n",
    "    num_heads           = 4,                    # attention heads\n",
    "    window_size         = 256,                  # (GPT-Neo-specific) for local attention \n",
    "    intermediate_size   = 1024,                 # size of 'up-projection' layer in FFN\n",
    "\n",
    "    pad_token_id = 0,           # need to specify this for tokenizer interop between models\n",
    ")\n",
    "\n",
    "config_rob = dict(\n",
    "    \n",
    "    # EMBEDDING PARAMETERS\n",
    "    vocab_size              = 10_000,   \n",
    "    hidden_size             = 512,      \n",
    "    # we add 1 as RoBERTa uses a special position embedding for the padding token (zero vector)\n",
    "    max_position_embeddings = config_gpt['max_position_embeddings'] + 1,\n",
    "\n",
    "    # BLOCKS (of course naming is different in roberta :) )\n",
    "    num_hidden_layers = config_gpt['num_layers'],\n",
    "    num_attention_heads = config_gpt['num_heads'],\n",
    "    intermediate_size=1024,                     \n",
    "\n",
    "    pad_token_id = 0,\n",
    ")\n",
    "\n",
    "config_gpt = GPTNeoConfig(**config_gpt)\n",
    "config_rob = RobertaConfig(**config_rob)"
   ]
  },
  {
   "cell_type": "code",
   "execution_count": 52,
   "metadata": {},
   "outputs": [],
   "source": [
    "# TODO: implement GeGLU\n",
    "# REF: https://github.com/ltgoslo/ltg-bert/blob/main/training/model.py#L14\n",
    "\n",
    "import torch\n",
    "from torch import nn\n",
    "import torch.nn.functional as F\n",
    "\n",
    "class GeGLU(nn.Module):\n",
    "    def forward(self, x):\n",
    "        x, gate = x.chunk(2, dim=-1)\n",
    "        x = x * F.gelu(gate, approximate='tanh')\n",
    "        return x\n",
    "\n",
    "# Fix MLP for GPT-Neo with GeGlu\n",
    "class NeoGeGluMLP(nn.Module):\n",
    "    def __init__(self, intermediate_size, config):  # in MLP: intermediate_size= 4 * hidden_size\n",
    "        super().__init__()\n",
    "        embed_dim = config.hidden_size\n",
    "        self.c_fc = nn.Linear(embed_dim, intermediate_size * 2) # to match size for GeGLU\n",
    "        self.c_proj = nn.Linear(intermediate_size, embed_dim)\n",
    "        self.act = GeGLU()\n",
    "        self.dropout = nn.Dropout(float(config.resid_dropout))\n",
    "\n",
    "    def forward(self, hidden_states):\n",
    "        hidden_states = self.c_fc(hidden_states)\n",
    "        hidden_states = self.act(hidden_states)\n",
    "        hidden_states = self.c_proj(hidden_states)\n",
    "        hidden_states = self.dropout(hidden_states)\n",
    "        return hidden_states\n",
    "    \n",
    "# Fix MLP for RoBERTa with GeGLU\n",
    "class RobertaGeGluMLP(nn.Module):\n",
    "    def __init__(self, config):\n",
    "        super().__init__()\n",
    "        self.dense = nn.Linear(config.hidden_size, config.intermediate_size * 2)\n",
    "        self.intermediate_act_fn = GeGLU()\n",
    "\n",
    "    def forward(self, hidden_states: torch.Tensor) -> torch.Tensor:\n",
    "        hidden_states = self.dense(hidden_states)\n",
    "        hidden_states = self.intermediate_act_fn(hidden_states)\n",
    "        return hidden_states\n",
    "\n",
    "class CustomGPTNeoForCausalLM(GPTNeoForCausalLM):\n",
    "    def __init__(self, config, act_implementation=None):\n",
    "        super().__init__(config)\n",
    "        \n",
    "        if act_implementation == \"GEGLU\":\n",
    "            # Override MLP with KAN in each transformer block\n",
    "            for block in self.transformer.h:\n",
    "                block.mlp = NeoGeGluMLP(config.intermediate_size, config)\n",
    "\n",
    "class CustomRobertaForMaskedLM(RobertaForMaskedLM):\n",
    "    def __init__(self, config, act_implementation=None):\n",
    "        super().__init__(config)\n",
    "        \n",
    "        if act_implementation == \"GEGLU\":\n",
    "            # Override MLP with KAN in each transformer block\n",
    "            for layer in self.roberta.encoder.layer:\n",
    "                layer.intermediate = RobertaGeGluMLP(config)\n",
    "\n",
    "import random, numpy as np                \n",
    "def set_all_seeds(seed=42):\n",
    "\n",
    "    set_seed(seed)\n",
    "    random.seed(seed)\n",
    "    np.random.seed(seed)\n",
    "    torch.manual_seed(seed)\n",
    "    torch.cuda.manual_seed_all(seed)\n",
    "set_all_seeds()"
   ]
  },
  {
   "cell_type": "code",
   "execution_count": 53,
   "metadata": {},
   "outputs": [
    {
     "name": "stdout",
     "output_type": "stream",
     "text": [
      "\n",
      "    This GPT has 10,636,288 parameters,\n",
      "     and ROB has 10,914,576 parameters.\n",
      "    \n"
     ]
    }
   ],
   "source": [
    "gpt = CustomGPTNeoForCausalLM(config=config_gpt, act_implementation=\"GEGLU\")\n",
    "rob = CustomRobertaForMaskedLM(config=config_rob, act_implementation=\"GEGLU\")\n",
    "\n",
    "print(f'''\n",
    "    This GPT has {gpt.num_parameters():,} parameters,\n",
    "     and ROB has {rob.num_parameters():,} parameters.\n",
    "    ''')\n",
    "\n",
    "# gpt, rob # uncomment to see model architecture"
   ]
  },
  {
   "cell_type": "code",
   "execution_count": 54,
   "metadata": {},
   "outputs": [
    {
     "name": "stderr",
     "output_type": "stream",
     "text": [
      "The tokenizer class you load from this checkpoint is not the same type as the class this function is called from. It may result in unexpected tokenization. \n",
      "The tokenizer class you load from this checkpoint is 'RobertaTokenizer'. \n",
      "The class this function is called from is 'GPT2TokenizerFast'.\n"
     ]
    },
    {
     "name": "stdout",
     "output_type": "stream",
     "text": [
      "padding token is <pad>\n",
      "padding token in config: 0, in tokeniser: 0\n",
      "padding token is <pad>\n",
      "padding token in config: 0, in tokeniser: 0\n"
     ]
    }
   ],
   "source": [
    "from transformers import PreTrainedTokenizer, PretrainedConfig\n",
    "\n",
    "def get_tokenizer_for_config(Tok: PreTrainedTokenizer, config: PretrainedConfig):\n",
    "\n",
    "    tokenizer = Tok.from_pretrained(\n",
    "        '10k-tok',                 # our custom tokenizer\n",
    "        model_max_length=512       # sequence length (context window)\n",
    "    )\n",
    "\n",
    "    # we're using our special tokenizer with only 10'000 tokens instead of 50'256\n",
    "    assert tokenizer.vocab_size == config.vocab_size\n",
    "\n",
    "    print(f'padding token is {tokenizer.pad_token}')\n",
    "    print(f'padding token in config: {config.pad_token_id}, in tokeniser: {tokenizer.pad_token_id}')\n",
    "    \n",
    "    return tokenizer \n",
    "\n",
    "tok_gpt = get_tokenizer_for_config(GPT2TokenizerFast, config_gpt)\n",
    "tok_rob = get_tokenizer_for_config(RobertaTokenizerFast, config_rob)"
   ]
  },
  {
   "cell_type": "code",
   "execution_count": 55,
   "metadata": {},
   "outputs": [
    {
     "data": {
      "text/plain": [
       "[0, 0, 0, 0, 0, 0, 0, 0, 0, 0]"
      ]
     },
     "execution_count": 55,
     "metadata": {},
     "output_type": "execute_result"
    }
   ],
   "source": [
    "from datasets import load_from_disk \n",
    "tokenized_dataset = load_from_disk(f'./tokenized_dataset_small')\n",
    "\n",
    "train_dataset = tokenized_dataset['train']\n",
    "eval_dataset  = tokenized_dataset['validation']\n",
    "\n",
    "assert len(tokenized_dataset['train'][0]['input_ids']) == config_gpt.max_position_embeddings\n",
    "tokenized_dataset['train'][0]['input_ids'][-10:]\n",
    "# should be pad tokens (0), given that most short stories are <512 tokens"
   ]
  },
  {
   "cell_type": "code",
   "execution_count": 56,
   "metadata": {},
   "outputs": [],
   "source": [
    "from transformers import Trainer, TrainingArguments, DataCollatorForLanguageModeling\n",
    "\n",
    "def get_hyperparameters(model, dataset):\n",
    "    ''' common hyperparameters to give to the trainer '''\n",
    "\n",
    "    # TRAINING HYPERPARAMETERS \n",
    "    batch_size = 16                  # TinyStories uses 80, but I am training locally on my poor M1 Air\n",
    "    num_train_epochs = 1             # TinyStories doesn't mention\n",
    "    gradient_accumulation_steps = 16 # TinyStories uses 16\n",
    "\n",
    "    lr = 5e-4                        # TinyStories uses 5e-4, higher values better for small models\n",
    "\n",
    "    # future you will thank you for descriptive model names\n",
    "    # TODO: customise this name such that every model you train has a unique identifier!\n",
    "    config      = model.config \n",
    "    model_name  = '-'.join([\n",
    "        'GPT-GeGlu' if isinstance(model, GPTNeoForCausalLM) else 'BERT-GeGlu',\n",
    "        f'{model.num_parameters()//1e6:.1f}M',\n",
    "        f'{config.num_layers if isinstance(model, GPTNeoForCausalLM) else config.num_hidden_layers}L', \n",
    "        f'{config.num_heads if isinstance(model, GPTNeoForCausalLM) else config.num_attention_heads}H', \n",
    "        f'{config.hidden_size}C',\n",
    "        f'{config.intermediate_size}I'\n",
    "    ])\n",
    "\n",
    "    _train_steps = len(dataset) // (batch_size * gradient_accumulation_steps)\n",
    "    eval_steps = _train_steps // 10 # evaluate every 10% of training steps\n",
    "\n",
    "    return dict(\n",
    "        model_name = model_name,\n",
    "        batch_size = batch_size, \n",
    "        num_train_epochs = num_train_epochs,\n",
    "        gradient_accumulation_steps = gradient_accumulation_steps,\n",
    "        lr = lr,\n",
    "        eval_steps = eval_steps\n",
    "    )\n",
    "\n",
    "params_gpt = get_hyperparameters(gpt, train_dataset)\n",
    "params_rob = get_hyperparameters(rob, train_dataset)"
   ]
  },
  {
   "cell_type": "code",
   "execution_count": 57,
   "metadata": {},
   "outputs": [],
   "source": [
    "def get_trainer(\n",
    "        model, tokenizer, train_dataset, eval_dataset, output_dir,\n",
    "        model_name, batch_size, num_train_epochs, gradient_accumulation_steps, lr, eval_steps):\n",
    "    ''' more general training arguments you likely want to keep fixed'''\n",
    "\n",
    "    training_args = TrainingArguments(\n",
    "\n",
    "        seed       = 42,\n",
    "        use_cpu    = False, # use GPU if available (not necessarily faster on laptops, but Apple's MPS have good support)\n",
    "\n",
    "        output_dir = os.path.join(output_dir, model_name),\n",
    "\n",
    "        # NOTE: training params\n",
    "        learning_rate    = lr,\n",
    "        num_train_epochs = num_train_epochs,\n",
    "        # Use a smaller batch size to fit into GPU RAM. \n",
    "        per_device_train_batch_size = batch_size,\n",
    "        per_device_eval_batch_size  = batch_size,\n",
    "        # You should aim to have the same amount of samples per acc step, in all of your experiments!\n",
    "        # so, if you increase batch_size, decrease gradient_accumulation_steps by the same factor.\n",
    "        gradient_accumulation_steps = gradient_accumulation_steps,\n",
    "\n",
    "        # NOTE: Evaluation params\n",
    "        # wandb is great for tracking experiments, it will even (try to) save your code nowadays\n",
    "        evaluation_strategy = 'steps',\n",
    "        eval_steps = eval_steps,\n",
    "        save_steps = eval_steps,\n",
    "\n",
    "        logging_first_step=True,\n",
    "        logging_steps=100,\n",
    "        report_to  = 'wandb',\n",
    "    )\n",
    "\n",
    "    trainer = Trainer(\n",
    "        model = model, \n",
    "        args = training_args, \n",
    "        train_dataset = train_dataset, \n",
    "        eval_dataset = eval_dataset,\n",
    "        data_collator = DataCollatorForLanguageModeling(\n",
    "            tokenizer, mlm=isinstance(model, RobertaForMaskedLM)),\n",
    "    )\n",
    "\n",
    "    # print amount of training steps, and how often the model is evaluated\n",
    "    print(f'''\n",
    "    Retrieving Trainer for \\033[1m{model_name}\\033[0m\n",
    "        training for {num_train_epochs} epochs, {len(train_dataset)} samples\n",
    "        {batch_size} batch size, {gradient_accumulation_steps} accumulation steps\n",
    "        gives {len(train_dataset)//(batch_size * gradient_accumulation_steps)} training steps.\n",
    "        Evaluating every {eval_steps} steps, {len(eval_dataset)} samples \n",
    "        ''')\n",
    "\n",
    "    return trainer"
   ]
  },
  {
   "cell_type": "code",
   "execution_count": 58,
   "metadata": {},
   "outputs": [
    {
     "name": "stdout",
     "output_type": "stream",
     "text": [
      "\n",
      "    Retrieving Trainer for GPT-GeGlu-10.0M-2L-4H-512C-1024I\n",
      "        training for 1 epochs, 1000 samples\n",
      "        16 batch size, 16 accumulation steps\n",
      "        gives 3 training steps.\n",
      "        Evaluating every 0 steps, 100 samples \n",
      "        \n",
      "\n",
      "    Retrieving Trainer for BERT-GeGlu-10.0M-2L-4H-512C-1024I\n",
      "        training for 1 epochs, 1000 samples\n",
      "        16 batch size, 16 accumulation steps\n",
      "        gives 3 training steps.\n",
      "        Evaluating every 0 steps, 100 samples \n",
      "        \n"
     ]
    }
   ],
   "source": [
    "out_dir = './results/models_geglu/' \n",
    "\n",
    "trainer_gpt = get_trainer(gpt, tok_gpt, train_dataset, eval_dataset, out_dir, **params_gpt)\n",
    "trainer_rob = get_trainer(rob, tok_rob, train_dataset, eval_dataset, out_dir, **params_rob)"
   ]
  },
  {
   "cell_type": "markdown",
   "metadata": {},
   "source": [
    "Finally, we can train. \n",
    "\n",
    "This configuration takes ≤24hr to pre-train on my M1 Macbook Air with 16GB RAM. Python takes ≤4GB VRAM at a `batch_size=16` and ≤11GB at `batch_size=64`, though they take the same amount of time to train - likely because this processor is not designed to move that much data in and out of RAM constantly. And tbh, the GPU be lacking. If you decide to go the local-training-route, consider [chai](https://github.com/lvillani/chai) to keep your (Apple) laptop awake – there's probably a windows/linux equivalent too. "
   ]
  },
  {
   "cell_type": "code",
   "execution_count": 59,
   "metadata": {},
   "outputs": [],
   "source": [
    "def do_train(trainer: Trainer, name: str, out_dir: str): \n",
    "\n",
    "    wandb.init(project='tiny-transformers', name=name, group='baseline', config=trainer.args)\n",
    "    trainer.train()\n",
    "    trainer.save_model(os.path.join(out_dir, name))"
   ]
  },
  {
   "cell_type": "code",
   "execution_count": 60,
   "metadata": {},
   "outputs": [
    {
     "data": {
      "text/plain": [
       "(471, 512)"
      ]
     },
     "execution_count": 60,
     "metadata": {},
     "output_type": "execute_result"
    }
   ],
   "source": [
    "# words vs. tokens \n",
    "len(train_dataset['text'][11]), len(train_dataset[11]['input_ids'])"
   ]
  },
  {
   "cell_type": "code",
   "execution_count": 61,
   "metadata": {},
   "outputs": [
    {
     "data": {
      "text/html": [
       "Finishing last run (ID:qjkua279) before initializing another..."
      ],
      "text/plain": [
       "<IPython.core.display.HTML object>"
      ]
     },
     "metadata": {},
     "output_type": "display_data"
    },
    {
     "data": {
      "application/vnd.jupyter.widget-view+json": {
       "model_id": "a9b87e36044f4e81adbba9e18072e1fb",
       "version_major": 2,
       "version_minor": 0
      },
      "text/plain": [
       "VBox(children=(Label(value='0.001 MB of 0.001 MB uploaded\\r'), FloatProgress(value=1.0, max=1.0)))"
      ]
     },
     "metadata": {},
     "output_type": "display_data"
    },
    {
     "data": {
      "text/html": [
       " View run <strong style=\"color:#cdcd00\">BERT-GeGlu-9.0M-2L-4H-512C-1024I</strong> at: <a href='https://wandb.ai/filipignijic/tiny-transformers/runs/qjkua279' target=\"_blank\">https://wandb.ai/filipignijic/tiny-transformers/runs/qjkua279</a><br/> View project at: <a href='https://wandb.ai/filipignijic/tiny-transformers' target=\"_blank\">https://wandb.ai/filipignijic/tiny-transformers</a><br/>Synced 5 W&B file(s), 0 media file(s), 0 artifact file(s) and 0 other file(s)"
      ],
      "text/plain": [
       "<IPython.core.display.HTML object>"
      ]
     },
     "metadata": {},
     "output_type": "display_data"
    },
    {
     "data": {
      "text/html": [
       "Find logs at: <code>.\\wandb\\run-20240522_215539-qjkua279\\logs</code>"
      ],
      "text/plain": [
       "<IPython.core.display.HTML object>"
      ]
     },
     "metadata": {},
     "output_type": "display_data"
    },
    {
     "data": {
      "text/html": [
       "Successfully finished last run (ID:qjkua279). Initializing new run:<br/>"
      ],
      "text/plain": [
       "<IPython.core.display.HTML object>"
      ]
     },
     "metadata": {},
     "output_type": "display_data"
    },
    {
     "data": {
      "application/vnd.jupyter.widget-view+json": {
       "model_id": "524c707cebb04d1aa73e18254e072a27",
       "version_major": 2,
       "version_minor": 0
      },
      "text/plain": [
       "VBox(children=(Label(value='Waiting for wandb.init()...\\r'), FloatProgress(value=0.011288888888925108, max=1.0…"
      ]
     },
     "metadata": {},
     "output_type": "display_data"
    },
    {
     "data": {
      "text/html": [
       "wandb version 0.17.0 is available!  To upgrade, please run:\n",
       " $ pip install wandb --upgrade"
      ],
      "text/plain": [
       "<IPython.core.display.HTML object>"
      ]
     },
     "metadata": {},
     "output_type": "display_data"
    },
    {
     "data": {
      "text/html": [
       "Tracking run with wandb version 0.16.6"
      ],
      "text/plain": [
       "<IPython.core.display.HTML object>"
      ]
     },
     "metadata": {},
     "output_type": "display_data"
    },
    {
     "data": {
      "text/html": [
       "Run data is saved locally in <code>c:\\Users\\Filip\\Documents\\School\\Delft\\Research project\\tiny-transformers\\code\\filip\\wandb\\run-20240522_215911-femtmwjs</code>"
      ],
      "text/plain": [
       "<IPython.core.display.HTML object>"
      ]
     },
     "metadata": {},
     "output_type": "display_data"
    },
    {
     "data": {
      "text/html": [
       "Syncing run <strong><a href='https://wandb.ai/filipignijic/tiny-transformers/runs/femtmwjs' target=\"_blank\">BERT-GeGlu-10.0M-2L-4H-512C-1024I</a></strong> to <a href='https://wandb.ai/filipignijic/tiny-transformers' target=\"_blank\">Weights & Biases</a> (<a href='https://wandb.me/run' target=\"_blank\">docs</a>)<br/>"
      ],
      "text/plain": [
       "<IPython.core.display.HTML object>"
      ]
     },
     "metadata": {},
     "output_type": "display_data"
    },
    {
     "data": {
      "text/html": [
       " View project at <a href='https://wandb.ai/filipignijic/tiny-transformers' target=\"_blank\">https://wandb.ai/filipignijic/tiny-transformers</a>"
      ],
      "text/plain": [
       "<IPython.core.display.HTML object>"
      ]
     },
     "metadata": {},
     "output_type": "display_data"
    },
    {
     "data": {
      "text/html": [
       " View run at <a href='https://wandb.ai/filipignijic/tiny-transformers/runs/femtmwjs' target=\"_blank\">https://wandb.ai/filipignijic/tiny-transformers/runs/femtmwjs</a>"
      ],
      "text/plain": [
       "<IPython.core.display.HTML object>"
      ]
     },
     "metadata": {},
     "output_type": "display_data"
    },
    {
     "data": {
      "application/vnd.jupyter.widget-view+json": {
       "model_id": "6521c64c67664cf29034561cd91d6163",
       "version_major": 2,
       "version_minor": 0
      },
      "text/plain": [
       "  0%|          | 0/3 [00:00<?, ?it/s]"
      ]
     },
     "metadata": {},
     "output_type": "display_data"
    },
    {
     "name": "stdout",
     "output_type": "stream",
     "text": [
      "{'loss': 9.2603, 'grad_norm': 3.1452558040618896, 'learning_rate': 0.0003333333333333333, 'epoch': 0.25}\n",
      "{'train_runtime': 29.1345, 'train_samples_per_second': 34.324, 'train_steps_per_second': 0.103, 'train_loss': 8.73380978902181, 'epoch': 0.76}\n"
     ]
    }
   ],
   "source": [
    "do_train(trainer_rob, params_rob['model_name'], out_dir)"
   ]
  },
  {
   "cell_type": "code",
   "execution_count": 62,
   "metadata": {},
   "outputs": [
    {
     "data": {
      "text/html": [
       "Finishing last run (ID:femtmwjs) before initializing another..."
      ],
      "text/plain": [
       "<IPython.core.display.HTML object>"
      ]
     },
     "metadata": {},
     "output_type": "display_data"
    },
    {
     "data": {
      "application/vnd.jupyter.widget-view+json": {
       "model_id": "676a44c67f264158a653946282c4b11f",
       "version_major": 2,
       "version_minor": 0
      },
      "text/plain": [
       "VBox(children=(Label(value='0.001 MB of 0.015 MB uploaded\\r'), FloatProgress(value=0.09326654831346691, max=1.…"
      ]
     },
     "metadata": {},
     "output_type": "display_data"
    },
    {
     "data": {
      "text/html": [
       "<style>\n",
       "    table.wandb td:nth-child(1) { padding: 0 10px; text-align: left ; width: auto;} td:nth-child(2) {text-align: left ; width: 100%}\n",
       "    .wandb-row { display: flex; flex-direction: row; flex-wrap: wrap; justify-content: flex-start; width: 100% }\n",
       "    .wandb-col { display: flex; flex-direction: column; flex-basis: 100%; flex: 1; padding: 10px; }\n",
       "    </style>\n",
       "<div class=\"wandb-row\"><div class=\"wandb-col\"><h3>Run history:</h3><br/><table class=\"wandb\"><tr><td>train/epoch</td><td>▁█</td></tr><tr><td>train/global_step</td><td>▁█</td></tr><tr><td>train/grad_norm</td><td>▁</td></tr><tr><td>train/learning_rate</td><td>▁</td></tr><tr><td>train/loss</td><td>▁</td></tr></table><br/></div><div class=\"wandb-col\"><h3>Run summary:</h3><br/><table class=\"wandb\"><tr><td>total_flos</td><td>13049020809216.0</td></tr><tr><td>train/epoch</td><td>0.7619</td></tr><tr><td>train/global_step</td><td>3</td></tr><tr><td>train/grad_norm</td><td>3.14526</td></tr><tr><td>train/learning_rate</td><td>0.00033</td></tr><tr><td>train/loss</td><td>9.2603</td></tr><tr><td>train_loss</td><td>8.73381</td></tr><tr><td>train_runtime</td><td>29.1345</td></tr><tr><td>train_samples_per_second</td><td>34.324</td></tr><tr><td>train_steps_per_second</td><td>0.103</td></tr></table><br/></div></div>"
      ],
      "text/plain": [
       "<IPython.core.display.HTML object>"
      ]
     },
     "metadata": {},
     "output_type": "display_data"
    },
    {
     "data": {
      "text/html": [
       " View run <strong style=\"color:#cdcd00\">BERT-GeGlu-10.0M-2L-4H-512C-1024I</strong> at: <a href='https://wandb.ai/filipignijic/tiny-transformers/runs/femtmwjs' target=\"_blank\">https://wandb.ai/filipignijic/tiny-transformers/runs/femtmwjs</a><br/> View project at: <a href='https://wandb.ai/filipignijic/tiny-transformers' target=\"_blank\">https://wandb.ai/filipignijic/tiny-transformers</a><br/>Synced 5 W&B file(s), 0 media file(s), 0 artifact file(s) and 0 other file(s)"
      ],
      "text/plain": [
       "<IPython.core.display.HTML object>"
      ]
     },
     "metadata": {},
     "output_type": "display_data"
    },
    {
     "data": {
      "text/html": [
       "Find logs at: <code>.\\wandb\\run-20240522_215911-femtmwjs\\logs</code>"
      ],
      "text/plain": [
       "<IPython.core.display.HTML object>"
      ]
     },
     "metadata": {},
     "output_type": "display_data"
    },
    {
     "data": {
      "text/html": [
       "Successfully finished last run (ID:femtmwjs). Initializing new run:<br/>"
      ],
      "text/plain": [
       "<IPython.core.display.HTML object>"
      ]
     },
     "metadata": {},
     "output_type": "display_data"
    },
    {
     "data": {
      "application/vnd.jupyter.widget-view+json": {
       "model_id": "8f89d690d2394b08af553f4a1a95a828",
       "version_major": 2,
       "version_minor": 0
      },
      "text/plain": [
       "VBox(children=(Label(value='Waiting for wandb.init()...\\r'), FloatProgress(value=0.011288888888925108, max=1.0…"
      ]
     },
     "metadata": {},
     "output_type": "display_data"
    },
    {
     "data": {
      "text/html": [
       "wandb version 0.17.0 is available!  To upgrade, please run:\n",
       " $ pip install wandb --upgrade"
      ],
      "text/plain": [
       "<IPython.core.display.HTML object>"
      ]
     },
     "metadata": {},
     "output_type": "display_data"
    },
    {
     "data": {
      "text/html": [
       "Tracking run with wandb version 0.16.6"
      ],
      "text/plain": [
       "<IPython.core.display.HTML object>"
      ]
     },
     "metadata": {},
     "output_type": "display_data"
    },
    {
     "data": {
      "text/html": [
       "Run data is saved locally in <code>c:\\Users\\Filip\\Documents\\School\\Delft\\Research project\\tiny-transformers\\code\\filip\\wandb\\run-20240522_215947-5d5eyfvu</code>"
      ],
      "text/plain": [
       "<IPython.core.display.HTML object>"
      ]
     },
     "metadata": {},
     "output_type": "display_data"
    },
    {
     "data": {
      "text/html": [
       "Syncing run <strong><a href='https://wandb.ai/filipignijic/tiny-transformers/runs/5d5eyfvu' target=\"_blank\">GPT-GeGlu-10.0M-2L-4H-512C-1024I</a></strong> to <a href='https://wandb.ai/filipignijic/tiny-transformers' target=\"_blank\">Weights & Biases</a> (<a href='https://wandb.me/run' target=\"_blank\">docs</a>)<br/>"
      ],
      "text/plain": [
       "<IPython.core.display.HTML object>"
      ]
     },
     "metadata": {},
     "output_type": "display_data"
    },
    {
     "data": {
      "text/html": [
       " View project at <a href='https://wandb.ai/filipignijic/tiny-transformers' target=\"_blank\">https://wandb.ai/filipignijic/tiny-transformers</a>"
      ],
      "text/plain": [
       "<IPython.core.display.HTML object>"
      ]
     },
     "metadata": {},
     "output_type": "display_data"
    },
    {
     "data": {
      "text/html": [
       " View run at <a href='https://wandb.ai/filipignijic/tiny-transformers/runs/5d5eyfvu' target=\"_blank\">https://wandb.ai/filipignijic/tiny-transformers/runs/5d5eyfvu</a>"
      ],
      "text/plain": [
       "<IPython.core.display.HTML object>"
      ]
     },
     "metadata": {},
     "output_type": "display_data"
    },
    {
     "data": {
      "application/vnd.jupyter.widget-view+json": {
       "model_id": "f9dcfc58b5b9450dac738d813acfdb30",
       "version_major": 2,
       "version_minor": 0
      },
      "text/plain": [
       "  0%|          | 0/3 [00:00<?, ?it/s]"
      ]
     },
     "metadata": {},
     "output_type": "display_data"
    },
    {
     "name": "stdout",
     "output_type": "stream",
     "text": [
      "{'loss': 9.2792, 'grad_norm': 1.812312364578247, 'learning_rate': 0.0003333333333333333, 'epoch': 0.25}\n",
      "{'train_runtime': 29.0138, 'train_samples_per_second': 34.466, 'train_steps_per_second': 0.103, 'train_loss': 8.734806696573893, 'epoch': 0.76}\n"
     ]
    }
   ],
   "source": [
    "do_train(trainer_gpt, params_gpt['model_name'], out_dir) "
   ]
  }
 ],
 "metadata": {
  "kernelspec": {
   "display_name": "base",
   "language": "python",
   "name": "python3"
  },
  "language_info": {
   "codemirror_mode": {
    "name": "ipython",
    "version": 3
   },
   "file_extension": ".py",
   "mimetype": "text/x-python",
   "name": "python",
   "nbconvert_exporter": "python",
   "pygments_lexer": "ipython3",
   "version": "3.9.13"
  }
 },
 "nbformat": 4,
 "nbformat_minor": 2
}
