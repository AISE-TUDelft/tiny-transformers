{
 "cells": [
  {
   "cell_type": "markdown",
   "metadata": {},
   "source": [
    "## Pre-Training [`GPT-Neo`](https://github.com/huggingface/transformers/blob/main/src/transformers/models/gpt_neo/modeling_gpt_neo.py) & [`RoBERTa`](https://github.com/huggingface/transformers/blob/main/src/transformers/models/roberta/modeling_roberta.py) on [`TinyStories`](https://huggingface.co/datasets/roneneldan/TinyStories)\n",
    "\n",
    "This script shows how to pre-train both models. I put them in one notebook because the majority of the code is shared; but you may want to separate the logic per model. "
   ]
  },
  {
   "cell_type": "code",
   "execution_count": 1,
   "metadata": {},
   "outputs": [],
   "source": [
    "# %pip install torch wandb transformers[torch] datasets tqdm \n",
    "%load_ext autoreload\n",
    "%autoreload 2 "
   ]
  },
  {
   "cell_type": "code",
   "execution_count": 2,
   "metadata": {},
   "outputs": [
    {
     "name": "stderr",
     "output_type": "stream",
     "text": [
      "\u001B[34m\u001B[1mwandb\u001B[0m: Currently logged in as: \u001B[33mst1p42\u001B[0m (\u001B[33mtiny-transformers\u001B[0m). Use \u001B[1m`wandb login --relogin`\u001B[0m to force relogin\n"
     ]
    }
   ],
   "source": [
    "import os\n",
    "os.environ[\"CUDA_VISIBLE_DEVICES\"] = \"0\"  # or \"0,1\" for multiple GPUs\n",
    "\n",
    "import wandb; wandb.login()\n",
    "from transformers import (\n",
    "    RobertaForMaskedLM, RobertaConfig, RobertaTokenizerFast,\n",
    "    GPTNeoForCausalLM, GPTNeoConfig, GPT2TokenizerFast\n",
    ")\n",
    "\n"
   ]
  },
  {
   "cell_type": "markdown",
   "metadata": {},
   "source": [
    "#### Models \n",
    "We consider GPT-Neo and BERT as base transformer architectures. This consists of the following blocks linked via residual connections:\n",
    "\n",
    "- Embeddings: Map one-hot (sparse) token vectors to a dense vector of length `hidden_size`. Add positional encoding. \n",
    "- $n$ Blocks: Contain self-attention and FFNs.\n",
    "- Head: Map hidden state back to a useful output. \n",
    "\n",
    "This specifies some of the model-related hyperparameters. I chose them based on what achieved reasonable performance in the [TinyStories paper](https://arxiv.org/abs/2305.07759), while also being feasible to train on our limited compute budgets. "
   ]
  },
  {
   "cell_type": "code",
   "execution_count": 3,
   "metadata": {},
   "outputs": [],
   "source": [
    "embed_size = 512\n",
    "kqv_factor = 8\n",
    "kqv_size = embed_size // kqv_factor\n",
    "ffn_original_width = 1024\n",
    "ffn_new_width = int (ffn_original_width + 2 * embed_size * (1 - 1/kqv_factor))\n",
    "\n",
    "query_groups_factor = 0.25          # try 0.75, 0.5, 0.25, for 8 and 16 heads also 0.125\n",
    "attn_heads = 4\n",
    "num_key_value_heads = int(attn_heads * query_groups_factor)\n",
    "ffn_new_width = ffn_new_width + (kqv_size - int(kqv_size * query_groups_factor))\n",
    "\n",
    "config_gpt = dict(\n",
    "\n",
    "    # EMBEDDING PARAMETERS\n",
    "    vocab_size              = 10_000,   # number of tokens in the vocabulary \n",
    "    hidden_size             = embed_size,      # embedding size (vector length) of each token\n",
    "    max_position_embeddings = 512,      # maximum sequence length (context window)\n",
    "\n",
    "    # BLOCKS (ATTN & FFN)\n",
    "    num_layers          = 2,                    # number of transformer blocks\n",
    "    attention_types     = [[[\"global\", \"local\"], 1]], # (GPT-Neo-specific) global and local attention \n",
    "    num_heads           = attn_heads,                    # attention heads\n",
    "    window_size         = 256,                  # (GPT-Neo-specific) for local attention \n",
    "    intermediate_size   = 1024,                 # size of 'up-projection' layer in FFN\n",
    "\n",
    "    pad_token_id = 0,           # need to specify this for tokenizer interop between models\n",
    ")\n",
    "\n",
    "\n",
    "config_gqa = dict(\n",
    "\n",
    "    # EMBEDDING PARAMETERS\n",
    "    vocab_size              = 10_000,   # number of tokens in the vocabulary\n",
    "    hidden_size             = embed_size,      # embedding size (vector length) of each token\n",
    "    max_position_embeddings = 512,      # maximum sequence length (context window)\n",
    "\n",
    "    # BLOCKS (ATTN & FFN)\n",
    "    num_layers          = 2,                    # number of transformer blocks\n",
    "    attention_types     = [[[\"global\", \"local\"], 1]], # (GPT-Neo-specific) global and local attention\n",
    "    num_heads           = attn_heads,                    # attention heads\n",
    "    window_size         = 256,                  # (GPT-Neo-specific) for local attention\n",
    "    intermediate_size   = ffn_new_width,                 # size of 'up-projection' layer in FFN\n",
    "\n",
    "    pad_token_id = 0,           # need to specify this for tokenizer interop between models\n",
    ")\n",
    "\n",
    "config_rob = dict(\n",
    "    \n",
    "    # EMBEDDING PARAMETERS\n",
    "    vocab_size              = 10_000,   \n",
    "    hidden_size             = 512,\n",
    "    # we add 1 as RoBERTa uses a special position embedding for the padding token (zero vector)\n",
    "    max_position_embeddings = config_gpt['max_position_embeddings'] + 1,\n",
    "\n",
    "    # BLOCKS (of course naming is different in roberta :) )\n",
    "    num_hidden_layers = config_gpt['num_layers'],\n",
    "    num_attention_heads = config_gpt['num_heads'],\n",
    "    intermediate_size=1024,                     \n",
    "\n",
    "    pad_token_id = 0,\n",
    ")\n",
    "\n",
    "config_gpt = GPTNeoConfig(**config_gpt)\n",
    "config_rob = RobertaConfig(**config_rob)\n",
    "config_gqa = GPTNeoConfig(**config_gqa)"
   ]
  },
  {
   "cell_type": "code",
   "execution_count": 4,
   "metadata": {},
   "outputs": [
    {
     "name": "stdout",
     "output_type": "stream",
     "text": [
      "\n",
      "    The custom model has 9,587,552 parameters,\n",
      "    GPT Neo - 9,585,664 parameters,\n",
      "    and RoBERTa - 9,863,952 parameters.\n",
      "    \n"
     ]
    }
   ],
   "source": [
    "from custom_gpt_gqa import CustomGPTNeoForCausalLM, GPTNeoGQASelfAttention\n",
    "\n",
    "# TODO: you should set all pytorch & huggingface seeds here as model initialisation depends on it\n",
    "\n",
    "gpt = GPTNeoForCausalLM(config=config_gpt)\n",
    "rob = RobertaForMaskedLM(config=config_rob)\n",
    "\n",
    "gqa_model_gpt = CustomGPTNeoForCausalLM(config_gqa=config_gqa)\n",
    "gqa_model_gpt.set_kqv_size(kqv_size)\n",
    "gqa_model_gpt.set_attention(num_key_value_heads=num_key_value_heads)\n",
    "# print(gqa_model_gpt.state_dict())\n",
    "\n",
    "\n",
    "print(f'''\n",
    "    The custom model has {gqa_model_gpt.num_parameters():,} parameters,\n",
    "    GPT Neo - {gpt.num_parameters():,} parameters,\n",
    "    and RoBERTa - {rob.num_parameters():,} parameters.\n",
    "    ''')\n",
    "\n",
    "# gpt, rob # uncomment to see model architecture\n",
    "# gqa_model_gpt"
   ]
  },
  {
   "cell_type": "markdown",
   "metadata": {},
   "source": [
    "#### Pre-Processing\n",
    "All experiments use the same tokenizer, so in theory, we only need to preprocess our data once. This means you can subsequently skip this CPU-intensive task on the DelftBlue GPU nodes. \n",
    "(except if you are experimenting with different context lengths, in that case you will need to re-tokenise to recover potentially truncated inputs; see below).\n",
    "\n",
    "When running experiments on delftblue, it may be fastest to load (parts of) the dataset into memory, as the cluster has pretty slow IO. See `datasets`, specifically [`load_dataset`'s `keep_in_memory` attribute](https://huggingface.co/docs/datasets/en/package_reference/loading_methods#datasets.load_dataset). "
   ]
  },
  {
   "cell_type": "code",
   "execution_count": 14,
   "metadata": {},
   "outputs": [
    {
     "name": "stderr",
     "output_type": "stream",
     "text": [
      "Repo card metadata block was not found. Setting CardData to empty.\n"
     ]
    },
    {
     "name": "stdout",
     "output_type": "stream",
     "text": [
      "2119719\n"
     ]
    },
    {
     "name": "stderr",
     "output_type": "stream",
     "text": [
      "100%|██████████| 1000/1000 [00:00<00:00, 60565.82it/s]"
     ]
    },
    {
     "name": "stdout",
     "output_type": "stream",
     "text": [
      "\n",
      "    Train dataset has 1,000 samples, \n",
      "    totalling 183,801 words (avg. 183.8 per story).\n",
      "    \n"
     ]
    },
    {
     "name": "stderr",
     "output_type": "stream",
     "text": [
      "\n"
     ]
    }
   ],
   "source": [
    "import tqdm \n",
    "from datasets import load_dataset, DatasetDict\n",
    "\n",
    "debug_mode = True\n",
    "\n",
    "dataset = load_dataset('roneneldan/tinystories', num_proc=16)\n",
    "print(len(dataset['train']['text']))\n",
    "small_dataset = DatasetDict({\n",
    "    'train': dataset['train'].select(range(1000)),\n",
    "    'validation': dataset['validation'].select(range(100))\n",
    "})\n",
    "\n",
    "if debug_mode:\n",
    "    dataset = small_dataset\n",
    "\n",
    "n_words = 0 \n",
    "for story in tqdm.tqdm(dataset['train']['text']):    # tqdm is used for progress bars around iterables\n",
    "    n_words += len(story.split())\n",
    "\n",
    "print(f'''\n",
    "    Train dataset has {len(dataset['train']['text']):,} samples, \n",
    "    totalling {n_words:,} words (avg. {n_words/len(dataset['train']['text']):,.1f} per story).\n",
    "    ''')"
   ]
  },
  {
   "cell_type": "markdown",
   "metadata": {},
   "source": [
    "#### Tokenisation\n",
    "Two things happen during tokenisation, of which the latter is optional:\n",
    "\n",
    "1. Map (sub-)words to integers $ \\in [0, 10000]$.\n",
    "2. Truncate/pad each input as necessary to fit within `hidden_size`. \n",
    "\n",
    "All it does is map frequent character strings (i.e. tokens) to integers, which it can then use to look up the corresponding embedding vector for that integer index.\n",
    "\n",
    "The intuition is that by assigning each token its own embedding (vector of `1 x hidden_size`) in the transformer, will help it learn semantical understanding of these tokens. E.g. say that you have two tokens 'about' and 'around', the transformer should learn similar embedding vectors for each."
   ]
  },
  {
   "cell_type": "code",
   "execution_count": 12,
   "outputs": [
    {
     "name": "stderr",
     "output_type": "stream",
     "text": [
      "The tokenizer class you load from this checkpoint is not the same type as the class this function is called from. It may result in unexpected tokenization. \n",
      "The tokenizer class you load from this checkpoint is 'RobertaTokenizer'. \n",
      "The class this function is called from is 'GPT2TokenizerFast'.\n"
     ]
    },
    {
     "name": "stdout",
     "output_type": "stream",
     "text": [
      "padding token is <pad>\n",
      "padding token in config: 0, in tokeniser: 0\n",
      "padding token is <pad>\n",
      "padding token in config: 0, in tokeniser: 0\n"
     ]
    }
   ],
   "source": [
    "from transformers import PreTrainedTokenizer, PretrainedConfig\n",
    "\n",
    "def get_tokenizer_for_config(Tok: PreTrainedTokenizer, config: PretrainedConfig):\n",
    "\n",
    "    tokenizer = Tok.from_pretrained(\n",
    "        '10k-tok',                                         # our custom tokenizer\n",
    "        model_max_length=config.max_position_embeddings    # sequence length (context window)\n",
    "    )\n",
    "\n",
    "    # we're using our special tokenizer with only 10'000 tokens instead of 50'256\n",
    "    assert tokenizer.vocab_size == config.vocab_size\n",
    "\n",
    "    print(f'padding token is {tokenizer.pad_token}')\n",
    "    print(f'padding token in config: {config.pad_token_id}, in tokeniser: {tokenizer.pad_token_id}')\n",
    "\n",
    "    return tokenizer\n",
    "\n",
    "tok_gpt = get_tokenizer_for_config(GPT2TokenizerFast, config_gpt)\n",
    "tok_rob = get_tokenizer_for_config(RobertaTokenizerFast, config_rob)"
   ],
   "metadata": {
    "collapsed": false
   }
  },
  {
   "cell_type": "code",
   "execution_count": 6,
   "outputs": [
    {
     "ename": "NameError",
     "evalue": "name 'dataset' is not defined",
     "output_type": "error",
     "traceback": [
      "\u001B[0;31m---------------------------------------------------------------------------\u001B[0m",
      "\u001B[0;31mNameError\u001B[0m                                 Traceback (most recent call last)",
      "Cell \u001B[0;32mIn[6], line 1\u001B[0m\n\u001B[0;32m----> 1\u001B[0m tokenized_gpt \u001B[38;5;241m=\u001B[39m \u001B[43mdataset\u001B[49m\u001B[38;5;241m.\u001B[39mmap(\n\u001B[1;32m      2\u001B[0m     \u001B[38;5;28;01mlambda\u001B[39;00m x: tok_gpt(x[\u001B[38;5;124m'\u001B[39m\u001B[38;5;124mtext\u001B[39m\u001B[38;5;124m'\u001B[39m], truncation\u001B[38;5;241m=\u001B[39m\u001B[38;5;28;01mTrue\u001B[39;00m, padding\u001B[38;5;241m=\u001B[39m\u001B[38;5;124m'\u001B[39m\u001B[38;5;124mmax_length\u001B[39m\u001B[38;5;124m'\u001B[39m),\n\u001B[1;32m      3\u001B[0m     batched\u001B[38;5;241m=\u001B[39m\u001B[38;5;28;01mTrue\u001B[39;00m, num_proc\u001B[38;5;241m=\u001B[39m\u001B[38;5;241m64\u001B[39m, batch_size\u001B[38;5;241m=\u001B[39m\u001B[38;5;241m1_000\u001B[39m)                 \u001B[38;5;66;03m# change num_proc to 1 if multithread issues\u001B[39;00m\n\u001B[1;32m      5\u001B[0m tokenized_gpt\u001B[38;5;241m.\u001B[39msave_to_disk(\u001B[38;5;124m'\u001B[39m\u001B[38;5;124m./tokenized_dataset\u001B[39m\u001B[38;5;124m'\u001B[39m, num_proc\u001B[38;5;241m=\u001B[39m\u001B[38;5;241m5\u001B[39m)\n",
      "\u001B[0;31mNameError\u001B[0m: name 'dataset' is not defined"
     ]
    }
   ],
   "source": [
    "tokenized_gpt = dataset.map(\n",
    "    lambda x: tok_gpt(x['text'], truncation=True, padding='max_length'),\n",
    "    batched=True, num_proc=64, batch_size=1_000)                 # change num_proc to 1 if multithread issues\n",
    "\n",
    "tokenized_gpt.save_to_disk('./tokenized_dataset', num_proc=5)"
   ],
   "metadata": {
    "collapsed": false
   }
  },
  {
   "cell_type": "code",
   "execution_count": 13,
   "metadata": {},
   "outputs": [
    {
     "data": {
      "text/plain": "[0, 0, 0, 0, 0, 0, 0, 0, 0, 0]"
     },
     "execution_count": 13,
     "metadata": {},
     "output_type": "execute_result"
    }
   ],
   "source": [
    "from datasets import load_from_disk \n",
    "tokenized_dataset = load_from_disk(f'./tokenized_dataset')\n",
    "\n",
    "train_dataset = tokenized_dataset['train']\n",
    "eval_dataset  = tokenized_dataset['validation']\n",
    "\n",
    "assert len(tokenized_dataset['train'][0]['input_ids']) == config_gpt.max_position_embeddings\n",
    "tokenized_dataset['train'][0]['input_ids'][-10:]\n",
    "# should be pad tokens (0), given that most short stories are <512 tokens"
   ]
  },
  {
   "cell_type": "markdown",
   "metadata": {},
   "source": [
    "#### Training\n",
    "Before we get started, you may want to specify which GPU to use. See the first cell in this notebook; make sure to run it before anything else. "
   ]
  },
  {
   "cell_type": "markdown",
   "metadata": {},
   "source": [
    "Huggingface provides some powerful (and often confusingly long) APIs for model training. The `TrainingArguments` specifies our hyperparameters, which are used by the `Trainer` taking in the remaining objects (like `model`, `tokenizer`, and `train_dataset`). Specifically:\n",
    "\n",
    "- `learning_rate` and `num_train_epochs` determine how much the model learns. A higher rate is faster, but more unstable. More epochs (entire passes over the dataset) yields incrementally better results, at the cost of more training time. \n",
    "- Batch sizes determine how many samples the model sees in *parallel*. Given `gradient_accumulation_steps=1` and a `batch_size=8`, the model will backpropagate the average loss of 8 samples; if `batch_size=1`, it will average the loss of `gradient_accumulation_steps` samples. It is important to make sure the backpropagated loss is averaged over the same number of samples, when comparing models. \n",
    "\n",
    "- `data_collator` batches (and optionally, pads) the input for the model. We have already padded in our `tokenized_dataset`, and leaving this argument empty will automatically batch the inputs. So why do we need it? \n",
    "\n",
    "    Glad you asked. This has to do with how the loss is computed in causal language modelling. In our case, we try to predict $p(y | x)$, where $x$ is an input sequence of tokens, and $y$ is the next token following that sequence. Our model, unaware of the target token $y$, outputs $\\hat y$. \n",
    "    \n",
    "    For `Trainer` to compute the (cross-entropy) loss, we need to provide it with both $y$ and $\\hat y$. The `DataCollatorForLanguageModeling` knows this, and provides the next token $y$ as a separate part of the input, to the `Trainer`.\n",
    "\n",
    "    The loss is the backbone of backpropagation, which we need to actually improve our model. If this is confusing, please re-watch Karpathy's GPT tutorial. \n",
    "\n",
    "If you prefer to write the training loop yourself, check out HF' `run_clm_no_trainer.py` scripts. (`run_mlm_no_trainer.py` for RoBERTa-style masked-language modelling, as opposed to causal language modelling). This can be useful to give you better control over which devices are used for training. "
   ]
  },
  {
   "cell_type": "code",
   "execution_count": 14,
   "metadata": {},
   "outputs": [],
   "source": [
    "from transformers import Trainer, TrainingArguments, DataCollatorForLanguageModeling\n",
    "\n",
    "def get_hyperparameters(model, dataset, num_key_value_heads=None, kqv_factor=None):\n",
    "    ''' common hyperparameters to give to the trainer '''\n",
    "\n",
    "    # TRAINING HYPERPARAMETERS \n",
    "    batch_size = 4                  # TinyStories uses 80, but I am training locally on my poor M1 Air\n",
    "    num_train_epochs = 1             # TinyStories doesn't mention\n",
    "    gradient_accumulation_steps = 16 # TinyStories uses 16\n",
    "\n",
    "    lr = 5e-4                        # TinyStories uses 5e-4, higher values better for small models\n",
    "\n",
    "    first_part_id = 'CUSTOM' if isinstance(model, CustomGPTNeoForCausalLM) else 'GPT' if isinstance(model, GPTNeoForCausalLM) else'BERT'\n",
    "\n",
    "    if first_part_id == 'CUSTOM':\n",
    "        if num_key_value_heads is not None:\n",
    "            first_part_id += '-GQA-' + str(query_groups_factor) + 'KV'\n",
    "        elif kqv_factor is not None:\n",
    "            first_part_id += '-KQV-' + str(kqv_factor) + 'F'\n",
    "\n",
    "    # future you will thank you for descriptive model names\n",
    "    # TODO: customise this name such that every model you train has a unique identifier!\n",
    "    config      = model.config \n",
    "    model_name  = '-'.join([\n",
    "        first_part_id,\n",
    "        f'{model.num_parameters()//1e6:.1f}M',\n",
    "        f'{config.num_layers if isinstance(model, GPTNeoForCausalLM) else config.num_hidden_layers}L', \n",
    "        f'{config.num_heads if isinstance(model, GPTNeoForCausalLM) else config.num_attention_heads}H', \n",
    "        f'{config.hidden_size}C',\n",
    "        f'{config.intermediate_size}I'\n",
    "    ])\n",
    "\n",
    "    _train_steps = len(dataset) // (batch_size * gradient_accumulation_steps)\n",
    "    eval_steps = _train_steps // 10 # evaluate every 10% of training steps\n",
    "\n",
    "    return dict(\n",
    "        model_name = model_name,\n",
    "        batch_size = batch_size, \n",
    "        num_train_epochs = num_train_epochs,\n",
    "        gradient_accumulation_steps = gradient_accumulation_steps,\n",
    "        lr = lr,\n",
    "        eval_steps = eval_steps\n",
    "    )\n",
    "\n",
    "params_gpt = get_hyperparameters(gpt, train_dataset)\n",
    "params_rob = get_hyperparameters(rob, train_dataset)\n",
    "params_gqa = get_hyperparameters(gqa_model_gpt, train_dataset, num_key_value_heads=num_key_value_heads, kqv_factor=kqv_factor)"
   ]
  },
  {
   "cell_type": "code",
   "execution_count": 15,
   "metadata": {},
   "outputs": [],
   "source": [
    "def get_trainer(\n",
    "        model, tokenizer, train_dataset, eval_dataset, output_dir,\n",
    "        model_name, batch_size, num_train_epochs, gradient_accumulation_steps, lr, eval_steps):\n",
    "    ''' more general training arguments you likely want to keep fixed'''\n",
    "\n",
    "    training_args = TrainingArguments(\n",
    "\n",
    "        seed       = 42,\n",
    "        use_cpu    = False, # use GPU if available (not necessarily faster on laptops, but Apple's MPS have good support)\n",
    "\n",
    "        output_dir = os.path.join(output_dir, model_name),\n",
    "\n",
    "        # NOTE: training params\n",
    "        learning_rate    = lr,\n",
    "        num_train_epochs = num_train_epochs,\n",
    "        # Use a smaller batch size to fit into GPU RAM. \n",
    "        per_device_train_batch_size = batch_size,\n",
    "        per_device_eval_batch_size  = batch_size,\n",
    "        # You should aim to have the same amount of samples per acc step, in all of your experiments!\n",
    "        # so, if you increase batch_size, decrease gradient_accumulation_steps by the same factor.\n",
    "        gradient_accumulation_steps = gradient_accumulation_steps,\n",
    "\n",
    "        # NOTE: Evaluation params\n",
    "        # wandb is great for tracking experiments, it will even (try to) save your code nowadays\n",
    "        evaluation_strategy = 'steps',\n",
    "        eval_steps = eval_steps,\n",
    "        save_steps = eval_steps,\n",
    "\n",
    "        logging_first_step=True,\n",
    "        logging_steps=100,\n",
    "        report_to  = 'wandb',\n",
    "    )\n",
    "\n",
    "    trainer = Trainer(\n",
    "        model = model, \n",
    "        args = training_args, \n",
    "        train_dataset = train_dataset, \n",
    "        eval_dataset = eval_dataset,\n",
    "        data_collator = DataCollatorForLanguageModeling(\n",
    "            tokenizer, mlm=isinstance(model, RobertaForMaskedLM)),\n",
    "    )\n",
    "\n",
    "    # print amount of training steps, and how often the model is evaluated\n",
    "    print(f'''\n",
    "    Retrieving Trainer for \\033[1m{model_name}\\033[0m\n",
    "        training for {num_train_epochs} epochs, {len(train_dataset)} samples\n",
    "        {batch_size} batch size, {gradient_accumulation_steps} accumulation steps\n",
    "        gives {len(train_dataset)//(batch_size * gradient_accumulation_steps)} training steps.\n",
    "        Evaluating every {eval_steps} steps, {len(eval_dataset)} samples \n",
    "        ''')\n",
    "\n",
    "    return trainer"
   ]
  },
  {
   "cell_type": "code",
   "execution_count": 16,
   "metadata": {},
   "outputs": [
    {
     "name": "stdout",
     "output_type": "stream",
     "text": [
      "\n",
      "    Retrieving Trainer for \u001B[1mGPT-9.0M-2L-4H-512C-1024I\u001B[0m\n",
      "        training for 1 epochs, 1000 samples\n",
      "        4 batch size, 16 accumulation steps\n",
      "        gives 15 training steps.\n",
      "        Evaluating every 1 steps, 100 samples \n",
      "        \n",
      "\n",
      "    Retrieving Trainer for \u001B[1mBERT-9.0M-2L-4H-512C-1024I\u001B[0m\n",
      "        training for 1 epochs, 1000 samples\n",
      "        4 batch size, 16 accumulation steps\n",
      "        gives 15 training steps.\n",
      "        Evaluating every 1 steps, 100 samples \n",
      "        \n",
      "\n",
      "    Retrieving Trainer for \u001B[1mCUSTOM-GQA-0.25KV-9.0M-2L-4H-512C-1968I\u001B[0m\n",
      "        training for 1 epochs, 1000 samples\n",
      "        4 batch size, 16 accumulation steps\n",
      "        gives 15 training steps.\n",
      "        Evaluating every 1 steps, 100 samples \n",
      "        \n"
     ]
    }
   ],
   "source": [
    "out_dir = './results/models_baseline/' \n",
    "\n",
    "trainer_gpt = get_trainer(gpt, tok_gpt, train_dataset, eval_dataset, out_dir, **params_gpt)\n",
    "trainer_rob = get_trainer(rob, tok_rob, train_dataset, eval_dataset, out_dir, **params_rob)\n",
    "\n",
    "trainer_gqa_gpt = get_trainer(gqa_model_gpt, tok_gpt, train_dataset, eval_dataset, out_dir, **params_gqa)"
   ]
  },
  {
   "cell_type": "markdown",
   "metadata": {},
   "source": [
    "Finally, we can train. \n",
    "\n",
    "This configuration takes ≤24hr to pre-train on my M1 Macbook Air with 16GB RAM. Python takes ≤4GB VRAM at a `batch_size=16` and ≤11GB at `batch_size=64`, though they take the same amount of time to train - likely because this processor is not designed to move that much data in and out of RAM constantly. And tbh, the GPU be lacking. If you decide to go the local-training-route, consider [chai](https://github.com/lvillani/chai) to keep your (Apple) laptop awake – there's probably a windows/linux equivalent too. "
   ]
  },
  {
   "cell_type": "code",
   "execution_count": 17,
   "metadata": {},
   "outputs": [],
   "source": [
    "def do_train(trainer: Trainer, name: str, out_dir: str):\n",
    "\n",
    "    wandb.init(project='kqv-gqa-gpt-neo', name=name, group='baseline', config=trainer.args)\n",
    "    # wandb.init(project='tinystories', name=name, config=trainer.args)\n",
    "    trainer.train()\n",
    "    trainer.save_model(os.path.join(out_dir, name))\n",
    "    wandb.finish()"
   ]
  },
  {
   "cell_type": "code",
   "execution_count": 18,
   "metadata": {},
   "outputs": [
    {
     "name": "stdout",
     "output_type": "stream",
     "text": [
      "CUSTOM-GQA-0.25KV-9.0M-2L-4H-512C-1968I\n"
     ]
    },
    {
     "data": {
      "text/plain": "CustomGPTNeoForCausalLM(\n  (transformer): GPTNeoModel(\n    (wte): Embedding(10000, 512)\n    (wpe): Embedding(512, 512)\n    (drop): Dropout(p=0.0, inplace=False)\n    (h): ModuleList(\n      (0-1): 2 x GPTNeoBlock(\n        (ln_1): LayerNorm((512,), eps=1e-05, elementwise_affine=True)\n        (attn): GPTNeoAttention(\n          (attention): GPTNeoGQASelfAttention(\n            (attn_dropout): Dropout(p=0.0, inplace=False)\n            (resid_dropout): Dropout(p=0.0, inplace=False)\n            (k_proj): Linear(in_features=512, out_features=16, bias=False)\n            (v_proj): Linear(in_features=512, out_features=16, bias=False)\n            (q_proj): Linear(in_features=512, out_features=64, bias=False)\n            (out_proj): Linear(in_features=64, out_features=512, bias=True)\n          )\n        )\n        (ln_2): LayerNorm((512,), eps=1e-05, elementwise_affine=True)\n        (mlp): GPTNeoMLP(\n          (c_fc): Linear(in_features=512, out_features=1968, bias=True)\n          (c_proj): Linear(in_features=1968, out_features=512, bias=True)\n          (act): NewGELUActivation()\n          (dropout): Dropout(p=0.0, inplace=False)\n        )\n      )\n    )\n    (ln_f): LayerNorm((512,), eps=1e-05, elementwise_affine=True)\n  )\n  (lm_head): Linear(in_features=512, out_features=10000, bias=False)\n)"
     },
     "execution_count": 18,
     "metadata": {},
     "output_type": "execute_result"
    }
   ],
   "source": [
    "# words vs. tokens \n",
    "len(train_dataset['text'][11]), len(train_dataset[11]['input_ids'])\n",
    "print(params_gqa['model_name'])\n",
    "trainer_gqa_gpt.model"
   ]
  },
  {
   "cell_type": "code",
   "execution_count": 19,
   "metadata": {},
   "outputs": [
    {
     "data": {
      "text/plain": "<IPython.core.display.HTML object>",
      "text/html": "wandb version 0.17.0 is available!  To upgrade, please run:\n $ pip install wandb --upgrade"
     },
     "metadata": {},
     "output_type": "display_data"
    },
    {
     "data": {
      "text/plain": "<IPython.core.display.HTML object>",
      "text/html": "Tracking run with wandb version 0.16.6"
     },
     "metadata": {},
     "output_type": "display_data"
    },
    {
     "data": {
      "text/plain": "<IPython.core.display.HTML object>",
      "text/html": "Run data is saved locally in <code>/Users/a123/tiny-transformers/code/khalit_attention_QKV/wandb/run-20240519_235158-nvgx4vyc</code>"
     },
     "metadata": {},
     "output_type": "display_data"
    },
    {
     "data": {
      "text/plain": "<IPython.core.display.HTML object>",
      "text/html": "Syncing run <strong><a href='https://wandb.ai/tiny-transformers/kqv-gqa-gpt-neo/runs/nvgx4vyc' target=\"_blank\">CUSTOM-GQA-0.25KV-9.0M-2L-4H-512C-1968I</a></strong> to <a href='https://wandb.ai/tiny-transformers/kqv-gqa-gpt-neo' target=\"_blank\">Weights & Biases</a> (<a href='https://wandb.me/run' target=\"_blank\">docs</a>)<br/>"
     },
     "metadata": {},
     "output_type": "display_data"
    },
    {
     "data": {
      "text/plain": "<IPython.core.display.HTML object>",
      "text/html": " View project at <a href='https://wandb.ai/tiny-transformers/kqv-gqa-gpt-neo' target=\"_blank\">https://wandb.ai/tiny-transformers/kqv-gqa-gpt-neo</a>"
     },
     "metadata": {},
     "output_type": "display_data"
    },
    {
     "data": {
      "text/plain": "<IPython.core.display.HTML object>",
      "text/html": " View run at <a href='https://wandb.ai/tiny-transformers/kqv-gqa-gpt-neo/runs/nvgx4vyc' target=\"_blank\">https://wandb.ai/tiny-transformers/kqv-gqa-gpt-neo/runs/nvgx4vyc</a>"
     },
     "metadata": {},
     "output_type": "display_data"
    },
    {
     "data": {
      "text/plain": "<IPython.core.display.HTML object>",
      "text/html": "\n    <div>\n      \n      <progress value='2' max='15' style='width:300px; height:20px; vertical-align: middle;'></progress>\n      [ 2/15 : < :, Epoch 0.06/1]\n    </div>\n    <table border=\"1\" class=\"dataframe\">\n  <thead>\n <tr style=\"text-align: left;\">\n      <th>Step</th>\n      <th>Training Loss</th>\n      <th>Validation Loss</th>\n    </tr>\n  </thead>\n  <tbody>\n  </tbody>\n</table><p>"
     },
     "metadata": {},
     "output_type": "display_data"
    },
    {
     "data": {
      "text/plain": "VBox(children=(Label(value='0.031 MB of 0.048 MB uploaded (0.006 MB deduped)\\r'), FloatProgress(value=0.649288…",
      "application/vnd.jupyter.widget-view+json": {
       "version_major": 2,
       "version_minor": 0,
       "model_id": "9170a6569992418eb2dda15a24cfda33"
      }
     },
     "metadata": {},
     "output_type": "display_data"
    },
    {
     "data": {
      "text/plain": "<IPython.core.display.HTML object>",
      "text/html": "W&B sync reduced upload amount by 10.2%             "
     },
     "metadata": {},
     "output_type": "display_data"
    },
    {
     "data": {
      "text/plain": "<IPython.core.display.HTML object>",
      "text/html": "<style>\n    table.wandb td:nth-child(1) { padding: 0 10px; text-align: left ; width: auto;} td:nth-child(2) {text-align: left ; width: 100%}\n    .wandb-row { display: flex; flex-direction: row; flex-wrap: wrap; justify-content: flex-start; width: 100% }\n    .wandb-col { display: flex; flex-direction: column; flex-basis: 100%; flex: 1; padding: 10px; }\n    </style>\n<div class=\"wandb-row\"><div class=\"wandb-col\"><h3>Run history:</h3><br/><table class=\"wandb\"><tr><td>eval/loss</td><td>█▆▅▅▄▃▃▂▂▂▁▁▁▁▁</td></tr><tr><td>eval/runtime</td><td>▁▁▃▆▄▅▅▄▄▄▄▄▇██</td></tr><tr><td>eval/samples_per_second</td><td>██▆▂▄▄▄▄▄▄▄▄▂▁▁</td></tr><tr><td>eval/steps_per_second</td><td>██▆▂▄▄▄▄▄▄▄▄▂▁▁</td></tr><tr><td>train/epoch</td><td>▁▁▂▂▃▃▄▄▅▅▅▆▇▇███</td></tr><tr><td>train/global_step</td><td>▁▁▁▂▃▃▃▄▅▅▅▆▇▇▇██</td></tr><tr><td>train/grad_norm</td><td>▁</td></tr><tr><td>train/learning_rate</td><td>▁</td></tr><tr><td>train/loss</td><td>▁</td></tr></table><br/></div><div class=\"wandb-col\"><h3>Run summary:</h3><br/><table class=\"wandb\"><tr><td>eval/loss</td><td>6.55984</td></tr><tr><td>eval/runtime</td><td>21.4372</td></tr><tr><td>eval/samples_per_second</td><td>4.665</td></tr><tr><td>eval/steps_per_second</td><td>1.166</td></tr><tr><td>total_flos</td><td>12402252840960.0</td></tr><tr><td>train/epoch</td><td>0.96</td></tr><tr><td>train/global_step</td><td>15</td></tr><tr><td>train/grad_norm</td><td>3.9748</td></tr><tr><td>train/learning_rate</td><td>0.00047</td></tr><tr><td>train/loss</td><td>9.2891</td></tr><tr><td>train_loss</td><td>7.44192</td></tr><tr><td>train_runtime</td><td>576.8288</td></tr><tr><td>train_samples_per_second</td><td>1.734</td></tr><tr><td>train_steps_per_second</td><td>0.026</td></tr></table><br/></div></div>"
     },
     "metadata": {},
     "output_type": "display_data"
    },
    {
     "data": {
      "text/plain": "<IPython.core.display.HTML object>",
      "text/html": " View run <strong style=\"color:#cdcd00\">CUSTOM-GQA-0.25KV-9.0M-2L-4H-512C-1968I</strong> at: <a href='https://wandb.ai/tiny-transformers/kqv-gqa-gpt-neo/runs/nvgx4vyc' target=\"_blank\">https://wandb.ai/tiny-transformers/kqv-gqa-gpt-neo/runs/nvgx4vyc</a><br/> View project at: <a href='https://wandb.ai/tiny-transformers/kqv-gqa-gpt-neo' target=\"_blank\">https://wandb.ai/tiny-transformers/kqv-gqa-gpt-neo</a><br/>Synced 5 W&B file(s), 0 media file(s), 2 artifact file(s) and 0 other file(s)"
     },
     "metadata": {},
     "output_type": "display_data"
    },
    {
     "data": {
      "text/plain": "<IPython.core.display.HTML object>",
      "text/html": "Find logs at: <code>./wandb/run-20240519_235158-nvgx4vyc/logs</code>"
     },
     "metadata": {},
     "output_type": "display_data"
    }
   ],
   "source": [
    "do_train(trainer_gqa_gpt, params_gqa['model_name'], out_dir)\n",
    "wandb.finish()"
   ]
  },
  {
   "cell_type": "code",
   "execution_count": 20,
   "outputs": [],
   "source": [
    "import torch\n",
    "model_name = 'CUSTOM-GQA-0.25KV-9.0M-2L-4H-512C-1968I'\n",
    "trained_model = trainer_gqa_gpt.model\n",
    "torch.save(trained_model.state_dict(), f'results/models_baseline/{model_name}/model_state.pt')"
   ],
   "metadata": {
    "collapsed": false
   }
  },
  {
   "cell_type": "markdown",
   "metadata": {},
   "source": [
    "#### Using your Pre-Trained Model \n",
    "Try out your own model on some prompts!"
   ]
  },
  {
   "cell_type": "code",
   "execution_count": 21,
   "metadata": {},
   "outputs": [],
   "source": [
    "# I made a small function for pretty printing into paragraphs with line wrapping for readability\n",
    "import textwrap \n",
    "w = textwrap.TextWrapper(replace_whitespace=False, break_long_words=False, width=60, initial_indent='   ', subsequent_indent='  ')\n",
    "def see(text): print('\\n\\033[3m' + '\\n\\n'.join(['\\n'.join(w.wrap(line))\n",
    "                 for line in text.splitlines() if line.strip() != '']) + '\\033[0m\\n')"
   ]
  },
  {
   "cell_type": "code",
   "execution_count": 22,
   "metadata": {},
   "outputs": [
    {
     "data": {
      "text/plain": "<All keys matched successfully>"
     },
     "execution_count": 22,
     "metadata": {},
     "output_type": "execute_result"
    }
   ],
   "source": [
    "from transformers import AutoTokenizer, AutoModelForCausalLM, GPTNeoConfig, LlamaForCausalLM\n",
    "import torch\n",
    "\n",
    "# model_name = 'GPT-9.0M-2L-4H-516C-1024I'\n",
    "# model_name = 'BERT-9.0M-2L-4H-516C-1024I' # bert won't work for generation unless you fine-tune it for that task\n",
    "\n",
    "tokenizer = AutoTokenizer.from_pretrained('10k-tok')\n",
    "tokenizer.pad_token_id = tokenizer.eos_token_id\n",
    "model_name_1 = 'CUSTOM-GQA-0.25KV-9.0M-2L-4H-512C-1968I'\n",
    "model_name_2 = 'CUSTOM-KQV-2F-9.0M-2L-4H-512C-1536I'\n",
    "\n",
    "config_1 = GPTNeoConfig.from_pretrained(f'results/models_baseline/{model_name_1}')\n",
    "config_2 = GPTNeoConfig.from_pretrained(f'results/models_baseline/{model_name_2}')\n",
    "\n",
    "# Initialize your custom model\n",
    "custom_model_1 = CustomGPTNeoForCausalLM(config_gqa=config_1)\n",
    "custom_model_1.set_kqv_size(embed_size // 8)\n",
    "custom_model_1.set_attention(num_key_value_heads=num_key_value_heads)\n",
    "#\n",
    "custom_model_2 = CustomGPTNeoForCausalLM(config_gqa=config_2)\n",
    "custom_model_2.set_kqv_size(embed_size // 2)\n",
    "custom_model_2.set_attention(num_key_value_heads=attn_heads)\n",
    "#\n",
    "trained_state_dict_1 = torch.load(f'results/models_baseline/{model_name_1}/model_state.pt')\n",
    "trained_state_dict_2 = torch.load(f'results/models_baseline/{model_name_2}/model_state.pt')\n",
    "custom_model_1.load_state_dict(trained_state_dict_1)\n",
    "custom_model_2.load_state_dict(trained_state_dict_2)"
   ]
  },
  {
   "cell_type": "markdown",
   "metadata": {},
   "source": [
    "#### Inference \n",
    "Let's generate a short story like the ones the model has been trained on! You'll notice that the prompt is surrounded by `<s>`, the begin-of-sequence (bos) token, and `</s>` end-of-sequence (eos) / separator (sep) token. This is from the BERT-style tokenisation, making it clear to the model where (one of several) input sequences ends."
   ]
  },
  {
   "cell_type": "code",
   "execution_count": 23,
   "outputs": [
    {
     "name": "stdout",
     "output_type": "stream",
     "text": [
      "The output length is:  50\n",
      "\n",
      "\u001B[3m   <s>Once upon a time, there was a chicken with</s>.\u001B[0m\n",
      "\n",
      "Inference Time: 0.5596239566802979 seconds\n",
      "Peak Memory Usage: 406.5703125 MiB\n"
     ]
    }
   ],
   "source": [
    "import time\n",
    "from memory_profiler import memory_usage\n",
    "\n",
    "prompt = 'Once upon a time, there was a chicken with'\n",
    "input_ids = tokenizer.encode(prompt, return_tensors='pt')\n",
    "\n",
    "memory_usage_start = memory_usage(max_usage=True)\n",
    "\n",
    "start_time = time.time()\n",
    "output = custom_model_1.generate(input_ids, max_length=50, num_beams=1)\n",
    "print(\"The output length is: \", len(output[0]))\n",
    "end_time = time.time()\n",
    "\n",
    "memory_usage_end = memory_usage(max_usage=True)\n",
    "\n",
    "output_text = tokenizer.decode(output[0])\n",
    "\n",
    "# textwrap with indentation on every new paragraph\n",
    "see(output_text)\n",
    "inference_time = end_time - start_time\n",
    "\n",
    "print(\"Inference Time:\", inference_time, \"seconds\")\n",
    "print(\"Peak Memory Usage:\", memory_usage_end, \"MiB\")"
   ],
   "metadata": {
    "collapsed": false
   }
  },
  {
   "cell_type": "code",
   "execution_count": 24,
   "outputs": [],
   "source": [
    "import time\n",
    "from memory_profiler import memory_usage\n",
    "\n",
    "# Define your prompt and encode it\n",
    "def avg_time_and_memory_consumption(model: CustomGPTNeoForCausalLM):\n",
    "    prompt = 'Once upon a time, there was a chicken with'\n",
    "    input_ids = tokenizer.encode(prompt, return_tensors='pt')\n",
    "\n",
    "    # Set the number of times to generate output\n",
    "    num_iterations = 10  # You can adjust this number as needed\n",
    "\n",
    "    # Initialize a list to store inference times\n",
    "    inference_times = []\n",
    "    # Initialize a list to store peak memory usages per inference\n",
    "    memory_usage_values = []\n",
    "\n",
    "    # Loop for generating output multiple times\n",
    "    for _ in range(num_iterations):\n",
    "        # Start recording memory to find the peak usage\n",
    "        memory_usage_start = memory_usage(max_usage=True)\n",
    "\n",
    "        # Record the start time\n",
    "        start_time = time.time()\n",
    "        # Generate the output\n",
    "        output = model.generate(input_ids, max_length=300, num_beams=1)\n",
    "        # Record the end time\n",
    "        end_time = time.time()\n",
    "\n",
    "        # End recording memory to find the peak usage\n",
    "        memory_usage_end = memory_usage(max_usage=True)\n",
    "\n",
    "        # Calculate the time taken for inference\n",
    "        inference_time = end_time - start_time\n",
    "        inference_times.append(inference_time)\n",
    "\n",
    "        memory_usage_values.append(memory_usage_end)\n",
    "\n",
    "        # Decode and print the output text (optional)\n",
    "        output_text = tokenizer.decode(output[0])\n",
    "        # print(\"Generated Text:\", output_text)\n",
    "\n",
    "    average_inference_time = sum(inference_times) / num_iterations\n",
    "    average_memory_usage = sum(memory_usage_values) / num_iterations\n",
    "\n",
    "    # print(\"Average Inference Time:\", average_inference_time, \"seconds\")\n",
    "    # print(\"Average Peak Memory Usage:\", average_memory_usage, \"MiB\")\n",
    "    return average_inference_time, average_memory_usage"
   ],
   "metadata": {
    "collapsed": false
   }
  },
  {
   "cell_type": "code",
   "execution_count": 26,
   "outputs": [
    {
     "name": "stdout",
     "output_type": "stream",
     "text": [
      "Time taken difference is:  0.07875437736511248\n",
      "Memory consumption difference is:  0.8667968749999773\n",
      "Trying in reverse order:\n",
      "Time taken difference is:  0.19388210773468018\n",
      "Memory consumption difference is:  0.6003906249999886\n",
      "And again in the normal order:\n",
      "Time taken difference is:  0.20630371570587158\n",
      "Memory consumption difference is:  0.6671875000000114\n",
      "And the last time in reverse:\n",
      "Time taken difference is:  0.18756856918334974\n",
      "Memory consumption difference is:  0.5695312500000114\n"
     ]
    }
   ],
   "source": [
    "time1, memory1 = avg_time_and_memory_consumption(custom_model_1)\n",
    "time2, memory2 = avg_time_and_memory_consumption(custom_model_2)\n",
    "print(\"Time taken difference is: \", str(time2 - time1))\n",
    "print(\"Memory consumption difference is: \", str(memory2 - memory1))\n",
    "\n",
    "print(\"Trying in reverse order:\")\n",
    "time2, memory2 = avg_time_and_memory_consumption(custom_model_2)\n",
    "time1, memory1 = avg_time_and_memory_consumption(custom_model_1)\n",
    "print(\"Time taken difference is: \", str(time2 - time1))\n",
    "print(\"Memory consumption difference is: \", str(memory2 - memory1))\n",
    "\n",
    "print(\"And again in the normal order:\")\n",
    "time1, memory1 = avg_time_and_memory_consumption(custom_model_1)\n",
    "time2, memory2 = avg_time_and_memory_consumption(custom_model_2)\n",
    "print(\"Time taken difference is: \", str(time2 - time1))\n",
    "print(\"Memory consumption difference is: \", str(memory2 - memory1))\n",
    "\n",
    "print(\"And the last time in reverse:\")\n",
    "time2, memory2 = avg_time_and_memory_consumption(custom_model_2)\n",
    "time1, memory1 = avg_time_and_memory_consumption(custom_model_1)\n",
    "print(\"Time taken difference is: \", str(time2 - time1))\n",
    "print(\"Memory consumption difference is: \", str(memory2 - memory1))"
   ],
   "metadata": {
    "collapsed": false
   }
  },
  {
   "cell_type": "code",
   "execution_count": 92,
   "metadata": {},
   "outputs": [
    {
     "name": "stdout",
     "output_type": "stream",
     "text": [
      "\n",
      "\u001B[3m   <s>Once upon a time, there was a chicken with</s>\u001B[0m\n",
      "\n"
     ]
    },
    {
     "data": {
      "text/plain": "tensor([[   1, 7454, 2402,  257,  640,   11,  612,  373,  257, 9015,  351,    2,\n          198,  198,  198,  198,  198,  198,  198,  198,  198,  198,  198,  198,\n          198,  198,  198,  198,  198,  198,  198,  198,  198,  198,  198,  198,\n          198,  198,  198,  198,  198,  198,  198,  198,  198,  198,  198,  198,\n          198,  198,  198,  198,  198,  198,  198,  198,  198,  198,  198,  198,\n          198,  198,  198,  198,  198,  198,  198,  198,  198,  198,  198,  198,\n          198,  198,  198,  198,  198,  198,  198,  198,  198,  198,  198,  198,\n          198,  198,  198,  198,  198,  198,  198,  198,  198,  198,  198,  198,\n          198,  198,  198,  198,  198,  198,  198,  198,  198,  198,  198,  198,\n          198,  198,  198,  198,  198,  198,  198,  198,  198,  198,  198,  198,\n          198,  198,  198,  198,  198,  198,  198,  198,  198,  198,  198,  198,\n          198,  198,  198,  198,  198,  198,  198,  198,  198,  198,  198,  198,\n          198,  198,  198,  198,  198,  198,  198,  198,  198,  198,  198,  198,\n          198,  198,  198,  198,  198,  198,  198,  198,  198,  198,  198,  198,\n          198,  198,  198,  198,  198,  198,  198,  198,  198,  198,  198,  198,\n          198,  198,  198,  198,  198,  198,  198,  198,  198,  198,  198,  198,\n          198,  198,  198,  198,  198,  198,  198,  198,  198,  198,  198,  198,\n          198,  198,  198,  198,  198,  198,  198,  198,  198,  198,  198,  198,\n          198,  198,  198,  198,  198,  198,  198,  198,  198,  198,  198,  198,\n          198,  198,  198,  198,  198,  198,  198,  198,  198,  198,  198,  198,\n          198,  198,  198,  198,  198,  198,  198,  198,  198,  198,  198,  198,\n          198,  198,  198,  198,  198,  198,  198,  198,  198,  198,  198,  198,\n          198,  198,  198,  198,  198,  198,  198,  198,  198,  198,  198,  198,\n          198,  198,  198,  198,  198,  198,  198,  198,  198,  198,  198,  198,\n          198,  198,  198,  198,  198,  198,  198,  198,  198,  198,  198,  198]])"
     },
     "execution_count": 92,
     "metadata": {},
     "output_type": "execute_result"
    }
   ],
   "source": [
    "prompt = 'Once upon a time, there was a chicken with'\n",
    "input_ids = tokenizer.encode(prompt, return_tensors='pt')\n",
    "\n",
    "output = custom_model.generate(\n",
    "    input_ids,                              # input to the model\n",
    "    max_length=300,                         # maximum generation length\n",
    "    eos_token_id=tokenizer.eos_token_id,    # early stopping when eos_token is output\n",
    "\n",
    "    # num_beams=1,                            # number of beams to use in generation\n",
    "    temperature=1,\n",
    ")\n",
    "output_text = tokenizer.decode(output[0])\n",
    "\n",
    "# textwrap with indentation on every new paragraph\n",
    "see(output_text)\n",
    "output"
   ]
  },
  {
   "cell_type": "markdown",
   "metadata": {},
   "source": [
    "Sounds like me after a few beers too many, but at least the grammar is (mostly) correct. The model also learns some basic reasoning-like associations like being 'so high' allows you to see 'the whole world'. "
   ]
  }
 ],
 "metadata": {
  "kernelspec": {
   "display_name": "base",
   "language": "python",
   "name": "python3"
  },
  "language_info": {
   "codemirror_mode": {
    "name": "ipython",
    "version": 3
   },
   "file_extension": ".py",
   "mimetype": "text/x-python",
   "name": "python",
   "nbconvert_exporter": "python",
   "pygments_lexer": "ipython3",
   "version": "3.11.6"
  }
 },
 "nbformat": 4,
 "nbformat_minor": 2
}
