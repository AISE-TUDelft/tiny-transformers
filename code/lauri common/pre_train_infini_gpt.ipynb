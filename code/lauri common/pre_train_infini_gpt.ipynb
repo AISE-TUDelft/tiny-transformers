{
 "cells": [
  {
   "cell_type": "markdown",
   "metadata": {},
   "source": [
    "## Pre-Training GPT-Neo on TinyStories\n",
    "HuggingFace links: [GPT-Neo model](https://huggingface.co/docs/transformers/model_doc/gpt_neo), [TinyStories dataset](https://huggingface.co/datasets/roneneldan/TinyStories). "
   ]
  },
  {
   "cell_type": "code",
   "execution_count": 133,
   "metadata": {},
   "outputs": [],
   "source": [
    "# %pip install wandb\n",
    "# %pip install transformers\n",
    "# %pip install datasets\n",
    "# %pip install torch torchvision torchaudio\n",
    "# %pip install accelerate -U"
   ]
  },
  {
   "cell_type": "code",
   "execution_count": 134,
   "metadata": {},
   "outputs": [
    {
     "name": "stderr",
     "output_type": "stream",
     "text": [
      "\u001b[34m\u001b[1mwandb\u001b[0m: \u001b[33mWARNING\u001b[0m Calling wandb.login() after wandb.init() has no effect.\n"
     ]
    }
   ],
   "source": [
    "with open('keys.txt', 'r') as file:\n",
    "    api_key = file.read().strip()\n",
    "import wandb; wandb.login(key=api_key)\n",
    "from transformers import GPT2TokenizerFast, GPTNeoForCausalLM, GPTNeoConfig\n",
    "from transformers import TrainingArguments, Trainer, DataCollatorForLanguageModeling\n",
    "from datasets import load_dataset, load_from_disk, DatasetDict\n",
    "import math\n",
    "debug_mode = True\n",
    "config = GPTNeoConfig(\n",
    "    vocab_size=10_000,\n",
    "    hidden_size=512,\n",
    "    max_position_embeddings=512,\n",
    "    num_layers=2,\n",
    "    attention_types=[[[\"global\", \"local\"], 1]],\n",
    "    num_heads=4,\n",
    "    window_size=256,\n",
    "    intermediate_size=1024\n",
    ")\n",
    "# config"
   ]
  },
  {
   "cell_type": "code",
   "execution_count": 135,
   "metadata": {},
   "outputs": [],
   "source": [
    "class GPTNeoSelfAttention(nn.Module):\n",
    "    def __init__(self, config, attention_type):\n",
    "        super().__init__()\n",
    "        self.config = config\n",
    "\n",
    "        max_positions = config.max_position_embeddings\n",
    "        bias = torch.tril(torch.ones((max_positions, max_positions), dtype=bool)).view(\n",
    "            1, 1, max_positions, max_positions\n",
    "        )\n",
    "\n",
    "        # local causal self attention is a sliding window where each token can only attend to the previous\n",
    "        # window_size tokens. This is implemented by updating the causal mask such that for each token\n",
    "        # all other tokens are masked except the previous window_size tokens.\n",
    "        if attention_type == \"local\":\n",
    "            bias = torch.bitwise_xor(bias, torch.tril(bias, -config.window_size))\n",
    "\n",
    "        self.register_buffer(\"bias\", bias, persistent=False)\n",
    "        self.register_buffer(\"masked_bias\", torch.tensor(-1e9), persistent=False)\n",
    "\n",
    "        self.attn_dropout = nn.Dropout(float(config.attention_dropout))\n",
    "        self.resid_dropout = nn.Dropout(float(config.resid_dropout))\n",
    "        self.is_causal = True\n",
    "\n",
    "        self.embed_dim = config.hidden_size\n",
    "        self.num_heads = config.num_heads\n",
    "        self.head_dim = self.embed_dim // self.num_heads\n",
    "        if self.head_dim * self.num_heads != self.embed_dim:\n",
    "            raise ValueError(\n",
    "                f\"embed_dim must be divisible by num_heads (got `embed_dim`: {self.embed_dim} and `num_heads`:\"\n",
    "                f\" {self.num_heads}).\"\n",
    "            )\n",
    "\n",
    "        self.k_proj = nn.Linear(self.embed_dim, self.embed_dim, bias=False)\n",
    "        self.v_proj = nn.Linear(self.embed_dim, self.embed_dim, bias=False)\n",
    "        self.q_proj = nn.Linear(self.embed_dim, self.embed_dim, bias=False)\n",
    "        self.out_proj = nn.Linear(self.embed_dim, self.embed_dim, bias=True)\n",
    "\n",
    "    def _split_heads(self, tensor, num_heads, attn_head_size):\n",
    "        \"\"\"\n",
    "        Splits hidden_size dim into attn_head_size and num_heads\n",
    "        \"\"\"\n",
    "        new_shape = tensor.size()[:-1] + (num_heads, attn_head_size)\n",
    "        tensor = tensor.view(new_shape)\n",
    "        return tensor.permute(0, 2, 1, 3)  # (batch, head, seq_length, head_features)\n",
    "\n",
    "    def _merge_heads(self, tensor, num_heads, attn_head_size):\n",
    "        \"\"\"\n",
    "        Merges attn_head_size dim and num_attn_heads dim into hidden_size\n",
    "        \"\"\"\n",
    "        tensor = tensor.permute(0, 2, 1, 3).contiguous()\n",
    "        new_shape = tensor.size()[:-2] + (num_heads * attn_head_size,)\n",
    "        return tensor.view(new_shape)\n",
    "\n",
    "    def _attn(self, query, key, value, attention_mask=None, head_mask=None):\n",
    "        # Keep the attention weights computation in fp32 to avoid overflow issues\n",
    "        query = query.to(torch.float32)\n",
    "        key = key.to(torch.float32)\n",
    "\n",
    "        attn_weights = torch.matmul(query, key.transpose(-1, -2))\n",
    "\n",
    "        query_length, key_length = query.size(-2), key.size(-2)\n",
    "        causal_mask = self.bias[:, :, key_length - query_length : key_length, :key_length]\n",
    "        mask_value = torch.finfo(attn_weights.dtype).min\n",
    "        # Need to be a tensor, otherwise we get error: `RuntimeError: expected scalar type float but found double`.\n",
    "        # Need to be on the same device, otherwise `RuntimeError: ..., x and y to be on the same device`\n",
    "        mask_value = torch.tensor(mask_value, dtype=attn_weights.dtype).to(attn_weights.device)\n",
    "        attn_weights = torch.where(causal_mask, attn_weights, mask_value)\n",
    "\n",
    "        if attention_mask is not None:\n",
    "            # Apply the attention mask\n",
    "            attn_weights = attn_weights + attention_mask\n",
    "\n",
    "        attn_weights = nn.functional.softmax(attn_weights, dim=-1)\n",
    "        attn_weights = attn_weights.to(value.dtype)\n",
    "        attn_weights = self.attn_dropout(attn_weights)\n",
    "\n",
    "        # Mask heads if we want to\n",
    "        if head_mask is not None:\n",
    "            attn_weights = attn_weights * head_mask\n",
    "\n",
    "        attn_output = torch.matmul(attn_weights, value)\n",
    "\n",
    "        return attn_output, attn_weights\n",
    "\n",
    "    def forward(\n",
    "        self,\n",
    "        hidden_states,\n",
    "        attention_mask=None,\n",
    "        layer_past=None,\n",
    "        head_mask=None,\n",
    "        use_cache=False,\n",
    "        output_attentions=False,\n",
    "    ):\n",
    "        query = self.q_proj(hidden_states)\n",
    "        key = self.k_proj(hidden_states)\n",
    "        value = self.v_proj(hidden_states)\n",
    "\n",
    "        query = self._split_heads(query, self.num_heads, self.head_dim)\n",
    "        key = self._split_heads(key, self.num_heads, self.head_dim)\n",
    "        value = self._split_heads(value, self.num_heads, self.head_dim)\n",
    "\n",
    "        if layer_past is not None:\n",
    "            past_key = layer_past[0]\n",
    "            past_value = layer_past[1]\n",
    "            key = torch.cat((past_key, key), dim=-2)\n",
    "            value = torch.cat((past_value, value), dim=-2)\n",
    "\n",
    "        if use_cache is True:\n",
    "            present = (key, value)\n",
    "        else:\n",
    "            present = None\n",
    "\n",
    "        attn_output, attn_weights = self._attn(query, key, value, attention_mask, head_mask)\n",
    "\n",
    "        attn_output = self._merge_heads(attn_output, self.num_heads, self.head_dim)\n",
    "        attn_output = self.out_proj(attn_output)\n",
    "        attn_output = self.resid_dropout(attn_output)\n",
    "\n",
    "        outputs = (attn_output, present)\n",
    "        if output_attentions:\n",
    "            outputs += (attn_weights,)\n",
    "\n",
    "        return outputs  # a, present, (attentions)"
   ]
  },
  {
   "cell_type": "markdown",
   "metadata": {},
   "source": [
    "### Pre-Processing\n",
    "All experiments use the same tokenizer, so in theory, we only need to preprocess our data once. This means you can subsequently skip this CPU-intensive task on the DelftBlue GPU nodes. \n",
    "(except if you are experimenting with different context lengths, in that case you will need to re-tokenise to recover potentially truncated inputs; see below).\n",
    "You may even have to load the entire dataset (or pre-load chunks) into memory, DelftBlue has extremely slow IO. "
   ]
  },
  {
   "cell_type": "markdown",
   "metadata": {},
   "source": [
    "#### Tokenisation\n",
    "Two things happen during tokenisation, of which the latter is optional:\n",
    "\n",
    "1. Map (sub-)words to integers $ \\in [0, 10000]$.\n",
    "2. Truncate/pad each input as necessary to fit within `hidden_size`. "
   ]
  },
  {
   "cell_type": "code",
   "execution_count": 136,
   "metadata": {},
   "outputs": [
    {
     "name": "stdout",
     "output_type": "stream",
     "text": [
      "padding token is <|endoftext|>\n"
     ]
    }
   ],
   "source": [
    "tokenizer = GPT2TokenizerFast.from_pretrained('10k-gpt-neo', model_max_length=config.hidden_size)\n",
    "\n",
    "# in theory, window_size x num_layers is possible. \n",
    "# But, this project is not about the efficacy of sliding window attention (though it could be!)\n",
    "assert tokenizer.model_max_length == 512 \n",
    "assert tokenizer.vocab_size == config.vocab_size\n",
    "\n",
    "# printing this because of a bug in tokenizers (should be fixed now) https://github.com/huggingface/transformers/issues/26500\n",
    "print(f'padding token is {tokenizer.pad_token}')\n",
    "# HF wasn't saving this nor the tokenizer's pad_token\n",
    "config.pad_token_id = tokenizer.pad_token_id"
   ]
  },
  {
   "cell_type": "code",
   "execution_count": 137,
   "metadata": {},
   "outputs": [
    {
     "name": "stderr",
     "output_type": "stream",
     "text": [
      "Repo card metadata block was not found. Setting CardData to empty.\n",
      "\n",
      "\u001b[A\n",
      "\u001b[A\n",
      "\u001b[A\n",
      "\u001b[A\n",
      "\u001b[A\n",
      "Saving the dataset (5/5 shards): 100%|██████████| 1000/1000 [00:00<00:00, 8785.34 examples/s] \n",
      "\n",
      "\u001b[A\n",
      "\u001b[A\n",
      "\u001b[A\n",
      "\u001b[A\n",
      "\u001b[A\n",
      "Saving the dataset (5/5 shards): 100%|██████████| 100/100 [00:00<00:00, 1050.63 examples/s]\n"
     ]
    },
    {
     "data": {
      "text/plain": [
       "[9999, 9999, 9999, 9999, 9999, 9999, 9999, 9999, 9999, 9999]"
      ]
     },
     "execution_count": 137,
     "metadata": {},
     "output_type": "execute_result"
    }
   ],
   "source": [
    "dataset = load_dataset('roneneldan/tinystories')\n",
    "\n",
    "small_dataset = DatasetDict({\n",
    "    'train': dataset['train'].select(range(1000)),\n",
    "    'validation': dataset['validation'].select(range(100))\n",
    "})\n",
    "\n",
    "if debug_mode:\n",
    "    dataset = small_dataset\n",
    "\n",
    "tokenized_dataset = dataset.map(\n",
    "    lambda x: tokenizer(x['text'], truncation=True, padding='max_length'), \n",
    "    batched=True, num_proc=8, batch_size=1_000)\n",
    "\n",
    "tokenized_dataset.save_to_disk(f'./tokenized_dataset', num_proc=5)\n",
    "\n",
    "tokenized_dataset = load_from_disk(f'./tokenized_dataset')\n",
    "\n",
    "assert len(tokenized_dataset['train'][0]['input_ids']) == config.hidden_size\n",
    "tokenized_dataset['train'][0]['input_ids'][-10:] \n",
    "# should be eos tokens (9999), given that most short stories are <512 tokens"
   ]
  },
  {
   "cell_type": "markdown",
   "metadata": {},
   "source": [
    "### Training\n",
    "#### Model\n",
    "We use GPT-Neo as the architecture for our model. This consists of the following blocks, generally seen in transformer architectures:\n",
    "\n",
    "- Embeddings: Map one-hot (sparse) token vectors to a dense vector of length `hidden_size`. Add positional encoding. \n",
    "- $n$ Blocks: Contain self-attention and FFNs.\n",
    "- Head: Map hidden state back to a useful output. \n",
    "\n",
    "We use the config specified at the top of this notebook to construct a model. "
   ]
  },
  {
   "cell_type": "code",
   "execution_count": 138,
   "metadata": {},
   "outputs": [],
   "source": [
    "class CustomGPTNeoForCausalLM(GPTNeoForCausalLM):\n",
    "    def __init__(self, config, attn_implementation=None):\n",
    "        super().__init__(config)\n",
    "        self.attn_implementation = attn_implementation\n",
    "        \n",
    "        if attn_implementation == \"vanilla\":\n",
    "            # Override standard attention with vanilla attention in each transformer block\n",
    "            for block in self.transformer.h:\n",
    "                block.attn.attention = GPTNeoSelfAttention(config=config, attention_type=\"local\")\n"
   ]
  },
  {
   "cell_type": "code",
   "execution_count": 139,
   "metadata": {},
   "outputs": [
    {
     "name": "stdout",
     "output_type": "stream",
     "text": [
      "The model has 9,585,664 parameters.\n"
     ]
    }
   ],
   "source": [
    "model = CustomGPTNeoForCausalLM( \n",
    "    config = config,\n",
    "    attn_implementation=\"vanilla\"\n",
    ")\n",
    "\n",
    "print(f'The model has {model.num_parameters():,} parameters.')\n",
    "# Token embeddings:    10'000 * 512 = 5M \n",
    "# Position embeddings:    512 * 512 = 260K\n",
    "# 2 Blocks: 2 * (~1M + ~1M) = 4M\n",
    "#   Attention: 4 * 512 * 512  (4 because of k, q, v, o)     = 1M \n",
    "#   FFNs:      2 * 512 * 1024 (c_fc, c_proj)                = 1M \n",
    "\n",
    "# total: ~9.5M \n",
    "\n",
    "# note that the above does not account for the LM_head, which typically gets swapped out depending on the downstream task. \n",
    "# the LM_head, in this case, maps logits back to tokens\n",
    "# 512 * 10'000 = 5M    (A decent chunk compared to our 9.5M parameters)\n",
    "\n",
    "# NOTE: uncomment to see the model architecture \n",
    "# model "
   ]
  },
  {
   "cell_type": "code",
   "execution_count": 140,
   "metadata": {},
   "outputs": [],
   "source": [
    "# for comparison. Note, wte should be (10000, 64)\n",
    "# GPTNeoForCausalLM.from_pretrained('roneneldan/TinyStories-1M')"
   ]
  },
  {
   "cell_type": "markdown",
   "metadata": {},
   "source": [
    "#### Training loop\n",
    "Huggingface provides some powerful (and often confusingly long) APIs for model training. The `TrainingArguments` specifies our hyperparameters, which are used by the `Trainer` taking in the remaining objects (like `model`, `tokenizer`, and `train_dataset`). Specifically:\n",
    "\n",
    "- `learning_rate` and `num_train_epochs` determine how much the model learns. A higher rate is faster, but more unstable. More epochs (entire passes over the dataset) yields incrementally better results, at the cost of more training time. \n",
    "- Batch sizes determine how many samples the model sees in *parallel*. Given `gradient_accumulation_steps=1` and a `batch_size=8`, the model will backpropagate the average loss of 8 samples; if `batch_size=1`, it will average the loss of `gradient_accumulation_steps` samples. It is important to make sure the backpropagated loss is averaged over the same number of samples, when comparing models. \n",
    "\n",
    "- `data_collator` batches (and optionally, pads) the input for the model. We have already padded in our `tokenized_dataset`, and leaving this argument empty will automatically batch the inputs. So why do we need it? \n",
    "\n",
    "    Glad you asked. This has to do with how the loss is computed in causal language modelling. In our case, we try to predict $p(y | x)$, where $x$ is an input sequence of tokens, and $y$ is the next token following that sequence. Our model, unaware of the target token $y$, outputs $\\hat y$. \n",
    "    \n",
    "    For `Trainer` to compute the (cross-entropy) loss, we need to provide it with both $y$ and $\\hat y$. The `DataCollatorForLanguageModeling` knows this, and provides the next token $y$ as a separate part of the input, to the `Trainer`.\n",
    "\n",
    "    The loss is the backbone of backpropagation, which we need to actually improve our model. If this is confusing, please re-watch Karpathy's GPT tutorial. \n",
    "\n",
    "If you prefer to write the training loop yourself, check out HF' `run_clm_no_trainer.py` scripts. "
   ]
  },
  {
   "cell_type": "code",
   "execution_count": 141,
   "metadata": {},
   "outputs": [],
   "source": [
    "train_dataset, eval_dataset = tokenized_dataset['train'], tokenized_dataset['validation']\n",
    "\n",
    "batch_size = 16 # TinyStories claims 80, but I am training locally on my poor M1 Air\n",
    "num_train_epochs = 1  # TinyStories doesn't mention\n",
    "gradient_accumulation_steps = 16 # TinyStories claims 16\n",
    "\n",
    "lr = 5e-4 # TinyStories claims 5e-4, higher values are preferable for smaller models\n",
    "\n",
    "_train_steps = len(train_dataset) // (batch_size * gradient_accumulation_steps)\n",
    "eval_steps = _train_steps // 10  # Evaluate every 10% of training steps\n",
    "\n",
    "\n",
    "model_name = f'{model.num_parameters()//1e6:.1f}M-{config.num_layers}L-{config.num_heads}H-{config.hidden_size}C-{config.intermediate_size}I'"
   ]
  },
  {
   "cell_type": "code",
   "execution_count": 142,
   "metadata": {},
   "outputs": [
    {
     "name": "stdout",
     "output_type": "stream",
     "text": [
      "\n",
      "    training for 1 epochs, 1000 samples\n",
      "    16 batch size, 16 accumulation steps\n",
      "    gives 3 training steps.\n",
      "\n",
      "    evaluating every 0 steps, 100 samples \n",
      "    \n"
     ]
    }
   ],
   "source": [
    "training_args = TrainingArguments(\n",
    "\n",
    "    seed       = 42,\n",
    "    use_cpu    = False, # use GPU if available (not necessarily faster on laptops, but Apple's MPS have good support)\n",
    "    output_dir = f'./results/models/{model_name}',\n",
    "\n",
    "    # NOTE: training params\n",
    "    learning_rate    = lr,\n",
    "    num_train_epochs = num_train_epochs,\n",
    "    # Use a smaller batch size to fit into GPU RAM. \n",
    "    per_device_train_batch_size = batch_size,\n",
    "    per_device_eval_batch_size  = batch_size,\n",
    "    # You should aim to have the same amount of samples per acc step, in all of your experiments!\n",
    "    # so, if you increase batch_size, decrease gradient_accumulation_steps by the same factor.\n",
    "    gradient_accumulation_steps = gradient_accumulation_steps,\n",
    "\n",
    "    # NOTE: Evaluation params\n",
    "    # wandb is great for tracking experiments, it will even (try to) save your code nowadays\n",
    "    evaluation_strategy = 'steps',\n",
    "    eval_steps = eval_steps,\n",
    "    save_steps = eval_steps,\n",
    "\n",
    "    logging_first_step=True,\n",
    "    logging_steps=max(1,eval_steps),\n",
    "    report_to  = 'wandb',\n",
    ")\n",
    "\n",
    "trainer = Trainer(\n",
    "    model = model, \n",
    "    args = training_args, \n",
    "    train_dataset = train_dataset, \n",
    "    eval_dataset = eval_dataset,\n",
    "    data_collator = DataCollatorForLanguageModeling(tokenizer, mlm=False),\n",
    ")\n",
    "\n",
    "# print amount of training steps, and how often the model is evaluated\n",
    "print(f'''\n",
    "    training for {num_train_epochs} epochs, {len(train_dataset)} samples\n",
    "    {batch_size} batch size, {gradient_accumulation_steps} accumulation steps\n",
    "    gives {_train_steps} training steps.\n",
    "\n",
    "    evaluating every {eval_steps} steps, {len(eval_dataset)} samples \n",
    "    ''')"
   ]
  },
  {
   "cell_type": "markdown",
   "metadata": {},
   "source": [
    "Finally, we can train. \n",
    "\n",
    "This configuration takes ≤24hr to pre-train on my M1 Macbook Air with 16GB RAM. Python takes ≤4GB VRAM at a `batch_size=16` and ≤11GB at `batch_size=64`, though they take the same amount of time to train - likely because this processor is not designed to move that much data in and out of RAM constantly. And tbh, the GPU be lacking. If you decide to go the local-training-route, consider [chai](https://github.com/lvillani/chai) to keep your (Apple) laptop awake – there's probably a windows/linux equivalent too. "
   ]
  },
  {
   "cell_type": "code",
   "execution_count": 143,
   "metadata": {},
   "outputs": [
    {
     "data": {
      "text/html": [
       "Finishing last run (ID:atvoloh5) before initializing another..."
      ],
      "text/plain": [
       "<IPython.core.display.HTML object>"
      ]
     },
     "metadata": {},
     "output_type": "display_data"
    },
    {
     "data": {
      "text/html": [
       " View run <strong style=\"color:#cdcd00\">9.0M-2L-4H-512C-1024I</strong> at: <a href='https://wandb.ai/lkeskullorg/tinystories/runs/atvoloh5' target=\"_blank\">https://wandb.ai/lkeskullorg/tinystories/runs/atvoloh5</a><br/> View project at: <a href='https://wandb.ai/lkeskullorg/tinystories' target=\"_blank\">https://wandb.ai/lkeskullorg/tinystories</a><br/>Synced 6 W&B file(s), 0 media file(s), 0 artifact file(s) and 0 other file(s)"
      ],
      "text/plain": [
       "<IPython.core.display.HTML object>"
      ]
     },
     "metadata": {},
     "output_type": "display_data"
    },
    {
     "data": {
      "text/html": [
       "Find logs at: <code>./wandb/run-20240504_131048-atvoloh5/logs</code>"
      ],
      "text/plain": [
       "<IPython.core.display.HTML object>"
      ]
     },
     "metadata": {},
     "output_type": "display_data"
    },
    {
     "data": {
      "text/html": [
       "Successfully finished last run (ID:atvoloh5). Initializing new run:<br/>"
      ],
      "text/plain": [
       "<IPython.core.display.HTML object>"
      ]
     },
     "metadata": {},
     "output_type": "display_data"
    },
    {
     "data": {
      "text/html": [
       "Tracking run with wandb version 0.16.6"
      ],
      "text/plain": [
       "<IPython.core.display.HTML object>"
      ]
     },
     "metadata": {},
     "output_type": "display_data"
    },
    {
     "data": {
      "text/html": [
       "Run data is saved locally in <code>/Users/laurikeskull/Documents/Programming/tiny-transformers/code/lauri common/wandb/run-20240504_134447-5thqc6wy</code>"
      ],
      "text/plain": [
       "<IPython.core.display.HTML object>"
      ]
     },
     "metadata": {},
     "output_type": "display_data"
    },
    {
     "data": {
      "text/html": [
       "Syncing run <strong><a href='https://wandb.ai/lkeskullorg/tinystories/runs/5thqc6wy' target=\"_blank\">9.0M-2L-4H-512C-1024I</a></strong> to <a href='https://wandb.ai/lkeskullorg/tinystories' target=\"_blank\">Weights & Biases</a> (<a href='https://wandb.me/run' target=\"_blank\">docs</a>)<br/>"
      ],
      "text/plain": [
       "<IPython.core.display.HTML object>"
      ]
     },
     "metadata": {},
     "output_type": "display_data"
    },
    {
     "data": {
      "text/html": [
       " View project at <a href='https://wandb.ai/lkeskullorg/tinystories' target=\"_blank\">https://wandb.ai/lkeskullorg/tinystories</a>"
      ],
      "text/plain": [
       "<IPython.core.display.HTML object>"
      ]
     },
     "metadata": {},
     "output_type": "display_data"
    },
    {
     "data": {
      "text/html": [
       " View run at <a href='https://wandb.ai/lkeskullorg/tinystories/runs/5thqc6wy' target=\"_blank\">https://wandb.ai/lkeskullorg/tinystories/runs/5thqc6wy</a>"
      ],
      "text/plain": [
       "<IPython.core.display.HTML object>"
      ]
     },
     "metadata": {},
     "output_type": "display_data"
    },
    {
     "name": "stderr",
     "output_type": "stream",
     "text": [
      "/opt/homebrew/Caskroom/miniconda/base/lib/python3.11/site-packages/wandb/sdk/wandb_run.py:2265: UserWarning: Run (6olsycap) is finished. The call to `_console_raw_callback` will be ignored. Please make sure that you are using an active run.\n",
      "  lambda data: self._console_raw_callback(\"stderr\", data),\n",
      "  0%|          | 0/3 [37:26<?, ?it/s]\n",
      "/opt/homebrew/Caskroom/miniconda/base/lib/python3.11/site-packages/wandb/sdk/wandb_run.py:2265: UserWarning: Run (atvoloh5) is finished. The call to `_console_raw_callback` will be ignored. Please make sure that you are using an active run.\n",
      "  lambda data: self._console_raw_callback(\"stderr\", data),\n",
      "  0%|          | 0/3 [34:21<?, ?it/s]\n",
      " 33%|███▎      | 1/3 [00:12<00:24, 12.22s/it]"
     ]
    },
    {
     "name": "stdout",
     "output_type": "stream",
     "text": [
      "{'loss': 9.3178, 'grad_norm': 1.805205225944519, 'learning_rate': 0.0003333333333333333, 'epoch': 0.25}\n"
     ]
    },
    {
     "name": "stderr",
     "output_type": "stream",
     "text": [
      "\n",
      " 33%|███▎      | 1/3 [00:13<00:24, 12.22s/it]"
     ]
    },
    {
     "name": "stdout",
     "output_type": "stream",
     "text": [
      "{'eval_loss': 8.651233673095703, 'eval_runtime': 1.0873, 'eval_samples_per_second': 91.975, 'eval_steps_per_second': 6.438, 'epoch': 0.25}\n"
     ]
    },
    {
     "name": "stderr",
     "output_type": "stream",
     "text": [
      " 67%|██████▋   | 2/3 [00:21<00:10, 10.46s/it]"
     ]
    },
    {
     "name": "stdout",
     "output_type": "stream",
     "text": [
      "{'loss': 8.6733, 'grad_norm': 2.1890676021575928, 'learning_rate': 0.00016666666666666666, 'epoch': 0.51}\n"
     ]
    },
    {
     "name": "stderr",
     "output_type": "stream",
     "text": [
      "\n",
      " 67%|██████▋   | 2/3 [00:23<00:10, 10.46s/it]"
     ]
    },
    {
     "name": "stdout",
     "output_type": "stream",
     "text": [
      "{'eval_loss': 8.260594367980957, 'eval_runtime': 1.5254, 'eval_samples_per_second': 65.557, 'eval_steps_per_second': 4.589, 'epoch': 0.51}\n"
     ]
    },
    {
     "name": "stderr",
     "output_type": "stream",
     "text": [
      "100%|██████████| 3/3 [00:31<00:00, 10.02s/it]"
     ]
    },
    {
     "name": "stdout",
     "output_type": "stream",
     "text": [
      "{'loss': 8.2779, 'grad_norm': 2.218336820602417, 'learning_rate': 0.0, 'epoch': 0.76}\n"
     ]
    },
    {
     "name": "stderr",
     "output_type": "stream",
     "text": [
      "\n",
      "100%|██████████| 3/3 [00:32<00:00, 10.78s/it]\n"
     ]
    },
    {
     "name": "stdout",
     "output_type": "stream",
     "text": [
      "{'eval_loss': 8.103349685668945, 'eval_runtime': 1.0914, 'eval_samples_per_second': 91.626, 'eval_steps_per_second': 6.414, 'epoch': 0.76}\n",
      "{'train_runtime': 32.3125, 'train_samples_per_second': 30.948, 'train_steps_per_second': 0.093, 'train_loss': 8.756346066792807, 'epoch': 0.76}\n"
     ]
    }
   ],
   "source": [
    "wandb.init(project='tinystories', name=model_name, config=training_args)\n",
    "trainer.train()\n",
    "trainer.save_model(f'./results/models/{model_name}')"
   ]
  },
  {
   "cell_type": "code",
   "execution_count": 144,
   "metadata": {},
   "outputs": [
    {
     "data": {
      "text/html": [
       "<style>\n",
       "    table.wandb td:nth-child(1) { padding: 0 10px; text-align: left ; width: auto;} td:nth-child(2) {text-align: left ; width: 100%}\n",
       "    .wandb-row { display: flex; flex-direction: row; flex-wrap: wrap; justify-content: flex-start; width: 100% }\n",
       "    .wandb-col { display: flex; flex-direction: column; flex-basis: 100%; flex: 1; padding: 10px; }\n",
       "    </style>\n",
       "<div class=\"wandb-row\"><div class=\"wandb-col\"><h3>Run history:</h3><br/><table class=\"wandb\"><tr><td>eval/loss</td><td>█▃▁</td></tr><tr><td>eval/runtime</td><td>▁█▁</td></tr><tr><td>eval/samples_per_second</td><td>█▁█</td></tr><tr><td>eval/steps_per_second</td><td>█▁█</td></tr><tr><td>train/epoch</td><td>▁▁▅▅███</td></tr><tr><td>train/global_step</td><td>▁▁▅▅███</td></tr><tr><td>train/grad_norm</td><td>▁██</td></tr><tr><td>train/learning_rate</td><td>█▅▁</td></tr><tr><td>train/loss</td><td>█▄▁</td></tr></table><br/></div><div class=\"wandb-col\"><h3>Run summary:</h3><br/><table class=\"wandb\"><tr><td>eval/loss</td><td>8.10335</td></tr><tr><td>eval/runtime</td><td>1.0914</td></tr><tr><td>eval/samples_per_second</td><td>91.626</td></tr><tr><td>eval/steps_per_second</td><td>6.414</td></tr><tr><td>total_flos</td><td>9917347921920.0</td></tr><tr><td>train/epoch</td><td>0.7619</td></tr><tr><td>train/global_step</td><td>3</td></tr><tr><td>train/grad_norm</td><td>2.21834</td></tr><tr><td>train/learning_rate</td><td>0.0</td></tr><tr><td>train/loss</td><td>8.2779</td></tr><tr><td>train_loss</td><td>8.75635</td></tr><tr><td>train_runtime</td><td>32.3125</td></tr><tr><td>train_samples_per_second</td><td>30.948</td></tr><tr><td>train_steps_per_second</td><td>0.093</td></tr></table><br/></div></div>"
      ],
      "text/plain": [
       "<IPython.core.display.HTML object>"
      ]
     },
     "metadata": {},
     "output_type": "display_data"
    },
    {
     "data": {
      "text/html": [
       " View run <strong style=\"color:#cdcd00\">9.0M-2L-4H-512C-1024I</strong> at: <a href='https://wandb.ai/lkeskullorg/tinystories/runs/5thqc6wy' target=\"_blank\">https://wandb.ai/lkeskullorg/tinystories/runs/5thqc6wy</a><br/> View project at: <a href='https://wandb.ai/lkeskullorg/tinystories' target=\"_blank\">https://wandb.ai/lkeskullorg/tinystories</a><br/>Synced 6 W&B file(s), 0 media file(s), 0 artifact file(s) and 0 other file(s)"
      ],
      "text/plain": [
       "<IPython.core.display.HTML object>"
      ]
     },
     "metadata": {},
     "output_type": "display_data"
    },
    {
     "data": {
      "text/html": [
       "Find logs at: <code>./wandb/run-20240504_134447-5thqc6wy/logs</code>"
      ],
      "text/plain": [
       "<IPython.core.display.HTML object>"
      ]
     },
     "metadata": {},
     "output_type": "display_data"
    }
   ],
   "source": [
    "wandb.finish()"
   ]
  },
  {
   "cell_type": "markdown",
   "metadata": {},
   "source": [
    "## Inference!\n",
    "Try out your own pre-trained model on some prompts"
   ]
  },
  {
   "cell_type": "code",
   "execution_count": 145,
   "metadata": {},
   "outputs": [],
   "source": [
    "import textwrap # for pretty printing\n",
    "w = textwrap.TextWrapper(replace_whitespace=False, break_long_words=False, width=60, initial_indent='   ', subsequent_indent='  ')\n",
    "def see(text): print('\\n\\033[3m' + '\\n\\n'.join(['\\n'.join(w.wrap(line))\n",
    "                 for line in text.splitlines() if line.strip() != '']) + '\\033[0m\\n')"
   ]
  },
  {
   "cell_type": "code",
   "execution_count": 146,
   "metadata": {},
   "outputs": [],
   "source": [
    "from transformers import AutoTokenizer, AutoModelForCausalLM\n",
    "\n",
    "model_name = '9.0M-2L-4H-512C-1024I'\n",
    "tokenizer = AutoTokenizer.from_pretrained('10k-gpt-neo')\n",
    "tokenizer.pad_token_id = tokenizer.eos_token_id\n",
    "model = AutoModelForCausalLM.from_pretrained(f'results/models/{model_name}')"
   ]
  },
  {
   "cell_type": "code",
   "execution_count": 149,
   "metadata": {},
   "outputs": [
    {
     "name": "stdout",
     "output_type": "stream",
     "text": [
      "\n",
      "\u001b[3m   Once upon a time, there was a chicken with a\n",
      "  small................................................................................................................................................................................................................................................................................................\u001b[0m\n",
      "\n"
     ]
    }
   ],
   "source": [
    "prompt = 'Once upon a time, there was a chicken with a small'\n",
    "input_ids = tokenizer.encode(prompt, return_tensors='pt')\n",
    "\n",
    "output = model.generate(input_ids, max_length=300, num_beams=1)\n",
    "output_text = tokenizer.decode(output[0])\n",
    "\n",
    "# textwrap with indentation on every new paragraph\n",
    "see(output_text)"
   ]
  },
  {
   "cell_type": "code",
   "execution_count": 148,
   "metadata": {},
   "outputs": [],
   "source": [
    "# class GPTNeoForCausalLM(GPTNeoPreTrainedModel):\n",
    "#     _tied_weights_keys = [\"lm_head.weight\"]\n",
    "\n",
    "#     def __init__(self, config):\n",
    "#         super().__init__(config)\n",
    "#         self.transformer = GPTNeoModel(config)\n",
    "#         self.lm_head = nn.Linear(config.hidden_size, config.vocab_size, bias=False)\n",
    "\n",
    "#         # Initialize weights and apply final processing\n",
    "#         self.post_init()\n",
    "\n",
    "#     def get_output_embeddings(self):\n",
    "#         return self.lm_head\n",
    "\n",
    "#     def set_output_embeddings(self, new_embeddings):\n",
    "#         self.lm_head = new_embeddings\n",
    "\n",
    "#     def prepare_inputs_for_generation(self, input_ids, past_key_values=None, inputs_embeds=None, **kwargs):\n",
    "#         token_type_ids = kwargs.get(\"token_type_ids\", None)\n",
    "#         # Omit tokens covered by past_key_values\n",
    "#         if past_key_values:\n",
    "#             past_length = past_key_values[0][0].shape[2]\n",
    "\n",
    "#             # Some generation methods already pass only the last input ID\n",
    "#             if input_ids.shape[1] > past_length:\n",
    "#                 remove_prefix_length = past_length\n",
    "#             else:\n",
    "#                 # Default to old behavior: keep only final ID\n",
    "#                 remove_prefix_length = input_ids.shape[1] - 1\n",
    "\n",
    "#             input_ids = input_ids[:, remove_prefix_length:]\n",
    "#             if token_type_ids is not None:\n",
    "#                 token_type_ids = token_type_ids[:, -input_ids.shape[1] :]\n",
    "\n",
    "#         attention_mask = kwargs.get(\"attention_mask\", None)\n",
    "#         position_ids = kwargs.get(\"position_ids\", None)\n",
    "\n",
    "#         if attention_mask is not None and position_ids is None:\n",
    "#             # create position_ids on the fly for batch generation\n",
    "#             position_ids = attention_mask.long().cumsum(-1) - 1\n",
    "#             position_ids.masked_fill_(attention_mask == 0, 1)\n",
    "#             if past_key_values:\n",
    "#                 position_ids = position_ids[:, -input_ids.shape[1] :]\n",
    "\n",
    "#         # if `inputs_embeds` are passed, we only want to use them in the 1st generation step\n",
    "#         if inputs_embeds is not None and past_key_values is None:\n",
    "#             model_inputs = {\"inputs_embeds\": inputs_embeds}\n",
    "#         else:\n",
    "#             model_inputs = {\"input_ids\": input_ids}\n",
    "\n",
    "#         model_inputs.update(\n",
    "#             {\n",
    "#                 \"past_key_values\": past_key_values,\n",
    "#                 \"use_cache\": kwargs.get(\"use_cache\"),\n",
    "#                 \"position_ids\": position_ids,\n",
    "#                 \"attention_mask\": attention_mask,\n",
    "#                 \"token_type_ids\": token_type_ids,\n",
    "#             }\n",
    "#         )\n",
    "\n",
    "#         return model_inputs\n",
    "\n",
    "#     @add_start_docstrings_to_model_forward(GPT_NEO_INPUTS_DOCSTRING)\n",
    "#     @add_code_sample_docstrings(\n",
    "#         checkpoint=_CHECKPOINT_FOR_DOC,\n",
    "#         output_type=CausalLMOutputWithCrossAttentions,\n",
    "#         config_class=_CONFIG_FOR_DOC,\n",
    "#     )\n",
    "#     def forward(\n",
    "#         self,\n",
    "#         input_ids: Optional[torch.Tensor] = None,\n",
    "#         past_key_values: Optional[Tuple[torch.FloatTensor]] = None,\n",
    "#         attention_mask: Optional[torch.Tensor] = None,\n",
    "#         token_type_ids: Optional[torch.Tensor] = None,\n",
    "#         position_ids: Optional[torch.Tensor] = None,\n",
    "#         head_mask: Optional[torch.Tensor] = None,\n",
    "#         inputs_embeds: Optional[torch.Tensor] = None,\n",
    "#         labels: Optional[torch.Tensor] = None,\n",
    "#         use_cache: Optional[bool] = None,\n",
    "#         output_attentions: Optional[bool] = None,\n",
    "#         output_hidden_states: Optional[bool] = None,\n",
    "#         return_dict: Optional[bool] = None,\n",
    "#     ) -> Union[Tuple[torch.Tensor], CausalLMOutputWithCrossAttentions]:\n",
    "#         r\"\"\"\n",
    "#         labels (`torch.LongTensor` of shape `(batch_size, sequence_length)`, *optional*):\n",
    "#             Labels for language modeling. Note that the labels **are shifted** inside the model, i.e. you can set\n",
    "#             `labels = input_ids` Indices are selected in `[-100, 0, ..., config.vocab_size]` All labels set to `-100`\n",
    "#             are ignored (masked), the loss is only computed for labels in `[0, ..., config.vocab_size]`\n",
    "#         \"\"\"\n",
    "#         return_dict = return_dict if return_dict is not None else self.config.use_return_dict\n",
    "\n",
    "#         transformer_outputs = self.transformer(\n",
    "#             input_ids,\n",
    "#             past_key_values=past_key_values,\n",
    "#             attention_mask=attention_mask,\n",
    "#             token_type_ids=token_type_ids,\n",
    "#             position_ids=position_ids,\n",
    "#             head_mask=head_mask,\n",
    "#             inputs_embeds=inputs_embeds,\n",
    "#             use_cache=use_cache,\n",
    "#             output_attentions=output_attentions,\n",
    "#             output_hidden_states=output_hidden_states,\n",
    "#             return_dict=return_dict,\n",
    "#         )\n",
    "#         hidden_states = transformer_outputs[0]\n",
    "\n",
    "#         lm_logits = self.lm_head(hidden_states)\n",
    "\n",
    "#         loss = None\n",
    "#         if labels is not None:\n",
    "#             # move labels to correct device to enable model parallelism\n",
    "#             labels = labels.to(lm_logits.device)\n",
    "#             # Compute loss in fp32 to match with mesh-tf version\n",
    "#             # https://github.com/EleutherAI/gpt-neo/blob/89ce74164da2fb16179106f54e2269b5da8db333/models/gpt2/gpt2.py#L179\n",
    "#             lm_logits = lm_logits.to(torch.float32)\n",
    "\n",
    "#             # Shift so that tokens < n predict n\n",
    "#             shift_logits = lm_logits[..., :-1, :].contiguous()\n",
    "#             shift_labels = labels[..., 1:].contiguous()\n",
    "#             # Flatten the tokens\n",
    "#             loss_fct = CrossEntropyLoss()\n",
    "#             loss = loss_fct(shift_logits.view(-1, shift_logits.size(-1)), shift_labels.view(-1))\n",
    "\n",
    "#             lm_logits = lm_logits.to(hidden_states.dtype)\n",
    "#             loss = loss.to(hidden_states.dtype)\n",
    "\n",
    "#         if not return_dict:\n",
    "#             output = (lm_logits,) + transformer_outputs[1:]\n",
    "#             return ((loss,) + output) if loss is not None else output\n",
    "\n",
    "#         return CausalLMOutputWithPast(\n",
    "#             loss=loss,\n",
    "#             logits=lm_logits,\n",
    "#             past_key_values=transformer_outputs.past_key_values,\n",
    "#             hidden_states=transformer_outputs.hidden_states,\n",
    "#             attentions=transformer_outputs.attentions,\n",
    "#         )\n",
    "\n",
    "#     @staticmethod\n",
    "#     def _reorder_cache(\n",
    "#         past_key_values: Tuple[Tuple[torch.Tensor]], beam_idx: torch.Tensor\n",
    "#     ) -> Tuple[Tuple[torch.Tensor]]:\n",
    "#         \"\"\"\n",
    "#         This function is used to re-order the `past_key_values` cache if [`~PretrainedModel.beam_search`] or\n",
    "#         [`~PretrainedModel.beam_sample`] is called. This is required to match `past_key_values` with the correct\n",
    "#         beam_idx at every generation step.\n",
    "#         \"\"\"\n",
    "#         return tuple(\n",
    "#             tuple(past_state.index_select(0, beam_idx.to(past_state.device)) for past_state in layer_past)\n",
    "#             for layer_past in past_key_values\n",
    "#         )\n",
    "\n"
   ]
  }
 ],
 "metadata": {
  "kernelspec": {
   "display_name": "lms",
   "language": "python",
   "name": "python3"
  },
  "language_info": {
   "codemirror_mode": {
    "name": "ipython",
    "version": 3
   },
   "file_extension": ".py",
   "mimetype": "text/x-python",
   "name": "python",
   "nbconvert_exporter": "python",
   "pygments_lexer": "ipython3",
   "version": "3.11.5"
  }
 },
 "nbformat": 4,
 "nbformat_minor": 2
}
