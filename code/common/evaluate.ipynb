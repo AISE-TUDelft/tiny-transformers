{
 "cells": [
  {
   "cell_type": "markdown",
   "metadata": {},
   "source": [
    "## Evaluating Trained Models on the [BabyLM Eval Pipeline](https://github.com/babylm/evaluation-pipeline-2023)"
   ]
  },
  {
   "cell_type": "code",
   "execution_count": 1,
   "metadata": {},
   "outputs": [
    {
     "name": "stderr",
     "output_type": "stream",
     "text": [
      "/opt/conda/lib/python3.11/site-packages/tqdm/auto.py:21: TqdmWarning: IProgress not found. Please update jupyter and ipywidgets. See https://ipywidgets.readthedocs.io/en/stable/user_install.html\n",
      "  from .autonotebook import tqdm as notebook_tqdm\n"
     ]
    }
   ],
   "source": [
    "from transformers import AutoTokenizer, AutoModelForCausalLM\n",
    "\n",
    "model_name = 'GPT-9.0M-2L-4H-516C-1024I'\n",
    "checkpoint = 'checkpoint-6624'\n",
    "\n",
    "tokenizer = AutoTokenizer.from_pretrained('10k-tok')\n",
    "model = AutoModelForCausalLM.from_pretrained(f'results/models/{model_name}/{checkpoint}')"
   ]
  },
  {
   "cell_type": "markdown",
   "metadata": {},
   "source": [
    "##### Setup\n",
    "1. Create a new environment for the pipeline, as there are a lot of external dependencies that may interfere with your development environment. Follow installation instructions at [BabyLM/evaluation-pipeline](https://github.com/babylm/evaluation-pipeline). These are some of the issues I ran into: \n",
    "    - If their torch version does not match your CUDA drivers, remove the version specification in `setup.py`. \n",
    "    - On some (older) machines, `git-lfs` does not ship with `git`, and you may need to install it manually. \n",
    "    - My docker container running `Ubuntu` did not have `gcc` installed either, which is necessary for the compilation of one of the dependencies (`sklearn`); install with `sudo apt install gcc`. \n",
    "    - They use `python==3.10.12` in their [demo notebook](https://colab.research.google.com/drive/1HX2D3wztO81tKcqCeV_ecRcEUseBVuTc?usp=sharing); this does not work for my CUDA installation.\n",
    "        Specifically, there is a [bug](https://discuss.pytorch.org/t/issues-on-using-nn-dataparallel-with-python-3-10-and-pytorch-1-11/146745/13) requiring you to change `lib/python3.10/site-packages/torch/cuda/nccl.py`, at line `51`: from `collections` to `collections.abc`. \n",
    "\n",
    "2. Unzip the dataset: `unzip filter_data.zip`. \n",
    "\n",
    "\n",
    "```sh\n",
    "# create env \n",
    "conda create -n babylm python --solver=libmamba # libmamba will save you years of waiting\n",
    "conda activate babylm \n",
    "\n",
    "cd evaluation-pipeline # you need to make sure you've fetched this submodule with git\n",
    "pip install -e '.[dev]'\n",
    "pip install torch \n",
    "\n",
    "unzip filter_data.zip\n",
    "```"
   ]
  },
  {
   "cell_type": "markdown",
   "metadata": {},
   "source": [
    "##### Running\n",
    "I explain how to run the pipeline below; but strongly recommend writing/converting to a `.py`/`.sh` script instead if you are running a batch of these. Notebooks can time out after a while, or you know, you might want to close your computer and touch some grass while this stuff is running. See [delftblue-guide.md](./delftblue-guide.md) for more info. \n",
    "\n",
    "```sh \n",
    "# copy over the tokenizer (hf doesn't seem to follow symlinks, but it's only 0.5Mb)\n",
    "cp 10k-tok/* results/models/{model_name}\n",
    "\n",
    "python babylm_eval.py 'path/to/model_and_tokenizer' decoder # encoder for BERT\n",
    "./finetune_all_tasks.sh 'path/to/model_and_tokenizer' \n",
    "python collect_results.py 'path/to/model_and_tokenizer'\n",
    "``` "
   ]
  },
  {
   "cell_type": "code",
   "execution_count": 10,
   "metadata": {},
   "outputs": [],
   "source": [
    "import os, subprocess \n",
    "\n",
    "def do_eval(model_path: str, tok_path=os.path.abspath('10k-tok')):\n",
    "\n",
    "    model_path = model_path[:-1] if model_path.endswith('/') else model_path\n",
    "    model_name = model_path.split('/')[-1]\n",
    "    model_type = 'decoder' if 'GPT' in model_name else 'encoder'\n",
    "    \n",
    "    # copy tokenizer configs to model directory for BabyLM\n",
    "    subprocess.check_call(f'cp \"{tok_path}\"/* {model_path}', shell=True)\n",
    "\n",
    "    print(f'''\n",
    "        Evaluating \\033[1m{model_name}\\033[0m \n",
    "        with tokenizer at {tok_path}\n",
    "    ''')\n",
    "\n",
    "    log_file = os.path.join('logs', f'{model_name}.log')\n",
    "    os.makedirs('logs', exist_ok=True)\n",
    "\n",
    "    subprocess.check_call(f'echo sup bitch > {log_file}', shell=True)\n",
    "\n",
    "    commands = f'''\n",
    "        /bin/bash\n",
    "        conda activate babylm \n",
    "        cd evaluation-pipeline \n",
    "\n",
    "        python babylm_eval.py {model_path} {model_type}\n",
    "        ./finetune_all_tasks.sh {model_path}\n",
    "        python collect_results.py {model_path}\n",
    "    '''\n",
    "\n",
    "    subprocess.Popen(commands, shell=True, \n",
    "                     stdin=subprocess.PIPE, stdout=open(log_file, 'w+'))\n"
   ]
  },
  {
   "cell_type": "code",
   "execution_count": 11,
   "metadata": {},
   "outputs": [
    {
     "data": {
      "text/plain": [
       "'/home/jovyan/work/code/common'"
      ]
     },
     "execution_count": 11,
     "metadata": {},
     "output_type": "execute_result"
    }
   ],
   "source": [
    "os.getcwd()"
   ]
  },
  {
   "cell_type": "code",
   "execution_count": 12,
   "metadata": {},
   "outputs": [
    {
     "name": "stdout",
     "output_type": "stream",
     "text": [
      "\n",
      "        Evaluating \u001b[1mGPT-9.0M-2L-4H-516C-1024I\u001b[0m \n",
      "        with tokenizer at /home/jovyan/work/code/common/10k-tok\n",
      "    \n"
     ]
    }
   ],
   "source": [
    "do_eval('/home/jovyan/work/code/common/results/models/GPT-9.0M-2L-4H-516C-1024I/')"
   ]
  },
  {
   "cell_type": "markdown",
   "metadata": {},
   "source": [
    "#### Push to HuggingFace\n"
   ]
  },
  {
   "cell_type": "code",
   "execution_count": null,
   "metadata": {},
   "outputs": [],
   "source": [
    "model.push_to_hub(model_name)"
   ]
  }
 ],
 "metadata": {
  "kernelspec": {
   "display_name": "lms",
   "language": "python",
   "name": "python3"
  },
  "language_info": {
   "codemirror_mode": {
    "name": "ipython",
    "version": 3
   },
   "file_extension": ".py",
   "mimetype": "text/x-python",
   "name": "python",
   "nbconvert_exporter": "python",
   "pygments_lexer": "ipython3",
   "version": "3.11.6"
  }
 },
 "nbformat": 4,
 "nbformat_minor": 2
}
